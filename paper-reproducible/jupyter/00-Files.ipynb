{
 "cells": [
  {
   "cell_type": "markdown",
   "metadata": {},
   "source": [
    "# Files in OSF (Supplemental)"
   ]
  },
  {
   "cell_type": "code",
   "execution_count": 1,
   "metadata": {
    "collapsed": false
   },
   "outputs": [
    {
     "name": "stdout",
     "output_type": "stream",
     "text": [
      ">comp100000_c0_seq1\r\n",
      "TGAATGTATGTTTGTGAACGTATGTATATGAATGTATGTATGTGAATGCATACCATCTGTATAAGTATAATCCGACCGGGAGATGTTTATTCACACAGTTTGGCATTATGACGTTTAACCTCTGAATTGGCGTCTCTTGCTACTGACCGCTTCACAGTGATGACCCATGTTGTCACTTCTAATCTATTTATGTATTGCTCTTTTATATTATACTATTAACGCTGTTAAAATACACTACCGCTAAACAAATAAGAGTTGTGGGTTTGAATCATTGGTGAGTGCAGGAACCTCAGCAGGTCATTAAGATTTACGTGTACGTCTATCCTAAACCTACATGTTTCAACTTTGTTGTTTTTCGGTTTCGTTCTCTGTACACAGCTCTTGAAACATACATAAAATACCATTTTATTAAAAAATATGTCTCTATTTAATGTTAAAACCTTTTTAAGAAAA\r\n",
      ">comp100001_c1_seq1\r\n",
      "GCTTTACCAGTTGTTACAAACATTTTAATAGTTATAGTTAATATACACAACATTTTAAATTAACTAGTGTCGAGAACTTGAGTCGGACATAGAGAATTAAATGTTTGTTGAACTTTAGCCAAGCACTTTTATTCTATTACTTTTTGAAGTATTTAATACCTTAAAATAATGGAATACTCCTGTAGAGTCCTTGAAGCCATCAACAATTTACCAACCTCCAAATAAAATATGAATATATTTTACATGATGAATTTACATAATGGATATATCATTGATATCTGCCAAGTTAACTTCACCTACCATTTTTAAGCTTACTTTGACCATGTTAGTTGGTATTGTGTATATAACGAGTGGGAGGACATTCATACCTGGCATTTGTTTGGTCAAACTGACACAAGATTTATGTTTATTTCAAACCTATATATAAAACAAGTCTCAATGAATATCTTCCTAGGCACAAGACAATGCTGATAAAATGTCTTGTTCAAGGACA\r\n",
      ">comp100001_c2_seq1\r\n",
      "AGTAACAAAAACAACCCAAACTCTACCATAATCAATTTATACAAAGTCTTGATTTTATCTTAATATCACAAATGAAATCAATTAGTATATATATTTGTATATATTTCAGAAATATAGAAAACAATTACCAGTTTTTAAGTGTAATTAAAACATCTAAATCACCCCCACAGCAATACAAAATACATTTTTATATAGAATACAAAAATTATTGGGATAAAAACAGTAAAAAATATTTGAATTCAGCAACAGCTACAATAGTTTCCTTCAAGGAGGTGAACATAACATCACAACAACAAAAATATGGTCAATTGTAAAATGAGATGTGTGATCTACGTAGGCTAGAAAAATGTTCAACAAAATATACAGCATGCACACAACATGAACATGTACAATGAGAGATGGAGAAGCGGTTAGTTAGGAGGTCTATAGGCTGTGGTAACCACTACAATGTAGATGGCAGCACATTTATCACACATCACGCTAGCATTTCAGCAAACCTTCAATGCTAAAAACCAACTATATCTACTTCAAAACAGCTTTACCAGTTGTTACAAACAT\r\n",
      ">comp100002_c0_seq1\r\n",
      "GGGACGTATTGACTCACTCAGCTGTGATTTCAACTCCTCTATCAACTCTTCCCGTTGTTGCAACTCTTTCGAAACTTTCTTTTCCAGACCACGAGGTCGACGGCCACGCAAACACTGAAAAGACACAGCCATGTAATCATGGAAACTTAACATTATACTCAATGTTGAAAAAGTATGTCAAAACATTTCCATACACGTATAGCCAAAT\r\n",
      ">comp100004_c1_seq1\r\n",
      "AAGTAAATAATGCTTGACCTTCACAGCAATATGATCGCATCTGATAAGTAATCAGCTACATAAGGTCAAATAAATTGGATTCTGTATTTGCTGTAACATGGATAAAAAACATTGGGAATTTTTGTGGACACAAGTTTAACACCAATCTGACAGATACAAAGTGCTAGTATAAAACAGTTACAAGACACGAACACACACATTGAAAGGATTTAAATACCAAGTGACGTTTAAACATTGAAATGCCATTAACCTCAAATGATTATGTTAAAAAATTCA\r\n"
     ]
    }
   ],
   "source": [
    "!head ../data/Geoduck-transcriptome-v3.fa"
   ]
  },
  {
   "cell_type": "code",
   "execution_count": 2,
   "metadata": {
    "collapsed": false
   },
   "outputs": [
    {
     "name": "stdout",
     "output_type": "stream",
     "text": [
      "153982\r\n"
     ]
    }
   ],
   "source": [
    "!fgrep \">\" -c ../data/Geoduck-transcriptome-v3.fa"
   ]
  },
  {
   "cell_type": "code",
   "execution_count": 4,
   "metadata": {
    "collapsed": false
   },
   "outputs": [
    {
     "name": "stdout",
     "output_type": "stream",
     "text": [
      "ContigID\tlength\tGC_content\tCpG_o/e\tmale_unique_count\tfemale_unique_count\tsex-based_expresssion\tBlastx_UniProt_Acc\tEntryName\tProteinName\tOrganism\tEvalue\tGene_Ontology_ID\tGene_Ontology\tPFAM\tBlastn_Gigaton-ID\tevalue-Gigaton\tBlastn_Ruphibase-ID\tevalue-Ruphibase\tBlastn_Sigenae-ID\tevalue-Sigenae\tDheilly_Cluster\tDheilly_Tissue-enriched-expression\r\n",
      "comp137246_c1_seq26\t1458\t45.4047\t0.71921162\t0\t0\t\tP12716\tACTC_PISOC\t\"Actin, cytoplasmic\"\tPisaster ochraceus (Ochre sea star) (Asterias ochracea)\t0\tGO:0005524; GO:0005737; GO:0005856\tATP binding; cytoplasm; cytoskeleton\tPF00022;\tCHOYP_LOC101072885.1.1\t0\truditapes_lrc32388\t0\tCU684679.p.cg.6\t3.00E-64\t1\t\r\n"
     ]
    }
   ],
   "source": [
    "!head -2 ../data/Contig-annotations.tab"
   ]
  },
  {
   "cell_type": "code",
   "execution_count": 5,
   "metadata": {
    "collapsed": false
   },
   "outputs": [
    {
     "name": "stdout",
     "output_type": "stream",
     "text": [
      "  153982 ../data/Contig-annotations.tab\r\n"
     ]
    }
   ],
   "source": [
    "!wc -l ../data/Contig-annotations.tab"
   ]
  },
  {
   "cell_type": "markdown",
   "metadata": {},
   "source": [
    "<img src=\"http://eagle.fish.washington.edu/cnidarian/skitch/Screenshot_3_17_17__10_23_AM_1E7C5314.png\" alt=\"Screenshot_3_17_17__10_23_AM_1E7C5314.png\"/>"
   ]
  },
  {
   "cell_type": "markdown",
   "metadata": {},
   "source": [
    "```\n",
    "ContigID\tlength\tGC_content\tCpG_o/e\tmale_unique_count\tfemale_unique_count\tsex-based_expresssion\tBlastx_UniProt_Acc\tEntryName\tProteinName\tOrganism\tEvalue\tGene_Ontology_ID\tGene_Ontology\tPFAM\tBlastn_Gigaton-ID\tevalue-Gigaton\tBlastn_Ruphibase-ID\tevalue-Ruphibase\tBlastn_Sigenae-ID\tevalue-Sigenae\tDheilly_Cluster\tDheilly_Tissue-enriched-expression\n",
    "```"
   ]
  },
  {
   "cell_type": "code",
   "execution_count": null,
   "metadata": {
    "collapsed": true
   },
   "outputs": [],
   "source": []
  }
 ],
 "metadata": {
  "kernelspec": {
   "display_name": "Python 2",
   "language": "python",
   "name": "python2"
  },
  "language_info": {
   "codemirror_mode": {
    "name": "ipython",
    "version": 2
   },
   "file_extension": ".py",
   "mimetype": "text/x-python",
   "name": "python",
   "nbconvert_exporter": "python",
   "pygments_lexer": "ipython2",
   "version": "2.7.12"
  }
 },
 "nbformat": 4,
 "nbformat_minor": 0
}
