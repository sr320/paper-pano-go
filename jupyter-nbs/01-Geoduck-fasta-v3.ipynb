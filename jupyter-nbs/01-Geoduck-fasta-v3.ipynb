{
 "cells": [
  {
   "cell_type": "markdown",
   "metadata": {},
   "source": [
    "# Examining Fasta from Assembly"
   ]
  },
  {
   "cell_type": "markdown",
   "metadata": {},
   "source": [
    "Note that the fasta file is not within the repository as it is greater than 100MB. A zipped version is. Geoduck-transcriptome-v2.fasta.zip\n",
    "(this is a modified file from paper-pano-go/jupyter-nbs/01-Geoduck-fasta.ipynb) in order to process \n",
    "Geoduck-transcriptome-v3.fa\n",
    "file"
   ]
  },
  {
   "cell_type": "code",
   "execution_count": 4,
   "metadata": {
    "collapsed": false
   },
   "outputs": [
    {
     "name": "stdout",
     "output_type": "stream",
     "text": [
      "\u001b[31m../panopea_data/data-results/Geoduck-transcriptome-v2.fasta\u001b[m\u001b[m*\r\n",
      "../panopea_data/data-results/Geoduck-transcriptome-v3.fa\r\n",
      "\u001b[31m../panopea_data/data-results/blastout_query.part-01.fasta_sp.txt\u001b[m\u001b[m*\r\n"
     ]
    }
   ],
   "source": [
    "ls ../panopea_data/data-results/*.fa*"
   ]
  },
  {
   "cell_type": "code",
   "execution_count": 6,
   "metadata": {
    "collapsed": false
   },
   "outputs": [
    {
     "name": "stdout",
     "output_type": "stream",
     "text": [
      ">comp100000_c0_seq1\r\n",
      "TGAATGTATGTTTGTGAACGTATGTATATGAATGTATGTATGTGAATGCATACCATCTGTATAAGTATAATCCGACCGGGAGATGTTTATTCACACAGTTTGGCATTATGACGTTTAACCTCTGAATTGGCGTCTCTTGCTACTGACCGCTTCACAGTGATGACCCATGTTGTCACTTCTAATCTATTTATGTATTGCTCTTTTATATTATACTATTAACGCTGTTAAAATACACTACCGCTAAACAAATAAGAGTTGTGGGTTTGAATCATTGGTGAGTGCAGGAACCTCAGCAGGTCATTAAGATTTACGTGTACGTCTATCCTAAACCTACATGTTTCAACTTTGTTGTTTTTCGGTTTCGTTCTCTGTACACAGCTCTTGAAACATACATAAAATACCATTTTATTAAAAAATATGTCTCTATTTAATGTTAAAACCTTTTTAAGAAAA\r\n",
      ">comp100001_c1_seq1\r\n",
      "GCTTTACCAGTTGTTACAAACATTTTAATAGTTATAGTTAATATACACAACATTTTAAATTAACTAGTGTCGAGAACTTGAGTCGGACATAGAGAATTAAATGTTTGTTGAACTTTAGCCAAGCACTTTTATTCTATTACTTTTTGAAGTATTTAATACCTTAAAATAATGGAATACTCCTGTAGAGTCCTTGAAGCCATCAACAATTTACCAACCTCCAAATAAAATATGAATATATTTTACATGATGAATTTACATAATGGATATATCATTGATATCTGCCAAGTTAACTTCACCTACCATTTTTAAGCTTACTTTGACCATGTTAGTTGGTATTGTGTATATAACGAGTGGGAGGACATTCATACCTGGCATTTGTTTGGTCAAACTGACACAAGATTTATGTTTATTTCAAACCTATATATAAAACAAGTCTCAATGAATATCTTCCTAGGCACAAGACAATGCTGATAAAATGTCTTGTTCAAGGACA\r\n",
      ">comp100001_c2_seq1\r\n",
      "AGTAACAAAAACAACCCAAACTCTACCATAATCAATTTATACAAAGTCTTGATTTTATCTTAATATCACAAATGAAATCAATTAGTATATATATTTGTATATATTTCAGAAATATAGAAAACAATTACCAGTTTTTAAGTGTAATTAAAACATCTAAATCACCCCCACAGCAATACAAAATACATTTTTATATAGAATACAAAAATTATTGGGATAAAAACAGTAAAAAATATTTGAATTCAGCAACAGCTACAATAGTTTCCTTCAAGGAGGTGAACATAACATCACAACAACAAAAATATGGTCAATTGTAAAATGAGATGTGTGATCTACGTAGGCTAGAAAAATGTTCAACAAAATATACAGCATGCACACAACATGAACATGTACAATGAGAGATGGAGAAGCGGTTAGTTAGGAGGTCTATAGGCTGTGGTAACCACTACAATGTAGATGGCAGCACATTTATCACACATCACGCTAGCATTTCAGCAAACCTTCAATGCTAAAAACCAACTATATCTACTTCAAAACAGCTTTACCAGTTGTTACAAACAT\r\n",
      ">comp100002_c0_seq1\r\n",
      "GGGACGTATTGACTCACTCAGCTGTGATTTCAACTCCTCTATCAACTCTTCCCGTTGTTGCAACTCTTTCGAAACTTTCTTTTCCAGACCACGAGGTCGACGGCCACGCAAACACTGAAAAGACACAGCCATGTAATCATGGAAACTTAACATTATACTCAATGTTGAAAAAGTATGTCAAAACATTTCCATACACGTATAGCCAAAT\r\n",
      ">comp100004_c1_seq1\r\n",
      "AAGTAAATAATGCTTGACCTTCACAGCAATATGATCGCATCTGATAAGTAATCAGCTACATAAGGTCAAATAAATTGGATTCTGTATTTGCTGTAACATGGATAAAAAACATTGGGAATTTTTGTGGACACAAGTTTAACACCAATCTGACAGATACAAAGTGCTAGTATAAAACAGTTACAAGACACGAACACACACATTGAAAGGATTTAAATACCAAGTGACGTTTAAACATTGAAATGCCATTAACCTCAAATGATTATGTTAAAAAATTCA\r\n"
     ]
    }
   ],
   "source": [
    "!head ../panopea_data/data-results/Geoduck-transcriptome-v3.fa"
   ]
  },
  {
   "cell_type": "code",
   "execution_count": 8,
   "metadata": {
    "collapsed": false
   },
   "outputs": [
    {
     "name": "stdout",
     "output_type": "stream",
     "text": [
      "153982\r\n"
     ]
    }
   ],
   "source": [
    "!fgrep -c \">\" ../panopea_data/data-results/Geoduck-transcriptome-v3.fa"
   ]
  },
  {
   "cell_type": "code",
   "execution_count": 10,
   "metadata": {
    "collapsed": false
   },
   "outputs": [
    {
     "name": "stdout",
     "output_type": "stream",
     "text": [
      "\r\n",
      "0:999 \t127468\r\n",
      "1000:1999 \t18030\r\n",
      "2000:2999 \t5311\r\n",
      "3000:3999 \t1808\r\n",
      "4000:4999 \t772\r\n",
      "5000:5999 \t284\r\n",
      "6000:6999 \t139\r\n",
      "7000:7999 \t86\r\n",
      "8000:8999 \t21\r\n",
      "9000:9999 \t33\r\n",
      "10000:10999 \t7\r\n",
      "11000:11999 \t6\r\n",
      "12000:12999 \t3\r\n",
      "13000:13999 \t4\r\n",
      "14000:14999 \t4\r\n",
      "15000:15999 \t3\r\n",
      "16000:16999 \t0\r\n",
      "17000:17999 \t2\r\n",
      "18000:18999 \t1\r\n",
      "\r\n",
      "Total length of sequence:\t101695908 bp\r\n",
      "Total number of sequences:\t153982\r\n",
      "N25 stats:\t\t\t25% of total sequence length is contained in the 8020 sequences >= 2057 bp\r\n",
      "N50 stats:\t\t\t50% of total sequence length is contained in the 26011 sequences >= 1015 bp\r\n",
      "N75 stats:\t\t\t75% of total sequence length is contained in the 64307 sequences >= 446 bp\r\n",
      "Total GC count:\t\t\t37565860 bp\r\n",
      "GC %:\t\t\t\t36.94 %\r\n",
      "\r\n"
     ]
    }
   ],
   "source": [
    "!perl ../panopea_data/scripts/count_fasta.pl \\\n",
    "-i 1000 \\\n",
    "../panopea_data/data-results/Geoduck-transcriptome-v3.fa"
   ]
  },
  {
   "cell_type": "code",
   "execution_count": 11,
   "metadata": {
    "collapsed": true
   },
   "outputs": [],
   "source": [
    "from Bio import SeqIO\n",
    "from Bio.SeqUtils import GC\n",
    "\n",
    "from pandas import Series, DataFrame\n",
    "import pandas as pd\n",
    "import matplotlib.pyplot as plt \n",
    "\n",
    "import numpy as np"
   ]
  },
  {
   "cell_type": "code",
   "execution_count": 12,
   "metadata": {
    "collapsed": true
   },
   "outputs": [],
   "source": [
    "input_file = open('../panopea_data/data-results/Geoduck-transcriptome-v3.fa', 'r')\n",
    "record_id = []\n",
    "record_cpg = []\n",
    "\n",
    "secuencias=[]\n",
    "largo= ()\n",
    "for record in SeqIO.parse(input_file, \"fasta\") :\n",
    "    g= record.seq.count(\"G\")\n",
    "    c= record.seq.count(\"C\")\n",
    "    cg= record.seq.count(\"CG\")\n",
    "    largo = record.name, len(record.seq), GC(record.seq), round(cg/(g*c)*(len(record.seq)**2/(len(record.seq)-1)) ,8)\n",
    "    secuencias.append(largo)\n",
    "\n",
    "input_file.close()"
   ]
  },
  {
   "cell_type": "code",
   "execution_count": 13,
   "metadata": {
    "collapsed": false
   },
   "outputs": [
    {
     "data": {
      "text/html": [
       "<div>\n",
       "<table border=\"1\" class=\"dataframe\">\n",
       "  <thead>\n",
       "    <tr style=\"text-align: right;\">\n",
       "      <th></th>\n",
       "      <th>length</th>\n",
       "      <th>GC</th>\n",
       "      <th>CpG</th>\n",
       "    </tr>\n",
       "  </thead>\n",
       "  <tbody>\n",
       "    <tr>\n",
       "      <th>count</th>\n",
       "      <td>153982.000000</td>\n",
       "      <td>153982.000000</td>\n",
       "      <td>153982.000000</td>\n",
       "    </tr>\n",
       "    <tr>\n",
       "      <th>mean</th>\n",
       "      <td>660.440233</td>\n",
       "      <td>36.034564</td>\n",
       "      <td>0.547723</td>\n",
       "    </tr>\n",
       "    <tr>\n",
       "      <th>std</th>\n",
       "      <td>765.421464</td>\n",
       "      <td>6.727696</td>\n",
       "      <td>0.323846</td>\n",
       "    </tr>\n",
       "    <tr>\n",
       "      <th>min</th>\n",
       "      <td>201.000000</td>\n",
       "      <td>13.043478</td>\n",
       "      <td>0.000000</td>\n",
       "    </tr>\n",
       "    <tr>\n",
       "      <th>25%</th>\n",
       "      <td>253.000000</td>\n",
       "      <td>31.065620</td>\n",
       "      <td>0.323447</td>\n",
       "    </tr>\n",
       "    <tr>\n",
       "      <th>50%</th>\n",
       "      <td>372.000000</td>\n",
       "      <td>34.905660</td>\n",
       "      <td>0.492127</td>\n",
       "    </tr>\n",
       "    <tr>\n",
       "      <th>75%</th>\n",
       "      <td>734.000000</td>\n",
       "      <td>40.389972</td>\n",
       "      <td>0.727148</td>\n",
       "    </tr>\n",
       "    <tr>\n",
       "      <th>max</th>\n",
       "      <td>18024.000000</td>\n",
       "      <td>84.386617</td>\n",
       "      <td>3.514344</td>\n",
       "    </tr>\n",
       "  </tbody>\n",
       "</table>\n",
       "</div>"
      ],
      "text/plain": [
       "              length             GC            CpG\n",
       "count  153982.000000  153982.000000  153982.000000\n",
       "mean      660.440233      36.034564       0.547723\n",
       "std       765.421464       6.727696       0.323846\n",
       "min       201.000000      13.043478       0.000000\n",
       "25%       253.000000      31.065620       0.323447\n",
       "50%       372.000000      34.905660       0.492127\n",
       "75%       734.000000      40.389972       0.727148\n",
       "max     18024.000000      84.386617       3.514344"
      ]
     },
     "execution_count": 13,
     "metadata": {},
     "output_type": "execute_result"
    }
   ],
   "source": [
    "secuencias = pd.DataFrame(secuencias, columns=['contigs', 'length', \"GC\", \"CpG\"])\n",
    "secuencias.describe()"
   ]
  },
  {
   "cell_type": "code",
   "execution_count": 14,
   "metadata": {
    "collapsed": true
   },
   "outputs": [],
   "source": [
    "secuencias.to_csv('../panopea_data/data-results/Geoduck-transcriptome-v3Description.csv')"
   ]
  },
  {
   "cell_type": "code",
   "execution_count": 15,
   "metadata": {
    "collapsed": true
   },
   "outputs": [],
   "source": [
    "%matplotlib inline"
   ]
  },
  {
   "cell_type": "code",
   "execution_count": 18,
   "metadata": {
    "collapsed": false
   },
   "outputs": [
    {
     "data": {
      "image/png": "[encoded data removed]",
      "text/plain": [
       "<matplotlib.figure.Figure at 0x108a85a58>"
      ]
     },
     "metadata": {},
     "output_type": "display_data"
    }
   ],
   "source": [
    "ax= plt.gca()\n",
    "ax.hist(secuencias['length'], bins=20, color = 'r')\n",
    "ax.set_xlabel('Contig length (bp)')\n",
    "ax.set_ylabel('Frequency')\n",
    "ax.set_title (r\"Geoduck v3\")\n",
    "plt.savefig(\"../img/Geoduck-transcriptome-v3length.png\")\n",
    "plt.show()"
   ]
  },
  {
   "cell_type": "code",
   "execution_count": 19,
   "metadata": {
    "collapsed": false
   },
   "outputs": [
    {
     "data": {
      "image/png": "[encoded data removed]",
      "text/plain": [
       "<matplotlib.figure.Figure at 0x10a6cc6a0>"
      ]
     },
     "metadata": {},
     "output_type": "display_data"
    }
   ],
   "source": [
    "ax= plt.gca()\n",
    "ax.hist(secuencias['GC'], bins=20, color = 'r')\n",
    "ax.set_xlabel('GC')\n",
    "ax.set_ylabel('Frequency')\n",
    "ax.set_title (r\"GC Geoduck v3\")\n",
    "plt.savefig(\"../img/Geoduck-transcriptome-v3gc.png\")\n",
    "plt.show()"
   ]
  },
  {
   "cell_type": "code",
   "execution_count": 20,
   "metadata": {
    "collapsed": false
   },
   "outputs": [
    {
     "data": {
      "image/png": "[encoded data removed]",
      "text/plain": [
       "<matplotlib.figure.Figure at 0x10a41b160>"
      ]
     },
     "metadata": {},
     "output_type": "display_data"
    }
   ],
   "source": [
    "ax= plt.gca()\n",
    "ax.hist(np.log10(secuencias['length']), bins=20, color = 'r')\n",
    "ax.set_xlabel('log10 (Contig length)')\n",
    "ax.set_ylabel('Frequency')\n",
    "ax.set_title (r\"GC Geoduck v3\")\n",
    "plt.savefig(\"../img/Geoduck-transcriptome-v3loglength.png\")\n",
    "plt.show()"
   ]
  },
  {
   "cell_type": "code",
   "execution_count": 21,
   "metadata": {
    "collapsed": false
   },
   "outputs": [
    {
     "data": {
      "image/png": "[encoded data removed]",
      "text/plain": [
       "<matplotlib.figure.Figure at 0x10a1c2518>"
      ]
     },
     "metadata": {},
     "output_type": "display_data"
    }
   ],
   "source": [
    "ax = plt.gca()\n",
    "# the histogram of the data\n",
    "ax.hist(secuencias['CpG'],bins=10, color='r')\n",
    "\n",
    "ax.set_xlabel('CpG')\n",
    "ax.set_ylabel('Frequency')\n",
    "ax.set_title(r'Histogram' )\n",
    "plt.savefig(\"../img/Geoduck-transcriptome-v3CpG.png\")\n",
    "plt.show()"
   ]
  },
  {
   "cell_type": "code",
   "execution_count": null,
   "metadata": {
    "collapsed": true
   },
   "outputs": [],
   "source": []
  }
 ],
 "metadata": {
  "kernelspec": {
   "display_name": "Python 3",
   "language": "python",
   "name": "python3"
  },
  "language_info": {
   "codemirror_mode": {
    "name": "ipython",
    "version": 3
   },
   "file_extension": ".py",
   "mimetype": "text/x-python",
   "name": "python",
   "nbconvert_exporter": "python",
   "pygments_lexer": "ipython3",
   "version": "3.4.4"
  }
 },
 "nbformat": 4,
 "nbformat_minor": 0
}
