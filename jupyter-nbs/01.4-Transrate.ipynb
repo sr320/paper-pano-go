{
 "cells": [
  {
   "cell_type": "markdown",
   "metadata": {
    "button": false,
    "deletable": true,
    "new_sheet": false,
    "run_control": {
     "read_only": false
    }
   },
   "source": [
    "# Transrate"
   ]
  },
  {
   "cell_type": "code",
   "execution_count": 3,
   "metadata": {
    "collapsed": false,
    "run_control": {}
   },
   "outputs": [
    {
     "name": "stdout",
     "output_type": "stream",
     "text": [
      "           _                                        _\r\n",
      "          | |_  _ __  __ _  _ __   ___  _ __  __ _ | |_  ___\r\n",
      "\u001b[0;32;49m������������^������������\u001b[0m | __|| '__|/ _` || '_ \\ / __|| '__|/ _` || __|/ _ \\ \u001b[0;32;49m������������^������������\u001b[0m\r\n",
      "\u001b[0;33;49m������������^������������\u001b[0m | |_ | |  | (_| || | | |\\__ \\| |  | (_| || |_|  __/ \u001b[0;33;49m������������^������������\u001b[0m\r\n",
      "\u001b[0;31;49m������������^������������\u001b[0m  \\__||_|   \\__,_||_| |_||___/|_|   \\__,_| \\__|\\___| \u001b[0;31;49m������������^������������\u001b[0m\r\n",
      "\r\n",
      "Transrate v1.0.1\r\n",
      "by Richard Smith-Unna, Chris Boursnell, Rob Patro,\r\n",
      "   Julian Hibberd, and Steve Kelly\r\n",
      "\r\n",
      "DESCRIPTION:\r\n",
      "Analyse a de-novo transcriptome assembly using three kinds of metrics:\r\n",
      "\r\n",
      "1. sequence based (if --assembly is given)\r\n",
      "2. read mapping based (if --left and --right are given)\r\n",
      "3. reference based (if --reference is given)\r\n",
      "\r\n",
      "Documentation at http://hibberdlab.com/transrate\r\n",
      "\r\n",
      "USAGE:\r\n",
      "transrate <options>\r\n",
      "\r\n",
      "OPTIONS:\r\n",
      "  --assembly=<s>            Assembly file(s) in FASTA format, comma-separated\r\n",
      "  --left=<s>                Left reads file(s) in FASTQ format, comma-separated\r\n",
      "  --right=<s>               Right reads file(s) in FASTQ format,\r\n",
      "                            comma-separated\r\n",
      "  --reference=<s>           Reference proteome or transcriptome file in FASTA\r\n",
      "                            format\r\n",
      "  --threads=<i>             Number of threads to use (default: 8)\r\n",
      "  --merge-assemblies=<s>    Merge best contigs from multiple assemblies into\r\n",
      "                            file\r\n",
      "  --output=<s>              Directory where results are output (will be\r\n",
      "                            created) (default: transrate_results)\r\n",
      "  --loglevel=<s>            Log level. One of [error, info, warn, debug]\r\n",
      "                            (default: info)\r\n",
      "  --install-deps=<s>        Install any missing dependencies. One of [ref]\r\n",
      "  --examples                Show some example commands with explanations\r\n"
     ]
    }
   ],
   "source": [
    "!/Applications/transrate-1.0.1-osx/transrate"
   ]
  },
  {
   "cell_type": "code",
   "execution_count": 6,
   "metadata": {
    "collapsed": false,
    "run_control": {}
   },
   "outputs": [
    {
     "name": "stdout",
     "output_type": "stream",
     "text": [
      "[ INFO] 2015-12-04 12:07:42 : Loading assembly: /Users/sr320/git-repos/paper-pano-go/data-results/Geoduck-transcriptome-v3.fa\n",
      "[ INFO] 2015-12-04 12:07:58 : Analysing assembly: /Users/sr320/git-repos/paper-pano-go/data-results/Geoduck-transcriptome-v3.fa\n",
      "[ INFO] 2015-12-04 12:07:58 : Results will be saved in /Users/sr320/git-repos/paper-pano-go/jupyter-nbs/analyses/Geoduck-transcriptome-v3\n",
      "[ INFO] 2015-12-04 12:07:58 : Calculating contig metrics...\n",
      "[ INFO] 2015-12-04 12:08:23 : Contig metrics:\n",
      "[ INFO] 2015-12-04 12:08:23 : -----------------------------------\n",
      "[ INFO] 2015-12-04 12:08:23 : n seqs                       153982\n",
      "[ INFO] 2015-12-04 12:08:23 : smallest                        201\n",
      "[ INFO] 2015-12-04 12:08:23 : largest                       18024\n",
      "[ INFO] 2015-12-04 12:08:23 : n bases                   101695908\n",
      "[ INFO] 2015-12-04 12:08:23 : mean len                     660.44\n",
      "[ INFO] 2015-12-04 12:08:23 : n under 200                       0\n",
      "[ INFO] 2015-12-04 12:08:23 : n over 1k                     26491\n",
      "[ INFO] 2015-12-04 12:08:23 : n over 10k                       30\n",
      "[ INFO] 2015-12-04 12:08:23 : n with orf                    25768\n",
      "[ INFO] 2015-12-04 12:08:23 : mean orf percent              53.19\n",
      "[ INFO] 2015-12-04 12:08:23 : n90                             265\n",
      "[ INFO] 2015-12-04 12:08:23 : n70                             533\n",
      "[ INFO] 2015-12-04 12:08:23 : n50                            1015\n",
      "[ INFO] 2015-12-04 12:08:23 : n30                            1773\n",
      "[ INFO] 2015-12-04 12:08:23 : n10                            3475\n",
      "[ INFO] 2015-12-04 12:08:23 : gc                             0.37\n",
      "[ INFO] 2015-12-04 12:08:23 : gc skew                        0.01\n",
      "[ INFO] 2015-12-04 12:08:23 : at skew                        0.01\n",
      "[ INFO] 2015-12-04 12:08:23 : cpg ratio                      1.52\n",
      "[ INFO] 2015-12-04 12:08:23 : bases n                           0\n",
      "[ INFO] 2015-12-04 12:08:23 : proportion n                    0.0\n",
      "[ INFO] 2015-12-04 12:08:23 : linguistic complexity          0.12\n",
      "[ INFO] 2015-12-04 12:08:23 : Contig metrics done in 25 seconds\n",
      "[ INFO] 2015-12-04 12:08:23 : No reads provided, skipping read diagnostics\n",
      "[ INFO] 2015-12-04 12:08:23 : No reference provided, skipping comparative diagnostics\n",
      "[ INFO] 2015-12-04 12:08:23 : Writing contig metrics for each contig to /Users/sr320/git-repos/paper-pano-go/jupyter-nbs/analyses/Geoduck-transcriptome-v3/contigs.csv\n",
      "[ INFO] 2015-12-04 12:08:43 : Writing analysis results to assemblies.csv\n"
     ]
    }
   ],
   "source": [
    "!/Applications/transrate-1.0.1-osx/transrate \\\n",
    "--assembly \\\n",
    "../data-results/Geoduck-transcriptome-v3.fa \\\n",
    "--output /Users/sr320/git-repos/paper-pano-go/jupyter-nbs/analyses \n"
   ]
  },
  {
   "cell_type": "code",
   "execution_count": 7,
   "metadata": {
    "collapsed": false,
    "run_control": {}
   },
   "outputs": [
    {
     "name": "stdout",
     "output_type": "stream",
     "text": [
      "Dependencies are missing:\r\n",
      "  - blastplus (2.2.[0-9])\r\n",
      "To install all missing dependencies, run:\r\n",
      "  transrate --install-deps all\r\n",
      "If you only want the read-metrics dependencies:\r\n",
      "  transrate --install-deps read\r\n",
      "Or if you only want the reference-metrics dependencies: \r\n",
      "  transrate --install-deps ref\r\n"
     ]
    }
   ],
   "source": [
    "!/Applications/transrate-1.0.1-osx/transrate \\\n",
    "--assembly \\\n",
    "../data-results/Geoduck-transcriptome-v3.fa \\\n",
    "--reference /Volumes/Monarch/GIGATON/contigs.fasta \\\n",
    "--output /Users/sr320/git-repos/paper-pano-go/jupyter-nbs/analyses/tr1214 \\\n",
    "--threads 2"
   ]
  },
  {
   "cell_type": "code",
   "execution_count": null,
   "metadata": {
    "collapsed": true,
    "run_control": {}
   },
   "outputs": [],
   "source": []
  }
 ],
 "metadata": {
  "kernelspec": {
   "display_name": "Python 3",
   "language": "python",
   "name": "python3"
  },
  "language_info": {
   "codemirror_mode": {
    "name": "ipython",
    "version": 3
   },
   "file_extension": ".py",
   "mimetype": "text/x-python",
   "name": "python",
   "nbconvert_exporter": "python",
   "pygments_lexer": "ipython3",
   "version": "3.5.0"
  }
 },
 "nbformat": 4,
 "nbformat_minor": 0
}
