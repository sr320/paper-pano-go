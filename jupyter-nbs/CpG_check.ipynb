{
 "cells": [
  {
   "cell_type": "markdown",
   "metadata": {},
   "source": [
    "# Checking CpG for *Panopea generosa* transcriptome data"
   ]
  },
  {
   "cell_type": "code",
   "execution_count": 1,
   "metadata": {
    "collapsed": true
   },
   "outputs": [],
   "source": [
    "from Bio import SeqIO, AlignIO\n",
    "from Bio import SeqIO, SwissProt\n",
    "from Bio.SeqUtils import GC, GC_skew\n",
    "from Bio.SeqRecord import SeqRecord\n",
    "\n",
    "from pandas import Series, DataFrame\n",
    "import pandas as pd\n"
   ]
  },
  {
   "cell_type": "code",
   "execution_count": 2,
   "metadata": {
    "collapsed": true
   },
   "outputs": [],
   "source": [
    "def cpg(secuencia):\n",
    "    g= secuencia.count(\"G\")\n",
    "    c= secuencia.count(\"C\")\n",
    "    cg= secuencia.count(\"CG\")\n",
    "    lar= len(secuencia)\n",
    "    cpG=0\n",
    "    try:\n",
    "        g*c==0\n",
    "    except:\n",
    "        cpG=0\n",
    "    else:\n",
    "        if g == 0 or c== 0:\n",
    "            cpG =0\n",
    "        else:\n",
    "            cpG=(round(cg/(g*c)*(lar**2/(lar-1)) ,8))\n",
    "    return (cpG)"
   ]
  },
  {
   "cell_type": "code",
   "execution_count": 3,
   "metadata": {
    "collapsed": true
   },
   "outputs": [],
   "source": [
    "# original V3 data\n",
    "f = open('../panopea_data/data-results/Geoduck-transcriptome-v3.fa', 'r')"
   ]
  },
  {
   "cell_type": "code",
   "execution_count": 4,
   "metadata": {
    "collapsed": false
   },
   "outputs": [
    {
     "data": {
      "text/html": [
       "<div>\n",
       "<table border=\"1\" class=\"dataframe\">\n",
       "  <thead>\n",
       "    <tr style=\"text-align: right;\">\n",
       "      <th></th>\n",
       "      <th>ContigID</th>\n",
       "      <th>length</th>\n",
       "      <th>GC</th>\n",
       "      <th>CpG</th>\n",
       "    </tr>\n",
       "  </thead>\n",
       "  <tbody>\n",
       "    <tr>\n",
       "      <th>0</th>\n",
       "      <td>comp100000_c0_seq1</td>\n",
       "      <td>453</td>\n",
       "      <td>33.9956</td>\n",
       "      <td>0.919033</td>\n",
       "    </tr>\n",
       "    <tr>\n",
       "      <th>1</th>\n",
       "      <td>comp100001_c1_seq1</td>\n",
       "      <td>493</td>\n",
       "      <td>30.4260</td>\n",
       "      <td>0.264219</td>\n",
       "    </tr>\n",
       "    <tr>\n",
       "      <th>2</th>\n",
       "      <td>comp100001_c2_seq1</td>\n",
       "      <td>558</td>\n",
       "      <td>30.6452</td>\n",
       "      <td>0.233631</td>\n",
       "    </tr>\n",
       "    <tr>\n",
       "      <th>3</th>\n",
       "      <td>comp100002_c0_seq1</td>\n",
       "      <td>208</td>\n",
       "      <td>40.8654</td>\n",
       "      <td>0.985872</td>\n",
       "    </tr>\n",
       "    <tr>\n",
       "      <th>4</th>\n",
       "      <td>comp100004_c1_seq1</td>\n",
       "      <td>276</td>\n",
       "      <td>31.5217</td>\n",
       "      <td>0.439224</td>\n",
       "    </tr>\n",
       "  </tbody>\n",
       "</table>\n",
       "</div>"
      ],
      "text/plain": [
       "             ContigID  length       GC       CpG\n",
       "0  comp100000_c0_seq1     453  33.9956  0.919033\n",
       "1  comp100001_c1_seq1     493  30.4260  0.264219\n",
       "2  comp100001_c2_seq1     558  30.6452  0.233631\n",
       "3  comp100002_c0_seq1     208  40.8654  0.985872\n",
       "4  comp100004_c1_seq1     276  31.5217  0.439224"
      ]
     },
     "execution_count": 4,
     "metadata": {},
     "output_type": "execute_result"
    }
   ],
   "source": [
    "sizes = [(rec.name, len(rec), round(GC(rec.seq),4), cpg(rec.seq)) for rec in SeqIO.parse(f, \"fasta\")]\n",
    "#f.close()\n",
    "sizesdataf= DataFrame(sizes,columns= [\"ContigID\", \"length\", \"GC\", \"CpG\"] )\n",
    "sizesdataf.head()"
   ]
  },
  {
   "cell_type": "code",
   "execution_count": 5,
   "metadata": {
    "collapsed": true
   },
   "outputs": [],
   "source": [
    "# data after obtaining the reverse complimentary and annotation\n",
    "f1 = open('../panopea_data/data-results/Geoduck-transcriptome-v3annotated.fa', 'r')"
   ]
  },
  {
   "cell_type": "code",
   "execution_count": 6,
   "metadata": {
    "collapsed": false
   },
   "outputs": [
    {
     "data": {
      "text/html": [
       "<div>\n",
       "<table border=\"1\" class=\"dataframe\">\n",
       "  <thead>\n",
       "    <tr style=\"text-align: right;\">\n",
       "      <th></th>\n",
       "      <th>ContigID</th>\n",
       "      <th>length</th>\n",
       "      <th>GC</th>\n",
       "      <th>CpG</th>\n",
       "    </tr>\n",
       "  </thead>\n",
       "  <tbody>\n",
       "    <tr>\n",
       "      <th>0</th>\n",
       "      <td>comp100000_c0_seq1</td>\n",
       "      <td>453</td>\n",
       "      <td>33.9956</td>\n",
       "      <td>0.919033</td>\n",
       "    </tr>\n",
       "    <tr>\n",
       "      <th>1</th>\n",
       "      <td>comp100001_c1_seq1</td>\n",
       "      <td>493</td>\n",
       "      <td>30.4260</td>\n",
       "      <td>0.264219</td>\n",
       "    </tr>\n",
       "    <tr>\n",
       "      <th>2</th>\n",
       "      <td>comp100001_c2_seq1</td>\n",
       "      <td>558</td>\n",
       "      <td>30.6452</td>\n",
       "      <td>0.233631</td>\n",
       "    </tr>\n",
       "    <tr>\n",
       "      <th>3</th>\n",
       "      <td>comp100002_c0_seq1</td>\n",
       "      <td>208</td>\n",
       "      <td>40.8654</td>\n",
       "      <td>0.985872</td>\n",
       "    </tr>\n",
       "    <tr>\n",
       "      <th>4</th>\n",
       "      <td>comp100004_c1_seq1</td>\n",
       "      <td>276</td>\n",
       "      <td>31.5217</td>\n",
       "      <td>0.439224</td>\n",
       "    </tr>\n",
       "  </tbody>\n",
       "</table>\n",
       "</div>"
      ],
      "text/plain": [
       "             ContigID  length       GC       CpG\n",
       "0  comp100000_c0_seq1     453  33.9956  0.919033\n",
       "1  comp100001_c1_seq1     493  30.4260  0.264219\n",
       "2  comp100001_c2_seq1     558  30.6452  0.233631\n",
       "3  comp100002_c0_seq1     208  40.8654  0.985872\n",
       "4  comp100004_c1_seq1     276  31.5217  0.439224"
      ]
     },
     "execution_count": 6,
     "metadata": {},
     "output_type": "execute_result"
    }
   ],
   "source": [
    "sizes1 = [(rec.name, len(rec), round(GC(rec.seq),4), cpg(rec.seq)) for rec in SeqIO.parse(f1, \"fasta\")]\n",
    "sizesdataf1= DataFrame(sizes1,columns= [\"ContigID\", \"length\", \"GC\", \"CpG\"] )\n",
    "sizesdataf1.head()"
   ]
  },
  {
   "cell_type": "code",
   "execution_count": 7,
   "metadata": {
    "collapsed": false
   },
   "outputs": [
    {
     "data": {
      "text/html": [
       "<div>\n",
       "<table border=\"1\" class=\"dataframe\">\n",
       "  <thead>\n",
       "    <tr style=\"text-align: right;\">\n",
       "      <th></th>\n",
       "      <th>length</th>\n",
       "      <th>GC</th>\n",
       "      <th>CpG</th>\n",
       "    </tr>\n",
       "  </thead>\n",
       "  <tbody>\n",
       "    <tr>\n",
       "      <th>count</th>\n",
       "      <td>153982.000000</td>\n",
       "      <td>153982.000000</td>\n",
       "      <td>153982.000000</td>\n",
       "    </tr>\n",
       "    <tr>\n",
       "      <th>mean</th>\n",
       "      <td>660.440233</td>\n",
       "      <td>36.034563</td>\n",
       "      <td>0.547723</td>\n",
       "    </tr>\n",
       "    <tr>\n",
       "      <th>std</th>\n",
       "      <td>765.421464</td>\n",
       "      <td>6.727696</td>\n",
       "      <td>0.323846</td>\n",
       "    </tr>\n",
       "    <tr>\n",
       "      <th>min</th>\n",
       "      <td>201.000000</td>\n",
       "      <td>13.043500</td>\n",
       "      <td>0.000000</td>\n",
       "    </tr>\n",
       "    <tr>\n",
       "      <th>25%</th>\n",
       "      <td>253.000000</td>\n",
       "      <td>31.065650</td>\n",
       "      <td>0.323447</td>\n",
       "    </tr>\n",
       "    <tr>\n",
       "      <th>50%</th>\n",
       "      <td>372.000000</td>\n",
       "      <td>34.905700</td>\n",
       "      <td>0.492127</td>\n",
       "    </tr>\n",
       "    <tr>\n",
       "      <th>75%</th>\n",
       "      <td>734.000000</td>\n",
       "      <td>40.390000</td>\n",
       "      <td>0.727148</td>\n",
       "    </tr>\n",
       "    <tr>\n",
       "      <th>max</th>\n",
       "      <td>18024.000000</td>\n",
       "      <td>84.386600</td>\n",
       "      <td>3.514344</td>\n",
       "    </tr>\n",
       "  </tbody>\n",
       "</table>\n",
       "</div>"
      ],
      "text/plain": [
       "              length             GC            CpG\n",
       "count  153982.000000  153982.000000  153982.000000\n",
       "mean      660.440233      36.034563       0.547723\n",
       "std       765.421464       6.727696       0.323846\n",
       "min       201.000000      13.043500       0.000000\n",
       "25%       253.000000      31.065650       0.323447\n",
       "50%       372.000000      34.905700       0.492127\n",
       "75%       734.000000      40.390000       0.727148\n",
       "max     18024.000000      84.386600       3.514344"
      ]
     },
     "execution_count": 7,
     "metadata": {},
     "output_type": "execute_result"
    }
   ],
   "source": [
    "sizesdataf.describe()"
   ]
  },
  {
   "cell_type": "code",
   "execution_count": 8,
   "metadata": {
    "collapsed": false
   },
   "outputs": [
    {
     "data": {
      "text/html": [
       "<div>\n",
       "<table border=\"1\" class=\"dataframe\">\n",
       "  <thead>\n",
       "    <tr style=\"text-align: right;\">\n",
       "      <th></th>\n",
       "      <th>length</th>\n",
       "      <th>GC</th>\n",
       "      <th>CpG</th>\n",
       "    </tr>\n",
       "  </thead>\n",
       "  <tbody>\n",
       "    <tr>\n",
       "      <th>count</th>\n",
       "      <td>153982.000000</td>\n",
       "      <td>153982.000000</td>\n",
       "      <td>153982.000000</td>\n",
       "    </tr>\n",
       "    <tr>\n",
       "      <th>mean</th>\n",
       "      <td>660.440233</td>\n",
       "      <td>36.034563</td>\n",
       "      <td>0.547723</td>\n",
       "    </tr>\n",
       "    <tr>\n",
       "      <th>std</th>\n",
       "      <td>765.421464</td>\n",
       "      <td>6.727696</td>\n",
       "      <td>0.323846</td>\n",
       "    </tr>\n",
       "    <tr>\n",
       "      <th>min</th>\n",
       "      <td>201.000000</td>\n",
       "      <td>13.043500</td>\n",
       "      <td>0.000000</td>\n",
       "    </tr>\n",
       "    <tr>\n",
       "      <th>25%</th>\n",
       "      <td>253.000000</td>\n",
       "      <td>31.065650</td>\n",
       "      <td>0.323447</td>\n",
       "    </tr>\n",
       "    <tr>\n",
       "      <th>50%</th>\n",
       "      <td>372.000000</td>\n",
       "      <td>34.905700</td>\n",
       "      <td>0.492127</td>\n",
       "    </tr>\n",
       "    <tr>\n",
       "      <th>75%</th>\n",
       "      <td>734.000000</td>\n",
       "      <td>40.390000</td>\n",
       "      <td>0.727148</td>\n",
       "    </tr>\n",
       "    <tr>\n",
       "      <th>max</th>\n",
       "      <td>18024.000000</td>\n",
       "      <td>84.386600</td>\n",
       "      <td>3.514344</td>\n",
       "    </tr>\n",
       "  </tbody>\n",
       "</table>\n",
       "</div>"
      ],
      "text/plain": [
       "              length             GC            CpG\n",
       "count  153982.000000  153982.000000  153982.000000\n",
       "mean      660.440233      36.034563       0.547723\n",
       "std       765.421464       6.727696       0.323846\n",
       "min       201.000000      13.043500       0.000000\n",
       "25%       253.000000      31.065650       0.323447\n",
       "50%       372.000000      34.905700       0.492127\n",
       "75%       734.000000      40.390000       0.727148\n",
       "max     18024.000000      84.386600       3.514344"
      ]
     },
     "execution_count": 8,
     "metadata": {},
     "output_type": "execute_result"
    }
   ],
   "source": [
    "sizesdataf1.describe()"
   ]
  },
  {
   "cell_type": "markdown",
   "metadata": {},
   "source": [
    "### there is no difference in general data"
   ]
  },
  {
   "cell_type": "markdown",
   "metadata": {},
   "source": [
    "## Checking for individual differences"
   ]
  },
  {
   "cell_type": "code",
   "execution_count": 9,
   "metadata": {
    "collapsed": false
   },
   "outputs": [
    {
     "name": "stdout",
     "output_type": "stream",
     "text": [
      "processing sequence  10000\n",
      "processing sequence  20000\n",
      "processing sequence  30000\n",
      "processing sequence  40000\n",
      "processing sequence  50000\n",
      "processing sequence  60000\n",
      "processing sequence  70000\n",
      "processing sequence  80000\n",
      "processing sequence  90000\n",
      "processing sequence  100000\n",
      "processing sequence  110000\n",
      "processing sequence  120000\n",
      "processing sequence  130000\n",
      "processing sequence  140000\n",
      "processing sequence  150000\n",
      "processing finished with a total of 153982 sequences and 0 differences\n"
     ]
    }
   ],
   "source": [
    "n=0\n",
    "n1=0\n",
    "for rows in sizesdataf.index:\n",
    "    row =  sizesdataf.ix[rows]\n",
    "    row2 = sizesdataf1.ix[rows]\n",
    "    if  row[\"CpG\"]!= row2[\"CpG\"]:\n",
    "        print (rows, row[\"ContigID\"], row[\"CpG\"], row2[\"ContigID\"], row2[\"CpG\"] )\n",
    "        n1+=1\n",
    "    n+=1\n",
    "    if n%10000 == 0:\n",
    "        print (\"processing sequence \",n)\n",
    "        #break\n",
    "print (\"processing finished with a total of\",n, \"sequences and\", n1, \"differences\")"
   ]
  },
  {
   "cell_type": "code",
   "execution_count": null,
   "metadata": {
    "collapsed": true
   },
   "outputs": [],
   "source": []
  }
 ],
 "metadata": {
  "anaconda-cloud": {},
  "kernelspec": {
   "display_name": "Python [default]",
   "language": "python",
   "name": "python3"
  },
  "language_info": {
   "codemirror_mode": {
    "name": "ipython",
    "version": 3
   },
   "file_extension": ".py",
   "mimetype": "text/x-python",
   "name": "python",
   "nbconvert_exporter": "python",
   "pygments_lexer": "ipython3",
   "version": "3.4.5"
  }
 },
 "nbformat": 4,
 "nbformat_minor": 1
}
