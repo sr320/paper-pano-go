{
 "cells": [
  {
   "cell_type": "markdown",
   "metadata": {},
   "source": [
    "# Notebook for searching specific genes of *Panopea* in the fasta file\n",
    "## it creates a fasta file with sequences\n"
   ]
  },
  {
   "cell_type": "code",
   "execution_count": 1,
   "metadata": {
    "collapsed": true
   },
   "outputs": [],
   "source": [
    "from Bio import SeqIO, AlignIO\n",
    "from Bio.Seq import Seq\n",
    "from Bio.SeqRecord import SeqRecord"
   ]
  },
  {
   "cell_type": "code",
   "execution_count": 2,
   "metadata": {
    "collapsed": true
   },
   "outputs": [],
   "source": [
    "genes = [\"vitellogenin\", \"estrogen receptor\", \"vasa\", \"glycogen synthase\", \"glycogen phosphorylase\", \"aspartate transcarbamylase\"]\n",
    "#vitellogenin, estrogen receptor, vasa, glycogen synthase, glycogen phosphorylase and/or aspartate transcarbamylase.\n"
   ]
  },
  {
   "cell_type": "code",
   "execution_count": 3,
   "metadata": {
    "collapsed": false,
    "scrolled": true
   },
   "outputs": [
    {
     "name": "stdout",
     "output_type": "stream",
     "text": [
      "\n",
      "checking : vitellogenin\n",
      "comp143879_c1_seq2 PREDICTED Very low-density lipoprotein receptor (VLDL receptor) (VLDL-R) (Vitellogenin receptor) (VTG receptor) [Panopea generosa]\n",
      "comp143879_c1_seq3 PREDICTED Very low-density lipoprotein receptor (VLDL receptor) (VLDL-R) (Vitellogenin receptor) (VTG receptor) [Panopea generosa]\n",
      "comp144315_c1_seq1 PREDICTED Vitellogenin-6 [Panopea generosa]\n",
      "comp156999_c0_seq1 PREDICTED Putative vitellogenin receptor (Protein yolkless) (YL) [Panopea generosa]\n",
      "comp58608_c0_seq1 PREDICTED Vitellogenin [Cleaved into: Vitellin] [Panopea generosa]\n",
      "\n",
      "checking : estrogen receptor\n",
      "comp124476_c0_seq1 PREDICTED Steroid hormone receptor ERR2 (Estrogen receptor-like 2) (Estrogen-related receptor beta) (ERR-beta) (Nuclear receptor subfamily 3 group B member 2) [Panopea generosa]\n",
      "comp135491_c0_seq1 PREDICTED Steroid hormone receptor ERR2 (ERR beta-2) (Estrogen receptor-like 2) (Estrogen-related receptor beta) (ERR-beta) (Nuclear receptor subfamily 3 group B member 2) [Panopea generosa]\n",
      "comp135491_c0_seq10 PREDICTED Steroid hormone receptor ERR2 (ERR beta-2) (Estrogen receptor-like 2) (Estrogen-related receptor beta) (ERR-beta) (Nuclear receptor subfamily 3 group B member 2) [Panopea generosa]\n",
      "comp135491_c0_seq13 PREDICTED Estrogen receptor beta (ER-beta) (Nuclear receptor subfamily 3 group A member 2) [Panopea generosa]\n",
      "comp135491_c0_seq6 PREDICTED Estrogen-related receptor gamma (Estrogen receptor-related protein 3) (Nuclear receptor subfamily 3 group B member 3) [Panopea generosa]\n",
      "comp135491_c0_seq8 PREDICTED Estrogen-related receptor gamma (Estrogen receptor-related protein 3) (Nuclear receptor subfamily 3 group B member 3) [Panopea generosa]\n",
      "comp135491_c0_seq9 PREDICTED Estrogen receptor (ER) (ER-alpha) (Estradiol receptor) (Nuclear receptor subfamily 3 group A member 1) (Fragment) [Panopea generosa]\n",
      "comp138863_c2_seq1 PREDICTED Nuclear receptor coactivator 7 (140 kDa estrogen receptor-associated protein) (Estrogen nuclear receptor coactivator 1) [Panopea generosa]\n",
      "comp138863_c2_seq10 PREDICTED Nuclear receptor coactivator 7 (140 kDa estrogen receptor-associated protein) (Estrogen nuclear receptor coactivator 1) [Panopea generosa]\n",
      "comp138863_c2_seq5 PREDICTED Nuclear receptor coactivator 7 (140 kDa estrogen receptor-associated protein) (Estrogen nuclear receptor coactivator 1) [Panopea generosa]\n",
      "comp138863_c2_seq7 PREDICTED Nuclear receptor coactivator 7 (140 kDa estrogen receptor-associated protein) (Estrogen nuclear receptor coactivator 1) [Panopea generosa]\n",
      "comp143623_c0_seq2 PREDICTED Proline-, glutamic acid- and leucine-rich protein 1 (Modulator of non-genomic activity of estrogen receptor) [Panopea generosa]\n",
      "comp147853_c0_seq1 PREDICTED Estrogen receptor (ER) (ER-alpha) (Estradiol receptor) (Nuclear receptor subfamily 3 group A member 1) [Panopea generosa]\n",
      "comp91086_c0_seq1 PREDICTED Deoxynucleotidyltransferase terminal-interacting protein 2 (Estrogen receptor-binding protein) (LPTS-interacting protein 2) (LPTS-RP2) (Terminal deoxynucleotidyltransferase-interacting factor 2) (TdIF2) (TdT-interacting factor 2) [Panopea generosa]\n",
      "\n",
      "checking : vasa\n",
      "comp136962_c1_seq1 PREDICTED Glucosidase 2 subunit beta (80K-H protein) (Glucosidase II subunit beta) (Protein kinase C substrate 60.1 kDa protein heavy chain) (PKCSH) (Vacuolar system-associated protein 60) (VASAP-60) [Panopea generosa]\n",
      "comp142212_c1_seq1 PREDICTED Probable ATP-dependent RNA helicase DDX4 (EC 3.6.4.13) (DEAD box protein 4) (Vasa homolog) [Panopea generosa]\n",
      "comp142212_c1_seq2 PREDICTED Probable ATP-dependent RNA helicase DDX4 (EC 3.6.4.13) (DEAD box protein 4) (Vasa homolog) [Panopea generosa]\n",
      "\n",
      "checking : glycogen synthase\n",
      "comp140343_c0_seq1 PREDICTED Glycogen synthase kinase-3 (EC 2.7.11.26) [Panopea generosa]\n",
      "comp140343_c0_seq2 PREDICTED Glycogen synthase kinase-3 beta (GSK-3 beta) (EC 2.7.11.26) (Serine/threonine-protein kinase GSK3B) (EC 2.7.11.1) [Panopea generosa]\n",
      "\n",
      "checking : glycogen phosphorylase\n",
      "comp143236_c1_seq1 PREDICTED Glycogen phosphorylase, muscle form (EC 2.4.1.1) (Myophosphorylase) [Panopea generosa]\n",
      "comp143236_c1_seq3 PREDICTED Glycogen phosphorylase (EC 2.4.1.1) [Panopea generosa]\n",
      "comp50540_c0_seq1 PREDICTED Glycogen phosphorylase (EC 2.4.1.1) [Panopea generosa]\n",
      "\n",
      "checking : aspartate transcarbamylase\n",
      "comp144601_c0_seq1 PREDICTED Aspartate carbamoyltransferase (EC 2.1.3.2) (Aspartate transcarbamylase) (ATCase) [Panopea generosa]\n",
      "comp144601_c0_seq6 PREDICTED Aspartate carbamoyltransferase (EC 2.1.3.2) (Aspartate transcarbamylase) (ATCase) [Panopea generosa]\n",
      "comp60106_c0_seq1 PREDICTED Aspartate carbamoyltransferase (EC 2.1.3.2) (Aspartate transcarbamylase) (ATCase) [Panopea generosa]\n",
      "30 sequences found \n",
      " sequences are ready to be saved\n"
     ]
    }
   ],
   "source": [
    "linea=\"\"\n",
    "secuencias= []\n",
    "n=0\n",
    "for lin in genes:\n",
    "    print (\"\\n\"+ \"checking :\", lin)\n",
    "    for sec in SeqIO.parse('../panopea_data/data-results/Geoduck-transcriptome-v3annotated.fa', 'fasta'):\n",
    "        lin1=sec.description.lower()\n",
    "        if lin1.find(lin.lower())!=-1:\n",
    "            linea = sec.description\n",
    "            print (linea)\n",
    "            n+=1\n",
    "            seqObj = sec.seq\n",
    "            seqObjid = SeqRecord(seqObj, id=str(sec.id), \n",
    "                                 description=(linea))\n",
    "            secuencias.append(seqObjid)\n",
    "print (str(n), \"sequences found\", \"\\n\", \"sequences are ready to be saved\")"
   ]
  },
  {
   "cell_type": "code",
   "execution_count": 4,
   "metadata": {
    "collapsed": false
   },
   "outputs": [
    {
     "data": {
      "text/plain": [
       "30"
      ]
     },
     "execution_count": 4,
     "metadata": {},
     "output_type": "execute_result"
    }
   ],
   "source": [
    "SeqIO.write(secuencias, '../panopea_data/data-results/GenesSandra.fa', \n",
    "            'fasta')"
   ]
  },
  {
   "cell_type": "code",
   "execution_count": 5,
   "metadata": {
    "collapsed": false
   },
   "outputs": [
    {
     "name": "stdout",
     "output_type": "stream",
     "text": [
      ">comp143879_c1_seq2 PREDICTED Very low-density lipoprotein receptor (VLDL receptor) (VLDL-R) (Vitellogenin receptor) (VTG receptor) [Panopea generosa]\r\n",
      ">comp143879_c1_seq3 PREDICTED Very low-density lipoprotein receptor (VLDL receptor) (VLDL-R) (Vitellogenin receptor) (VTG receptor) [Panopea generosa]\r\n",
      ">comp144315_c1_seq1 PREDICTED Vitellogenin-6 [Panopea generosa]\r\n",
      ">comp156999_c0_seq1 PREDICTED Putative vitellogenin receptor (Protein yolkless) (YL) [Panopea generosa]\r\n",
      ">comp58608_c0_seq1 PREDICTED Vitellogenin [Cleaved into: Vitellin] [Panopea generosa]\r\n",
      ">comp124476_c0_seq1 PREDICTED Steroid hormone receptor ERR2 (Estrogen receptor-like 2) (Estrogen-related receptor beta) (ERR-beta) (Nuclear receptor subfamily 3 group B member 2) [Panopea generosa]\r\n",
      ">comp135491_c0_seq1 PREDICTED Steroid hormone receptor ERR2 (ERR beta-2) (Estrogen receptor-like 2) (Estrogen-related receptor beta) (ERR-beta) (Nuclear receptor subfamily 3 group B member 2) [Panopea generosa]\r\n",
      ">comp135491_c0_seq10 PREDICTED Steroid hormone receptor ERR2 (ERR beta-2) (Estrogen receptor-like 2) (Estrogen-related receptor beta) (ERR-beta) (Nuclear receptor subfamily 3 group B member 2) [Panopea generosa]\r\n",
      ">comp135491_c0_seq13 PREDICTED Estrogen receptor beta (ER-beta) (Nuclear receptor subfamily 3 group A member 2) [Panopea generosa]\r\n",
      ">comp135491_c0_seq6 PREDICTED Estrogen-related receptor gamma (Estrogen receptor-related protein 3) (Nuclear receptor subfamily 3 group B member 3) [Panopea generosa]\r\n"
     ]
    }
   ],
   "source": [
    "! grep \"^>\" ../panopea_data/data-results/GenesSandra.fa| head"
   ]
  },
  {
   "cell_type": "code",
   "execution_count": null,
   "metadata": {
    "collapsed": true
   },
   "outputs": [],
   "source": []
  }
 ],
 "metadata": {
  "anaconda-cloud": {},
  "kernelspec": {
   "display_name": "Python [default]",
   "language": "python",
   "name": "python3"
  },
  "language_info": {
   "codemirror_mode": {
    "name": "ipython",
    "version": 3
   },
   "file_extension": ".py",
   "mimetype": "text/x-python",
   "name": "python",
   "nbconvert_exporter": "python",
   "pygments_lexer": "ipython3",
   "version": "3.4.5"
  }
 },
 "nbformat": 4,
 "nbformat_minor": 0
}
