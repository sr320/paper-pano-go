{
 "cells": [
  {
   "cell_type": "markdown",
   "metadata": {},
   "source": [
    "# Developing the master table"
   ]
  },
  {
   "cell_type": "code",
   "execution_count": null,
   "metadata": {
    "collapsed": true
   },
   "outputs": [],
   "source": [
    "All IDs"
   ]
  },
  {
   "cell_type": "code",
   "execution_count": 6,
   "metadata": {
    "collapsed": false
   },
   "outputs": [
    {
     "name": "stdout",
     "output_type": "stream",
     "text": [
      ">comp100000_c0_seq1\r\n",
      "TGAATGTATGTTTGTGAACGTATGTATATGAATGTATGTATGTGAATGCATACCATCTGTATAAGTATAATCCGACCGGGAGATGTTTATTCACACAGTTTGGCATTATGACGTTTAACCTCTGAATTGGCGTCTCTTGCTACTGACCGCTTCACAGTGATGACCCATGTTGTCACTTCTAATCTATTTATGTATTGCTCTTTTATATTATACTATTAACGCTGTTAAAATACACTACCGCTAAACAAATAAGAGTTGTGGGTTTGAATCATTGGTGAGTGCAGGAACCTCAGCAGGTCATTAAGATTTACGTGTACGTCTATCCTAAACCTACATGTTTCAACTTTGTTGTTTTTCGGTTTCGTTCTCTGTACACAGCTCTTGAAACATACATAAAATACCATTTTATTAAAAAATATGTCTCTATTTAATGTTAAAACCTTTTTAAGAAAA\r\n"
     ]
    }
   ],
   "source": [
    "!head -2 ../data-results/Geoduck-transcriptome-v3.fa"
   ]
  },
  {
   "cell_type": "code",
   "execution_count": 18,
   "metadata": {
    "collapsed": false
   },
   "outputs": [
    {
     "name": "stdout",
     "output_type": "stream",
     "text": [
      "\r\n",
      "Converted 153982 FASTA records in 307964 lines to tabular format\r\n",
      "Total sequence length: 101695908\r\n",
      "\r\n"
     ]
    }
   ],
   "source": [
    "!perl -e '$count=0; $len=0; while(<>) {s/\\r?\\n//; s/\\t/ /g; if (s/^>//) { if ($. != 1) {print \"\\n\"} s/ |$/\\t/; $count++; $_ .= \"\\t\";} else {s/ //g; $len += length($_)} print $_;} print \"\\n\"; warn \"\\nConverted $count FASTA records in $. lines to tabular format\\nTotal sequence length: $len\\n\\n\";' \\\n",
    "../data-results/Geoduck-transcriptome-v3.fa | cut -f 1 | sort > analyses/Geoduck-transcriptome-v3-IDonly.tab\n"
   ]
  },
  {
   "cell_type": "code",
   "execution_count": 19,
   "metadata": {
    "collapsed": false
   },
   "outputs": [
    {
     "name": "stdout",
     "output_type": "stream",
     "text": [
      "comp100000_c0_seq1\n",
      "comp100001_c1_seq1\n",
      "comp100001_c2_seq1\n",
      "comp100002_c0_seq1\n",
      "comp100004_c1_seq1\n",
      "comp100007_c0_seq1\n",
      "comp100010_c0_seq1\n",
      "comp100011_c0_seq1\n",
      "comp100012_c0_seq1\n",
      "comp100014_c0_seq1\n",
      "  153982 analyses/Geoduck-transcriptome-v3-IDonly.tab\n"
     ]
    }
   ],
   "source": [
    "!head analyses/Geoduck-transcriptome-v3-IDonly.tab\n",
    "!wc -l analyses/Geoduck-transcriptome-v3-IDonly.tab"
   ]
  },
  {
   "cell_type": "code",
   "execution_count": 2,
   "metadata": {
    "collapsed": false
   },
   "outputs": [
    {
     "name": "stdout",
     "output_type": "stream",
     "text": [
      "GeoID\tEvalue\tSPID\tProteinName\tOrganism\tGO\tPFAM\r\n",
      "comp100065_c0_seq1\t2.00E-08\tQ5PRC1\tLipoma HMGIC fusion partner homolog\tDanio rerio (Zebrafish) (Brachydanio rerio)\t\tPF10242;\r\n",
      "comp100097_c0_seq1\t2.00E-37\tQ9UI26\tImportin-11 (Imp11) (Ran-binding protein 11) (RanBP11)\tHomo sapiens (Human)\tribosomal protein import into nucleus [GO:0006610]; transcription factor import into nucleus [GO:0042991]\tPF03810;\r\n"
     ]
    }
   ],
   "source": [
    "!head -3 ../data-results/Geo-v3-join-uniprot-all0916-condensed.tab"
   ]
  },
  {
   "cell_type": "markdown",
   "metadata": {},
   "source": [
    "<img src=\"http://eagle.fish.washington.edu/cnidarian/skitch/Geo-v3-join-uniprot-all0916-condensed_tab_1D95A0E9.png\" alt=\"Geo-v3-join-uniprot-all0916-condensed_tab_1D95A0E9.png\"/>"
   ]
  },
  {
   "cell_type": "code",
   "execution_count": 21,
   "metadata": {
    "collapsed": false
   },
   "outputs": [],
   "source": [
    "!sort ../data-results/Geo-v3-join-uniprot-all0916-condensed.tab \\\n",
    "> analyses/Geo-v3-join-uniprot-all0916-condensed.sorted"
   ]
  },
  {
   "cell_type": "code",
   "execution_count": 59,
   "metadata": {
    "collapsed": false
   },
   "outputs": [
    {
     "name": "stdout",
     "output_type": "stream",
     "text": [
      "comp99985_c0_seq1\r\n",
      "comp99986_c0_seq1\r\n",
      "comp99986_c2_seq1\t6.00E-29\tQ5ZJL9\tDeoxynucleoside triphosphate triphosphohydrolase SAMHD1 (dNTPase) (EC 3.1.5.-)\tGallus gallus (Chicken)\tdATP catabolic process [GO:0046061]; defense response to virus [GO:0051607]; dGTP catabolic process [GO:0006203]; innate immune response [GO:0045087]; regulation of innate immune response [GO:0045088]\tPF01966;\r\n",
      "comp99988_c0_seq1\r\n",
      "comp99988_c0_seq2\r\n",
      "comp99991_c0_seq1\r\n",
      "comp99995_c0_seq1\r\n",
      "comp99996_c0_seq1\t1.00E-50\tQ6A707\tMethionine--tRNA ligase (EC 6.1.1.10) (Methionyl-tRNA synthetase) (MetRS)\tPropionibacterium acnes (strain KPA171202 / DSM 16379)\tmethionyl-tRNA aminoacylation [GO:0006431]\tPF08264;PF09334;\r\n",
      "comp99996_c2_seq1\t3.00E-29\tB9LDY3\tMethionine--tRNA ligase (EC 6.1.1.10) (Methionyl-tRNA synthetase) (MetRS)\tChloroflexus aurantiacus (strain ATCC 29364 / DSM 637 / Y-400-fl)\tmethionyl-tRNA aminoacylation [GO:0006431]\tPF08264;PF09334;\r\n",
      "comp99998_c0_seq1\r\n"
     ]
    }
   ],
   "source": [
    "!join  -t $'\\t' -e EMPTY -a 1   \\\n",
    "analyses/Geoduck-transcriptome-v3-IDonly.tab \\\n",
    "analyses/Geo-v3-join-uniprot-all0916-condensed.sorted  |  tail\n",
    "\n"
   ]
  },
  {
   "cell_type": "code",
   "execution_count": 64,
   "metadata": {
    "collapsed": false
   },
   "outputs": [
    {
     "name": "stdout",
     "output_type": "stream",
     "text": [
      "comp99985_c0_seq1\r\n",
      "comp99986_c0_seq1\r\n",
      "comp99986_c2_seq1\t6.00E-29\tQ5ZJL9\tDeoxynucleoside triphosphate triphosphohydrolase SAMHD1 (dNTPase) (EC 3.1.5.-)\tGallus gallus (Chicken)\tdATP catabolic process [GO:0046061]; defense response to virus [GO:0051607]; dGTP catabolic process [GO:0006203]; innate immune response [GO:0045087]; regulation of innate immune response [GO:0045088]\tPF01966;\r\n",
      "comp99988_c0_seq1\r\n",
      "comp99988_c0_seq2\r\n",
      "comp99991_c0_seq1\r\n",
      "comp99995_c0_seq1\r\n",
      "comp99996_c0_seq1\t1.00E-50\tQ6A707\tMethionine--tRNA ligase (EC 6.1.1.10) (Methionyl-tRNA synthetase) (MetRS)\tPropionibacterium acnes (strain KPA171202 / DSM 16379)\tmethionyl-tRNA aminoacylation [GO:0006431]\tPF08264;PF09334;\r\n",
      "comp99996_c2_seq1\t3.00E-29\tB9LDY3\tMethionine--tRNA ligase (EC 6.1.1.10) (Methionyl-tRNA synthetase) (MetRS)\tChloroflexus aurantiacus (strain ATCC 29364 / DSM 637 / Y-400-fl)\tmethionyl-tRNA aminoacylation [GO:0006431]\tPF08264;PF09334;\r\n",
      "comp99998_c0_seq1\r\n"
     ]
    }
   ],
   "source": [
    "!join -t $'\\t' -e EMPTY -a 1 -a 2 -e 1.1,2.2,1.3   \\\n",
    "analyses/Geoduck-transcriptome-v3-IDonly.tab \\\n",
    "analyses/Geo-v3-join-uniprot-all0916-condensed.sorted  |  tail\n",
    "\n"
   ]
  },
  {
   "cell_type": "code",
   "execution_count": 29,
   "metadata": {
    "collapsed": true
   },
   "outputs": [],
   "source": [
    "!join -t $'\\t' -a 1 \\\n",
    "analyses/Geoduck-transcriptome-v3-IDonly.tab \\\n",
    "analyses/Geo-v3-join-uniprot-all0916-condensed.sorted \\\n",
    "> analyses/_Master-SP"
   ]
  },
  {
   "cell_type": "code",
   "execution_count": 30,
   "metadata": {
    "collapsed": true
   },
   "outputs": [],
   "source": [
    "# Add Gigaton"
   ]
  },
  {
   "cell_type": "code",
   "execution_count": 4,
   "metadata": {
    "collapsed": false
   },
   "outputs": [
    {
     "name": "stdout",
     "output_type": "stream",
     "text": [
      "comp100029_c1_seq1\tCHOYP_LOC412155.1.2\t69.17\t266\t74\t5\t3\t267\t1134\t876\t6e-19\t95.1\r\n",
      "comp100097_c1_seq1\tCHOYP_IPO11.1.1\t70.50\t200\t59\t0\t17\t216\t1364\t1165\t6e-19\t95.1\r\n",
      "comp100104_c2_seq1\tCHOYP_SACS.9.17\t77.63\t152\t32\t2\t20\t170\t6756\t6606\t9e-25\t  114\r\n",
      "comp100105_c1_seq1\tCHOYP_BRAFLDRAFT_125635.1.1\t77.05\t366\t84\t0\t12\t377\t1841\t1476\t6e-75\t  282\r\n",
      "comp100108_c1_seq1\tCHOYP_APLP.2.2\t65.79\t991\t301\t16\t43\t1011\t14584\t13610\t3e-56\t  221\r\n",
      "comp100136_c0_seq1\tCHOYP_TRIADDRAFT_57945.2.3\t68.22\t214\t64\t2\t61\t272\t1985\t2196\t5e-13\t75.2\r\n",
      "comp100141_c0_seq1\tCHOYP_LOC580090.1.1\t66.91\t408\t128\t5\t52\t457\t720\t1122\t2e-23\t  111\r\n",
      "comp100187_c0_seq1\tCHOYP_BRAFLDRAFT_206907.7.11\t69.69\t254\t77\t0\t79\t332\t1951\t2204\t1e-23\t  111\r\n",
      "comp100239_c1_seq1\tCHOYP_ZPR_4288.1.1\t71.90\t153\t41\t2\t44\t195\t1244\t1395\t1e-12\t75.2\r\n",
      "comp100287_c0_seq1\tCHOYP_BRAFLDRAFT_67316.1.1\t72.54\t142\t39\t0\t1\t142\t1477\t1618\t2e-14\t80.6\r\n"
     ]
    }
   ],
   "source": [
    "!head analyses/Geoduck-v3_blastn_GIGAton_e10.out"
   ]
  },
  {
   "cell_type": "code",
   "execution_count": 38,
   "metadata": {
    "collapsed": false
   },
   "outputs": [
    {
     "name": "stdout",
     "output_type": "stream",
     "text": [
      "comp100029_c1_seq1\t6e-19\tCHOYP_LOC412155.1.2\r\n",
      "comp100097_c1_seq1\t6e-19\tCHOYP_IPO11.1.1\r\n",
      "comp100104_c2_seq1\t9e-25\tCHOYP_SACS.9.17\r\n",
      "comp100105_c1_seq1\t6e-75\tCHOYP_BRAFLDRAFT_125635.1.1\r\n",
      "comp100108_c1_seq1\t3e-56\tCHOYP_APLP.2.2\r\n",
      "comp100136_c0_seq1\t5e-13\tCHOYP_TRIADDRAFT_57945.2.3\r\n",
      "comp100141_c0_seq1\t2e-23\tCHOYP_LOC580090.1.1\r\n",
      "comp100187_c0_seq1\t1e-23\tCHOYP_BRAFLDRAFT_206907.7.11\r\n",
      "comp100239_c1_seq1\t1e-12\tCHOYP_ZPR_4288.1.1\r\n",
      "comp100287_c0_seq1\t2e-14\tCHOYP_BRAFLDRAFT_67316.1.1\r\n",
      "awk: write error on /dev/stdout\r\n",
      " input record number 720, file \r\n",
      " source line number 1\r\n",
      "sort: write failed: standard output: Broken pipe\r\n",
      "sort: write error\r\n"
     ]
    }
   ],
   "source": [
    "!sort analyses/Geoduck-v3_blastn_GIGAton_e10.out | awk -v OFS='\\t' '{ print $1, $11, $2}'  | head"
   ]
  },
  {
   "cell_type": "code",
   "execution_count": 39,
   "metadata": {
    "collapsed": true
   },
   "outputs": [],
   "source": [
    "!sort analyses/Geoduck-v3_blastn_GIGAton_e10.out | awk -v OFS='\\t' '{ print $1, $11, $2}' \\\n",
    "> analyses/Geoduck-v3_blastn_GIGAton_e10.out.sorted"
   ]
  },
  {
   "cell_type": "code",
   "execution_count": 43,
   "metadata": {
    "collapsed": false
   },
   "outputs": [
    {
     "name": "stdout",
     "output_type": "stream",
     "text": [
      "comp99985_c0_seq1\r\n",
      "comp99986_c0_seq1\t1e-20\tCHOYP_SAMH1.10.12\r\n",
      "comp99986_c2_seq1\t6.00E-29\tQ5ZJL9\tDeoxynucleoside triphosphate triphosphohydrolase SAMHD1 (dNTPase) (EC 3.1.5.-)\tGallus gallus (Chicken)\tdATP catabolic process [GO:0046061]; defense response to virus [GO:0051607]; dGTP catabolic process [GO:0006203]; innate immune response [GO:0045087]; regulation of innate immune response [GO:0045088]\tPF01966;\r\n",
      "comp99988_c0_seq1\r\n",
      "comp99988_c0_seq2\r\n",
      "comp99991_c0_seq1\r\n",
      "comp99995_c0_seq1\r\n",
      "comp99996_c0_seq1\t1.00E-50\tQ6A707\tMethionine--tRNA ligase (EC 6.1.1.10) (Methionyl-tRNA synthetase) (MetRS)\tPropionibacterium acnes (strain KPA171202 / DSM 16379)\tmethionyl-tRNA aminoacylation [GO:0006431]\tPF08264;PF09334;\r\n",
      "comp99996_c2_seq1\t3.00E-29\tB9LDY3\tMethionine--tRNA ligase (EC 6.1.1.10) (Methionyl-tRNA synthetase) (MetRS)\tChloroflexus aurantiacus (strain ATCC 29364 / DSM 637 / Y-400-fl)\tmethionyl-tRNA aminoacylation [GO:0006431]\tPF08264;PF09334;\r\n",
      "comp99998_c0_seq1\r\n"
     ]
    }
   ],
   "source": [
    "!join -t $'\\t' -a 1 \\\n",
    "analyses/_Master-SP \\\n",
    "analyses/Geoduck-v3_blastn_GIGAton_e10.out.sorted | tail "
   ]
  },
  {
   "cell_type": "code",
   "execution_count": 66,
   "metadata": {
    "collapsed": false
   },
   "outputs": [],
   "source": [
    "!sort /Users/sr320/git-repos/paper-pano-go/jupyter-nbs/analyses/Geoduck-v3_blastn_RuphiBase_e10.out \\\n",
    "| awk -v OFS='\\t' '{ print $1, $11, $2}'  > analyses/Geoduck-v3_blastn_RuphiBase_e10.con"
   ]
  },
  {
   "cell_type": "code",
   "execution_count": 67,
   "metadata": {
    "collapsed": false
   },
   "outputs": [
    {
     "name": "stdout",
     "output_type": "stream",
     "text": [
      "comp100108_c1_seq1\t7e-36\truditapes_c24094\r\n",
      "comp100174_c1_seq1\t9e-71\truditapes_c15835\r\n",
      "comp100298_c0_seq1\t9e-19\truditapes_c23704\r\n",
      "comp100523_c0_seq1\t3e-17\truditapes_c11402\r\n",
      "comp100599_c0_seq1\t5e-18\truditapes_c9154\r\n",
      "comp100759_c1_seq1\t1e-21\truditapes_c25669\r\n",
      "comp101114_c0_seq1\t4e-20\truditapes_c30186\r\n",
      "comp101242_c0_seq1\t2e-12\truditapes_c21092\r\n",
      "comp101296_c1_seq2\t8e-45\truditapes_c22482\r\n",
      "comp101356_c0_seq1\t3e-82\truditapes_c26999\r\n"
     ]
    }
   ],
   "source": [
    "!head analyses/Geoduck-v3_blastn_RuphiBase_e10.con"
   ]
  },
  {
   "cell_type": "code",
   "execution_count": 68,
   "metadata": {
    "collapsed": true
   },
   "outputs": [],
   "source": [
    "#dheilly"
   ]
  },
  {
   "cell_type": "code",
   "execution_count": 82,
   "metadata": {
    "collapsed": false
   },
   "outputs": [
    {
     "name": "stdout",
     "output_type": "stream",
     "text": [
      "ES789247.p.cg.6,comp108487_c0_seq1,69.88,654,177,9,204,853,221,858,6E-71,269,ES789247.p.cg.6,CGI_10012577,0,ES789247,9805,ES789247,(sp:Q6SP97) Enkurin OS=Mus musculus GN=Enkur PE=1 SV=1,5,,Labial palps and gills,1.3392925,0.17514531,1.3689924,0.1410076,1.2880113,0.13856404,2.209432,0.27606228,1.4118171,0.11908525,1.0941527,0.14624023,1.0146704,0.08420557,22.17005,3.6638362,0.68858594,6,25,6.974295E-09,4.9238524E-06\r",
      "\r\n"
     ]
    }
   ],
   "source": [
    "!fgrep \"CGI_10012577\" analyses/Dheilly-Gametogenesis-matches.csv"
   ]
  },
  {
   "cell_type": "code",
   "execution_count": 80,
   "metadata": {
    "collapsed": true
   },
   "outputs": [],
   "source": [
    "!open analyses/Dheilly-Gametogenesis-matches.csv -a \"Microsoft Excel\""
   ]
  },
  {
   "cell_type": "code",
   "execution_count": 79,
   "metadata": {
    "collapsed": false
   },
   "outputs": [
    {
     "name": "stdout",
     "output_type": "stream",
     "text": [
      "Column2\tColumn11\tColumn1\tColumn2\tCluster\tTissue-enriched expression\r\n",
      "comp143518_c1_seq3\t4E-82\tAM863560.p.cg.6\tCGI_10014475\t7\t\r\n",
      "comp144262_c1_seq8\t2E-117\tAM863520.p.cg.6\tCGI_10024442\t3\t\r\n",
      "comp122176_c0_seq1\t3E-67\tAM855687.p.cg.6\tCGI_10000633\t9\t\r\n",
      "comp135745_c0_seq1\t1E-63\tAM862973.p.cg.6\tCGI_10024836\t9\t\r\n",
      "comp117801_c0_seq1\t3E-80\tCU987737.p.cg.6\tCGI_10014660\t5\t\r\n",
      "comp143111_c1_seq1\t2E-99\tAM859520.p.cg.6\tCGI_10015825\t9\t\r\n",
      "comp136546_c0_seq2\t2E-93\tAM868009.p.cg.6\tCGI_10027759\t3\t\r\n",
      "comp138574_c1_seq1\t9E-116\tAM864177.p.cg.6\tCGI_10026892\t mitochondrial OS=Rattus norvegicus GN=Idh3B PE=2 SV=1\"\"\"\t8\r\n",
      "comp140126_c0_seq2\t1E-139\tAM869290.p.cg.6\tCGI_10009216\t6\t\r\n",
      "comp137961_c2_seq3\t2E-159\tAM855102.p.cg.6\tCGI_10010586\t5\t\r\n",
      "comp142515_c0_seq2\t0\tCU683354.p.cg.6\tCGI_10003110\t sarcomeric OS=Drosophila melanogaster GN=Actn PE=2 SV=2\"\"\"\t1\r\n",
      "comp136486_c0_seq2\t2E-80\tAM863722.p.cg.6\tCGI_10010305\t8\t\r\n",
      "comp143850_c0_seq23\t2E-131\tCU995306.p.cg.6\tCGI_10018619\t7\t\r\n",
      "comp137929_c0_seq1\t9E-92\tAM854229.p.cg.6\tCGI_10026510\t9\t\r\n",
      "comp122083_c0_seq1\t1E-76\tAM854428.p.cg.6\tCGI_10020575\t6\t\r\n",
      "comp136738_c2_seq4\t6E-87\tAM868587.p.cg.6\tCGI_10021903\t5'-cyclic nucleotide phosphodiesterase 1A OS=Bos taurus GN=PDE1A PE=1 SV=3\"\"\"\t5\r\n",
      "comp141725_c0_seq1\t2E-69\tCU682645.p.cg.6\tCGI_10011211\t7\t\r\n",
      "comp142462_c1_seq1\t2E-93\tAM860311.p.cg.6\tCGI_10011025\t5\t\r\n",
      "comp123774_c0_seq1\t0\tAJ431728.p.cg.6\tCGI_10018930\t6\tmale gonad\r\n",
      "comp130260_c0_seq1\t5E-96\tCU991591.p.cg.6\tCGI_10004262\t8\t\r\n",
      "comp140336_c1_seq1\t5E-113\tAM867657.p.cg.6\tCGI_10007926\t3\tfemale gonad\r\n",
      "comp141064_c0_seq10\t8E-69\tAM865392.p.cg.6\tCGI_10020485\t7\t\r\n",
      "comp139276_c1_seq1\t2E-180\tAY551096.p.cg.6\tCGI_10012610\t mitochondrial OS=Macaca fascicularis GN=IDH2 PE=2 SV=1\"\"\"\t4\r\n",
      "comp143568_c0_seq2\t9E-163\tCU991150.p.cg.6\tCGI_10003721\t8\t\r\n",
      "comp131711_c0_seq3\t4E-148\tCD526833.p.cg.6\tCGI_10006479\t8\t\r\n",
      "comp122280_c0_seq1\t2E-71\tAM864414.p.cg.6\tCGI_10013497\t8\t\r\n",
      "comp142222_c0_seq2\t1E-88\tAM859623.p.cg.6\tCGI_10009539\t8\t\r\n",
      "comp139145_c0_seq2\t2E-90\tAM866997.p.cg.6\tCGI_10011767\t9\t\r\n",
      "comp142444_c0_seq2\t9E-63\tAM860211.p.cg.6\tCGI_10011004\t4\tfemale gonad\r\n",
      "comp142747_c0_seq1\t0\tAM860498.p.cg.6\tCGI_10012095\t4\tfemale gonad\r\n",
      "comp134037_c0_seq2\t2E-79\tAM860755.p.cg.6\tCGI_10004561\t9\t\r\n",
      "comp137246_c1_seq26\t3E-64\tCU684679.p.cg.6\tCGI_10010873\t1\t\r\n",
      "comp139568_c4_seq3\t8E-107\tAM857512.p.cg.6\tCGI_10020866\t7\t\r\n",
      "comp144028_c0_seq3\t4E-98\tCU989217.p.cg.6\tCGI_10024468\t4\tfemale gonad\r\n",
      "comp142462_c0_seq1\t2E-136\tCU684841.p.cg.6\tCGI_10011025\t5\t\r\n",
      "comp138731_c0_seq1\t3E-67\tAM855680.p.cg.6\tCGI_10023281\t4\tfemale gonad\r\n",
      "comp123636_c0_seq1\t8E-61\tCX069346.p.cg.6\tCGI_10012574\t7\t\r\n",
      "comp131711_c0_seq2\t4E-127\tDW713885.p.cg.6\tCGI_10006482\t6\t\r\n",
      "comp141098_c0_seq4\t6E-99\tAM862974.p.cg.6\tCGI_10022015\t4\t\r\n",
      "comp142230_c1_seq2\t7E-74\tAJ563467.p.cg.6\tCGI_10022910\t4\t\r\n",
      "comp134276_c0_seq1\t0\tAM855501.p.cg.6\tCGI_10008851\t axonemal OS=Strongylocentrotus purpuratus PE=1 SV=1\"\"\"\t5\r\n",
      "comp130892_c0_seq2\t3E-65\tFP008556.p.cg.6\tCGI_10027520\t6\t\r\n",
      "comp134267_c0_seq5\t3E-122\tAM864416.p.cg.6\tCGI_10020062\t7\t\r\n",
      "comp108487_c0_seq1\t6E-71\tES789247.p.cg.6\tCGI_10012577\t5\t\r\n",
      "comp134749_c0_seq1\t7E-151\tBQ426386.p.cg.6\tCGI_10025667\t8\t\r\n",
      "comp137246_c1_seq24\t7E-117\tCF369133.p.cg.6\tCGI_10021674\t cytoplasmic A3a OS=Helicoverpa armigera GN=actA3a PE=2 SV=1\"\"\"\t6\r\n",
      "comp142424_c2_seq1\t2E-95\tCU995837.p.cg.6\tCGI_10009093\t2\t\r\n",
      "comp140253_c0_seq2\t2E-64\tAM854424.p.cg.6\tCGI_10011866\t3\t\r\n",
      "comp115977_c0_seq1\t9E-97\tAM866946.p.cg.6\tCGI_10025671\t5\tmale gonad\r\n",
      "comp94584_c0_seq1\t1E-63\tES789955.p.cg.6\tCGI_10001933\t5\t\r\n",
      "comp142431_c0_seq2\t7E-124\tCU986637.p.cg.6\tCGI_10005713\t8\t\r\n",
      "comp139393_c0_seq2\t0\tFP089861.p.cg.6\tCGI_10008446\t9\t\r\n",
      "comp116682_c1_seq2\t1E-71\tEW778003.p.cg.6\tCGI_10022473\t1\t\r\n",
      "comp138450_c0_seq1\t3E-119\tAM860854.p.cg.6\tCGI_10020354\t3\t\r\n",
      "comp110047_c0_seq2\t1E-90\tFP003003.p.cg.6\tCGI_10016253\t7\t\r\n",
      "comp140689_c0_seq2\t7E-119\tCU990820.p.cg.6\tCGI_10025218\t9\t\r\n",
      "comp140963_c2_seq2\t5E-114\tAM857825.p.cg.6\tCGI_10018916\t3\t\r\n",
      "comp140956_c1_seq6\t2E-97\tAM860858.p.cg.6\tCGI_10026456\t5\t\r\n",
      "comp123534_c0_seq1\t5E-88\tCU686151.p.cg.6\tCGI_10019208\t mitochondrial OS=Pongo abelii GN=AGXT2 PE=2 SV=1\"\"\"\t4\r\n",
      "comp144251_c0_seq2\t2E-107\tAM237674.p.cg.6\tCGI_10027558\t9\t\r\n",
      "comp143076_c0_seq6\t2E-107\tFP003042.p.cg.6\tCGI_10006848\t4\tfemale gonad\r\n",
      "comp139776_c0_seq1\t2E-94\tAM858464.p.cg.6\tCGI_10003602\t3\t\r\n",
      "comp143196_c0_seq1\t1E-136\tCU996492.p.cg.6\tCGI_10016257\t1\t\r\n",
      "comp142594_c0_seq1\t1E-114\tAM861427.p.cg.6\tCGI_10008498\t8\t\r\n",
      "comp137292_c0_seq2\t1E-107\tAM861293.p.cg.6\tCGI_10016102\t7\t\r\n",
      "comp133345_c1_seq2\t7E-64\tAM859011.p.cg.6\tCGI_10008530\t7\t\r\n",
      "comp139567_c0_seq6\t4E-155\tAM868574.p.cg.6\tCGI_10028786\t7\t\r\n",
      "comp123874_c0_seq2\t2E-69\tFP005816.p.cg.6\tCGI_10028842\t8\t\r\n",
      "comp143216_c1_seq8\t2E-67\tAM864974.p.cg.6\tCGI_10011548\t8\t\r\n",
      "comp139165_c0_seq2\t5E-83\tAM237649.p.cg.6\tCGI_10013928\t9\t\r\n",
      "comp143445_c0_seq12\t8E-111\tAM863306.p.cg.6\tCGI_10028470\t9\t\r\n",
      "comp124055_c0_seq3\t6E-151\tCU686207.p.cg.6\tCGI_10025109\t striated muscle OS=Aequipecten irradians PE=1 SV=1\"\"\"\t1\r\n",
      "comp117922_c0_seq1\t7E-67\tAM859590.p.cg.6\tCGI_10017531\t5\t\r\n",
      "comp143626_c0_seq1\t8E-76\tCU994233.p.cg.6\tCGI_10017450\t3\t\r\n",
      "comp142747_c0_seq1\t1E-173\tCU998233.p.cg.6\tCGI_10012095\t5\t\r\n",
      "comp132821_c0_seq1\t4E-86\tAM856856.p.cg.6\tCGI_10003392\t7\t\r\n",
      "comp138574_c1_seq1\t8E-88\tCU989074.p.cg.6\tCGI_10026892\t mitochondrial OS=Rattus norvegicus GN=Idh3B PE=2 SV=1\"\"\"\t8\r\n",
      "comp141720_c0_seq4\t7E-172\tBQ427315.p.cg.6\tCGI_10022811\t4\t\r\n",
      "comp141774_c1_seq1\t3E-154\tAM857935.p.cg.6\tCGI_10027052\t5\tmale gonad\r\n",
      "comp133082_c0_seq2\t2E-117\tDV736298.p.cg.6\tCGI_10007662\t2\t\r\n",
      "comp139946_c0_seq6\t5E-113\tAM861838.p.cg.6\tCGI_10024526\t8\t\r\n",
      "comp144394_c0_seq3\t4E-66\tES789731.p.cg.6\tCGI_10020543\t7\t\r\n",
      "comp124268_c0_seq1\t7E-120\tAM864705.p.cg.6\tCGI_10011558\t8\t\r\n",
      "comp50528_c0_seq1\t1E-64\tAM858935.p.cg.6\tCGI_10025791\t mitochondrial OS=Pongo pygmaeus GN=NDUFV2 PE=2 SV=1\"\"\"\t8\r\n",
      "comp144116_c0_seq6\t3E-97\tAM861509.p.cg.6\tCGI_10012072\t9\t\r\n",
      "comp135381_c0_seq1\t2E-173\tES789943.p.cg.6\tCGI_10006977\t5\t\r\n",
      "comp116084_c0_seq1\t6E-82\tAM860925.p.cg.6\tCGI_10026652\t9\t\r\n",
      "comp141596_c0_seq6\t1E-155\tAM858460.p.cg.6\tCGI_10000776\t9\t\r\n",
      "comp143362_c0_seq2\t9E-65\tAM859331.p.cg.6\tCGI_10016097\t9\t\r\n",
      "comp143707_c0_seq1\t8E-80\tAM856942.p.cg.6\tCGI_10026359\t8\t\r\n",
      "comp138448_c0_seq6\t6E-103\tAM858915.p.cg.6\tCGI_10021694\t3\t\r\n",
      "comp144251_c0_seq2\t2E-99\tAM862562.p.cg.6\tCGI_10016103\t9\t\r\n",
      "comp137961_c2_seq3\t4E-155\tCU992930.p.cg.6\tCGI_10010586\t5\t\r\n",
      "comp142811_c0_seq2\t1E-109\tBQ427333.p.cg.6\tCGI_10009435\t7\t\r\n",
      "comp127090_c0_seq1\t4E-80\tDW713853.p.cg.6\tCGI_10000441\t1\t\r\n",
      "comp144511_c0_seq9\t2E-116\tAM237648.p.cg.6\tCGI_10005996\t7\t\r\n",
      "comp144423_c1_seq2\t3E-97\tAM862425.p.cg.6\tCGI_10009524\t8\t\r\n",
      "comp140005_c4_seq4\t1E-90\tAM858990.p.cg.6\tCGI_10014553\t6\t\r\n",
      "comp129985_c0_seq1\t2E-103\tAM861092.p.cg.6\tCGI_10015275\t7\t\r\n",
      "comp139393_c0_seq2\t0\tCB617555.p.cg.6\tCGI_10008446\t9\t\r\n",
      "comp135897_c0_seq2\t1E-91\tAM866953.p.cg.6\tCGI_10012624\t4\t\r\n",
      "comp140479_c0_seq1\t9E-110\tAM864373.p.cg.6\tCGI_10015252\t8\t\r\n",
      "comp144629_c0_seq1\t3E-98\tCU686554.p.cg.6\tCGI_10025376\t9\t\r\n",
      "comp142657_c2_seq1\t2E-71\tAM859447.p.cg.6\tCGI_10003169\t6\t\r\n",
      "comp144423_c1_seq2\t8E-108\tAM859381.p.cg.6\tCGI_10009524\t9\t\r\n",
      "comp122176_c0_seq1\t3E-67\tCU992682.p.cg.6\tCGI_10000633\t9\t\r\n",
      "comp133634_c0_seq1\t5E-104\tCU682555.p.cg.6\tCGI_10024694\t5\t\r\n",
      "comp141044_c0_seq2\t1E-63\tCU685382.p.cg.6\tCGI_10010014\t9\t\r\n",
      "comp28306_c0_seq1\t3E-91\tAM861826.p.cg.6\tCGI_10010732\t5\t\r\n",
      "comp141803_c0_seq1\t1E-91\tDV736591.p.cg.6\tCGI_10017263\t9\t\r\n",
      "comp91488_c0_seq2\t3E-73\tAM864330.p.cg.6\tCGI_10027003\t8\t\r\n",
      "comp144411_c0_seq3\t5E-89\tAM859337.p.cg.6\tCGI_10000113\t5\t\r\n",
      "comp122176_c0_seq1\t5E-65\tFP011152.p.cg.6\tCGI_10000633\t9\tfemale gonad\r\n",
      "comp141861_c1_seq1\t5E-152\tAM857246.p.cg.6\tCGI_10027756\t9\t\r\n",
      "comp141289_c0_seq6\t3E-62\tCU998781.p.cg.6\tCGI_10023166\t9\t\r\n",
      "comp141240_c0_seq5\t5E-71\tFP010851.p.cg.6\tCGI_10007354\t1\t\r\n",
      "comp127584_c0_seq1\t7E-151\tAM853323.p.cg.6\tCGI_10024056\t5\tmale gonad\r\n",
      "comp143573_c0_seq1\t0\tEW778397.p.cg.6\tCGI_10013025\t2\tfemale gonad\r\n",
      "comp143196_c0_seq1\t0\tEF687775.p.cg.6\tCGI_10016257\t2\t\r\n",
      "comp134387_c0_seq1\t1E-97\tCU996024.p.cg.6\tCGI_10026012\t9\t\r\n",
      "comp132461_c0_seq1\t7E-153\tAM858476.p.cg.6\tCGI_10013667\t8\t\r\n",
      "comp143973_c1_seq2\t5E-109\tAM859992.p.cg.6\tCGI_10012329\t7\t\r\n",
      "comp129247_c0_seq2\t9E-110\tAM869433.p.cg.6\tCGI_10021531\t9\tfemale gonad\r\n",
      "comp136877_c1_seq2\t4E-123\tAM858831.p.cg.6\tCGI_10024470\t8\t\r\n",
      "comp143382_c0_seq4\t1E-107\tAM866114.p.cg.6\tCGI_10007179\t5\t\r\n",
      "comp125539_c0_seq1\t5E-120\tDV736572.p.cg.6\tCGI_10021162\t5\t\r\n",
      "comp120086_c0_seq1\t2E-140\tCU992983.p.cg.6\tCGI_10006216\t8\t\r\n",
      "comp137128_c0_seq1\t4E-109\tAM861629.p.cg.6\tCGI_10020779\t3\tfemale gonad\r\n",
      "comp141715_c0_seq3\t3E-67\tAM854208.p.cg.6\tCGI_10020498\t axonemal OS=Xenopus tropicalis GN=dnal1 PE=2 SV=1\"\"\"\t5\r\n",
      "comp130790_c0_seq2\t7E-130\tAM862765.p.cg.6\tCGI_10005709\t5\tmale gonad\r\n",
      "comp130334_c1_seq1\t2E-87\tAM866620.p.cg.6\tCGI_10024530\t5\tmale gonad\r\n",
      "comp143876_c0_seq7\t7E-86\tBQ426960.p.cg.6\tCGI_10027229\t5\t\r\n",
      "comp125113_c0_seq1\t7E-62\tAM856760.p.cg.6\tCGI_10010869\t9\t\r\n",
      "comp140093_c0_seq3\t2E-74\tAM858776.p.cg.6\tCGI_10023335\t cytoplasmic OS=Drosophila virilis GN=Gpdh PE=1 SV=3\"\"\"\t8\r\n",
      "comp28280_c0_seq1\t2E-135\tAM868500.p.cg.6\tCGI_10006939\t8\t\r\n",
      "comp123995_c0_seq1\t4E-96\tAM867308.p.cg.6\tCGI_10019854\t3\t\r\n",
      "comp138578_c1_seq1\t1E-105\tCU993384.p.cg.6\tCGI_10004771\t5\t\r\n",
      "comp142890_c1_seq1\t1E-96\tEE677697.p.cg.6\tCGI_10016140\t mitochondrial OS=Anopheles gambiae GN=AGAP002499 PE=3 SV=2\"\"\"\t4\r\n",
      "comp138578_c0_seq1\t3E-96\tES789239.p.cg.6\tCGI_10004771\t5\t\r\n",
      "comp133131_c0_seq2\t2E-100\tBQ426921.p.cg.6\tCGI_10000789\t8\t\r\n",
      "comp141641_c0_seq2\t6E-78\tCU685202.p.cg.6\tCGI_10006312\t5\t\r\n",
      "comp48421_c0_seq1\t1E-102\tBQ427163.p.cg.6\tCGI_10001165\t8\t\r\n",
      "comp140707_c3_seq1\t3E-122\tAM862862.p.cg.6\tCGI_10028575\t7\t\r\n",
      "comp137723_c0_seq1\t1E-91\tAM856886.p.cg.6\tCGI_10003076\t5\t\r\n",
      "comp142670_c2_seq1\t4E-94\tAM861996.p.cg.6\tCGI_10028339\t3\t\r\n",
      "comp142437_c1_seq3\t1E-70\tAM864624.p.cg.6\tCGI_10019578\t1\t\r\n",
      "comp142619_c0_seq8\t3E-81\tCU994336.p.cg.6\tCGI_10006423\t5\t\r\n",
      "comp140617_c0_seq2\t0\tAM858396.p.cg.6\tCGI_10028221\t8\t\r\n",
      "comp137842_c0_seq1\t4E-128\tFP000131.p.cg.6\tCGI_10003521\t10\t\r\n",
      "comp50630_c0_seq1\t1E-141\tCU983935.p.cg.6\tCGI_10023288\t5\t\r\n",
      "comp59400_c0_seq1\t2E-66\tAM864903.p.cg.6\tCGI_10027482\t5\tmale gonad\r\n",
      "comp144123_c0_seq3\t5E-77\tEE677599.p.cg.6\tCGI_10018475\t5\t\r\n",
      "comp140491_c1_seq2\t1E-101\tAJ535669.p.cg.6\tCGI_10003373\t2\t\r\n",
      "comp112669_c1_seq1\t7E-63\tCU995701.p.cg.6\tCGI_10011809\t7\t\r\n",
      "comp111825_c0_seq1\t5E-100\tCU987413.p.cg.6\tCGI_10018065\t5\tmale gonad\r\n",
      "comp130760_c0_seq1\t6E-111\tBQ426947.p.cg.6\tCGI_10020782\t8\t\r\n",
      "comp137927_c0_seq1\t4E-76\tAM869337.p.cg.6\tCGI_10011521\t8\tmale gonad\r\n",
      "comp108941_c0_seq1\t5E-109\tBQ426475.p.cg.6\tCGI_10020476\t8\t\r\n",
      "comp143022_c0_seq8\t1E-94\tAM864669.p.cg.6\tCGI_10017774\t5\t\r\n",
      "comp131335_c0_seq1\t1E-128\tAM857430.p.cg.6\tCGI_10012093\t5\t\r\n",
      "comp140153_c0_seq2\t3E-80\tAM855747.p.cg.6\tCGI_10025647\t4\t\r\n",
      "comp140352_c2_seq9\t2E-140\tFP000294.p.cg.6\tCGI_10005385\t9\t\r\n",
      "comp134387_c0_seq1\t1E-96\tCX069186.p.cg.6\tCGI_10026012\t9\t\r\n",
      "comp142337_c2_seq1\t3E-78\tAM862948.p.cg.6\tCGI_10020639\t2\t\r\n",
      "comp132248_c0_seq1\t2E-177\tAM856889.p.cg.6\tCGI_10023389\t9\t\r\n",
      "comp142462_c0_seq1\t9E-138\tCU990254.p.cg.6\tCGI_10011025\t5\t\r\n",
      "comp136624_c0_seq1\t0\tAM859534.p.cg.6\tCGI_10015222\t8\t\r\n",
      "comp140104_c0_seq1\t4E-108\tAM858229.p.cg.6\tCGI_10025394\t5\t\r\n",
      "comp110084_c0_seq1\t2E-91\tAM866236.p.cg.6\tCGI_10010421\t8\t\r\n",
      "comp144461_c0_seq7\t3E-87\tCU999937.p.cg.6\tCGI_10011964\t10\t\r\n",
      "comp143167_c1_seq1\t1E-134\tBQ426799.p.cg.6\tCGI_10020792\t8\t\r\n",
      "comp141939_c0_seq2\t0\tAM857837.p.cg.6\tCGI_10024585\t5\t\r\n"
     ]
    }
   ],
   "source": [
    "!awk -F, -v OFS='\\t' '{print $2,$11,$13,$14,$20,$21}' analyses/Dheilldy-Gametogenesis-matches.csv"
   ]
  },
  {
   "cell_type": "code",
   "execution_count": null,
   "metadata": {
    "collapsed": true
   },
   "outputs": [],
   "source": [
    "#sex specific\n",
    "/data-results/mafa2.csv'"
   ]
  },
  {
   "cell_type": "code",
   "execution_count": 83,
   "metadata": {
    "collapsed": false
   },
   "outputs": [
    {
     "name": "stdout",
     "output_type": "stream",
     "text": [
      "head: ../data-results/mafa2.csv: No such file or directory\r\n"
     ]
    }
   ],
   "source": [
    "!head ../data-results/"
   ]
  },
  {
   "cell_type": "code",
   "execution_count": null,
   "metadata": {
    "collapsed": true
   },
   "outputs": [],
   "source": [
    "Switching to SQLShare t\n",
    "\n",
    "Geo-v3-join-uniprot-all0916 \n",
    "\n",
    "\n",
    "\n",
    "\n",
    "SELECT \n",
    "*\n",
    "FROM [roberts.sbr@gmail.com].[Geoduck-transcriptome-v3-IDonly]ID\n",
    "left join\n",
    "[roberts.sbr@gmail.com].[Geo-v3-join-uniprot-all0916]sp\n",
    "on\n",
    "ID.Column1 = sp.[GeoID]\n",
    "left join\n",
    "[roberts.sbr@gmail.com].[Geoduck-v3_blastn_GIGAton_e10]gig\n",
    "on\n",
    "ID.Column1 = gig.Column1\n",
    "left join\n",
    "[roberts.sbr@gmail.com].[Geoduck-v3_blastn_RuphiBase_e10]ru\n",
    "on\n",
    "ID.Column1 = ru.Column1\n",
    "left join\n",
    "[roberts.sbr@gmail.com].[Dheilly-comparison-Geo-v3]Dh\n",
    "on\n",
    "ID.Column1 = Dh.GEOID\n",
    "\n",
    "\n"
   ]
  }
 ],
 "metadata": {
  "kernelspec": {
   "display_name": "Python 2",
   "language": "python",
   "name": "python2"
  },
  "language_info": {
   "codemirror_mode": {
    "name": "ipython",
    "version": 2
   },
   "file_extension": ".py",
   "mimetype": "text/x-python",
   "name": "python",
   "nbconvert_exporter": "python",
   "pygments_lexer": "ipython2",
   "version": "2.7.11"
  }
 },
 "nbformat": 4,
 "nbformat_minor": 0
}
