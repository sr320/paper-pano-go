{
 "cells": [
  {
   "cell_type": "markdown",
   "metadata": {},
   "source": [
    "# Developing the master table"
   ]
  },
  {
   "cell_type": "code",
   "execution_count": 2,
   "metadata": {
    "collapsed": false
   },
   "outputs": [
    {
     "name": "stdout",
     "output_type": "stream",
     "text": [
      "GeoID\tEvalue\tSPID\tProteinName\tOrganism\tGO\tPFAM\r\n",
      "comp100065_c0_seq1\t2.00E-08\tQ5PRC1\tLipoma HMGIC fusion partner homolog\tDanio rerio (Zebrafish) (Brachydanio rerio)\t\tPF10242;\r\n",
      "comp100097_c0_seq1\t2.00E-37\tQ9UI26\tImportin-11 (Imp11) (Ran-binding protein 11) (RanBP11)\tHomo sapiens (Human)\tribosomal protein import into nucleus [GO:0006610]; transcription factor import into nucleus [GO:0042991]\tPF03810;\r\n"
     ]
    }
   ],
   "source": [
    "!head -3 ../data-results/Geo-v3-join-uniprot-all0916-condensed.tab"
   ]
  },
  {
   "cell_type": "code",
   "execution_count": null,
   "metadata": {
    "collapsed": true
   },
   "outputs": [],
   "source": []
  }
 ],
 "metadata": {
  "kernelspec": {
   "display_name": "Python 2",
   "language": "python",
   "name": "python2"
  },
  "language_info": {
   "codemirror_mode": {
    "name": "ipython",
    "version": 2
   },
   "file_extension": ".py",
   "mimetype": "text/x-python",
   "name": "python",
   "nbconvert_exporter": "python",
   "pygments_lexer": "ipython2",
   "version": "2.7.11"
  }
 },
 "nbformat": 4,
 "nbformat_minor": 0
}
