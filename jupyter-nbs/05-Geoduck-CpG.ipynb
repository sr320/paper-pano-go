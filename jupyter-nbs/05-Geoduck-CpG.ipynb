{
 "cells": [
  {
   "cell_type": "markdown",
   "metadata": {},
   "source": [
    "# Determing CpG ratio per Gene Function"
   ]
  },
  {
   "cell_type": "markdown",
   "metadata": {},
   "source": [
    "# Step 1: Obtain GO slim information (gene function)"
   ]
  },
  {
   "cell_type": "code",
   "execution_count": 6,
   "metadata": {
    "collapsed": false
   },
   "outputs": [
    {
     "name": "stdout",
     "output_type": "stream",
     "text": [
      "Column1,Column2,Column3,Column4,Column5,Column6,Column7,Column8,Column9,Column10,Column11,Column12,Column13,Column14,SPID,GOID,GO_id,term,GOSlim_bin,aspect,contig\r\n",
      "comp95_c0_seq1,sp,Q8K358,PIGU_MOUSE,67.53,77,25,0,231,1,258,334,7.00E-32,119,Q8K358,GO:0006506,GO:0006506,GPI anchor biosynthetic process,protein metabolism,P,95\r\n"
     ]
    }
   ],
   "source": [
    "!head -2 ../data-results/Geoduck-transcriptome-v2-GO-SlimUnique.csv"
   ]
  },
  {
   "cell_type": "code",
   "execution_count": 3,
   "metadata": {
    "collapsed": false
   },
   "outputs": [
    {
     "name": "stdout",
     "output_type": "stream",
     "text": [
      "Fri Nov 13 07:18:28 PST 2015\r\n"
     ]
    }
   ],
   "source": [
    "!date"
   ]
  },
  {
   "cell_type": "code",
   "execution_count": 7,
   "metadata": {
    "collapsed": false
   },
   "outputs": [
    {
     "name": "stdout",
     "output_type": "stream",
     "text": [
      "   19652 ../data-results/Geoduck-transcriptome-v2-GO-SlimUnique.csv\r\n"
     ]
    }
   ],
   "source": [
    "!wc -l ../data-results/Geoduck-transcriptome-v2-GO-SlimUnique.csv"
   ]
  },
  {
   "cell_type": "code",
   "execution_count": 9,
   "metadata": {
    "collapsed": false
   },
   "outputs": [
    {
     "name": "stdout",
     "output_type": "stream",
     "text": [
      "ContigID\tGOSlim_bin\r\n",
      "comp95_c0_seq1\tprotein metabolism\r\n",
      "comp146_c0_seq1\tRNA metabolism\r\n",
      "comp195_c0_seq1\tstress response\r\n",
      "comp296_c0_seq1\tDNA metabolism\r\n",
      "comp434_c0_seq1\tcell cycle and proliferation\r\n",
      "comp455_c1_seq1\tother metabolic processes\r\n",
      "comp943_c0_seq1\tother metabolic processes\r\n",
      "comp945_c0_seq1\tcell adhesion\r\n",
      "comp1059_c0_seq1\tprotein metabolism\r\n"
     ]
    }
   ],
   "source": [
    "!head analyses/Geoduck-v2-GOslim_only"
   ]
  },
  {
   "cell_type": "code",
   "execution_count": 10,
   "metadata": {
    "collapsed": false
   },
   "outputs": [
    {
     "name": "stdout",
     "output_type": "stream",
     "text": [
      "   19652 analyses/Geoduck-v2-GOslim_only\r\n"
     ]
    }
   ],
   "source": [
    "!wc -l analyses/Geoduck-v2-GOslim_only"
   ]
  },
  {
   "cell_type": "markdown",
   "metadata": {},
   "source": [
    "# Step 2: Determine CpG ratio for each gene "
   ]
  },
  {
   "cell_type": "markdown",
   "metadata": {},
   "source": [
    "# Step 2a: Convert fasta to tab-delimited"
   ]
  },
  {
   "cell_type": "code",
   "execution_count": 13,
   "metadata": {
    "collapsed": false
   },
   "outputs": [
    {
     "name": "stdout",
     "output_type": "stream",
     "text": [
      ">comp7_c0_seq1 len=210 path=[5082:0-45 293:46-209]\r\n",
      "TTAACCAAGGTGTGACGCCGACGCAAGGGTGAGTAGAATAGCTCTGTTTATTATCCGAAT\r\n",
      "AGTCGAGCTAAAAACACAAAGAATAAAGGTTTAACAGTTCTATCTGAAATATATATTTGG\r\n",
      "ATATCTATTGGTAAGGATACGTTTTATATTAAAAACAAACAATTTATAAAGCGCTCTCGC\r\n",
      "ACCTTGTTTTTGCATTATGAGCATATACAT\r\n",
      ">comp30_c0_seq1 len=201 path=[6331:0-200]\r\n",
      "AAGAAAATTGATTTGAAATTGACTCTGCTTGAATAGAAAAAAATGTTTTGTTCTTTTTTT\r\n",
      "CGAAGTGTAAATTGTAAATTACTTTATTAAAAAATTCATAGTTTCCGGGCAAGTTATTTT\r\n",
      "TAATATATTGTAAATGTTGTCATTCAGAGGTTTGTTACGAATATATTGTTTGACAGACAT\r\n",
      "GCTACTGTTGTACTACTATTG\r\n"
     ]
    }
   ],
   "source": [
    "!head ../data-results/Geoduck-transcriptome-v2.fasta"
   ]
  },
  {
   "cell_type": "code",
   "execution_count": 19,
   "metadata": {
    "collapsed": false
   },
   "outputs": [
    {
     "name": "stdout",
     "output_type": "stream",
     "text": [
      ">comp7_c0_seq1\r\n",
      "TTAACCAAGGTGTGACGCCGACGCAAGGGTGAGTAGAATAGCTCTGTTTATTATCCGAAT\r\n",
      "AGTCGAGCTAAAAACACAAAGAATAAAGGTTTAACAGTTCTATCTGAAATATATATTTGG\r\n",
      "ATATCTATTGGTAAGGATACGTTTTATATTAAAAACAAACAATTTATAAAGCGCTCTCGC\r\n",
      "ACCTTGTTTTTGCATTATGAGCATATACAT\r\n",
      ">comp30_c0_seq1\r\n",
      "AAGAAAATTGATTTGAAATTGACTCTGCTTGAATAGAAAAAAATGTTTTGTTCTTTTTTT\r\n",
      "CGAAGTGTAAATTGTAAATTACTTTATTAAAAAATTCATAGTTTCCGGGCAAGTTATTTT\r\n",
      "TAATATATTGTAAATGTTGTCATTCAGAGGTTTGTTACGAATATATTGTTTGACAGACAT\r\n",
      "GCTACTGTTGTACTACTATTG\r\n"
     ]
    }
   ],
   "source": [
    "!cut -d' ' -f1 ../data-results/Geoduck-transcriptome-v2.fasta > analyses/Geoduck-transcriptome-v2_IDonly.fasta\n",
    "!head analyses/Geoduck-transcriptome-v2_IDonly.fasta"
   ]
  },
  {
   "cell_type": "code",
   "execution_count": 20,
   "metadata": {
    "collapsed": false
   },
   "outputs": [
    {
     "name": "stdout",
     "output_type": "stream",
     "text": [
      "\r\n",
      "Converted 154407 FASTA records in 1926166 lines to tabular format\r\n",
      "Total sequence length: 101836734\r\n",
      "\r\n"
     ]
    }
   ],
   "source": [
    "!perl -e '$count=0; $len=0; while(<>) {s/\\r?\\n//; s/\\t/ /g; if (s/^>//) { if ($. != 1) {print \"\\n\"} s/ |$/\\t/; $count++; $_ .= \"\\t\";} else {s/ //g; $len += length($_)} print $_;} print \"\\n\"; warn \"\\nConverted $count FASTA records in $. lines to tabular format\\nTotal sequence length: $len\\n\\n\";' \\\n",
    "analyses/Geoduck-transcriptome-v2_IDonly.fasta > analyses/Geoduck-transcriptome-v2.tab"
   ]
  },
  {
   "cell_type": "code",
   "execution_count": 21,
   "metadata": {
    "collapsed": false
   },
   "outputs": [
    {
     "name": "stdout",
     "output_type": "stream",
     "text": [
      "comp7_c0_seq1\t\tTTAACCAAGGTGTGACGCCGACGCAAGGGTGAGTAGAATAGCTCTGTTTATTATCCGAATAGTCGAGCTAAAAACACAAAGAATAAAGGTTTAACAGTTCTATCTGAAATATATATTTGGATATCTATTGGTAAGGATACGTTTTATATTAAAAACAAACAATTTATAAAGCGCTCTCGCACCTTGTTTTTGCATTATGAGCATATACAT\r\n"
     ]
    }
   ],
   "source": [
    "!head -1 analyses/Geoduck-transcriptome-v2.tab"
   ]
  },
  {
   "cell_type": "code",
   "execution_count": 22,
   "metadata": {
    "collapsed": false
   },
   "outputs": [
    {
     "name": "stdout",
     "output_type": "stream",
     "text": [
      "\r\n",
      "Added column with length of column 2 for 154407 lines.\r\n",
      "\r\n"
     ]
    }
   ],
   "source": [
    "#add column with length of sequence\n",
    "!perl -e '$col = 2;' -e 'while (<>) { s/\\r?\\n//; @F = split /\\t/, $_; $len = length($F[$col]); print \"$_\\t$len\\n\" } warn \"\\nAdded column with length of column $col for $. lines.\\n\\n\";' \\\n",
    "analyses/Geoduck-transcriptome-v2.tab > analyses/Geoduck-transcriptome-v2-len.tab"
   ]
  },
  {
   "cell_type": "code",
   "execution_count": 23,
   "metadata": {
    "collapsed": false
   },
   "outputs": [
    {
     "name": "stdout",
     "output_type": "stream",
     "text": [
      "comp7_c0_seq1\t\tTTAACCAAGGTGTGACGCCGACGCAAGGGTGAGTAGAATAGCTCTGTTTATTATCCGAATAGTCGAGCTAAAAACACAAAGAATAAAGGTTTAACAGTTCTATCTGAAATATATATTTGGATATCTATTGGTAAGGATACGTTTTATATTAAAAACAAACAATTTATAAAGCGCTCTCGCACCTTGTTTTTGCATTATGAGCATATACAT\t210\r\n"
     ]
    }
   ],
   "source": [
    "!head -1 analyses/Geoduck-transcriptome-v2-len.tab"
   ]
  },
  {
   "cell_type": "code",
   "execution_count": 24,
   "metadata": {
    "collapsed": false,
    "scrolled": true
   },
   "outputs": [
    {
     "name": "stdout",
     "output_type": "stream",
     "text": [
      "comp7_c0_seq1\t\tTTAACCAAGGTGTGACGCCGACGCAAGGGTGAGTAGAATAGCTCTGTTTATTATCCGAATAGTCGAGCTAAAAACACAAAGAATAAAGGTTTAACAGTTCTATCTGAAATATATATTTGGATATCTATTGGTAAGGATACGTTTTATATTAAAAACAAACAATTTATAAAGCGCTCTCGCACCTTGTTTTTGCATTATGAGCATATACAT\t210\t8\t32\t38\r\n",
      "comp30_c0_seq1\t\tAAGAAAATTGATTTGAAATTGACTCTGCTTGAATAGAAAAAAATGTTTTGTTCTTTTTTTCGAAGTGTAAATTGTAAATTACTTTATTAAAAAATTCATAGTTTCCGGGCAAGTTATTTTTAATATATTGTAAATGTTGTCATTCAGAGGTTTGTTACGAATATATTGTTTGACAGACATGCTACTGTTGTACTACTATTG\t201\t3\t19\t33\r\n",
      "comp35_c0_seq1\t\tGAAAATAAAAGTATGATGGTCACACAATGTTATCCGTTATCCAATCAAAATGTCTAATTGGAAAGAAAAACATCATTTTAACTGTAAATTTTCTATTGAACTGAAGTAGTGGGGATATATCTATCTACAAATTATGAAGATATGCGATTGAACATCTTTGCATAGCAAGAGAAATATCAGACAGCAAACAGTAAATAGATGACGTGGAA\t209\t3\t27\t37\r\n"
     ]
    }
   ],
   "source": [
    "!awk -F\\CG '{print NF-1}' analyses/Geoduck-transcriptome-v2-len.tab > analyses/Geoduck-transcriptome-v2-len_CG.tab\n",
    "!awk -F\\C '{print NF-1}' analyses/Geoduck-transcriptome-v2-len.tab > analyses/Geoduck-transcriptome-v2-len_C.tab\n",
    "!awk -F\\G '{print NF-1}' analyses/Geoduck-transcriptome-v2-len.tab > analyses/Geoduck-transcriptome-v2-len_G.tab\n",
    "!paste analyses/Geoduck-transcriptome-v2-len.tab \\\n",
    "analyses/Geoduck-transcriptome-v2-len_CG.tab \\\n",
    "analyses/Geoduck-transcriptome-v2-len_C.tab \\\n",
    "analyses/Geoduck-transcriptome-v2-len_G.tab \\\n",
    "> analyses/Geoduck-transcriptome-v2_C-G.tab\n",
    "!head -3 analyses/Geoduck-transcriptome-v2_C-G.tab\n"
   ]
  },
  {
   "cell_type": "markdown",
   "metadata": {},
   "source": [
    "![](http://eagle.fish.washington.edu/cnidarian/skitch/BMC_Genomics___Full_text___DNA_methylation_patterns_provide_insight_into_epigenetic_regulation_in_the_Pacific_oyster__Crassostrea_gigas__1A0683A5.png)"
   ]
  },
  {
   "cell_type": "code",
   "execution_count": 26,
   "metadata": {
    "collapsed": false
   },
   "outputs": [
    {
     "name": "stdout",
     "output_type": "stream",
     "text": [
      "comp7_c0_seq1 \t 1.38819\r\n",
      "comp30_c0_seq1 \t 0.966531\r\n",
      "comp35_c0_seq1 \t 0.630645\r\n",
      "comp36_c0_seq1 \t 0\r\n",
      "comp49_c0_seq1 \t 0.836969\r\n",
      "comp59_c0_seq1 \t 0.510208\r\n",
      "comp60_c0_seq1 \t 0.241512\r\n",
      "comp65_c0_seq1 \t 0.307696\r\n",
      "comp66_c0_seq1 \t 0.756371\r\n",
      "comp69_c0_seq1 \t 0.494277\r\n"
     ]
    }
   ],
   "source": [
    "!awk '{print $1, \"\\t\", (($4)/($5*$6))*(($3**2)/($3-1))}' \\\n",
    "analyses/Geoduck-transcriptome-v2_C-G.tab \\\n",
    "> analyses/Geoduck-transcriptome-v2_CpG.tab\n",
    "!head analyses/Geoduck-transcriptome-v2_CpG.tab"
   ]
  },
  {
   "cell_type": "markdown",
   "metadata": {},
   "source": [
    "# Join with GO Slim"
   ]
  },
  {
   "cell_type": "code",
   "execution_count": 12,
   "metadata": {
    "collapsed": false
   },
   "outputs": [
    {
     "name": "stdout",
     "output_type": "stream",
     "text": [
      "ContigID\tGOSlim_bin\r\n",
      "comp95_c0_seq1\tprotein metabolism\r\n",
      "comp146_c0_seq1\tRNA metabolism\r\n",
      "comp195_c0_seq1\tstress response\r\n",
      "comp296_c0_seq1\tDNA metabolism\r\n",
      "comp434_c0_seq1\tcell cycle and proliferation\r\n",
      "comp455_c1_seq1\tother metabolic processes\r\n",
      "comp943_c0_seq1\tother metabolic processes\r\n",
      "comp945_c0_seq1\tcell adhesion\r\n",
      "comp1059_c0_seq1\tprotein metabolism\r\n"
     ]
    }
   ],
   "source": [
    "!head analyses/Geoduck-v2-GOslim_only"
   ]
  },
  {
   "cell_type": "code",
   "execution_count": 13,
   "metadata": {
    "collapsed": false
   },
   "outputs": [],
   "source": [
    "#!tr ',' \"\\t\" <../data/Piura_v1_GOslim.csv> ../data/Piura_v1_GOslim.tab"
   ]
  },
  {
   "cell_type": "code",
   "execution_count": 14,
   "metadata": {
    "collapsed": false,
    "scrolled": true
   },
   "outputs": [
    {
     "name": "stdout",
     "output_type": "stream",
     "text": [
      "comp100097_c0_seq1\ttransport\r\n",
      "comp100104_c2_seq1\tprotein metabolism\r\n",
      "comp100105_c1_seq1\tRNA metabolism\r\n",
      "comp100108_c1_seq1\ttransport\r\n",
      "comp100109_c0_seq1\tother biological processes\r\n",
      "comp100113_c0_seq1\tother biological processes\r\n",
      "comp100113_c0_seq2\tprotein metabolism\r\n",
      "comp100113_c1_seq1\tprotein metabolism\r\n",
      "comp100129_c0_seq1\tother biological processes\r\n",
      "comp100141_c0_seq1\tother metabolic processes\r\n"
     ]
    }
   ],
   "source": [
    "!sort analyses/Geoduck-v2-GOslim_only | tail -n +2 > analyses/Geoduck-v2-GOslim_only.sorted\n",
    "#!awk -F $'\\t' '{print $1, \"\\t\", $2}' analyses/Geoduck-v2-GOslim_only.sorted > ../data/Piura_v1_GOslim.sortedtab\n",
    "!head analyses/Geoduck-v2-GOslim_only.sorted"
   ]
  },
  {
   "cell_type": "code",
   "execution_count": 15,
   "metadata": {
    "collapsed": false
   },
   "outputs": [
    {
     "name": "stdout",
     "output_type": "stream",
     "text": [
      "comp100000_c0_seq1 \t 0.919033\r\n",
      "comp100001_c1_seq1 \t 0.264219\r\n",
      "comp100001_c2_seq1 \t 0.233631\r\n",
      "comp100002_c0_seq1 \t 0.985872\r\n",
      "comp100004_c1_seq1 \t 0.439224\r\n",
      "comp100007_c0_seq1 \t 0.689395\r\n",
      "comp100010_c0_seq1 \t 1.1367\r\n",
      "comp100011_c0_seq1 \t 0.562483\r\n",
      "comp100012_c0_seq1 \t 0.152087\r\n",
      "comp100014_c0_seq1 \t 0.571851\r\n"
     ]
    }
   ],
   "source": [
    "!sort analyses/Geoduck-transcriptome-v2_CpG.tab > analyses/Geoduck-transcriptome-v2_CpG.sorted\n",
    "#!awk -F $'\\t' '{print $1, \"\\t\", $2}' ../data/Piura_v1_CpG.sorted > ../data/Piura_v1_CpG.sortedtab\n",
    "!head analyses/Geoduck-transcriptome-v2_CpG.sorted"
   ]
  },
  {
   "cell_type": "markdown",
   "metadata": {},
   "source": [
    "```\n",
    "SELECT * FROM [sr320@washington.edu].[Piura_v1_CpG.sorted]cpg\n",
    "  left join\n",
    "[sr320@washington.edu].[Piura_v1_GOslim.sorted​]go\n",
    "  on\n",
    "  cpg.Column1=go.Column1\n",
    "```    \n"
   ]
  },
  {
   "cell_type": "markdown",
   "metadata": {},
   "source": [
    "<img src=\"http://eagle.fish.washington.edu/cnidarian/skitch/Run_Query_1BDBB52D.png\" alt=\"Run_Query_1BDBB52D.png\"/>"
   ]
  },
  {
   "cell_type": "code",
   "execution_count": 27,
   "metadata": {
    "collapsed": false
   },
   "outputs": [
    {
     "name": "stdout",
     "output_type": "stream",
     "text": [
      "Column1,Column2,Column1,Column2\r\n",
      "PiuraChilensis_v1_contig_1,0.427621,,\r\n",
      "PiuraChilensis_v1_contig_10,0.817866,,\r\n",
      "PiuraChilensis_v1_contig_100,0.914473,PiuraChilensis_v1_contig_100,death\r\n",
      "PiuraChilensis_v1_contig_100,0.914473,PiuraChilensis_v1_contig_100,other biological processes\r\n",
      "PiuraChilensis_v1_contig_100,0.914473,PiuraChilensis_v1_contig_100,signal transduction\r\n",
      "PiuraChilensis_v1_contig_100,0.914473,PiuraChilensis_v1_contig_100,stress response\r\n",
      "PiuraChilensis_v1_contig_100,0.914473,PiuraChilensis_v1_contig_100,transport\r\n",
      "PiuraChilensis_v1_contig_1000,0.792597,PiuraChilensis_v1_contig_1000,other biological processes\r\n",
      "PiuraChilensis_v1_contig_1000,0.792597,PiuraChilensis_v1_contig_1000,other metabolic processes\r\n"
     ]
    }
   ],
   "source": [
    "!head ../data/Piura_v1_CpG-GOslim.csv"
   ]
  },
  {
   "cell_type": "code",
   "execution_count": 28,
   "metadata": {
    "collapsed": false
   },
   "outputs": [],
   "source": [
    "!tr ',' \"\\t\" <../data/Piura_v1_CpG-GOslim.csv> ../data/Piura_v1_CpG-GOslim.tab"
   ]
  },
  {
   "cell_type": "code",
   "execution_count": 29,
   "metadata": {
    "collapsed": false
   },
   "outputs": [
    {
     "name": "stdout",
     "output_type": "stream",
     "text": [
      "Column1\tColumn2\tColumn1\tColumn2\r\n",
      "PiuraChilensis_v1_contig_1\t0.427621\t\t\r\n",
      "PiuraChilensis_v1_contig_10\t0.817866\t\t\r\n",
      "PiuraChilensis_v1_contig_100\t0.914473\tPiuraChilensis_v1_contig_100\tdeath\r\n",
      "PiuraChilensis_v1_contig_100\t0.914473\tPiuraChilensis_v1_contig_100\tother biological processes\r\n",
      "PiuraChilensis_v1_contig_100\t0.914473\tPiuraChilensis_v1_contig_100\tsignal transduction\r\n",
      "PiuraChilensis_v1_contig_100\t0.914473\tPiuraChilensis_v1_contig_100\tstress response\r\n",
      "PiuraChilensis_v1_contig_100\t0.914473\tPiuraChilensis_v1_contig_100\ttransport\r\n",
      "PiuraChilensis_v1_contig_1000\t0.792597\tPiuraChilensis_v1_contig_1000\tother biological processes\r\n",
      "PiuraChilensis_v1_contig_1000\t0.792597\tPiuraChilensis_v1_contig_1000\tother metabolic processes\r\n"
     ]
    }
   ],
   "source": [
    "!head ../data/Piura_v1_CpG-GOslim.tab"
   ]
  },
  {
   "cell_type": "code",
   "execution_count": 30,
   "metadata": {
    "collapsed": false
   },
   "outputs": [
    {
     "name": "stdout",
     "output_type": "stream",
     "text": [
      "PiuraChilensis_v1_contig_1 \t 0.427621  \t \r\n",
      "PiuraChilensis_v1_contig_10 \t 0.817866  \t \r\n",
      "PiuraChilensis_v1_contig_100 \t 0.914473  \t death\r\n",
      "PiuraChilensis_v1_contig_100 \t 0.914473  \t other biological processes\r\n",
      "PiuraChilensis_v1_contig_100 \t 0.914473  \t signal transduction\r\n",
      "PiuraChilensis_v1_contig_100 \t 0.914473  \t stress response\r\n",
      "PiuraChilensis_v1_contig_100 \t 0.914473  \t transport\r\n",
      "PiuraChilensis_v1_contig_1000 \t 0.792597  \t other biological processes\r\n",
      "PiuraChilensis_v1_contig_1000 \t 0.792597  \t other metabolic processes\r\n",
      "PiuraChilensis_v1_contig_10000 \t 0.947282  \t \r\n"
     ]
    }
   ],
   "source": [
    "!awk -F $'\\t' '{print $1, \"\\t\", $2,\" \\t\", $4}' ../data/Piura_v1_CpG-GOslim.tab | tail -n +2 > ../data/Piura_v1_CpG-slim.tab\n",
    "!head ../data/Piura_v1_CpG-slim.tab\n"
   ]
  },
  {
   "cell_type": "code",
   "execution_count": 52,
   "metadata": {
    "collapsed": false
   },
   "outputs": [],
   "source": [
    "import pandas as pd"
   ]
  },
  {
   "cell_type": "code",
   "execution_count": 32,
   "metadata": {
    "collapsed": false
   },
   "outputs": [],
   "source": [
    "Piura = pd.read_table('../data/Piura_v1_CpG-slim.tab', header=None)\n"
   ]
  },
  {
   "cell_type": "code",
   "execution_count": 33,
   "metadata": {
    "collapsed": false
   },
   "outputs": [
    {
     "data": {
      "text/html": [
       "<div>\n",
       "<table border=\"1\" class=\"dataframe\">\n",
       "  <thead>\n",
       "    <tr style=\"text-align: right;\">\n",
       "      <th></th>\n",
       "      <th>0</th>\n",
       "      <th>1</th>\n",
       "      <th>2</th>\n",
       "    </tr>\n",
       "  </thead>\n",
       "  <tbody>\n",
       "    <tr>\n",
       "      <th>0</th>\n",
       "      <td>PiuraChilensis_v1_contig_1</td>\n",
       "      <td>0.427621</td>\n",
       "      <td></td>\n",
       "    </tr>\n",
       "    <tr>\n",
       "      <th>1</th>\n",
       "      <td>PiuraChilensis_v1_contig_10</td>\n",
       "      <td>0.817866</td>\n",
       "      <td></td>\n",
       "    </tr>\n",
       "    <tr>\n",
       "      <th>2</th>\n",
       "      <td>PiuraChilensis_v1_contig_100</td>\n",
       "      <td>0.914473</td>\n",
       "      <td>death</td>\n",
       "    </tr>\n",
       "    <tr>\n",
       "      <th>3</th>\n",
       "      <td>PiuraChilensis_v1_contig_100</td>\n",
       "      <td>0.914473</td>\n",
       "      <td>other biological processes</td>\n",
       "    </tr>\n",
       "    <tr>\n",
       "      <th>4</th>\n",
       "      <td>PiuraChilensis_v1_contig_100</td>\n",
       "      <td>0.914473</td>\n",
       "      <td>signal transduction</td>\n",
       "    </tr>\n",
       "    <tr>\n",
       "      <th>5</th>\n",
       "      <td>PiuraChilensis_v1_contig_100</td>\n",
       "      <td>0.914473</td>\n",
       "      <td>stress response</td>\n",
       "    </tr>\n",
       "    <tr>\n",
       "      <th>6</th>\n",
       "      <td>PiuraChilensis_v1_contig_100</td>\n",
       "      <td>0.914473</td>\n",
       "      <td>transport</td>\n",
       "    </tr>\n",
       "    <tr>\n",
       "      <th>7</th>\n",
       "      <td>PiuraChilensis_v1_contig_1000</td>\n",
       "      <td>0.792597</td>\n",
       "      <td>other biological processes</td>\n",
       "    </tr>\n",
       "    <tr>\n",
       "      <th>8</th>\n",
       "      <td>PiuraChilensis_v1_contig_1000</td>\n",
       "      <td>0.792597</td>\n",
       "      <td>other metabolic processes</td>\n",
       "    </tr>\n",
       "    <tr>\n",
       "      <th>9</th>\n",
       "      <td>PiuraChilensis_v1_contig_10000</td>\n",
       "      <td>0.947282</td>\n",
       "      <td></td>\n",
       "    </tr>\n",
       "    <tr>\n",
       "      <th>10</th>\n",
       "      <td>PiuraChilensis_v1_contig_10001</td>\n",
       "      <td>0.691634</td>\n",
       "      <td></td>\n",
       "    </tr>\n",
       "    <tr>\n",
       "      <th>11</th>\n",
       "      <td>PiuraChilensis_v1_contig_10002</td>\n",
       "      <td>0.936689</td>\n",
       "      <td></td>\n",
       "    </tr>\n",
       "    <tr>\n",
       "      <th>12</th>\n",
       "      <td>PiuraChilensis_v1_contig_10003</td>\n",
       "      <td>0.371111</td>\n",
       "      <td>RNA metabolism</td>\n",
       "    </tr>\n",
       "    <tr>\n",
       "      <th>13</th>\n",
       "      <td>PiuraChilensis_v1_contig_10003</td>\n",
       "      <td>0.371111</td>\n",
       "      <td>other biological processes</td>\n",
       "    </tr>\n",
       "    <tr>\n",
       "      <th>14</th>\n",
       "      <td>PiuraChilensis_v1_contig_10003</td>\n",
       "      <td>0.371111</td>\n",
       "      <td>protein metabolism</td>\n",
       "    </tr>\n",
       "    <tr>\n",
       "      <th>15</th>\n",
       "      <td>PiuraChilensis_v1_contig_10004</td>\n",
       "      <td>0.894320</td>\n",
       "      <td>other metabolic processes</td>\n",
       "    </tr>\n",
       "    <tr>\n",
       "      <th>16</th>\n",
       "      <td>PiuraChilensis_v1_contig_10005</td>\n",
       "      <td>0.873687</td>\n",
       "      <td></td>\n",
       "    </tr>\n",
       "    <tr>\n",
       "      <th>17</th>\n",
       "      <td>PiuraChilensis_v1_contig_10006</td>\n",
       "      <td>0.701088</td>\n",
       "      <td>RNA metabolism</td>\n",
       "    </tr>\n",
       "    <tr>\n",
       "      <th>18</th>\n",
       "      <td>PiuraChilensis_v1_contig_10007</td>\n",
       "      <td>0.799701</td>\n",
       "      <td>cell cycle and proliferation</td>\n",
       "    </tr>\n",
       "    <tr>\n",
       "      <th>19</th>\n",
       "      <td>PiuraChilensis_v1_contig_10007</td>\n",
       "      <td>0.799701</td>\n",
       "      <td>cell organization and biogenesis</td>\n",
       "    </tr>\n",
       "    <tr>\n",
       "      <th>20</th>\n",
       "      <td>PiuraChilensis_v1_contig_10007</td>\n",
       "      <td>0.799701</td>\n",
       "      <td>other biological processes</td>\n",
       "    </tr>\n",
       "    <tr>\n",
       "      <th>21</th>\n",
       "      <td>PiuraChilensis_v1_contig_10007</td>\n",
       "      <td>0.799701</td>\n",
       "      <td>stress response</td>\n",
       "    </tr>\n",
       "    <tr>\n",
       "      <th>22</th>\n",
       "      <td>PiuraChilensis_v1_contig_10008</td>\n",
       "      <td>0.656072</td>\n",
       "      <td>RNA metabolism</td>\n",
       "    </tr>\n",
       "    <tr>\n",
       "      <th>23</th>\n",
       "      <td>PiuraChilensis_v1_contig_10009</td>\n",
       "      <td>0.716323</td>\n",
       "      <td></td>\n",
       "    </tr>\n",
       "    <tr>\n",
       "      <th>24</th>\n",
       "      <td>PiuraChilensis_v1_contig_1001</td>\n",
       "      <td>0.920809</td>\n",
       "      <td></td>\n",
       "    </tr>\n",
       "    <tr>\n",
       "      <th>25</th>\n",
       "      <td>PiuraChilensis_v1_contig_10010</td>\n",
       "      <td>1.001460</td>\n",
       "      <td>developmental processes</td>\n",
       "    </tr>\n",
       "    <tr>\n",
       "      <th>26</th>\n",
       "      <td>PiuraChilensis_v1_contig_10010</td>\n",
       "      <td>1.001460</td>\n",
       "      <td>other metabolic processes</td>\n",
       "    </tr>\n",
       "    <tr>\n",
       "      <th>27</th>\n",
       "      <td>PiuraChilensis_v1_contig_10010</td>\n",
       "      <td>1.001460</td>\n",
       "      <td>transport</td>\n",
       "    </tr>\n",
       "    <tr>\n",
       "      <th>28</th>\n",
       "      <td>PiuraChilensis_v1_contig_10011</td>\n",
       "      <td>0.736964</td>\n",
       "      <td>cell organization and biogenesis</td>\n",
       "    </tr>\n",
       "    <tr>\n",
       "      <th>29</th>\n",
       "      <td>PiuraChilensis_v1_contig_10012</td>\n",
       "      <td>0.784672</td>\n",
       "      <td>cell organization and biogenesis</td>\n",
       "    </tr>\n",
       "    <tr>\n",
       "      <th>...</th>\n",
       "      <td>...</td>\n",
       "      <td>...</td>\n",
       "      <td>...</td>\n",
       "    </tr>\n",
       "    <tr>\n",
       "      <th>27237</th>\n",
       "      <td>PiuraChilensis_v1_contig_9994</td>\n",
       "      <td>0.824022</td>\n",
       "      <td>RNA metabolism</td>\n",
       "    </tr>\n",
       "    <tr>\n",
       "      <th>27238</th>\n",
       "      <td>PiuraChilensis_v1_contig_9994</td>\n",
       "      <td>0.824022</td>\n",
       "      <td>cell organization and biogenesis</td>\n",
       "    </tr>\n",
       "    <tr>\n",
       "      <th>27239</th>\n",
       "      <td>PiuraChilensis_v1_contig_9994</td>\n",
       "      <td>0.824022</td>\n",
       "      <td>death</td>\n",
       "    </tr>\n",
       "    <tr>\n",
       "      <th>27240</th>\n",
       "      <td>PiuraChilensis_v1_contig_9994</td>\n",
       "      <td>0.824022</td>\n",
       "      <td>developmental processes</td>\n",
       "    </tr>\n",
       "    <tr>\n",
       "      <th>27241</th>\n",
       "      <td>PiuraChilensis_v1_contig_9994</td>\n",
       "      <td>0.824022</td>\n",
       "      <td>other biological processes</td>\n",
       "    </tr>\n",
       "    <tr>\n",
       "      <th>27242</th>\n",
       "      <td>PiuraChilensis_v1_contig_9994</td>\n",
       "      <td>0.824022</td>\n",
       "      <td>protein metabolism</td>\n",
       "    </tr>\n",
       "    <tr>\n",
       "      <th>27243</th>\n",
       "      <td>PiuraChilensis_v1_contig_9994</td>\n",
       "      <td>0.824022</td>\n",
       "      <td>transport</td>\n",
       "    </tr>\n",
       "    <tr>\n",
       "      <th>27244</th>\n",
       "      <td>PiuraChilensis_v1_contig_9995</td>\n",
       "      <td>0.716151</td>\n",
       "      <td>cell adhesion</td>\n",
       "    </tr>\n",
       "    <tr>\n",
       "      <th>27245</th>\n",
       "      <td>PiuraChilensis_v1_contig_9995</td>\n",
       "      <td>0.716151</td>\n",
       "      <td>cell cycle and proliferation</td>\n",
       "    </tr>\n",
       "    <tr>\n",
       "      <th>27246</th>\n",
       "      <td>PiuraChilensis_v1_contig_9995</td>\n",
       "      <td>0.716151</td>\n",
       "      <td>cell organization and biogenesis</td>\n",
       "    </tr>\n",
       "    <tr>\n",
       "      <th>27247</th>\n",
       "      <td>PiuraChilensis_v1_contig_9995</td>\n",
       "      <td>0.716151</td>\n",
       "      <td>developmental processes</td>\n",
       "    </tr>\n",
       "    <tr>\n",
       "      <th>27248</th>\n",
       "      <td>PiuraChilensis_v1_contig_9995</td>\n",
       "      <td>0.716151</td>\n",
       "      <td>other biological processes</td>\n",
       "    </tr>\n",
       "    <tr>\n",
       "      <th>27249</th>\n",
       "      <td>PiuraChilensis_v1_contig_9995</td>\n",
       "      <td>0.716151</td>\n",
       "      <td>other metabolic processes</td>\n",
       "    </tr>\n",
       "    <tr>\n",
       "      <th>27250</th>\n",
       "      <td>PiuraChilensis_v1_contig_9995</td>\n",
       "      <td>0.716151</td>\n",
       "      <td>protein metabolism</td>\n",
       "    </tr>\n",
       "    <tr>\n",
       "      <th>27251</th>\n",
       "      <td>PiuraChilensis_v1_contig_9995</td>\n",
       "      <td>0.716151</td>\n",
       "      <td>signal transduction</td>\n",
       "    </tr>\n",
       "    <tr>\n",
       "      <th>27252</th>\n",
       "      <td>PiuraChilensis_v1_contig_9995</td>\n",
       "      <td>0.716151</td>\n",
       "      <td>transport</td>\n",
       "    </tr>\n",
       "    <tr>\n",
       "      <th>27253</th>\n",
       "      <td>PiuraChilensis_v1_contig_9996</td>\n",
       "      <td>0.809252</td>\n",
       "      <td>RNA metabolism</td>\n",
       "    </tr>\n",
       "    <tr>\n",
       "      <th>27254</th>\n",
       "      <td>PiuraChilensis_v1_contig_9996</td>\n",
       "      <td>0.809252</td>\n",
       "      <td>other biological processes</td>\n",
       "    </tr>\n",
       "    <tr>\n",
       "      <th>27255</th>\n",
       "      <td>PiuraChilensis_v1_contig_9997</td>\n",
       "      <td>0.548271</td>\n",
       "      <td>developmental processes</td>\n",
       "    </tr>\n",
       "    <tr>\n",
       "      <th>27256</th>\n",
       "      <td>PiuraChilensis_v1_contig_9997</td>\n",
       "      <td>0.548271</td>\n",
       "      <td>other metabolic processes</td>\n",
       "    </tr>\n",
       "    <tr>\n",
       "      <th>27257</th>\n",
       "      <td>PiuraChilensis_v1_contig_9997</td>\n",
       "      <td>0.548271</td>\n",
       "      <td>signal transduction</td>\n",
       "    </tr>\n",
       "    <tr>\n",
       "      <th>27258</th>\n",
       "      <td>PiuraChilensis_v1_contig_9998</td>\n",
       "      <td>0.715831</td>\n",
       "      <td>RNA metabolism</td>\n",
       "    </tr>\n",
       "    <tr>\n",
       "      <th>27259</th>\n",
       "      <td>PiuraChilensis_v1_contig_9998</td>\n",
       "      <td>0.715831</td>\n",
       "      <td>cell cycle and proliferation</td>\n",
       "    </tr>\n",
       "    <tr>\n",
       "      <th>27260</th>\n",
       "      <td>PiuraChilensis_v1_contig_9998</td>\n",
       "      <td>0.715831</td>\n",
       "      <td>cell organization and biogenesis</td>\n",
       "    </tr>\n",
       "    <tr>\n",
       "      <th>27261</th>\n",
       "      <td>PiuraChilensis_v1_contig_9998</td>\n",
       "      <td>0.715831</td>\n",
       "      <td>other biological processes</td>\n",
       "    </tr>\n",
       "    <tr>\n",
       "      <th>27262</th>\n",
       "      <td>PiuraChilensis_v1_contig_9998</td>\n",
       "      <td>0.715831</td>\n",
       "      <td>other metabolic processes</td>\n",
       "    </tr>\n",
       "    <tr>\n",
       "      <th>27263</th>\n",
       "      <td>PiuraChilensis_v1_contig_9998</td>\n",
       "      <td>0.715831</td>\n",
       "      <td>protein metabolism</td>\n",
       "    </tr>\n",
       "    <tr>\n",
       "      <th>27264</th>\n",
       "      <td>PiuraChilensis_v1_contig_9998</td>\n",
       "      <td>0.715831</td>\n",
       "      <td>signal transduction</td>\n",
       "    </tr>\n",
       "    <tr>\n",
       "      <th>27265</th>\n",
       "      <td>PiuraChilensis_v1_contig_9998</td>\n",
       "      <td>0.715831</td>\n",
       "      <td>stress response</td>\n",
       "    </tr>\n",
       "    <tr>\n",
       "      <th>27266</th>\n",
       "      <td>PiuraChilensis_v1_contig_9999</td>\n",
       "      <td>1.375200</td>\n",
       "      <td></td>\n",
       "    </tr>\n",
       "  </tbody>\n",
       "</table>\n",
       "<p>27267 rows × 3 columns</p>\n",
       "</div>"
      ],
      "text/plain": [
       "                                     0         1  \\\n",
       "0          PiuraChilensis_v1_contig_1   0.427621   \n",
       "1         PiuraChilensis_v1_contig_10   0.817866   \n",
       "2        PiuraChilensis_v1_contig_100   0.914473   \n",
       "3        PiuraChilensis_v1_contig_100   0.914473   \n",
       "4        PiuraChilensis_v1_contig_100   0.914473   \n",
       "5        PiuraChilensis_v1_contig_100   0.914473   \n",
       "6        PiuraChilensis_v1_contig_100   0.914473   \n",
       "7       PiuraChilensis_v1_contig_1000   0.792597   \n",
       "8       PiuraChilensis_v1_contig_1000   0.792597   \n",
       "9      PiuraChilensis_v1_contig_10000   0.947282   \n",
       "10     PiuraChilensis_v1_contig_10001   0.691634   \n",
       "11     PiuraChilensis_v1_contig_10002   0.936689   \n",
       "12     PiuraChilensis_v1_contig_10003   0.371111   \n",
       "13     PiuraChilensis_v1_contig_10003   0.371111   \n",
       "14     PiuraChilensis_v1_contig_10003   0.371111   \n",
       "15     PiuraChilensis_v1_contig_10004   0.894320   \n",
       "16     PiuraChilensis_v1_contig_10005   0.873687   \n",
       "17     PiuraChilensis_v1_contig_10006   0.701088   \n",
       "18     PiuraChilensis_v1_contig_10007   0.799701   \n",
       "19     PiuraChilensis_v1_contig_10007   0.799701   \n",
       "20     PiuraChilensis_v1_contig_10007   0.799701   \n",
       "21     PiuraChilensis_v1_contig_10007   0.799701   \n",
       "22     PiuraChilensis_v1_contig_10008   0.656072   \n",
       "23     PiuraChilensis_v1_contig_10009   0.716323   \n",
       "24      PiuraChilensis_v1_contig_1001   0.920809   \n",
       "25     PiuraChilensis_v1_contig_10010   1.001460   \n",
       "26     PiuraChilensis_v1_contig_10010   1.001460   \n",
       "27     PiuraChilensis_v1_contig_10010   1.001460   \n",
       "28     PiuraChilensis_v1_contig_10011   0.736964   \n",
       "29     PiuraChilensis_v1_contig_10012   0.784672   \n",
       "...                                ...       ...   \n",
       "27237   PiuraChilensis_v1_contig_9994   0.824022   \n",
       "27238   PiuraChilensis_v1_contig_9994   0.824022   \n",
       "27239   PiuraChilensis_v1_contig_9994   0.824022   \n",
       "27240   PiuraChilensis_v1_contig_9994   0.824022   \n",
       "27241   PiuraChilensis_v1_contig_9994   0.824022   \n",
       "27242   PiuraChilensis_v1_contig_9994   0.824022   \n",
       "27243   PiuraChilensis_v1_contig_9994   0.824022   \n",
       "27244   PiuraChilensis_v1_contig_9995   0.716151   \n",
       "27245   PiuraChilensis_v1_contig_9995   0.716151   \n",
       "27246   PiuraChilensis_v1_contig_9995   0.716151   \n",
       "27247   PiuraChilensis_v1_contig_9995   0.716151   \n",
       "27248   PiuraChilensis_v1_contig_9995   0.716151   \n",
       "27249   PiuraChilensis_v1_contig_9995   0.716151   \n",
       "27250   PiuraChilensis_v1_contig_9995   0.716151   \n",
       "27251   PiuraChilensis_v1_contig_9995   0.716151   \n",
       "27252   PiuraChilensis_v1_contig_9995   0.716151   \n",
       "27253   PiuraChilensis_v1_contig_9996   0.809252   \n",
       "27254   PiuraChilensis_v1_contig_9996   0.809252   \n",
       "27255   PiuraChilensis_v1_contig_9997   0.548271   \n",
       "27256   PiuraChilensis_v1_contig_9997   0.548271   \n",
       "27257   PiuraChilensis_v1_contig_9997   0.548271   \n",
       "27258   PiuraChilensis_v1_contig_9998   0.715831   \n",
       "27259   PiuraChilensis_v1_contig_9998   0.715831   \n",
       "27260   PiuraChilensis_v1_contig_9998   0.715831   \n",
       "27261   PiuraChilensis_v1_contig_9998   0.715831   \n",
       "27262   PiuraChilensis_v1_contig_9998   0.715831   \n",
       "27263   PiuraChilensis_v1_contig_9998   0.715831   \n",
       "27264   PiuraChilensis_v1_contig_9998   0.715831   \n",
       "27265   PiuraChilensis_v1_contig_9998   0.715831   \n",
       "27266   PiuraChilensis_v1_contig_9999   1.375200   \n",
       "\n",
       "                                       2  \n",
       "0                                         \n",
       "1                                         \n",
       "2                                  death  \n",
       "3             other biological processes  \n",
       "4                    signal transduction  \n",
       "5                        stress response  \n",
       "6                              transport  \n",
       "7             other biological processes  \n",
       "8              other metabolic processes  \n",
       "9                                         \n",
       "10                                        \n",
       "11                                        \n",
       "12                        RNA metabolism  \n",
       "13            other biological processes  \n",
       "14                    protein metabolism  \n",
       "15             other metabolic processes  \n",
       "16                                        \n",
       "17                        RNA metabolism  \n",
       "18          cell cycle and proliferation  \n",
       "19      cell organization and biogenesis  \n",
       "20            other biological processes  \n",
       "21                       stress response  \n",
       "22                        RNA metabolism  \n",
       "23                                        \n",
       "24                                        \n",
       "25               developmental processes  \n",
       "26             other metabolic processes  \n",
       "27                             transport  \n",
       "28      cell organization and biogenesis  \n",
       "29      cell organization and biogenesis  \n",
       "...                                  ...  \n",
       "27237                     RNA metabolism  \n",
       "27238   cell organization and biogenesis  \n",
       "27239                              death  \n",
       "27240            developmental processes  \n",
       "27241         other biological processes  \n",
       "27242                 protein metabolism  \n",
       "27243                          transport  \n",
       "27244                      cell adhesion  \n",
       "27245       cell cycle and proliferation  \n",
       "27246   cell organization and biogenesis  \n",
       "27247            developmental processes  \n",
       "27248         other biological processes  \n",
       "27249          other metabolic processes  \n",
       "27250                 protein metabolism  \n",
       "27251                signal transduction  \n",
       "27252                          transport  \n",
       "27253                     RNA metabolism  \n",
       "27254         other biological processes  \n",
       "27255            developmental processes  \n",
       "27256          other metabolic processes  \n",
       "27257                signal transduction  \n",
       "27258                     RNA metabolism  \n",
       "27259       cell cycle and proliferation  \n",
       "27260   cell organization and biogenesis  \n",
       "27261         other biological processes  \n",
       "27262          other metabolic processes  \n",
       "27263                 protein metabolism  \n",
       "27264                signal transduction  \n",
       "27265                    stress response  \n",
       "27266                                     \n",
       "\n",
       "[27267 rows x 3 columns]"
      ]
     },
     "execution_count": 33,
     "metadata": {},
     "output_type": "execute_result"
    }
   ],
   "source": [
    "Piura"
   ]
  },
  {
   "cell_type": "code",
   "execution_count": 53,
   "metadata": {
    "collapsed": false
   },
   "outputs": [],
   "source": [
    "%matplotlib inline\n"
   ]
  },
  {
   "cell_type": "code",
   "execution_count": 54,
   "metadata": {
    "collapsed": false
   },
   "outputs": [],
   "source": [
    "import matplotlib.pyplot as plt "
   ]
  },
  {
   "cell_type": "code",
   "execution_count": 57,
   "metadata": {
    "collapsed": false
   },
   "outputs": [
    {
     "data": {
      "text/plain": [
       "[0.7, 0.9, 0, 15]"
      ]
     },
     "execution_count": 57,
     "metadata": {},
     "output_type": "execute_result"
    },
    {
     "data": {
      "image/png": "[encoded data removed]",
      "text/plain": [
       "<matplotlib.figure.Figure at 0x10e766080>"
      ]
     },
     "metadata": {},
     "output_type": "display_data"
    }
   ],
   "source": [
    "Piura.groupby(2)[1].mean().plot(kind='barh', color=list('yb'))\n",
    "plt.axis([0.7, 0.9, 0, 15])"
   ]
  },
  {
   "cell_type": "code",
   "execution_count": 60,
   "metadata": {
    "collapsed": true
   },
   "outputs": [],
   "source": [
    "from IPython.display import display\n"
   ]
  },
  {
   "cell_type": "code",
   "execution_count": 70,
   "metadata": {
    "collapsed": false
   },
   "outputs": [
    {
     "data": {
      "text/html": [
       "\n",
       "        <iframe\n",
       "            width=\"400\"\n",
       "            height=\"300\"\n",
       "            src=\"https://www.youtube.com/embed/E0FglJRv4Wg\"\n",
       "            frameborder=\"0\"\n",
       "            allowfullscreen\n",
       "        ></iframe>\n",
       "        "
      ],
      "text/plain": [
       "<IPython.lib.display.YouTubeVideo at 0x10cf9add8>"
      ]
     },
     "execution_count": 70,
     "metadata": {},
     "output_type": "execute_result"
    }
   ],
   "source": [
    "from IPython.display import YouTubeVideo\n",
    "YouTubeVideo('E0FglJRv4Wg')"
   ]
  },
  {
   "cell_type": "code",
   "execution_count": null,
   "metadata": {
    "collapsed": true
   },
   "outputs": [],
   "source": []
  }
 ],
 "metadata": {
  "kernelspec": {
   "display_name": "Python 2",
   "language": "python",
   "name": "python2"
  },
  "language_info": {
   "codemirror_mode": {
    "name": "ipython",
    "version": 2
   },
   "file_extension": ".py",
   "mimetype": "text/x-python",
   "name": "python",
   "nbconvert_exporter": "python",
   "pygments_lexer": "ipython2",
   "version": "2.7.10"
  }
 },
 "nbformat": 4,
 "nbformat_minor": 0
}
