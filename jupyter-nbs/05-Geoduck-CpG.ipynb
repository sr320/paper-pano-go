{
 "cells": [
  {
   "cell_type": "markdown",
   "metadata": {},
   "source": [
    "# Determing CpG ratio per Gene Function"
   ]
  },
  {
   "cell_type": "markdown",
   "metadata": {},
   "source": [
    "# Step 1: Obtain GO slim information (gene function)"
   ]
  },
  {
   "cell_type": "code",
   "execution_count": 6,
   "metadata": {
    "collapsed": false
   },
   "outputs": [
    {
     "name": "stdout",
     "output_type": "stream",
     "text": [
      "Column1,Column2,Column3,Column4,Column5,Column6,Column7,Column8,Column9,Column10,Column11,Column12,Column13,Column14,SPID,GOID,GO_id,term,GOSlim_bin,aspect,contig\r\n",
      "comp95_c0_seq1,sp,Q8K358,PIGU_MOUSE,67.53,77,25,0,231,1,258,334,7.00E-32,119,Q8K358,GO:0006506,GO:0006506,GPI anchor biosynthetic process,protein metabolism,P,95\r\n"
     ]
    }
   ],
   "source": [
    "!head -2 ../data-results/Geoduck-transcriptome-v2-GO-SlimUnique.csv"
   ]
  },
  {
   "cell_type": "code",
   "execution_count": 3,
   "metadata": {
    "collapsed": false
   },
   "outputs": [
    {
     "name": "stdout",
     "output_type": "stream",
     "text": [
      "Fri Nov 13 07:18:28 PST 2015\r\n"
     ]
    }
   ],
   "source": [
    "!date"
   ]
  },
  {
   "cell_type": "code",
   "execution_count": 7,
   "metadata": {
    "collapsed": false
   },
   "outputs": [
    {
     "name": "stdout",
     "output_type": "stream",
     "text": [
      "   19652 ../data-results/Geoduck-transcriptome-v2-GO-SlimUnique.csv\r\n"
     ]
    }
   ],
   "source": [
    "!wc -l ../data-results/Geoduck-transcriptome-v2-GO-SlimUnique.csv"
   ]
  },
  {
   "cell_type": "code",
   "execution_count": 9,
   "metadata": {
    "collapsed": false
   },
   "outputs": [
    {
     "name": "stdout",
     "output_type": "stream",
     "text": [
      "ContigID\tGOSlim_bin\r\n",
      "comp95_c0_seq1\tprotein metabolism\r\n",
      "comp146_c0_seq1\tRNA metabolism\r\n",
      "comp195_c0_seq1\tstress response\r\n",
      "comp296_c0_seq1\tDNA metabolism\r\n",
      "comp434_c0_seq1\tcell cycle and proliferation\r\n",
      "comp455_c1_seq1\tother metabolic processes\r\n",
      "comp943_c0_seq1\tother metabolic processes\r\n",
      "comp945_c0_seq1\tcell adhesion\r\n",
      "comp1059_c0_seq1\tprotein metabolism\r\n"
     ]
    }
   ],
   "source": [
    "!head analyses/Geoduck-v2-GOslim_only"
   ]
  },
  {
   "cell_type": "code",
   "execution_count": 10,
   "metadata": {
    "collapsed": false
   },
   "outputs": [
    {
     "name": "stdout",
     "output_type": "stream",
     "text": [
      "   19652 analyses/Geoduck-v2-GOslim_only\r\n"
     ]
    }
   ],
   "source": [
    "!wc -l analyses/Geoduck-v2-GOslim_only"
   ]
  },
  {
   "cell_type": "markdown",
   "metadata": {},
   "source": [
    "# Step 2: Determine CpG ratio for each gene "
   ]
  },
  {
   "cell_type": "markdown",
   "metadata": {},
   "source": [
    "# Step 2a: Convert fasta to tab-delimited"
   ]
  },
  {
   "cell_type": "code",
   "execution_count": 13,
   "metadata": {
    "collapsed": false
   },
   "outputs": [
    {
     "name": "stdout",
     "output_type": "stream",
     "text": [
      ">comp7_c0_seq1 len=210 path=[5082:0-45 293:46-209]\r\n",
      "TTAACCAAGGTGTGACGCCGACGCAAGGGTGAGTAGAATAGCTCTGTTTATTATCCGAAT\r\n",
      "AGTCGAGCTAAAAACACAAAGAATAAAGGTTTAACAGTTCTATCTGAAATATATATTTGG\r\n",
      "ATATCTATTGGTAAGGATACGTTTTATATTAAAAACAAACAATTTATAAAGCGCTCTCGC\r\n",
      "ACCTTGTTTTTGCATTATGAGCATATACAT\r\n",
      ">comp30_c0_seq1 len=201 path=[6331:0-200]\r\n",
      "AAGAAAATTGATTTGAAATTGACTCTGCTTGAATAGAAAAAAATGTTTTGTTCTTTTTTT\r\n",
      "CGAAGTGTAAATTGTAAATTACTTTATTAAAAAATTCATAGTTTCCGGGCAAGTTATTTT\r\n",
      "TAATATATTGTAAATGTTGTCATTCAGAGGTTTGTTACGAATATATTGTTTGACAGACAT\r\n",
      "GCTACTGTTGTACTACTATTG\r\n"
     ]
    }
   ],
   "source": [
    "!head ../data-results/Geoduck-transcriptome-v2.fasta"
   ]
  },
  {
   "cell_type": "code",
   "execution_count": 19,
   "metadata": {
    "collapsed": false
   },
   "outputs": [
    {
     "name": "stdout",
     "output_type": "stream",
     "text": [
      ">comp7_c0_seq1\r\n",
      "TTAACCAAGGTGTGACGCCGACGCAAGGGTGAGTAGAATAGCTCTGTTTATTATCCGAAT\r\n",
      "AGTCGAGCTAAAAACACAAAGAATAAAGGTTTAACAGTTCTATCTGAAATATATATTTGG\r\n",
      "ATATCTATTGGTAAGGATACGTTTTATATTAAAAACAAACAATTTATAAAGCGCTCTCGC\r\n",
      "ACCTTGTTTTTGCATTATGAGCATATACAT\r\n",
      ">comp30_c0_seq1\r\n",
      "AAGAAAATTGATTTGAAATTGACTCTGCTTGAATAGAAAAAAATGTTTTGTTCTTTTTTT\r\n",
      "CGAAGTGTAAATTGTAAATTACTTTATTAAAAAATTCATAGTTTCCGGGCAAGTTATTTT\r\n",
      "TAATATATTGTAAATGTTGTCATTCAGAGGTTTGTTACGAATATATTGTTTGACAGACAT\r\n",
      "GCTACTGTTGTACTACTATTG\r\n"
     ]
    }
   ],
   "source": [
    "!cut -d' ' -f1 ../data-results/Geoduck-transcriptome-v2.fasta > analyses/Geoduck-transcriptome-v2_IDonly.fasta\n",
    "!head analyses/Geoduck-transcriptome-v2_IDonly.fasta"
   ]
  },
  {
   "cell_type": "code",
   "execution_count": 20,
   "metadata": {
    "collapsed": false
   },
   "outputs": [
    {
     "name": "stdout",
     "output_type": "stream",
     "text": [
      "\r\n",
      "Converted 154407 FASTA records in 1926166 lines to tabular format\r\n",
      "Total sequence length: 101836734\r\n",
      "\r\n"
     ]
    }
   ],
   "source": [
    "!perl -e '$count=0; $len=0; while(<>) {s/\\r?\\n//; s/\\t/ /g; if (s/^>//) { if ($. != 1) {print \"\\n\"} s/ |$/\\t/; $count++; $_ .= \"\\t\";} else {s/ //g; $len += length($_)} print $_;} print \"\\n\"; warn \"\\nConverted $count FASTA records in $. lines to tabular format\\nTotal sequence length: $len\\n\\n\";' \\\n",
    "analyses/Geoduck-transcriptome-v2_IDonly.fasta > analyses/Geoduck-transcriptome-v2.tab"
   ]
  },
  {
   "cell_type": "code",
   "execution_count": 21,
   "metadata": {
    "collapsed": false
   },
   "outputs": [
    {
     "name": "stdout",
     "output_type": "stream",
     "text": [
      "comp7_c0_seq1\t\tTTAACCAAGGTGTGACGCCGACGCAAGGGTGAGTAGAATAGCTCTGTTTATTATCCGAATAGTCGAGCTAAAAACACAAAGAATAAAGGTTTAACAGTTCTATCTGAAATATATATTTGGATATCTATTGGTAAGGATACGTTTTATATTAAAAACAAACAATTTATAAAGCGCTCTCGCACCTTGTTTTTGCATTATGAGCATATACAT\r\n"
     ]
    }
   ],
   "source": [
    "!head -1 analyses/Geoduck-transcriptome-v2.tab"
   ]
  },
  {
   "cell_type": "code",
   "execution_count": 22,
   "metadata": {
    "collapsed": false
   },
   "outputs": [
    {
     "name": "stdout",
     "output_type": "stream",
     "text": [
      "\r\n",
      "Added column with length of column 2 for 154407 lines.\r\n",
      "\r\n"
     ]
    }
   ],
   "source": [
    "#add column with length of sequence\n",
    "!perl -e '$col = 2;' -e 'while (<>) { s/\\r?\\n//; @F = split /\\t/, $_; $len = length($F[$col]); print \"$_\\t$len\\n\" } warn \"\\nAdded column with length of column $col for $. lines.\\n\\n\";' \\\n",
    "analyses/Geoduck-transcriptome-v2.tab > analyses/Geoduck-transcriptome-v2-len.tab"
   ]
  },
  {
   "cell_type": "code",
   "execution_count": 23,
   "metadata": {
    "collapsed": false
   },
   "outputs": [
    {
     "name": "stdout",
     "output_type": "stream",
     "text": [
      "comp7_c0_seq1\t\tTTAACCAAGGTGTGACGCCGACGCAAGGGTGAGTAGAATAGCTCTGTTTATTATCCGAATAGTCGAGCTAAAAACACAAAGAATAAAGGTTTAACAGTTCTATCTGAAATATATATTTGGATATCTATTGGTAAGGATACGTTTTATATTAAAAACAAACAATTTATAAAGCGCTCTCGCACCTTGTTTTTGCATTATGAGCATATACAT\t210\r\n"
     ]
    }
   ],
   "source": [
    "!head -1 analyses/Geoduck-transcriptome-v2-len.tab"
   ]
  },
  {
   "cell_type": "code",
   "execution_count": 24,
   "metadata": {
    "collapsed": false,
    "scrolled": true
   },
   "outputs": [
    {
     "name": "stdout",
     "output_type": "stream",
     "text": [
      "comp7_c0_seq1\t\tTTAACCAAGGTGTGACGCCGACGCAAGGGTGAGTAGAATAGCTCTGTTTATTATCCGAATAGTCGAGCTAAAAACACAAAGAATAAAGGTTTAACAGTTCTATCTGAAATATATATTTGGATATCTATTGGTAAGGATACGTTTTATATTAAAAACAAACAATTTATAAAGCGCTCTCGCACCTTGTTTTTGCATTATGAGCATATACAT\t210\t8\t32\t38\r\n",
      "comp30_c0_seq1\t\tAAGAAAATTGATTTGAAATTGACTCTGCTTGAATAGAAAAAAATGTTTTGTTCTTTTTTTCGAAGTGTAAATTGTAAATTACTTTATTAAAAAATTCATAGTTTCCGGGCAAGTTATTTTTAATATATTGTAAATGTTGTCATTCAGAGGTTTGTTACGAATATATTGTTTGACAGACATGCTACTGTTGTACTACTATTG\t201\t3\t19\t33\r\n",
      "comp35_c0_seq1\t\tGAAAATAAAAGTATGATGGTCACACAATGTTATCCGTTATCCAATCAAAATGTCTAATTGGAAAGAAAAACATCATTTTAACTGTAAATTTTCTATTGAACTGAAGTAGTGGGGATATATCTATCTACAAATTATGAAGATATGCGATTGAACATCTTTGCATAGCAAGAGAAATATCAGACAGCAAACAGTAAATAGATGACGTGGAA\t209\t3\t27\t37\r\n"
     ]
    }
   ],
   "source": [
    "!awk -F\\CG '{print NF-1}' analyses/Geoduck-transcriptome-v2-len.tab > analyses/Geoduck-transcriptome-v2-len_CG.tab\n",
    "!awk -F\\C '{print NF-1}' analyses/Geoduck-transcriptome-v2-len.tab > analyses/Geoduck-transcriptome-v2-len_C.tab\n",
    "!awk -F\\G '{print NF-1}' analyses/Geoduck-transcriptome-v2-len.tab > analyses/Geoduck-transcriptome-v2-len_G.tab\n",
    "!paste analyses/Geoduck-transcriptome-v2-len.tab \\\n",
    "analyses/Geoduck-transcriptome-v2-len_CG.tab \\\n",
    "analyses/Geoduck-transcriptome-v2-len_C.tab \\\n",
    "analyses/Geoduck-transcriptome-v2-len_G.tab \\\n",
    "> analyses/Geoduck-transcriptome-v2_C-G.tab\n",
    "!head -3 analyses/Geoduck-transcriptome-v2_C-G.tab\n"
   ]
  },
  {
   "cell_type": "markdown",
   "metadata": {},
   "source": [
    "![](http://eagle.fish.washington.edu/cnidarian/skitch/BMC_Genomics___Full_text___DNA_methylation_patterns_provide_insight_into_epigenetic_regulation_in_the_Pacific_oyster__Crassostrea_gigas__1A0683A5.png)"
   ]
  },
  {
   "cell_type": "code",
   "execution_count": 26,
   "metadata": {
    "collapsed": false
   },
   "outputs": [
    {
     "name": "stdout",
     "output_type": "stream",
     "text": [
      "comp7_c0_seq1 \t 1.38819\r\n",
      "comp30_c0_seq1 \t 0.966531\r\n",
      "comp35_c0_seq1 \t 0.630645\r\n",
      "comp36_c0_seq1 \t 0\r\n",
      "comp49_c0_seq1 \t 0.836969\r\n",
      "comp59_c0_seq1 \t 0.510208\r\n",
      "comp60_c0_seq1 \t 0.241512\r\n",
      "comp65_c0_seq1 \t 0.307696\r\n",
      "comp66_c0_seq1 \t 0.756371\r\n",
      "comp69_c0_seq1 \t 0.494277\r\n"
     ]
    }
   ],
   "source": [
    "!awk '{print $1, \"\\t\", (($4)/($5*$6))*(($3**2)/($3-1))}' \\\n",
    "analyses/Geoduck-transcriptome-v2_C-G.tab \\\n",
    "> analyses/Geoduck-transcriptome-v2_CpG.tab\n",
    "!head analyses/Geoduck-transcriptome-v2_CpG.tab"
   ]
  },
  {
   "cell_type": "markdown",
   "metadata": {},
   "source": [
    "# Join with GO Slim"
   ]
  },
  {
   "cell_type": "code",
   "execution_count": 12,
   "metadata": {
    "collapsed": false
   },
   "outputs": [
    {
     "name": "stdout",
     "output_type": "stream",
     "text": [
      "ContigID\tGOSlim_bin\r\n",
      "comp95_c0_seq1\tprotein metabolism\r\n",
      "comp146_c0_seq1\tRNA metabolism\r\n",
      "comp195_c0_seq1\tstress response\r\n",
      "comp296_c0_seq1\tDNA metabolism\r\n",
      "comp434_c0_seq1\tcell cycle and proliferation\r\n",
      "comp455_c1_seq1\tother metabolic processes\r\n",
      "comp943_c0_seq1\tother metabolic processes\r\n",
      "comp945_c0_seq1\tcell adhesion\r\n",
      "comp1059_c0_seq1\tprotein metabolism\r\n"
     ]
    }
   ],
   "source": [
    "!head analyses/Geoduck-v2-GOslim_only"
   ]
  },
  {
   "cell_type": "code",
   "execution_count": 73,
   "metadata": {
    "collapsed": false
   },
   "outputs": [],
   "source": [
    "!sed 's/ /%/g' analyses/Geoduck-v2-GOslim_only > analyses/Geoduck-v2-GOslim_only%"
   ]
  },
  {
   "cell_type": "code",
   "execution_count": 13,
   "metadata": {
    "collapsed": false
   },
   "outputs": [],
   "source": [
    "#!tr ',' \"\\t\" <../data/Piura_v1_GOslim.csv> ../data/Piura_v1_GOslim.tab"
   ]
  },
  {
   "cell_type": "code",
   "execution_count": 74,
   "metadata": {
    "collapsed": false,
    "scrolled": true
   },
   "outputs": [
    {
     "name": "stdout",
     "output_type": "stream",
     "text": [
      "comp100097_c0_seq1\ttransport\r\n",
      "comp100104_c2_seq1\tprotein%metabolism\r\n",
      "comp100105_c1_seq1\tRNA%metabolism\r\n",
      "comp100108_c1_seq1\ttransport\r\n",
      "comp100109_c0_seq1\tother%biological%processes\r\n",
      "comp100113_c0_seq1\tother%biological%processes\r\n",
      "comp100113_c0_seq2\tprotein%metabolism\r\n",
      "comp100113_c1_seq1\tprotein%metabolism\r\n",
      "comp100129_c0_seq1\tother%biological%processes\r\n",
      "comp100141_c0_seq1\tother%metabolic%processes\r\n"
     ]
    }
   ],
   "source": [
    "!sort analyses/Geoduck-v2-GOslim_only% | tail -n +2 > analyses/Geoduck-v2-GOslim_only.sorted\n",
    "#!awk -F $'\\t' '{print $1, \"\\t\", $2}' analyses/Geoduck-v2-GOslim_only.sorted > ../data/Piura_v1_GOslim.sortedtab\n",
    "!head analyses/Geoduck-v2-GOslim_only.sorted"
   ]
  },
  {
   "cell_type": "code",
   "execution_count": 15,
   "metadata": {
    "collapsed": false
   },
   "outputs": [
    {
     "name": "stdout",
     "output_type": "stream",
     "text": [
      "comp100000_c0_seq1 \t 0.919033\r\n",
      "comp100001_c1_seq1 \t 0.264219\r\n",
      "comp100001_c2_seq1 \t 0.233631\r\n",
      "comp100002_c0_seq1 \t 0.985872\r\n",
      "comp100004_c1_seq1 \t 0.439224\r\n",
      "comp100007_c0_seq1 \t 0.689395\r\n",
      "comp100010_c0_seq1 \t 1.1367\r\n",
      "comp100011_c0_seq1 \t 0.562483\r\n",
      "comp100012_c0_seq1 \t 0.152087\r\n",
      "comp100014_c0_seq1 \t 0.571851\r\n"
     ]
    }
   ],
   "source": [
    "!sort analyses/Geoduck-transcriptome-v2_CpG.tab > analyses/Geoduck-transcriptome-v2_CpG.sorted\n",
    "#!awk -F $'\\t' '{print $1, \"\\t\", $2}' ../data/Piura_v1_CpG.sorted > ../data/Piura_v1_CpG.sortedtab\n",
    "!head analyses/Geoduck-transcriptome-v2_CpG.sorted"
   ]
  },
  {
   "cell_type": "code",
   "execution_count": 77,
   "metadata": {
    "collapsed": false
   },
   "outputs": [],
   "source": [
    "#-a1 keeps all of column 1\n",
    "!join -a1 analyses/Geoduck-transcriptome-v2_CpG.sorted \\\n",
    "analyses/Geoduck-v2-GOslim_only.sorted > analyses/Geoduck-transcriptome-v2_CpG-GOSlim"
   ]
  },
  {
   "cell_type": "code",
   "execution_count": 78,
   "metadata": {
    "collapsed": false
   },
   "outputs": [
    {
     "name": "stdout",
     "output_type": "stream",
     "text": [
      "comp99991_c0_seq1 0.48971\r\n",
      "comp99995_c0_seq1 0.167899\r\n",
      "comp99996_c0_seq1 1.30647 protein%metabolism\r\n",
      "comp99996_c2_seq1 1.1719 protein%metabolism\r\n",
      "comp99998_c0_seq1 0.583681\r\n"
     ]
    }
   ],
   "source": [
    "!tail -5 analyses/Geoduck-transcriptome-v2_CpG-GOSlim"
   ]
  },
  {
   "cell_type": "code",
   "execution_count": null,
   "metadata": {
    "collapsed": true
   },
   "outputs": [],
   "source": []
  },
  {
   "cell_type": "code",
   "execution_count": 94,
   "metadata": {
    "collapsed": false
   },
   "outputs": [],
   "source": [
    "!tr ' ' \"\\t\" <analyses/Geoduck-transcriptome-v2_CpG-GOSlim> analyses/Geoduck-transcriptome-v2_CpG-GOSlim.txt"
   ]
  },
  {
   "cell_type": "code",
   "execution_count": 95,
   "metadata": {
    "collapsed": false
   },
   "outputs": [
    {
     "name": "stdout",
     "output_type": "stream",
     "text": [
      "comp99991_c0_seq1\t0.48971\r\n",
      "comp99995_c0_seq1\t0.167899\r\n",
      "comp99996_c0_seq1\t1.30647\tprotein%metabolism\r\n",
      "comp99996_c2_seq1\t1.1719\tprotein%metabolism\r\n",
      "comp99998_c0_seq1\t0.583681\r\n"
     ]
    }
   ],
   "source": [
    "!tail -5 analyses/Geoduck-transcriptome-v2_CpG-GOSlim.txt"
   ]
  },
  {
   "cell_type": "code",
   "execution_count": 96,
   "metadata": {
    "collapsed": false
   },
   "outputs": [
    {
     "name": "stdout",
     "output_type": "stream",
     "text": [
      "comp99985_c0_seq1 \t 0.65215  \t \r\n",
      "comp99986_c0_seq1 \t 0.646806  \t \r\n",
      "comp99986_c2_seq1 \t 0.433207  \t stress%response\r\n",
      "comp99988_c0_seq1 \t 0.700512  \t \r\n",
      "comp99988_c0_seq2 \t 0.813388  \t \r\n",
      "comp99991_c0_seq1 \t 0.48971  \t \r\n",
      "comp99995_c0_seq1 \t 0.167899  \t \r\n",
      "comp99996_c0_seq1 \t 1.30647  \t protein%metabolism\r\n",
      "comp99996_c2_seq1 \t 1.1719  \t protein%metabolism\r\n",
      "comp99998_c0_seq1 \t 0.583681  \t \r\n"
     ]
    }
   ],
   "source": [
    "!awk -F $'\\t' '{print $1, \"\\t\", $2,\" \\t\", $3}' analyses/Geoduck-transcriptome-v2_CpG-GOSlim.txt \\\n",
    "> analyses/Geoduck-transcriptome-v2_CpG-GOSlim.tab\n",
    "!tail analyses/Geoduck-transcriptome-v2_CpG-GOSlim.tab\n"
   ]
  },
  {
   "cell_type": "code",
   "execution_count": 84,
   "metadata": {
    "collapsed": false
   },
   "outputs": [],
   "source": [
    "import pandas as pd"
   ]
  },
  {
   "cell_type": "code",
   "execution_count": 97,
   "metadata": {
    "collapsed": false
   },
   "outputs": [],
   "source": [
    "CpG = pd.read_table('analyses/Geoduck-transcriptome-v2_CpG-GOSlim.tab', header=None)\n"
   ]
  },
  {
   "cell_type": "code",
   "execution_count": 98,
   "metadata": {
    "collapsed": false
   },
   "outputs": [
    {
     "data": {
      "text/html": [
       "<div style=\"max-height:1000px;max-width:1500px;overflow:auto;\">\n",
       "<table border=\"1\" class=\"dataframe\">\n",
       "  <thead>\n",
       "    <tr style=\"text-align: right;\">\n",
       "      <th></th>\n",
       "      <th>0</th>\n",
       "      <th>1</th>\n",
       "      <th>2</th>\n",
       "    </tr>\n",
       "  </thead>\n",
       "  <tbody>\n",
       "    <tr>\n",
       "      <th>0     </th>\n",
       "      <td> comp100000_c0_seq1 </td>\n",
       "      <td> 0.919033</td>\n",
       "      <td>                     </td>\n",
       "    </tr>\n",
       "    <tr>\n",
       "      <th>1     </th>\n",
       "      <td> comp100001_c1_seq1 </td>\n",
       "      <td> 0.264219</td>\n",
       "      <td>                     </td>\n",
       "    </tr>\n",
       "    <tr>\n",
       "      <th>2     </th>\n",
       "      <td> comp100001_c2_seq1 </td>\n",
       "      <td> 0.233631</td>\n",
       "      <td>                     </td>\n",
       "    </tr>\n",
       "    <tr>\n",
       "      <th>3     </th>\n",
       "      <td> comp100002_c0_seq1 </td>\n",
       "      <td> 0.985872</td>\n",
       "      <td>                     </td>\n",
       "    </tr>\n",
       "    <tr>\n",
       "      <th>4     </th>\n",
       "      <td> comp100004_c1_seq1 </td>\n",
       "      <td> 0.439224</td>\n",
       "      <td>                     </td>\n",
       "    </tr>\n",
       "    <tr>\n",
       "      <th>5     </th>\n",
       "      <td> comp100007_c0_seq1 </td>\n",
       "      <td> 0.689395</td>\n",
       "      <td>                     </td>\n",
       "    </tr>\n",
       "    <tr>\n",
       "      <th>6     </th>\n",
       "      <td> comp100010_c0_seq1 </td>\n",
       "      <td> 1.136700</td>\n",
       "      <td>                     </td>\n",
       "    </tr>\n",
       "    <tr>\n",
       "      <th>7     </th>\n",
       "      <td> comp100011_c0_seq1 </td>\n",
       "      <td> 0.562483</td>\n",
       "      <td>                     </td>\n",
       "    </tr>\n",
       "    <tr>\n",
       "      <th>8     </th>\n",
       "      <td> comp100012_c0_seq1 </td>\n",
       "      <td> 0.152087</td>\n",
       "      <td>                     </td>\n",
       "    </tr>\n",
       "    <tr>\n",
       "      <th>9     </th>\n",
       "      <td> comp100014_c0_seq1 </td>\n",
       "      <td> 0.571851</td>\n",
       "      <td>                     </td>\n",
       "    </tr>\n",
       "    <tr>\n",
       "      <th>10    </th>\n",
       "      <td> comp100015_c0_seq1 </td>\n",
       "      <td> 1.033270</td>\n",
       "      <td>                     </td>\n",
       "    </tr>\n",
       "    <tr>\n",
       "      <th>11    </th>\n",
       "      <td> comp100025_c0_seq1 </td>\n",
       "      <td> 0.993659</td>\n",
       "      <td>                     </td>\n",
       "    </tr>\n",
       "    <tr>\n",
       "      <th>12    </th>\n",
       "      <td> comp100027_c1_seq1 </td>\n",
       "      <td> 0.334764</td>\n",
       "      <td>                     </td>\n",
       "    </tr>\n",
       "    <tr>\n",
       "      <th>13    </th>\n",
       "      <td> comp100029_c1_seq1 </td>\n",
       "      <td> 0.669506</td>\n",
       "      <td>                     </td>\n",
       "    </tr>\n",
       "    <tr>\n",
       "      <th>14    </th>\n",
       "      <td> comp100031_c0_seq1 </td>\n",
       "      <td> 0.333337</td>\n",
       "      <td>                     </td>\n",
       "    </tr>\n",
       "    <tr>\n",
       "      <th>15    </th>\n",
       "      <td> comp100033_c0_seq1 </td>\n",
       "      <td> 0.654473</td>\n",
       "      <td>                     </td>\n",
       "    </tr>\n",
       "    <tr>\n",
       "      <th>16    </th>\n",
       "      <td> comp100035_c0_seq1 </td>\n",
       "      <td> 0.212415</td>\n",
       "      <td>                     </td>\n",
       "    </tr>\n",
       "    <tr>\n",
       "      <th>17    </th>\n",
       "      <td> comp100036_c0_seq1 </td>\n",
       "      <td> 0.113292</td>\n",
       "      <td>                     </td>\n",
       "    </tr>\n",
       "    <tr>\n",
       "      <th>18    </th>\n",
       "      <td> comp100036_c0_seq2 </td>\n",
       "      <td> 0.342479</td>\n",
       "      <td>                     </td>\n",
       "    </tr>\n",
       "    <tr>\n",
       "      <th>19    </th>\n",
       "      <td> comp100038_c0_seq1 </td>\n",
       "      <td> 0.314734</td>\n",
       "      <td>                     </td>\n",
       "    </tr>\n",
       "    <tr>\n",
       "      <th>20    </th>\n",
       "      <td>  comp10003_c0_seq1 </td>\n",
       "      <td> 0.595248</td>\n",
       "      <td>                     </td>\n",
       "    </tr>\n",
       "    <tr>\n",
       "      <th>21    </th>\n",
       "      <td> comp100041_c0_seq1 </td>\n",
       "      <td> 0.248459</td>\n",
       "      <td>                     </td>\n",
       "    </tr>\n",
       "    <tr>\n",
       "      <th>22    </th>\n",
       "      <td> comp100041_c1_seq1 </td>\n",
       "      <td> 0.673619</td>\n",
       "      <td>                     </td>\n",
       "    </tr>\n",
       "    <tr>\n",
       "      <th>23    </th>\n",
       "      <td> comp100041_c1_seq2 </td>\n",
       "      <td> 0.444916</td>\n",
       "      <td>                     </td>\n",
       "    </tr>\n",
       "    <tr>\n",
       "      <th>24    </th>\n",
       "      <td> comp100043_c0_seq1 </td>\n",
       "      <td> 0.447643</td>\n",
       "      <td>                     </td>\n",
       "    </tr>\n",
       "    <tr>\n",
       "      <th>25    </th>\n",
       "      <td> comp100045_c0_seq1 </td>\n",
       "      <td> 0.879294</td>\n",
       "      <td>                     </td>\n",
       "    </tr>\n",
       "    <tr>\n",
       "      <th>26    </th>\n",
       "      <td> comp100046_c1_seq1 </td>\n",
       "      <td> 0.294277</td>\n",
       "      <td>                     </td>\n",
       "    </tr>\n",
       "    <tr>\n",
       "      <th>27    </th>\n",
       "      <td> comp100047_c0_seq1 </td>\n",
       "      <td> 0.403411</td>\n",
       "      <td>                     </td>\n",
       "    </tr>\n",
       "    <tr>\n",
       "      <th>28    </th>\n",
       "      <td> comp100047_c0_seq2 </td>\n",
       "      <td> 0.839119</td>\n",
       "      <td>                     </td>\n",
       "    </tr>\n",
       "    <tr>\n",
       "      <th>29    </th>\n",
       "      <td> comp100052_c0_seq1 </td>\n",
       "      <td> 0.827392</td>\n",
       "      <td>                     </td>\n",
       "    </tr>\n",
       "    <tr>\n",
       "      <th>...</th>\n",
       "      <td>...</td>\n",
       "      <td>...</td>\n",
       "      <td>...</td>\n",
       "    </tr>\n",
       "    <tr>\n",
       "      <th>154377</th>\n",
       "      <td>  comp99952_c0_seq2 </td>\n",
       "      <td> 0.320518</td>\n",
       "      <td>                     </td>\n",
       "    </tr>\n",
       "    <tr>\n",
       "      <th>154378</th>\n",
       "      <td>  comp99956_c0_seq1 </td>\n",
       "      <td> 1.168440</td>\n",
       "      <td>                     </td>\n",
       "    </tr>\n",
       "    <tr>\n",
       "      <th>154379</th>\n",
       "      <td>  comp99957_c0_seq1 </td>\n",
       "      <td> 0.470448</td>\n",
       "      <td>                     </td>\n",
       "    </tr>\n",
       "    <tr>\n",
       "      <th>154380</th>\n",
       "      <td>  comp99964_c0_seq1 </td>\n",
       "      <td> 0.592045</td>\n",
       "      <td>                     </td>\n",
       "    </tr>\n",
       "    <tr>\n",
       "      <th>154381</th>\n",
       "      <td>  comp99965_c0_seq1 </td>\n",
       "      <td> 0.000000</td>\n",
       "      <td>                     </td>\n",
       "    </tr>\n",
       "    <tr>\n",
       "      <th>154382</th>\n",
       "      <td>  comp99966_c0_seq1 </td>\n",
       "      <td> 0.263738</td>\n",
       "      <td>                     </td>\n",
       "    </tr>\n",
       "    <tr>\n",
       "      <th>154383</th>\n",
       "      <td>  comp99967_c0_seq1 </td>\n",
       "      <td> 0.871111</td>\n",
       "      <td>                     </td>\n",
       "    </tr>\n",
       "    <tr>\n",
       "      <th>154384</th>\n",
       "      <td>  comp99970_c0_seq1 </td>\n",
       "      <td> 0.378111</td>\n",
       "      <td>                     </td>\n",
       "    </tr>\n",
       "    <tr>\n",
       "      <th>154385</th>\n",
       "      <td>  comp99971_c0_seq1 </td>\n",
       "      <td> 0.449331</td>\n",
       "      <td>                     </td>\n",
       "    </tr>\n",
       "    <tr>\n",
       "      <th>154386</th>\n",
       "      <td>  comp99972_c0_seq1 </td>\n",
       "      <td> 0.171606</td>\n",
       "      <td>                     </td>\n",
       "    </tr>\n",
       "    <tr>\n",
       "      <th>154387</th>\n",
       "      <td>  comp99972_c0_seq2 </td>\n",
       "      <td> 0.204880</td>\n",
       "      <td>                     </td>\n",
       "    </tr>\n",
       "    <tr>\n",
       "      <th>154388</th>\n",
       "      <td>  comp99973_c0_seq1 </td>\n",
       "      <td> 1.246140</td>\n",
       "      <td>                     </td>\n",
       "    </tr>\n",
       "    <tr>\n",
       "      <th>154389</th>\n",
       "      <td>  comp99974_c0_seq1 </td>\n",
       "      <td> 0.450406</td>\n",
       "      <td>                     </td>\n",
       "    </tr>\n",
       "    <tr>\n",
       "      <th>154390</th>\n",
       "      <td>  comp99979_c0_seq1 </td>\n",
       "      <td> 0.865478</td>\n",
       "      <td>                     </td>\n",
       "    </tr>\n",
       "    <tr>\n",
       "      <th>154391</th>\n",
       "      <td>  comp99980_c0_seq1 </td>\n",
       "      <td> 1.058530</td>\n",
       "      <td>                     </td>\n",
       "    </tr>\n",
       "    <tr>\n",
       "      <th>154392</th>\n",
       "      <td>  comp99980_c0_seq2 </td>\n",
       "      <td> 0.977787</td>\n",
       "      <td>                     </td>\n",
       "    </tr>\n",
       "    <tr>\n",
       "      <th>154393</th>\n",
       "      <td>  comp99982_c0_seq1 </td>\n",
       "      <td> 0.702998</td>\n",
       "      <td>                     </td>\n",
       "    </tr>\n",
       "    <tr>\n",
       "      <th>154394</th>\n",
       "      <td>  comp99983_c0_seq1 </td>\n",
       "      <td> 0.371663</td>\n",
       "      <td>                     </td>\n",
       "    </tr>\n",
       "    <tr>\n",
       "      <th>154395</th>\n",
       "      <td>  comp99983_c1_seq1 </td>\n",
       "      <td> 0.573483</td>\n",
       "      <td>  signal%transduction</td>\n",
       "    </tr>\n",
       "    <tr>\n",
       "      <th>154396</th>\n",
       "      <td>  comp99984_c0_seq1 </td>\n",
       "      <td> 0.112241</td>\n",
       "      <td>                     </td>\n",
       "    </tr>\n",
       "    <tr>\n",
       "      <th>154397</th>\n",
       "      <td>  comp99985_c0_seq1 </td>\n",
       "      <td> 0.652150</td>\n",
       "      <td>                     </td>\n",
       "    </tr>\n",
       "    <tr>\n",
       "      <th>154398</th>\n",
       "      <td>  comp99986_c0_seq1 </td>\n",
       "      <td> 0.646806</td>\n",
       "      <td>                     </td>\n",
       "    </tr>\n",
       "    <tr>\n",
       "      <th>154399</th>\n",
       "      <td>  comp99986_c2_seq1 </td>\n",
       "      <td> 0.433207</td>\n",
       "      <td>      stress%response</td>\n",
       "    </tr>\n",
       "    <tr>\n",
       "      <th>154400</th>\n",
       "      <td>  comp99988_c0_seq1 </td>\n",
       "      <td> 0.700512</td>\n",
       "      <td>                     </td>\n",
       "    </tr>\n",
       "    <tr>\n",
       "      <th>154401</th>\n",
       "      <td>  comp99988_c0_seq2 </td>\n",
       "      <td> 0.813388</td>\n",
       "      <td>                     </td>\n",
       "    </tr>\n",
       "    <tr>\n",
       "      <th>154402</th>\n",
       "      <td>  comp99991_c0_seq1 </td>\n",
       "      <td> 0.489710</td>\n",
       "      <td>                     </td>\n",
       "    </tr>\n",
       "    <tr>\n",
       "      <th>154403</th>\n",
       "      <td>  comp99995_c0_seq1 </td>\n",
       "      <td> 0.167899</td>\n",
       "      <td>                     </td>\n",
       "    </tr>\n",
       "    <tr>\n",
       "      <th>154404</th>\n",
       "      <td>  comp99996_c0_seq1 </td>\n",
       "      <td> 1.306470</td>\n",
       "      <td>   protein%metabolism</td>\n",
       "    </tr>\n",
       "    <tr>\n",
       "      <th>154405</th>\n",
       "      <td>  comp99996_c2_seq1 </td>\n",
       "      <td> 1.171900</td>\n",
       "      <td>   protein%metabolism</td>\n",
       "    </tr>\n",
       "    <tr>\n",
       "      <th>154406</th>\n",
       "      <td>  comp99998_c0_seq1 </td>\n",
       "      <td> 0.583681</td>\n",
       "      <td>                     </td>\n",
       "    </tr>\n",
       "  </tbody>\n",
       "</table>\n",
       "<p>154407 rows × 3 columns</p>\n",
       "</div>"
      ],
      "text/plain": [
       "                          0         1                     2\n",
       "0       comp100000_c0_seq1   0.919033                      \n",
       "1       comp100001_c1_seq1   0.264219                      \n",
       "2       comp100001_c2_seq1   0.233631                      \n",
       "3       comp100002_c0_seq1   0.985872                      \n",
       "4       comp100004_c1_seq1   0.439224                      \n",
       "5       comp100007_c0_seq1   0.689395                      \n",
       "6       comp100010_c0_seq1   1.136700                      \n",
       "7       comp100011_c0_seq1   0.562483                      \n",
       "8       comp100012_c0_seq1   0.152087                      \n",
       "9       comp100014_c0_seq1   0.571851                      \n",
       "10      comp100015_c0_seq1   1.033270                      \n",
       "11      comp100025_c0_seq1   0.993659                      \n",
       "12      comp100027_c1_seq1   0.334764                      \n",
       "13      comp100029_c1_seq1   0.669506                      \n",
       "14      comp100031_c0_seq1   0.333337                      \n",
       "15      comp100033_c0_seq1   0.654473                      \n",
       "16      comp100035_c0_seq1   0.212415                      \n",
       "17      comp100036_c0_seq1   0.113292                      \n",
       "18      comp100036_c0_seq2   0.342479                      \n",
       "19      comp100038_c0_seq1   0.314734                      \n",
       "20       comp10003_c0_seq1   0.595248                      \n",
       "21      comp100041_c0_seq1   0.248459                      \n",
       "22      comp100041_c1_seq1   0.673619                      \n",
       "23      comp100041_c1_seq2   0.444916                      \n",
       "24      comp100043_c0_seq1   0.447643                      \n",
       "25      comp100045_c0_seq1   0.879294                      \n",
       "26      comp100046_c1_seq1   0.294277                      \n",
       "27      comp100047_c0_seq1   0.403411                      \n",
       "28      comp100047_c0_seq2   0.839119                      \n",
       "29      comp100052_c0_seq1   0.827392                      \n",
       "...                     ...       ...                   ...\n",
       "154377   comp99952_c0_seq2   0.320518                      \n",
       "154378   comp99956_c0_seq1   1.168440                      \n",
       "154379   comp99957_c0_seq1   0.470448                      \n",
       "154380   comp99964_c0_seq1   0.592045                      \n",
       "154381   comp99965_c0_seq1   0.000000                      \n",
       "154382   comp99966_c0_seq1   0.263738                      \n",
       "154383   comp99967_c0_seq1   0.871111                      \n",
       "154384   comp99970_c0_seq1   0.378111                      \n",
       "154385   comp99971_c0_seq1   0.449331                      \n",
       "154386   comp99972_c0_seq1   0.171606                      \n",
       "154387   comp99972_c0_seq2   0.204880                      \n",
       "154388   comp99973_c0_seq1   1.246140                      \n",
       "154389   comp99974_c0_seq1   0.450406                      \n",
       "154390   comp99979_c0_seq1   0.865478                      \n",
       "154391   comp99980_c0_seq1   1.058530                      \n",
       "154392   comp99980_c0_seq2   0.977787                      \n",
       "154393   comp99982_c0_seq1   0.702998                      \n",
       "154394   comp99983_c0_seq1   0.371663                      \n",
       "154395   comp99983_c1_seq1   0.573483   signal%transduction\n",
       "154396   comp99984_c0_seq1   0.112241                      \n",
       "154397   comp99985_c0_seq1   0.652150                      \n",
       "154398   comp99986_c0_seq1   0.646806                      \n",
       "154399   comp99986_c2_seq1   0.433207       stress%response\n",
       "154400   comp99988_c0_seq1   0.700512                      \n",
       "154401   comp99988_c0_seq2   0.813388                      \n",
       "154402   comp99991_c0_seq1   0.489710                      \n",
       "154403   comp99995_c0_seq1   0.167899                      \n",
       "154404   comp99996_c0_seq1   1.306470    protein%metabolism\n",
       "154405   comp99996_c2_seq1   1.171900    protein%metabolism\n",
       "154406   comp99998_c0_seq1   0.583681                      \n",
       "\n",
       "[154407 rows x 3 columns]"
      ]
     },
     "execution_count": 98,
     "metadata": {},
     "output_type": "execute_result"
    }
   ],
   "source": [
    "CpG"
   ]
  },
  {
   "cell_type": "code",
   "execution_count": 99,
   "metadata": {
    "collapsed": false
   },
   "outputs": [],
   "source": [
    "%matplotlib inline\n"
   ]
  },
  {
   "cell_type": "code",
   "execution_count": 100,
   "metadata": {
    "collapsed": false
   },
   "outputs": [],
   "source": [
    "import matplotlib.pyplot as plt "
   ]
  },
  {
   "cell_type": "code",
   "execution_count": 106,
   "metadata": {
    "collapsed": false,
    "scrolled": true
   },
   "outputs": [
    {
     "data": {
      "text/plain": [
       "[0.4, 0.7, 0, 15]"
      ]
     },
     "execution_count": 106,
     "metadata": {},
     "output_type": "execute_result"
    },
    {
     "data": {
      "image/png": "[encoded data removed]",
      "text/plain": [
       "<matplotlib.figure.Figure at 0x10d3d7110>"
      ]
     },
     "metadata": {},
     "output_type": "display_data"
    }
   ],
   "source": [
    "CpG.groupby(2)[1].mean().plot(kind='barh', color=list('ybg'))\n",
    "plt.axis([0.4, 0.7, 0, 15])"
   ]
  },
  {
   "cell_type": "code",
   "execution_count": 107,
   "metadata": {
    "collapsed": false
   },
   "outputs": [
    {
     "data": {
      "text/plain": [
       "[0, 1.5, 0, 1.9]"
      ]
     },
     "execution_count": 107,
     "metadata": {},
     "output_type": "execute_result"
    },
    {
     "data": {
      "image/png": "[encoded data removed]",
      "text/plain": [
       "<matplotlib.figure.Figure at 0x10ba2c590>"
      ]
     },
     "metadata": {},
     "output_type": "display_data"
    }
   ],
   "source": [
    "# pandas density plot\n",
    "CpG[1].plot(kind='kde', linewidth=3);\n",
    "plt.axis([0, 1.5, 0, 1.9])"
   ]
  },
  {
   "cell_type": "code",
   "execution_count": null,
   "metadata": {
    "collapsed": true
   },
   "outputs": [],
   "source": []
  }
 ],
 "metadata": {
  "kernelspec": {
   "display_name": "Python 2",
   "language": "python",
   "name": "python2"
  },
  "language_info": {
   "codemirror_mode": {
    "name": "ipython",
    "version": 2
   },
   "file_extension": ".py",
   "mimetype": "text/x-python",
   "name": "python",
   "nbconvert_exporter": "python",
   "pygments_lexer": "ipython2",
   "version": "2.7.10"
  }
 },
 "nbformat": 4,
 "nbformat_minor": 0
}
