{
 "cells": [
  {
   "cell_type": "markdown",
   "metadata": {
    "button": false,
    "collapsed": true,
    "deletable": true,
    "new_sheet": false,
    "run_control": {
     "read_only": false
    }
   },
   "source": [
    "# Examing SAM/BAM file for SNPs"
   ]
  },
  {
   "cell_type": "markdown",
   "metadata": {
    "run_control": {}
   },
   "source": [
    "Using the bowtie output of trinity as starting point"
   ]
  },
  {
   "cell_type": "markdown",
   "metadata": {
    "run_control": {}
   },
   "source": [
    "Uploaded file to iPlant\n",
    "\n",
    "```\n",
    "The status of url_import_bowtie.nameSorted.sam has changed to Completed.\n",
    "\n",
    "Description:\n",
    "URL Import of bowtie.nameSorted.sam from http://eagle.fish.washington.edu/cnidarian/Geo-trinity/trinity_out_dir/bowtie.nameSorted.sam\n",
    "\n",
    "Start Date: 2015-10-29T12:03:22.383Z\n",
    "Results Folder: /iplant/home/sr320/CICESE-btea\n",
    "```"
   ]
  },
  {
   "cell_type": "markdown",
   "metadata": {
    "run_control": {}
   },
   "source": [
    "Converted to BAM\n",
    "\n",
    "![pic](https://www.evernote.com/l/AApyDcZtHVZB1LyLYce7cmMovAxBS2cJ16QB/image.png)"
   ]
  },
  {
   "cell_type": "code",
   "execution_count": null,
   "metadata": {
    "collapsed": true,
    "run_control": {}
   },
   "outputs": [],
   "source": []
  }
 ],
 "metadata": {
  "kernelspec": {
   "display_name": "Python 3",
   "language": "python",
   "name": "python3"
  },
  "language_info": {
   "codemirror_mode": {
    "name": "ipython",
    "version": 3
   },
   "file_extension": ".py",
   "mimetype": "text/x-python",
   "name": "python",
   "nbconvert_exporter": "python",
   "pygments_lexer": "ipython3",
   "version": "3.5.0"
  }
 },
 "nbformat": 4,
 "nbformat_minor": 0
}
