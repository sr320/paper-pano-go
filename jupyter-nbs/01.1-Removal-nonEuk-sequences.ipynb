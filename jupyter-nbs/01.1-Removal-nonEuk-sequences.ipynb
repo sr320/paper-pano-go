{
 "cells": [
  {
   "cell_type": "markdown",
   "metadata": {},
   "source": [
    "# Removing Bacterial etc Sequences from Transcriptome"
   ]
  },
  {
   "cell_type": "code",
   "execution_count": 2,
   "metadata": {
    "collapsed": false
   },
   "outputs": [
    {
     "name": "stdout",
     "output_type": "stream",
     "text": [
      "comp7_c0_seq1\t\tTTAACCAAGGTGTGACGCCGACGCAAGGGTGAGTAGAATAGCTCTGTTTATTATCCGAATAGTCGAGCTAAAAACACAAAGAATAAAGGTTTAACAGTTCTATCTGAAATATATATTTGGATATCTATTGGTAAGGATACGTTTTATATTAAAAACAAACAATTTATAAAGCGCTCTCGCACCTTGTTTTTGCATTATGAGCATATACAT\r\n",
      "comp30_c0_seq1\t\tAAGAAAATTGATTTGAAATTGACTCTGCTTGAATAGAAAAAAATGTTTTGTTCTTTTTTTCGAAGTGTAAATTGTAAATTACTTTATTAAAAAATTCATAGTTTCCGGGCAAGTTATTTTTAATATATTGTAAATGTTGTCATTCAGAGGTTTGTTACGAATATATTGTTTGACAGACATGCTACTGTTGTACTACTATTG\r\n",
      "comp35_c0_seq1\t\tGAAAATAAAAGTATGATGGTCACACAATGTTATCCGTTATCCAATCAAAATGTCTAATTGGAAAGAAAAACATCATTTTAACTGTAAATTTTCTATTGAACTGAAGTAGTGGGGATATATCTATCTACAAATTATGAAGATATGCGATTGAACATCTTTGCATAGCAAGAGAAATATCAGACAGCAAACAGTAAATAGATGACGTGGAA\r\n"
     ]
    }
   ],
   "source": [
    "!head -3 analyses/Geoduck-transcriptome-v2.tab"
   ]
  },
  {
   "cell_type": "code",
   "execution_count": 5,
   "metadata": {
    "collapsed": false
   },
   "outputs": [
    {
     "name": "stdout",
     "output_type": "stream",
     "text": [
      "comp190_c0_seq1\tgi\t315593157\tgb\tCP002417.1\t\t84.50\t200\t31\t0\t1\t200\t2271015\t2271214\t1e-47\t  198\tBacteria\tVariovorax paradoxus EPS, complete genome\t595537\tVariovorax paradoxus EPS\tVariovorax paradoxus EPS\tb-proteobacteria\r\n",
      "comp1900_c0_seq1\tgi\t481319564\tgb\tCP003293.1\t\t100.00\t271\t0\t0\t1\t271\t1334370\t1334640\t1e-138\t  501\tBacteria\tPropionibacterium acnes HL096PA1, complete genome\t1134454\tPropionibacterium acnes HL096PA1\tPropionibacterium acnes HL096PA1\thigh GC Gram+\r\n",
      "comp2164_c0_seq1\tgi\t221728669\tgb\tCP001392.1\t\t98.47\t261\t4\t0\t1\t261\t721134\t721394\t2e-126\t  460\tBacteria\tAcidovorax ebreus TPSY, complete genome\t535289\tAcidovorax ebreus TPSY\tAcidovorax ebreus TPSY\tb-proteobacteria\r\n",
      "comp2742_c0_seq1\tgi\t527256352\tref\tXM_005146392.1\t\t85.65\t230\t33\t0\t16\t245\t2293\t2522\t7e-61\t  243\tEukaryota\tPREDICTED: Melopsittacus undulatus exostosin-like glycosyltransferase 3 (EXTL3), mRNA\t13146\tMelopsittacus undulatus\tbudgerigar\tbirds\r\n",
      "comp3315_c0_seq1\tgi\t156627645\tgb\tAC209228.1\t\t79.13\t206\t36\t6\t3\t202\t76584\t76380\t1e-28\t  135\tEukaryota\tPopulus trichocarpa clone POP075-L19, complete sequence\t3694\tPopulus trichocarpa\tblack cottonwood\teudicots\r\n"
     ]
    }
   ],
   "source": [
    "!head -5 analyses/Geoduck_v2_blastn-NT.out"
   ]
  },
  {
   "cell_type": "code",
   "execution_count": 37,
   "metadata": {
    "collapsed": false
   },
   "outputs": [],
   "source": [
    "#Lets subset above table to non Eukaryotes\n",
    "!awk -F\"\\t\" '$17 != \"Eukaryota\" {print $1, $17 ,$15}' analyses/Geoduck_v2_blastn-NT.out \\\n",
    "> Non-Eukaryota-Geoduck-v2"
   ]
  },
  {
   "cell_type": "code",
   "execution_count": null,
   "metadata": {
    "collapsed": false
   },
   "outputs": [],
   "source": [
    "!sort Non-Eukaryota-Geoduck-v2 > Non-Eukaryota-Geoduck-v2.sorted"
   ]
  },
  {
   "cell_type": "code",
   "execution_count": null,
   "metadata": {
    "collapsed": false
   },
   "outputs": [],
   "source": [
    "!sort analyses/Geoduck-transcriptome-v2.tab > analyses/Geoduck-transcriptome-v2.sorted"
   ]
  },
  {
   "cell_type": "code",
   "execution_count": null,
   "metadata": {
    "collapsed": true
   },
   "outputs": [],
   "source": [
    "!head analyses/Geoduck-transcriptome-v2.sorted"
   ]
  },
  {
   "cell_type": "code",
   "execution_count": null,
   "metadata": {
    "collapsed": true
   },
   "outputs": [],
   "source": [
    "!join analyses/Geoduck-transcriptome-v2.sorted \\\n",
    "Non-Eukaryota-Geoduck-v2.sorted | head"
   ]
  },
  {
   "cell_type": "code",
   "execution_count": null,
   "metadata": {
    "collapsed": true
   },
   "outputs": [],
   "source": []
  }
 ],
 "metadata": {
  "kernelspec": {
   "display_name": "Python 2",
   "language": "python",
   "name": "python2"
  },
  "language_info": {
   "codemirror_mode": {
    "name": "ipython",
    "version": 2
   },
   "file_extension": ".py",
   "mimetype": "text/x-python",
   "name": "python",
   "nbconvert_exporter": "python",
   "pygments_lexer": "ipython2",
   "version": "2.7.10"
  }
 },
 "nbformat": 4,
 "nbformat_minor": 0
}
