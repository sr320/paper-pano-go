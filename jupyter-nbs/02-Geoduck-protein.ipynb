{
 "cells": [
  {
   "cell_type": "markdown",
   "metadata": {
    "button": false,
    "deletable": true,
    "new_sheet": false,
    "run_control": {
     "read_only": false
    }
   },
   "source": [
    "# Deduced Protein based on Transdecoder"
   ]
  },
  {
   "cell_type": "code",
   "execution_count": 1,
   "metadata": {
    "collapsed": false,
    "run_control": {}
   },
   "outputs": [
    {
     "name": "stdout",
     "output_type": "stream",
     "text": [
      ">cds.comp100047_c0_seq1|m.5980 comp100047_c0_seq1|g.5980  ORF comp100047_c0_seq1|g.5980 comp100047_c0_seq1|m.5980 type:internal len:142 (-) comp100047_c0_seq1:3-425(-)\r\n",
      "NAECRDLYKIFTQILSVRSQEGKIVIPDEFATKIRNWLGNKEELFKEAHNQKIITFYNEY\r\n",
      "TREENTFNPIRGKRPMSVPDMPERKYIDQLSRKTQSQCDFCKYKTFTAEDTFGRIDSNFS\r\n",
      "CSASNAFKLDHWHALFLLKTH\r\n",
      ">cds.comp100068_c0_seq1|m.5981 comp100068_c0_seq1|g.5981  ORF comp100068_c0_seq1|g.5981 comp100068_c0_seq1|m.5981 type:internal len:106 (-) comp100068_c0_seq1:1-315(-)\r\n",
      "LFLDKSGKRICSFNNLTAVIEKATERASRIRLAKGLSQPKYLSCGNVDKVPAPGYLTASF\r\n",
      "TQLSVNKTRKDKGRNHLLLWDQTSSYSYIGPGIHYKDGKIRVNTT\r\n",
      ">cds.comp100097_c0_seq1|m.5982 comp100097_c0_seq1|g.5982  ORF comp100097_c0_seq1|g.5982 comp100097_c0_seq1|m.5982 type:internal len:227 (+) comp100097_c0_seq1:2-679(+)\r\n",
      "GTENLRICLKVIETYLLLGPREFLELYSGDLVHSLSNLLSDLRTEGVLLVLRVIELVLKS\r\n",
      "FPTEGPALFKSMLPEFLRAVLNKDEHPVVMSLYLTLFGRIVLQNQEFFWNFLDQMAMESH\r\n"
     ]
    }
   ],
   "source": [
    "!head ../data-results/Geoduck-transcriptome-v2.transdecoder.pep"
   ]
  },
  {
   "cell_type": "code",
   "execution_count": 3,
   "metadata": {
    "collapsed": false,
    "run_control": {}
   },
   "outputs": [
    {
     "name": "stdout",
     "output_type": "stream",
     "text": [
      "/bin/sh: ../scripts/count_fasta.pl: Permission denied\r\n"
     ]
    }
   ],
   "source": [
    "! ../scripts/count_fasta.pl \\\n",
    "-i 1000 \\\n",
    "../data-results/Geoduck-transcriptome-v2.transdecoder.pep"
   ]
  },
  {
   "cell_type": "code",
   "execution_count": 4,
   "metadata": {
    "collapsed": false,
    "run_control": {}
   },
   "outputs": [
    {
     "name": "stdout",
     "output_type": "stream",
     "text": [
      "35951\r\n"
     ]
    }
   ],
   "source": [
    "!fgrep -c \">\" ../data-results/Geoduck-transcriptome-v2.transdecoder.pep"
   ]
  },
  {
   "cell_type": "code",
   "execution_count": null,
   "metadata": {
    "collapsed": true,
    "run_control": {}
   },
   "outputs": [],
   "source": []
  }
 ],
 "metadata": {
  "kernelspec": {
   "display_name": "Python 3",
   "language": "python",
   "name": "python3"
  },
  "language_info": {
   "codemirror_mode": {
    "name": "ipython",
    "version": 3
   },
   "file_extension": ".py",
   "mimetype": "text/x-python",
   "name": "python",
   "nbconvert_exporter": "python",
   "pygments_lexer": "ipython3",
   "version": "3.5.0"
  }
 },
 "nbformat": 4,
 "nbformat_minor": 0
}
