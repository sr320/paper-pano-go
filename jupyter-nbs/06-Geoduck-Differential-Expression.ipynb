{
 "cells": [
  {
   "cell_type": "markdown",
   "metadata": {},
   "source": [
    "# Attempting to do within Trinity"
   ]
  },
  {
   "cell_type": "markdown",
   "metadata": {},
   "source": [
    "See https://github.com/trinityrnaseq/trinityrnaseq/wiki/Trinity-Differential-Expression"
   ]
  },
  {
   "cell_type": "raw",
   "metadata": {},
   "source": [
    "```\n",
    "hummingbird:hummingbird-ipython-nbs steven$ /Users/gilesg/compile/trinityrnaseq_r20131110/Analysis/DifferentialExpression/run_DE_analysis.pl -help\n",
    "Unknown option: e\n",
    "Unknown option: l\n",
    "Unknown option: p\n",
    "\n",
    "\n",
    "#################################################################################################\n",
    "#\n",
    "#  Required:\n",
    "#\n",
    "#  --matrix <string>               matrix of raw read counts (not normalized!)\n",
    "#\n",
    "#  --method <string>               edgeR|DESeq   (DESeq only supported here w/ bio replicates)\n",
    "#\n",
    "#\n",
    "#  Optional:\n",
    "#\n",
    "#  --samples_file <string>         tab-delimited text file indicating biological replicate relationships.\n",
    "#                                   ex.\n",
    "#                                        cond_A    cond_A_rep1\n",
    "#                                        cond_A    cond_A_rep2\n",
    "#                                        cond_B    cond_B_rep1\n",
    "#                                        cond_B    cond_B_rep2\n",
    "#\n",
    "#\n",
    "#  General options:\n",
    "#\n",
    "#  --min_rowSum_counts <int>       default: 10  (only those rows of matrix meeting requirement will be tested)\n",
    "#\n",
    "#  --output|o                      aname of directory to place outputs (default: $method.$pid.dir)\n",
    "#\n",
    "###############################################################################################\n",
    "#\n",
    "#  ## EdgeR-related parameters\n",
    "#  ## (no biological replicates)\n",
    "#\n",
    "#  --dispersion <float>            edgeR dispersion value (default: 0.1)   set to 0 for poisson (sometimes breaks...)\n",
    "#\n",
    "#  http://www.bioconductor.org/packages/release/bioc/html/edgeR.html\n",
    "#\n",
    "###############################################################################################\n",
    "#\n",
    "#  ## DE-Seq related parameters\n",
    "#\n",
    "#  --DESEQ_method <string>         \"pooled\", \"pooled-CR\", \"per-condition\", \"blind\" \n",
    "#  --DESEQ_sharingMode <string>    \"maximum\", \"fit-only\", \"gene-est-only\"   \n",
    "#  --DESEQ_fitType <string>        fitType = c(\"parametric\", \"local\")\n",
    "#\n",
    "#  ## (no biological replicates)\n",
    "#        note: FIXED as: method=blind, sharingMode=fit-only\n",
    "#       \n",
    "#  http://www.bioconductor.org/packages/release/bioc/html/DESeq.html\n",
    "#\n",
    "################################################################################################\n",
    "\n",
    "```\n"
   ]
  },
  {
   "cell_type": "code",
   "execution_count": null,
   "metadata": {
    "collapsed": true
   },
   "outputs": [],
   "source": []
  }
 ],
 "metadata": {
  "kernelspec": {
   "display_name": "Python 2",
   "language": "python",
   "name": "python2"
  },
  "language_info": {
   "codemirror_mode": {
    "name": "ipython",
    "version": 2
   },
   "file_extension": ".py",
   "mimetype": "text/x-python",
   "name": "python",
   "nbconvert_exporter": "python",
   "pygments_lexer": "ipython2",
   "version": "2.7.10"
  }
 },
 "nbformat": 4,
 "nbformat_minor": 0
}
