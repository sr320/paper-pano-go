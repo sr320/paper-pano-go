{
 "cells": [
  {
   "cell_type": "code",
   "execution_count": 21,
   "metadata": {
    "collapsed": false
   },
   "outputs": [
    {
     "name": "stdout",
     "output_type": "stream",
     "text": [
      "../data-results/Geoduck-transcriptome_v3_bigtable_v08.csv\r\n",
      "../data-results/Geoduck-transcriptome_v3_bigtable_v08.tab\r\n",
      "../data-results/Geoduck-transcriptome_v3_bigtablefinal.csv.zip\r\n"
     ]
    }
   ],
   "source": [
    "ls ../data-results/Geoduck-transcriptome_v3_bigtable*"
   ]
  },
  {
   "cell_type": "code",
   "execution_count": 28,
   "metadata": {
    "collapsed": false
   },
   "outputs": [
    {
     "name": "stdout",
     "output_type": "stream",
     "text": [
      "ContigID\tlength\tGC_content\tCpG_o/e\tmale_unique_count\tfemale_unique_count\tsex-based_expresssion\tBlastx_UniProt_Acc\tEntryName\tProteinName\tOrganism\tEvalue\tGene_Ontology_ID\tGene_Ontology\tPFAM\tBlastn_Gigaton-ID\tevalue-Gigaton\tBlastn_Ruphibase-ID\tevalue-Ruphibase\tBlastn_Sigenae-ID\tevalue-Sigenae\tDheilly_Cluster\tDheilly_Tissue-enriched-expression\r\n"
     ]
    }
   ],
   "source": [
    "!head -1 ../data-results/Geoduck-transcriptome_v3_bigtable_v08.tab"
   ]
  },
  {
   "cell_type": "code",
   "execution_count": 23,
   "metadata": {
    "collapsed": false
   },
   "outputs": [
    {
     "name": "stdout",
     "output_type": "stream",
     "text": [
      "  153982 ../data-results/Geoduck-transcriptome_v3_bigtable_v08.tab\r\n"
     ]
    }
   ],
   "source": [
    "!wc -l \\\n",
    "../data-results/Geoduck-transcriptome_v3_bigtable_v08.tab"
   ]
  },
  {
   "cell_type": "code",
   "execution_count": 27,
   "metadata": {
    "collapsed": false
   },
   "outputs": [
    {
     "name": "stdout",
     "output_type": "stream",
     "text": [
      "ContigID\n",
      "comp137246_c1_seq26\n",
      "comp142515_c0_seq2\n",
      "comp116682_c1_seq2\n",
      "comp141240_c0_seq5\n",
      "comp127090_c0_seq1\n",
      "comp124055_c0_seq3\n",
      "comp142437_c1_seq3\n",
      "comp143196_c0_seq1\n",
      "comp143573_c0_seq1\n",
      "awk: write error on /dev/stdout\n",
      " input record number 1741, file ../data-results/Geoduck-transcriptome_v3_bigtable_v08.tab\n",
      " source line number 1\n"
     ]
    }
   ],
   "source": [
    "!awk '{print $1}' ../data-results/Geoduck-transcriptome_v3_bigtable_v08.tab \\\n",
    "| head"
   ]
  },
  {
   "cell_type": "code",
   "execution_count": 38,
   "metadata": {
    "collapsed": false
   },
   "outputs": [
    {
     "name": "stdout",
     "output_type": "stream",
     "text": [
      "\r\n",
      "female\r\n",
      "female>male\r\n",
      "male\r\n",
      "male>female\r\n",
      "sex-based_expresssion\r\n"
     ]
    }
   ],
   "source": [
    "!awk -F $'\\t' '{print $7}' ../data-results/Geoduck-transcriptome_v3_bigtable_v08.tab \\\n",
    "| sort | head"
   ]
  },
  {
   "cell_type": "code",
   "execution_count": 14,
   "metadata": {
    "collapsed": false
   },
   "outputs": [
    {
     "name": "stdout",
     "output_type": "stream",
     "text": [
      "  153982 ../data-results/Geoduck-transcriptome_v3_bigtable_v08.csv\n",
      "^C\n"
     ]
    }
   ],
   "source": [
    "#sex-based expression\n",
    "!cut -f7 | fgrep \"female\" | wc -l \\\n",
    "../data-results/Geoduck-transcriptome_v3_bigtable_v08.csv"
   ]
  },
  {
   "cell_type": "code",
   "execution_count": null,
   "metadata": {
    "collapsed": true
   },
   "outputs": [],
   "source": []
  }
 ],
 "metadata": {
  "kernelspec": {
   "display_name": "Python 2",
   "language": "python",
   "name": "python2"
  },
  "language_info": {
   "codemirror_mode": {
    "name": "ipython",
    "version": 2
   },
   "file_extension": ".py",
   "mimetype": "text/x-python",
   "name": "python",
   "nbconvert_exporter": "python",
   "pygments_lexer": "ipython2",
   "version": "2.7.12"
  }
 },
 "nbformat": 4,
 "nbformat_minor": 0
}
