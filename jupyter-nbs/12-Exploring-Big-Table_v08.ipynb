{
 "cells": [
  {
   "cell_type": "code",
   "execution_count": 2,
   "metadata": {
    "collapsed": false
   },
   "outputs": [
    {
     "name": "stdout",
     "output_type": "stream",
     "text": [
      "../data-results/Geoduck-transcriptome_v3_bigtable_v08.csv\r\n",
      "../data-results/Geoduck-transcriptome_v3_bigtablefinal.csv.zip\r\n"
     ]
    }
   ],
   "source": [
    "ls ../data-results/Geoduck-transcriptome_v3_bigtable*"
   ]
  },
  {
   "cell_type": "code",
   "execution_count": 4,
   "metadata": {
    "collapsed": false
   },
   "outputs": [
    {
     "name": "stdout",
     "output_type": "stream",
     "text": [
      "ContigID,length,GC_content,CpG_o/e,male_unique_count,female_unique_count,sex-based_expresssion,Blastx_UniProt_Acc,EntryName,ProteinName,Organism,Evalue,Gene_Ontology_ID,Gene_Ontology,PFAM,Blastn_Gigaton-ID,evalue-Gigaton,Blastn_Ruphibase-ID,evalue-Ruphibase,Blastn_Sigenae-ID,evalue-Sigenae,Dheilly_Cluster,Dheilly_Tissue-enriched-expression\r\n",
      "comp137246_c1_seq26,1458,45.4047,0.71921162,0,0,,P12716,ACTC_PISOC,\"Actin, cytoplasmic\",Pisaster ochraceus (Ochre sea star) (Asterias ochracea),0,GO:0005524; GO:0005737; GO:0005856,ATP binding; cytoplasm; cytoskeleton,PF00022;,CHOYP_LOC101072885.1.1,0,ruditapes_lrc32388,0,CU684679.p.cg.6,3.00E-64,1,\r\n"
     ]
    }
   ],
   "source": [
    "!head -2 ../data-results/Geoduck-transcriptome_v3_bigtable_v08.csv"
   ]
  },
  {
   "cell_type": "code",
   "execution_count": 7,
   "metadata": {
    "collapsed": false
   },
   "outputs": [
    {
     "name": "stdout",
     "output_type": "stream",
     "text": [
      "  153982 ../data-results/Geoduck-transcriptome_v3_bigtable_v08.csv\r\n"
     ]
    }
   ],
   "source": [
    "!wc -l \\\n",
    "../data-results/Geoduck-transcriptome_v3_bigtable_v08.csv"
   ]
  },
  {
   "cell_type": "code",
   "execution_count": 16,
   "metadata": {
    "collapsed": false
   },
   "outputs": [
    {
     "name": "stdout",
     "output_type": "stream",
     "text": [
      "ContigID,length,GC_content,CpG_o/e,male_unique_count,female_unique_count,sex-based_expresssion,Blastx_UniProt_Acc,EntryName,ProteinName,Organism,Evalue,Gene_Ontology_ID,Gene_Ontology,PFAM,Blastn_Gigaton-ID,evalue-Gigaton,Blastn_Ruphibase-ID,evalue-Ruphibase,Blastn_Sigenae-ID,evalue-Sigenae,Dheilly_Cluster,Dheilly_Tissue-enriched-expression\n",
      "comp137246_c1_seq26,1458,45.4047,0.71921162,0,0,,P12716,ACTC_PISOC,\"Actin, cytoplasmic\",Pisaster ochraceus (Ochre sea star) (Asterias ochracea),0,GO:0005524; GO:0005737; GO:0005856,ATP binding; cytoplasm; cytoskeleton,PF00022;,CHOYP_LOC101072885.1.1,0,ruditapes_lrc32388,0,CU684679.p.cg.6,3.00E-64,1,\n",
      "comp142515_c0_seq2,5369,38.8527,0.52465914,3714,10670,,P18091,ACTN_DROME,\"Alpha-actinin, sarcomeric (F-actin cross-linking protein)\",Drosophila melanogaster (Fruit fly),0,GO:0030018; GO:0003779; GO:0031532; GO:0005509; GO:0007016; GO:0007629; GO:0005925; GO:0045214,Z disc; actin binding; actin cytoskeleton reorganization; calcium ion binding; cytoskeletal anchoring at plasma membrane; flight behavior; focal adhesion; sarcomere organization,PF00307;PF13405;PF08726;PF00435;,CHOYP_ACTN.1.2,0,ruditapes_c13583,0,CU683354.p.cg.6,0,1,\n",
      "comp116682_c1_seq2,701,45.6491,0.52563654,31,15,,P0CY46,EGFR_APIME,Epidermal growth factor receptor (Egfr) (EC 2.7.10.1),Apis mellifera (Honeybee),1.00E-97,GO:0005524; GO:0016021; GO:0007275; GO:0018108; GO:0004714; GO:0007169,ATP binding; integral to membrane; multicellular organismal development; peptidyl-tyrosine phosphorylation; transmembrane receptor protein tyrosine kinase activity; transmembrane receptor protein tyrosine kinase signaling pathway,PF00757;PF14843;PF07714;PF01030;,CHOYP_EGFR.1.3,1.00E-88,,,EW778003.p.cg.6,1.00E-71,1,\n",
      "comp141240_c0_seq5,4445,41.5973,0.51757861,3,0,,Q96PY5,FMNL2_HUMAN,Formin-like protein 2 (Formin homology 2 domain-containing protein 2),Homo sapiens (Human),7.00E-142,GO:0030866; GO:0005737; GO:0022604,cortical actin cytoskeleton organization; cytoplasm; regulation of cell morphogenesis,PF06367;PF06371;PF02181;,CHOYP_ISCW_ISCW017809.2.2,0,,,FP010851.p.cg.6,5.00E-71,1,\n",
      "comp127090_c0_seq1,3402,39.3592,0.97990365,1435,6899,,Q13887,KLF5_HUMAN,Krueppel-like factor 5 (Basic transcription element-binding protein 2) (BTE-binding protein 2) (Colon krueppel-like factor) (GC-box-binding protein 2) (Intestinal-enriched krueppel-like factor) (Transcription factor BTEB2),Homo sapiens (Human),5.00E-49,GO:0003677; GO:0005794; GO:0001525; GO:0046872; GO:0030033; GO:0005634; GO:0045893; GO:0003700; GO:0035914; GO:0006366,\"DNA binding; Golgi apparatus; angiogenesis; metal ion binding; microvillus assembly; nucleus; positive regulation of transcription, DNA-dependent; sequence-specific DNA binding transcription factor activity; skeletal muscle cell differentiation; transcription from RNA polymerase II promoter\",PF00096;,CHOYP_EF1A.4.4,8.00E-81,,,DW713853.p.cg.6,4.00E-80,1,\n",
      "comp124055_c0_seq3,6718,46.0107,0.72510342,41,1029,,P24733,MYS_AEQIR,\"Myosin heavy chain, striated muscle\",Argopecten irradians (Bay scallop) (Aequipecten irradians),0,GO:0005524; GO:0003774; GO:0030016; GO:0032982,ATP binding; motor activity; myofibril; myosin filament,PF00063;PF02736;PF01576;,CHOYP_MYS.2.7,0,ruditapes_c29187,3.00E-125,CU686207.p.cg.6,6.00E-151,1,adductor muscle\n",
      "comp142437_c1_seq3,2126,39.6049,0.40816819,118,112,,Q6GYQ0,RGPA1_HUMAN,Ral GTPase-activating protein subunit alpha-1 (GAP-related-interacting partner to E12) (GRIPE) (GTPase-activating Rap/Ran-GAP domain-like 1) (Tuberin-like protein 1) (p240),Homo sapiens (Human),3.00E-128,GO:0017123; GO:0032859; GO:0005829; GO:0005739; GO:0005634; GO:0006355,\"Ral GTPase activator activity; activation of Ral GTPase activity; cytosol; mitochondrion; nucleus; regulation of transcription, DNA-dependent\",PF02145;,CHOYP_RGPA1.1.1,7.00E-136,,,AM864624.p.cg.6,1.00E-70,1,\n",
      "comp143196_c0_seq1,2564,41.5757,0.54180038,1180,6203,,P00432,CATA_BOVIN,Catalase (EC 1.11.1.6),Bos taurus (Bovine),0,GO:0050661; GO:0009650; GO:0009060; GO:0004046; GO:0004096; GO:0008203; GO:0020037; GO:0020027; GO:0042744; GO:0046872; GO:0005739; GO:0032088; GO:0043066; GO:0005778; GO:0051092; GO:0051781; GO:0014068; GO:0051289; GO:0006641,NADP binding; UV protection; aerobic respiration; aminoacylase activity; catalase activity; cholesterol metabolic process; heme binding; hemoglobin metabolic process; hydrogen peroxide catabolic process; metal ion binding; mitochondrion; negative regulation of NF-kappaB transcription factor activity; negative regulation of apoptotic process; peroxisomal membrane; positive regulation of NF-kappaB transcription factor activity; positive regulation of cell division; positive regulation of phosphatidylinositol 3-kinase cascade; protein homotetramerization; triglyceride metabolic process,PF00199;PF06628;,CHOYP_CAT.1.1,0,ruditapes2_c1441,3.00E-25,EF687775.p.cg.6,0,2,\n",
      "comp143573_c0_seq1,4514,43.0882,0.51721178,794,8891,,P35224,CTNB_URECA,Catenin beta (Beta-catenin),Urechis caupo (Innkeeper worm) (Spoonworm),0,GO:0007155; GO:0005737; GO:0005856,cell adhesion; cytoplasm; cytoskeleton,PF00514;,CHOYP_ATC1.1.1,0,,,EW778397.p.cg.6,0,2,female gonad\n",
      "^C\n"
     ]
    }
   ],
   "source": [
    "!cut -f1 | sort | uniq | head \\\n",
    "../data-results/Geoduck-transcriptome_v3_bigtable_v08.csv"
   ]
  },
  {
   "cell_type": "code",
   "execution_count": 9,
   "metadata": {
    "collapsed": false
   },
   "outputs": [
    {
     "name": "stdout",
     "output_type": "stream",
     "text": [
      "  153982 ../data-results/Geoduck-transcriptome_v3_bigtable_v08.csv\n",
      "^C\n"
     ]
    }
   ],
   "source": [
    "!cut -f1 | sort | uniq | wc -l \\\n",
    "../data-results/Geoduck-transcriptome_v3_bigtable_v08.csv"
   ]
  },
  {
   "cell_type": "code",
   "execution_count": 14,
   "metadata": {
    "collapsed": false
   },
   "outputs": [
    {
     "name": "stdout",
     "output_type": "stream",
     "text": [
      "  153982 ../data-results/Geoduck-transcriptome_v3_bigtable_v08.csv\n",
      "^C\n"
     ]
    }
   ],
   "source": [
    "#sex-based expression\n",
    "!cut -f7 | fgrep \"female\" | wc -l \\\n",
    "../data-results/Geoduck-transcriptome_v3_bigtable_v08.csv"
   ]
  },
  {
   "cell_type": "code",
   "execution_count": null,
   "metadata": {
    "collapsed": true
   },
   "outputs": [],
   "source": []
  }
 ],
 "metadata": {
  "kernelspec": {
   "display_name": "Python 2",
   "language": "python",
   "name": "python2"
  },
  "language_info": {
   "codemirror_mode": {
    "name": "ipython",
    "version": 2
   },
   "file_extension": ".py",
   "mimetype": "text/x-python",
   "name": "python",
   "nbconvert_exporter": "python",
   "pygments_lexer": "ipython2",
   "version": "2.7.12"
  }
 },
 "nbformat": 4,
 "nbformat_minor": 0
}
