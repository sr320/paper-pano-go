{
 "cells": [
  {
   "cell_type": "code",
   "execution_count": 21,
   "metadata": {
    "collapsed": false
   },
   "outputs": [
    {
     "name": "stdout",
     "output_type": "stream",
     "text": [
      "../data-results/Geoduck-transcriptome_v3_bigtable_v08.csv\r\n",
      "../data-results/Geoduck-transcriptome_v3_bigtable_v08.tab\r\n",
      "../data-results/Geoduck-transcriptome_v3_bigtablefinal.csv.zip\r\n"
     ]
    }
   ],
   "source": [
    "ls ../data-results/Geoduck-transcriptome_v3_bigtable*"
   ]
  },
  {
   "cell_type": "code",
   "execution_count": 40,
   "metadata": {
    "collapsed": false
   },
   "outputs": [
    {
     "name": "stdout",
     "output_type": "stream",
     "text": [
      "ContigID\tlength\tGC_content\tCpG_o/e\tmale_unique_count\tfemale_unique_count\tsex-based_expresssion\tBlastx_UniProt_Acc\tEntryName\tProteinName\tOrganism\tEvalue\tGene_Ontology_ID\tGene_Ontology\tPFAM\tBlastn_Gigaton-ID\tevalue-Gigaton\tBlastn_Ruphibase-ID\tevalue-Ruphibase\tBlastn_Sigenae-ID\tevalue-Sigenae\tDheilly_Cluster\tDheilly_Tissue-enriched-expression\r\n",
      "comp137246_c1_seq26\t1458\t45.4047\t0.71921162\t0\t0\t\tP12716\tACTC_PISOC\t\"Actin, cytoplasmic\"\tPisaster ochraceus (Ochre sea star) (Asterias ochracea)\t0\tGO:0005524; GO:0005737; GO:0005856\tATP binding; cytoplasm; cytoskeleton\tPF00022;\tCHOYP_LOC101072885.1.1\t0\truditapes_lrc32388\t0\tCU684679.p.cg.6\t3.00E-64\t1\t\r\n"
     ]
    }
   ],
   "source": [
    "!head -2 ../data-results/Geoduck-transcriptome_v3_bigtable_v08.tab"
   ]
  },
  {
   "cell_type": "code",
   "execution_count": 43,
   "metadata": {
    "collapsed": false
   },
   "outputs": [
    {
     "name": "stdout",
     "output_type": "stream",
     "text": [
      "  153982 ../data-results/Geoduck-transcriptome_v3_bigtable_v08.tab\r\n"
     ]
    }
   ],
   "source": [
    "!wc -l \\\n",
    "../data-results/Geoduck-transcriptome_v3_bigtable_v08.tab"
   ]
  },
  {
   "cell_type": "code",
   "execution_count": 4,
   "metadata": {
    "collapsed": false
   },
   "outputs": [
    {
     "name": "stdout",
     "output_type": "stream",
     "text": [
      "  153983\r\n"
     ]
    }
   ],
   "source": [
    "!awk -F $'\\t' '{print $1}' ../data-results/Geoduck-transcriptome_v3_bigtable_v08.tab \\\n",
    "| sort | uniq | wc -l"
   ]
  },
  {
   "cell_type": "code",
   "execution_count": 12,
   "metadata": {
    "collapsed": false
   },
   "outputs": [
    {
     "name": "stdout",
     "output_type": "stream",
     "text": [
      "   22975\r\n"
     ]
    }
   ],
   "source": [
    "#SP\n",
    "!awk -F $'\\t' '{print $8}' ../data-results/Geoduck-transcriptome_v3_bigtable_v08.tab \\\n",
    "| sed '/^$/d' | wc -l"
   ]
  },
  {
   "cell_type": "code",
   "execution_count": 13,
   "metadata": {
    "collapsed": false
   },
   "outputs": [
    {
     "name": "stdout",
     "output_type": "stream",
     "text": [
      "   21683\r\n"
     ]
    }
   ],
   "source": [
    "#GO\n",
    "!awk -F $'\\t' '{print $13}' ../data-results/Geoduck-transcriptome_v3_bigtable_v08.tab \\\n",
    "| sed '/^$/d' | wc -l"
   ]
  },
  {
   "cell_type": "code",
   "execution_count": 16,
   "metadata": {
    "collapsed": false
   },
   "outputs": [
    {
     "name": "stdout",
     "output_type": "stream",
     "text": [
      "Gene_Ontology_ID\r\n",
      "GO:0005524; GO:0005737; GO:0005856\r\n",
      "GO:0030018; GO:0003779; GO:0031532; GO:0005509; GO:0007016; GO:0007629; GO:0005925; GO:0045214\r\n",
      "GO:0005524; GO:0016021; GO:0007275; GO:0018108; GO:0004714; GO:0007169\r\n",
      "GO:0030866; GO:0005737; GO:0022604\r\n",
      "GO:0003677; GO:0005794; GO:0001525; GO:0046872; GO:0030033; GO:0005634; GO:0045893; GO:0003700; GO:0035914; GO:0006366\r\n",
      "GO:0005524; GO:0003774; GO:0030016; GO:0032982\r\n",
      "GO:0017123; GO:0032859; GO:0005829; GO:0005739; GO:0005634; GO:0006355\r\n",
      "GO:0050661; GO:0009650; GO:0009060; GO:0004046; GO:0004096; GO:0008203; GO:0020037; GO:0020027; GO:0042744; GO:0046872; GO:0005739; GO:0032088; GO:0043066; GO:0005778; GO:0051092; GO:0051781; GO:0014068; GO:0051289; GO:0006641\r\n",
      "GO:0007155; GO:0005737; GO:0005856\r\n",
      "sed: stdout: Broken pipe\r\n",
      "awk: write error on /dev/stdout\r\n",
      " input record number 823, file ../data-results/Geoduck-transcriptome_v3_bigtable_v08.tab\r\n",
      " source line number 1\r\n"
     ]
    }
   ],
   "source": [
    "#GO\n",
    "!awk -F $'\\t' '{print $13}' ../data-results/Geoduck-transcriptome_v3_bigtable_v08.tab \\\n",
    "| sed '/^$/d' | head"
   ]
  },
  {
   "cell_type": "code",
   "execution_count": 16,
   "metadata": {
    "collapsed": false
   },
   "outputs": [
    {
     "name": "stdout",
     "output_type": "stream",
     "text": [
      "Gene_Ontology_ID\r\n",
      "GO:0005524; GO:0005737; GO:0005856\r\n",
      "GO:0030018; GO:0003779; GO:0031532; GO:0005509; GO:0007016; GO:0007629; GO:0005925; GO:0045214\r\n",
      "GO:0005524; GO:0016021; GO:0007275; GO:0018108; GO:0004714; GO:0007169\r\n",
      "GO:0030866; GO:0005737; GO:0022604\r\n",
      "GO:0003677; GO:0005794; GO:0001525; GO:0046872; GO:0030033; GO:0005634; GO:0045893; GO:0003700; GO:0035914; GO:0006366\r\n",
      "GO:0005524; GO:0003774; GO:0030016; GO:0032982\r\n",
      "GO:0017123; GO:0032859; GO:0005829; GO:0005739; GO:0005634; GO:0006355\r\n",
      "GO:0050661; GO:0009650; GO:0009060; GO:0004046; GO:0004096; GO:0008203; GO:0020037; GO:0020027; GO:0042744; GO:0046872; GO:0005739; GO:0032088; GO:0043066; GO:0005778; GO:0051092; GO:0051781; GO:0014068; GO:0051289; GO:0006641\r\n",
      "GO:0007155; GO:0005737; GO:0005856\r\n",
      "sed: stdout: Broken pipe\r\n",
      "awk: write error on /dev/stdout\r\n",
      " input record number 823, file ../data-results/Geoduck-transcriptome_v3_bigtable_v08.tab\r\n",
      " source line number 1\r\n"
     ]
    }
   ],
   "source": [
    "#GO\n",
    "!awk -F $'\\t' '{print $13}' ../data-results/Geoduck-transcriptome_v3_bigtable_v08.tab \\\n",
    "| sed '/^$/d' | head"
   ]
  },
  {
   "cell_type": "code",
   "execution_count": 17,
   "metadata": {
    "collapsed": false
   },
   "outputs": [
    {
     "name": "stdout",
     "output_type": "stream",
     "text": [
      "PFAM\n",
      "PF00022;\n",
      "PF00307;PF13405;PF08726;PF00435;\n",
      "PF00757;PF14843;PF07714;PF01030;\n",
      "PF06367;PF06371;PF02181;\n",
      "PF00096;\n",
      "PF00063;PF02736;PF01576;\n",
      "PF02145;\n",
      "PF00199;PF06628;\n",
      "PF00514;\n",
      "sed: stdout: Broken pipe\n",
      "awk: write error on /dev/stdout\n",
      " input record number 4309, file ../data-results/Geoduck-transcriptome_v3_bigtable_v08.tab\n",
      " source line number 1\n"
     ]
    }
   ],
   "source": [
    "#PFAM\n",
    "!awk -F $'\\t' '{print $15}' ../data-results/Geoduck-transcriptome_v3_bigtable_v08.tab \\\n",
    "| sed '/^$/d' | head"
   ]
  },
  {
   "cell_type": "code",
   "execution_count": 18,
   "metadata": {
    "collapsed": false,
    "scrolled": true
   },
   "outputs": [
    {
     "name": "stdout",
     "output_type": "stream",
     "text": [
      "   21365\r\n"
     ]
    }
   ],
   "source": [
    "#PFAM\n",
    "!awk -F $'\\t' '{print $15}' ../data-results/Geoduck-transcriptome_v3_bigtable_v08.tab \\\n",
    "| sed '/^$/d' | wc -l"
   ]
  },
  {
   "cell_type": "code",
   "execution_count": 19,
   "metadata": {
    "collapsed": false,
    "scrolled": true
   },
   "outputs": [
    {
     "name": "stdout",
     "output_type": "stream",
     "text": [
      "Blastn_Gigaton-ID\n",
      "CHOYP_LOC101072885.1.1\n",
      "CHOYP_ACTN.1.2\n",
      "CHOYP_EGFR.1.3\n",
      "CHOYP_ISCW_ISCW017809.2.2\n",
      "CHOYP_EF1A.4.4\n",
      "CHOYP_MYS.2.7\n",
      "CHOYP_RGPA1.1.1\n",
      "CHOYP_CAT.1.1\n",
      "CHOYP_ATC1.1.1\n",
      "sed: stdout: Broken pipe\n",
      "awk: write error on /dev/stdout\n",
      " input record number 6765, file ../data-results/Geoduck-transcriptome_v3_bigtable_v08.tab\n",
      " source line number 1\n"
     ]
    }
   ],
   "source": [
    "#gigton\n",
    "!awk -F $'\\t' '{print $16}' ../data-results/Geoduck-transcriptome_v3_bigtable_v08.tab \\\n",
    "| sed '/^$/d' | head"
   ]
  },
  {
   "cell_type": "code",
   "execution_count": 20,
   "metadata": {
    "collapsed": false,
    "scrolled": true
   },
   "outputs": [
    {
     "name": "stdout",
     "output_type": "stream",
     "text": [
      "   11824\r\n"
     ]
    }
   ],
   "source": [
    "#gigaton\n",
    "!awk -F $'\\t' '{print $16}' ../data-results/Geoduck-transcriptome_v3_bigtable_v08.tab \\\n",
    "| sed '/^$/d' | wc -l"
   ]
  },
  {
   "cell_type": "code",
   "execution_count": 22,
   "metadata": {
    "collapsed": false,
    "scrolled": true
   },
   "outputs": [
    {
     "name": "stdout",
     "output_type": "stream",
     "text": [
      "Blastn_Ruphibase-ID\n",
      "ruditapes_lrc32388\n",
      "ruditapes_c13583\n",
      "ruditapes_c29187\n",
      "ruditapes2_c1441\n",
      "ruditapes_c20089\n",
      "ruditapes_c28944\n",
      "ruditapes_c4275\n",
      "ruditapes_c19472\n",
      "ruditapes_c21039\n",
      "sed: stdout: Broken pipe\n",
      "awk: write error on /dev/stdout\n",
      " input record number 49010, file ../data-results/Geoduck-transcriptome_v3_bigtable_v08.tab\n",
      " source line number 1\n"
     ]
    }
   ],
   "source": [
    "#Ruphibase\n",
    "!awk -F $'\\t' '{print $18}' ../data-results/Geoduck-transcriptome_v3_bigtable_v08.tab \\\n",
    "| sed '/^$/d' | head"
   ]
  },
  {
   "cell_type": "code",
   "execution_count": 23,
   "metadata": {
    "collapsed": false,
    "scrolled": true
   },
   "outputs": [
    {
     "name": "stdout",
     "output_type": "stream",
     "text": [
      "    2860\r\n"
     ]
    }
   ],
   "source": [
    "#ruphibase\n",
    "!awk -F $'\\t' '{print $18}' ../data-results/Geoduck-transcriptome_v3_bigtable_v08.tab \\\n",
    "| sed '/^$/d' | wc -l"
   ]
  },
  {
   "cell_type": "code",
   "execution_count": 24,
   "metadata": {
    "collapsed": false,
    "scrolled": true
   },
   "outputs": [
    {
     "name": "stdout",
     "output_type": "stream",
     "text": [
      "Dheilly_Cluster\r\n",
      "1\r\n",
      "1\r\n",
      "1\r\n",
      "1\r\n",
      "1\r\n",
      "1\r\n",
      "1\r\n",
      "2\r\n",
      "2\r\n"
     ]
    }
   ],
   "source": [
    "#Dheilly\n",
    "!awk -F $'\\t' '{print $22}' ../data-results/Geoduck-transcriptome_v3_bigtable_v08.tab \\\n",
    "| sed '/^$/d' | head"
   ]
  },
  {
   "cell_type": "code",
   "execution_count": 29,
   "metadata": {
    "collapsed": false,
    "scrolled": true
   },
   "outputs": [
    {
     "name": "stdout",
     "output_type": "stream",
     "text": [
      "   7 1\r\n",
      "   2 10\r\n",
      "   6 2\r\n",
      "  12 3\r\n",
      "  13 4\r\n",
      "  36 5\r\n",
      "   8 6\r\n",
      "  19 7\r\n",
      "  32 8\r\n",
      "  26 9\r\n",
      "   1 Dheilly_Cluster\r\n"
     ]
    }
   ],
   "source": [
    "#Dheilly\n",
    "!awk -F $'\\t' '{print $22}' ../data-results/Geoduck-transcriptome_v3_bigtable_v08.tab \\\n",
    "| sed '/^$/d' | sort | uniq -c "
   ]
  },
  {
   "cell_type": "code",
   "execution_count": 25,
   "metadata": {
    "collapsed": false,
    "scrolled": true
   },
   "outputs": [
    {
     "name": "stdout",
     "output_type": "stream",
     "text": [
      "     162\r\n"
     ]
    }
   ],
   "source": [
    "#Dheilly\n",
    "!awk -F $'\\t' '{print $22}' ../data-results/Geoduck-transcriptome_v3_bigtable_v08.tab \\\n",
    "| sed '/^$/d' | wc -l"
   ]
  },
  {
   "cell_type": "code",
   "execution_count": 39,
   "metadata": {
    "collapsed": false
   },
   "outputs": [
    {
     "name": "stdout",
     "output_type": "stream",
     "text": [
      "153430 \r\n",
      " 339 female>male\r\n",
      " 136 male>female\r\n",
      "  42 female\r\n",
      "  35 male\r\n",
      "   1 sex-based_expresssion\r\n"
     ]
    }
   ],
   "source": [
    "!awk -F $'\\t' '{print $7}' ../data-results/Geoduck-transcriptome_v3_bigtable_v08.tab \\\n",
    "| sort | uniq -c | sort -nr "
   ]
  },
  {
   "cell_type": "code",
   "execution_count": 44,
   "metadata": {
    "collapsed": false
   },
   "outputs": [
    {
     "name": "stdout",
     "output_type": "stream",
     "text": [
      "131008 \r\n",
      "  47 P08548\r\n",
      "  33 O60290\r\n",
      "  32 Q4LDE5\r\n",
      "  32 Q09575\r\n",
      "  32 P14381\r\n",
      "  31 P21328\r\n",
      "  28 Q9NBX4\r\n",
      "  27 Q7TN88\r\n",
      "  27 E9Q555\r\n",
      "sort: write failed: standard output: Broken pipe\r\n",
      "sort: write error\r\n"
     ]
    }
   ],
   "source": [
    "!awk -F $'\\t' '{print $8}' ../data-results/Geoduck-transcriptome_v3_bigtable_v08.tab \\\n",
    "| sort | uniq -c | sort -nr | head"
   ]
  },
  {
   "cell_type": "code",
   "execution_count": null,
   "metadata": {
    "collapsed": true
   },
   "outputs": [],
   "source": []
  }
 ],
 "metadata": {
  "kernelspec": {
   "display_name": "Python 2",
   "language": "python",
   "name": "python2"
  },
  "language_info": {
   "codemirror_mode": {
    "name": "ipython",
    "version": 2
   },
   "file_extension": ".py",
   "mimetype": "text/x-python",
   "name": "python",
   "nbconvert_exporter": "python",
   "pygments_lexer": "ipython2",
   "version": "2.7.12"
  }
 },
 "nbformat": 4,
 "nbformat_minor": 0
}
