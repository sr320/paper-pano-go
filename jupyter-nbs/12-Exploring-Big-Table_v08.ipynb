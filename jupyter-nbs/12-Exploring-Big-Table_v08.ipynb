{
 "cells": [
  {
   "cell_type": "code",
   "execution_count": 21,
   "metadata": {
    "collapsed": false
   },
   "outputs": [
    {
     "name": "stdout",
     "output_type": "stream",
     "text": [
      "../data-results/Geoduck-transcriptome_v3_bigtable_v08.csv\r\n",
      "../data-results/Geoduck-transcriptome_v3_bigtable_v08.tab\r\n",
      "../data-results/Geoduck-transcriptome_v3_bigtablefinal.csv.zip\r\n"
     ]
    }
   ],
   "source": [
    "ls ../data-results/Geoduck-transcriptome_v3_bigtable*"
   ]
  },
  {
   "cell_type": "code",
   "execution_count": 40,
   "metadata": {
    "collapsed": false
   },
   "outputs": [
    {
     "name": "stdout",
     "output_type": "stream",
     "text": [
      "ContigID\tlength\tGC_content\tCpG_o/e\tmale_unique_count\tfemale_unique_count\tsex-based_expresssion\tBlastx_UniProt_Acc\tEntryName\tProteinName\tOrganism\tEvalue\tGene_Ontology_ID\tGene_Ontology\tPFAM\tBlastn_Gigaton-ID\tevalue-Gigaton\tBlastn_Ruphibase-ID\tevalue-Ruphibase\tBlastn_Sigenae-ID\tevalue-Sigenae\tDheilly_Cluster\tDheilly_Tissue-enriched-expression\r\n",
      "comp137246_c1_seq26\t1458\t45.4047\t0.71921162\t0\t0\t\tP12716\tACTC_PISOC\t\"Actin, cytoplasmic\"\tPisaster ochraceus (Ochre sea star) (Asterias ochracea)\t0\tGO:0005524; GO:0005737; GO:0005856\tATP binding; cytoplasm; cytoskeleton\tPF00022;\tCHOYP_LOC101072885.1.1\t0\truditapes_lrc32388\t0\tCU684679.p.cg.6\t3.00E-64\t1\t\r\n"
     ]
    }
   ],
   "source": [
    "!head -2 ../data-results/Geoduck-transcriptome_v3_bigtable_v08.tab"
   ]
  },
  {
   "cell_type": "code",
   "execution_count": 43,
   "metadata": {
    "collapsed": false
   },
   "outputs": [
    {
     "name": "stdout",
     "output_type": "stream",
     "text": [
      "  153982 ../data-results/Geoduck-transcriptome_v3_bigtable_v08.tab\r\n"
     ]
    }
   ],
   "source": [
    "!wc -l \\\n",
    "../data-results/Geoduck-transcriptome_v3_bigtable_v08.tab"
   ]
  },
  {
   "cell_type": "code",
   "execution_count": 42,
   "metadata": {
    "collapsed": false
   },
   "outputs": [
    {
     "name": "stdout",
     "output_type": "stream",
     "text": [
      "  153983\r\n"
     ]
    }
   ],
   "source": [
    "!awk -F $'\\t' '{print $1}' ../data-results/Geoduck-transcriptome_v3_bigtable_v08.tab \\\n",
    "| sort | uniq | wc -l"
   ]
  },
  {
   "cell_type": "code",
   "execution_count": 39,
   "metadata": {
    "collapsed": false
   },
   "outputs": [
    {
     "name": "stdout",
     "output_type": "stream",
     "text": [
      "153430 \r\n",
      " 339 female>male\r\n",
      " 136 male>female\r\n",
      "  42 female\r\n",
      "  35 male\r\n",
      "   1 sex-based_expresssion\r\n"
     ]
    }
   ],
   "source": [
    "!awk -F $'\\t' '{print $7}' ../data-results/Geoduck-transcriptome_v3_bigtable_v08.tab \\\n",
    "| sort | uniq -c | sort -nr "
   ]
  },
  {
   "cell_type": "code",
   "execution_count": 14,
   "metadata": {
    "collapsed": false
   },
   "outputs": [
    {
     "name": "stdout",
     "output_type": "stream",
     "text": [
      "  153982 ../data-results/Geoduck-transcriptome_v3_bigtable_v08.csv\n",
      "^C\n"
     ]
    }
   ],
   "source": [
    "#sex-based expression\n",
    "!cut -f7 | fgrep \"female\" | wc -l \\\n",
    "../data-results/Geoduck-transcriptome_v3_bigtable_v08.csv"
   ]
  },
  {
   "cell_type": "code",
   "execution_count": null,
   "metadata": {
    "collapsed": true
   },
   "outputs": [],
   "source": []
  }
 ],
 "metadata": {
  "kernelspec": {
   "display_name": "Python 2",
   "language": "python",
   "name": "python2"
  },
  "language_info": {
   "codemirror_mode": {
    "name": "ipython",
    "version": 2
   },
   "file_extension": ".py",
   "mimetype": "text/x-python",
   "name": "python",
   "nbconvert_exporter": "python",
   "pygments_lexer": "ipython2",
   "version": "2.7.12"
  }
 },
 "nbformat": 4,
 "nbformat_minor": 0
}
