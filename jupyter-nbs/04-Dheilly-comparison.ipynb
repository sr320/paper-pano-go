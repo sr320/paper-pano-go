{
 "cells": [
  {
   "cell_type": "markdown",
   "metadata": {
    "button": false,
    "deletable": true,
    "new_sheet": false,
    "run_control": {
     "read_only": false
    }
   },
   "source": [
    "## Going to compare Dheilly seqs so direct comparisons can be made to this paper."
   ]
  },
  {
   "cell_type": "markdown",
   "metadata": {
    "button": false,
    "deletable": true,
    "new_sheet": false,
    "run_control": {
     "read_only": false
    }
   },
   "source": [
    "<img src=\"http://eagle.fish.washington.edu/cnidarian/skitch/Crassostrea_gigas_male_gonad_transcriptome_data_comparison_1BE3AD5C.png\" alt=\"Crassostrea_gigas_male_gonad_transcriptome_data_comparison_1BE3AD5C.png\"/>\n",
    "\n",
    "http://figshare.com/articles/Crassostrea_gigas_male_gonad_transcriptional_data_comparison/1004464"
   ]
  },
  {
   "cell_type": "code",
   "execution_count": 1,
   "metadata": {
    "button": false,
    "collapsed": false,
    "deletable": true,
    "new_sheet": false,
    "run_control": {
     "read_only": false
    }
   },
   "outputs": [
    {
     "name": "stdout",
     "output_type": "stream",
     "text": [
      "\u001b[31mGeoduck-transcriptome-v2.fasta\u001b[m\u001b[m\r\n",
      "Geoduck-transcriptome-v2.fasta.zip\r\n",
      "Geoduck-transcriptome-v2.transdecoder.bed\r\n",
      "Geoduck-transcriptome-v2.transdecoder.cds\r\n",
      "Geoduck-transcriptome-v2.transdecoder.gff3\r\n",
      "Geoduck-transcriptome-v2.transdecoder.pep\r\n",
      "Geoduck-tranv2-blastx_sprot.tab\r\n",
      "Geoduck-tranv2_blastx_sprot-old.tab\r\n"
     ]
    }
   ],
   "source": [
    "!ls ../data-results/"
   ]
  },
  {
   "cell_type": "code",
   "execution_count": 2,
   "metadata": {
    "button": false,
    "collapsed": false,
    "deletable": true,
    "new_sheet": false,
    "run_control": {
     "read_only": false
    }
   },
   "outputs": [
    {
     "name": "stdout",
     "output_type": "stream",
     "text": [
      "  % Total    % Received % Xferd  Average Speed   Time    Time     Time  Current\n",
      "                                 Dload  Upload   Total   Spent    Left  Speed\n",
      "100 23.6M  100 23.6M    0     0  2894k      0  0:00:08  0:00:08 --:--:-- 5037k\n"
     ]
    }
   ],
   "source": [
    "!curl http://files.figshare.com/1471531/Fastafile_Microarray \\\n",
    "-o analyses/Dheilly-Fastafile_Microarray.fa  "
   ]
  },
  {
   "cell_type": "code",
   "execution_count": 6,
   "metadata": {
    "button": false,
    "collapsed": false,
    "deletable": true,
    "new_sheet": false,
    "run_control": {
     "read_only": false
    }
   },
   "outputs": [
    {
     "name": "stdout",
     "output_type": "stream",
     "text": [
      "CGGCAGAACCAGTGGCTGGCCAAAAGGAACAAATCCAGTGTCTTATGCAGCTAAATATGGCATAACGAACCCTTCACCTACGTTAGATCGCCCGATCAATCTGTACCCATTAACAAATTACACATTTGGAACCAAAGAGCCATTGTATGAGAAGGATAGCTCAGTCCCAGCACGGTTTCAGCGTATGCGAGATGAGTTTGAGAAGATTGGAATGAGGCGATCTGTTGAGGGAGTGTTAATTGTACACGAGCACGGACTTCCCCACGTTCTCCTTCTACAACTAGGGACCACATTTTTCAAATTACCTGGGGGAGAGTTGAATTCAGGCGAGGATCAAGTAGAAGGCTTGAAAAGATTATTAACAGAGACCCTGGGAAGACAAGATGGTGGGACTATGGAGTGGGTAGTGGAGGATACTATAGGGAACTGGTGGAGACCAAACTTTGAACCCCCACAGTACCCTTACATCCCAGCACACATCACAAAACCCAAGGAACACAAAAGACTTTTCCTTGTACAGCTACCAGAAAAGGCATTGTTTGCTGTTCCTAGAAATTATAAACTTGTGGCCGCCCCCTTGTTTGAACTATATGACAACAGTGCAGGATATGGGCCAATCATCTCAAGTTTACCTCAAGCTCTAAGTCGGTTCAACTTCATATACAATTGAGTGGGAAGATGCGAAGAACTGTACAACAATATTATTGTGACTTTTTTTATTACTCTGTCTGTAATACTGTCAGCTGTGGCTTGTCAACTTTGTATCACGATCATATCATCATATAATTATATGATTCATCATGGTCGAAAATGTCATTGAGGAATAAAAAAAAATTCAAACAG\r",
      "\r\n",
      ">BQ426856.p.cg.6\r\n",
      "CCTGAAACAACCAAGCAATTTTAGAGATCTGTCAAAACATATAGGTGCTCTGAACCCCACAAGAAGAGAATTTTTTCAGGAGCGTTATAACTCATGGGAGCATGATCAAATCCCACCATTCCATTATGGCACTCATTATTCAACGGCAGCTTTTACTCTGAACTGGCTCATAAGAGTGGAGCCATTTTCTACAATGTTTTTGAACCTTCAAGGTGGCAAATTTGACCACGCCAACAGAACCTTCAGCTCTATAGCTCAGTCTTGGAAGAATTGTCAGAGAGACACTTCTGATGTGAAGGAGTTGATCCCTGAGTTCTACTTTCTCCCAGAAATGTTCATCAATCAAAATAGGTACAAGTTTGGAAAGCAAGAAGATGGCGGAGAAGTTGCTGATGTGGAGATGCCACCATGGGCCAAGAACCCTGATGATTTTGTCCGAATAAACAGAATGGCCTTAGAATCTGAATTTGTGTCTTGTCAACTTCATCATTGGATTGATCTGATATTTGGCTACAAACAAAGAGGTCCAGAAGCAGTGAGGTCCACCAATGTCTTCTATTACCTGACCTACGAAGGCAGTGTGAACCTGGAGAGTATGACTGACCTAGTCATGAAGGAGGCCATAGAGAACCAGATTAAGAGTTTTGGACAGACCCCCACCCAGCTCCTGGCTGAGCCCCACCCTCCCCGCAGTTCTCTGATGCACTTGACTCCGATGATGTTTTCGACAGTCCAGGATGATGTGTGTATGATCATGAAGTTCCTGTCCAACTCCCCGGTCATTCACATCGCCGCCAACACCCACCCTGCCGTTCCCAACCCCGCGGTCACAACCATCACATGTAACCACAACTTTGCTGTCAACAAATGGAACACCACATACCAACTAACCAACACTGGCCTTCAGAGACGATCCCTAGGGGACAACTTTGACGAGAGAATAAAACCTACCCACCAGAGCTTTGTCACTTCAGCAGACAACCGCTTCATCTTTGCCTGTGGATTCTGGGACAAGAGCTTCAGAATATTCAGTTCCGAGTCTGGGAAGATCCTTCAGGTGGTGAATGGCCACTTTGATGTGGTGACCTGTATCACGCGCTCTGAGTGTAACCTGAATCAGGACTGTTACATTGTGACCGGGTCCAAGGACTGTACCGCCATGGTCTGGATGTTCACCTCAAGGAACCAGGCCATCATAGGCGACAATGGAAGTC\r",
      "\r\n"
     ]
    }
   ],
   "source": [
    "!tail -3 analyses/Dheilly-Fastafile_Microarray.fa "
   ]
  },
  {
   "cell_type": "code",
   "execution_count": 10,
   "metadata": {
    "button": false,
    "collapsed": false,
    "deletable": true,
    "new_sheet": false,
    "run_control": {
     "read_only": false
    }
   },
   "outputs": [
    {
     "name": "stdout",
     "output_type": "stream",
     "text": [
      "31919\r\n"
     ]
    }
   ],
   "source": [
    "!fgrep \">\" -c analyses/Dheilly-Fastafile_Microarray.fa "
   ]
  },
  {
   "cell_type": "code",
   "execution_count": 9,
   "metadata": {
    "button": false,
    "collapsed": false,
    "deletable": true,
    "new_sheet": false,
    "run_control": {
     "read_only": false
    }
   },
   "outputs": [
    {
     "name": "stdout",
     "output_type": "stream",
     "text": [
      "\n",
      "\n",
      "Building a new DB, current time: 10/30/2015 06:56:39\n",
      "New DB name:   analyses/Dheilly-Microarray\n",
      "New DB title:  analyses/Dheilly-Fastafile_Microarray.fa\n",
      "Sequence type: Nucleotide\n",
      "Keep Linkouts: T\n",
      "Keep MBits: T\n",
      "Maximum file size: 1000000000B\n",
      "Adding sequences from FASTA; added 31919 sequences in 0.997076 seconds.\n"
     ]
    }
   ],
   "source": [
    "!makeblastdb \\\n",
    "-dbtype nucl \\\n",
    "-in analyses/Dheilly-Fastafile_Microarray.fa \\\n",
    "-out analyses/Dheilly-Microarray"
   ]
  },
  {
   "cell_type": "code",
   "execution_count": 10,
   "metadata": {
    "button": false,
    "collapsed": false,
    "deletable": true,
    "new_sheet": false,
    "run_control": {
     "read_only": false
    }
   },
   "outputs": [
    {
     "name": "stdout",
     "output_type": "stream",
     "text": [
      "Warning: lcl|Query_31162 cds.comp151457_c0_seq1|m.54411 comp151457_c0_seq1|g.54411  ORF comp151457_c0_seq1|g.54411 comp151457_c0_seq1|m.54411 type:internal len:112 (-) comp151457_c0_seq1:1-333(-): Warning: Could not calculate ungapped Karlin-Altschul parameters due to an invalid query sequence or its translation. Please verify the query sequence(s) and/or filtering options \n",
      "Warning: lcl|Query_31169 cds.comp151536_c0_seq1|m.54418 comp151536_c0_seq1|g.54418  ORF comp151536_c0_seq1|g.54418 comp151536_c0_seq1|m.54418 type:internal len:104 (+) comp151536_c0_seq1:1-309(+): Warning: Could not calculate ungapped Karlin-Altschul parameters due to an invalid query sequence or its translation. Please verify the query sequence(s) and/or filtering options \n",
      "Warning: lcl|Query_32410 cds.comp39296_c0_seq1|m.1422 comp39296_c0_seq1|g.1422  ORF comp39296_c0_seq1|g.1422 comp39296_c0_seq1|m.1422 type:internal len:116 (+) comp39296_c0_seq1:1-345(+): Warning: Could not calculate ungapped Karlin-Altschul parameters due to an invalid query sequence or its translation. Please verify the query sequence(s) and/or filtering options \n",
      "Warning: lcl|Query_32628 cds.comp45262_c0_seq1|m.1703 comp45262_c0_seq1|g.1703  ORF comp45262_c0_seq1|g.1703 comp45262_c0_seq1|m.1703 type:internal len:106 (-) comp45262_c0_seq1:1-315(-): Warning: Could not calculate ungapped Karlin-Altschul parameters due to an invalid query sequence or its translation. Please verify the query sequence(s) and/or filtering options \n"
     ]
    }
   ],
   "source": [
    "!tblastn \\\n",
    "-query ../data-results/Geoduck-transcriptome-v2.transdecoder.pep \\\n",
    "-db analyses/Dheilly-Microarray \\\n",
    "-num_threads 4 \\\n",
    "-evalue 1e-60 \\\n",
    "-max_target_seqs 1 \\\n",
    "-max_hsps 1 \\\n",
    "-outfmt 6 \\\n",
    "-out analyses/Geo-pep_tblastn_Dheilly.out"
   ]
  },
  {
   "cell_type": "code",
   "execution_count": 14,
   "metadata": {
    "button": false,
    "collapsed": false,
    "deletable": true,
    "new_sheet": false,
    "run_control": {
     "read_only": false
    }
   },
   "outputs": [
    {
     "name": "stdout",
     "output_type": "stream",
     "text": [
      "\n",
      "\n",
      "Building a new DB, current time: 10/30/2015 07:31:30\n",
      "New DB name:   analyses/Geoduck-v2-protein\n",
      "New DB title:  ../data-results/Geoduck-transcriptome-v2.transdecoder.pep\n",
      "Sequence type: Protein\n",
      "Keep Linkouts: T\n",
      "Keep MBits: T\n",
      "Maximum file size: 1000000000B\n",
      "Adding sequences from FASTA; added 35951 sequences in 1.0729 seconds.\n"
     ]
    }
   ],
   "source": [
    "!makeblastdb \\\n",
    "-dbtype prot \\\n",
    "-in ../data-results/Geoduck-transcriptome-v2.transdecoder.pep \\\n",
    "-out analyses/Geoduck-v2-protein"
   ]
  },
  {
   "cell_type": "code",
   "execution_count": 19,
   "metadata": {
    "button": false,
    "collapsed": false,
    "deletable": true,
    "new_sheet": false,
    "run_control": {
     "read_only": false
    }
   },
   "outputs": [
    {
     "name": "stdout",
     "output_type": "stream",
     "text": [
      "FASTA-Reader: Ignoring invalid residues at position(s): On line 2: 2-3, 7\r\n"
     ]
    }
   ],
   "source": [
    "!blastx \\\n",
    "-query analyses/Dheilly-Fastafile_Microarray.fa \\\n",
    "-db analyses/Geoduck-v2-protein \\\n",
    "-num_threads 4 \\\n",
    "-evalue 1e-60 \\\n",
    "-max_target_seqs 1 \\\n",
    "-max_hsps 1 \\\n",
    "-outfmt 6 \\\n",
    "-out analyses/Dheilly_blastx_Geoduck.out"
   ]
  },
  {
   "cell_type": "code",
   "execution_count": 20,
   "metadata": {
    "button": false,
    "collapsed": false,
    "deletable": true,
    "new_sheet": false,
    "run_control": {
     "read_only": false
    }
   },
   "outputs": [
    {
     "name": "stdout",
     "output_type": "stream",
     "text": [
      "AM863560.p.cg.6\tcds.comp143518_c1_seq3|m.46315\t76.47\t170\t40\t0\t50\t559\t1\t170\t3e-92\t  279\r\n",
      "AM863857.p.cg.6\tcds.comp112334_c0_seq2|m.8578\t70.45\t220\t62\t3\t67\t717\t16\t235\t5e-83\t  258\r\n",
      "AM862201.p.cg.6\tcds.comp143132_c0_seq1|m.44654\t73.05\t167\t45\t0\t45\t545\t22\t188\t9e-90\t  265\r\n",
      "AM857422.p.cg.6\tcds.comp144170_c0_seq2|m.50113\t70.71\t239\t70\t0\t88\t804\t12\t250\t1e-121\t  369\r\n",
      "EW779216.p.cg.6\tcds.comp143881_c0_seq3|m.48222\t58.42\t279\t100\t10\t3\t809\t231\t503\t1e-93\t  294\r\n",
      "FP001061.p.cg.6\tcds.comp137246_c1_seq8|m.27695\t96.96\t230\t7\t0\t137\t826\t22\t251\t3e-163\t  468\r\n",
      "AM863520.p.cg.6\tcds.comp144262_c1_seq3|m.50635\t81.91\t199\t35\t1\t3\t596\t648\t846\t2e-107\t  332\r\n",
      "AM854469.p.cg.6\tcds.comp137143_c0_seq2|m.27528\t69.93\t143\t43\t0\t2\t430\t13\t155\t1e-74\t  229\r\n",
      "AM864556.p.cg.6\tcds.comp139309_c0_seq3|m.32074\t44.76\t353\t178\t6\t170\t1228\t9\t344\t4e-73\t  239\r\n",
      "EW777509.p.cg.6\tcds.comp116635_c0_seq1|m.9950\t75.95\t158\t38\t0\t668\t195\t376\t533\t4e-79\t  249\r\n"
     ]
    }
   ],
   "source": [
    "!head analyses/Dheilly_blastx_Geoduck.out"
   ]
  },
  {
   "cell_type": "code",
   "execution_count": 22,
   "metadata": {
    "button": false,
    "collapsed": false,
    "deletable": true,
    "new_sheet": false,
    "run_control": {
     "read_only": false
    }
   },
   "outputs": [
    {
     "name": "stdout",
     "output_type": "stream",
     "text": [
      "    3871 analyses/Dheilly_blastx_Geoduck.out\r\n"
     ]
    }
   ],
   "source": [
    "!wc -l analyses/Dheilly_blastx_Geoduck.out"
   ]
  },
  {
   "cell_type": "code",
   "execution_count": null,
   "metadata": {
    "button": false,
    "collapsed": true,
    "deletable": true,
    "new_sheet": false,
    "run_control": {
     "read_only": false
    }
   },
   "outputs": [],
   "source": [
    "\n",
    "\n",
    "\n",
    "## NOTE TO STEVEN - DO THIS on IMAC "
   ]
  },
  {
   "cell_type": "code",
   "execution_count": 3,
   "metadata": {
    "button": false,
    "collapsed": false,
    "deletable": true,
    "new_sheet": false,
    "run_control": {
     "read_only": false
    }
   },
   "outputs": [
    {
     "name": "stdout",
     "output_type": "stream",
     "text": [
      "\n",
      "\n",
      "Building a new DB, current time: 11/10/2015 08:18:07\n",
      "New DB name:   /Users/sr320/git-repos/paper-pano-go/jupyter-nbs/analyses/Geoduck-transcriptome-v2\n",
      "New DB title:  ../data-results/Geoduck-transcriptome-v2.fasta\n",
      "Sequence type: Nucleotide\n",
      "Keep Linkouts: T\n",
      "Keep MBits: T\n",
      "Maximum file size: 1000000000B\n",
      "Adding sequences from FASTA; added 154407 sequences in 6.20074 seconds.\n"
     ]
    }
   ],
   "source": [
    "!/Applications/bioinfo/ncbi-blast-2.2.31/bin/makeblastdb \\\n",
    "-dbtype nucl \\\n",
    "-in ../data-results/Geoduck-transcriptome-v2.fasta \\\n",
    "-out analyses/Geoduck-transcriptome-v2"
   ]
  },
  {
   "cell_type": "code",
   "execution_count": 6,
   "metadata": {
    "button": false,
    "collapsed": false,
    "deletable": true,
    "new_sheet": false,
    "run_control": {
     "read_only": false
    }
   },
   "outputs": [
    {
     "name": "stdout",
     "output_type": "stream",
     "text": [
      "FASTA-Reader: Ignoring invalid residues at position(s): On line 2: 2-3, 7\r\n"
     ]
    }
   ],
   "source": [
    "!/Applications/bioinfo/ncbi-blast-2.2.31/bin/blastn \\\n",
    "-task blastn \\\n",
    "-query analyses/Dheilly-Fastafile_Microarray.fa \\\n",
    "-db analyses/Geoduck-transcriptome-v2 \\\n",
    "-num_threads 4 \\\n",
    "-evalue 1e-60 \\\n",
    "-max_target_seqs 1 \\\n",
    "-max_hsps 1 \\\n",
    "-outfmt 6 \\\n",
    "-out analyses/Dheilly_blastn_Geoduck.out"
   ]
  },
  {
   "cell_type": "code",
   "execution_count": 7,
   "metadata": {
    "button": false,
    "collapsed": false,
    "deletable": true,
    "new_sheet": false,
    "run_control": {
     "read_only": false
    }
   },
   "outputs": [
    {
     "name": "stdout",
     "output_type": "stream",
     "text": [
      "AM863560.p.cg.6\tcomp143518_c1_seq3\t74.85\t513\t117\t11\t46\t552\t1361\t855\t4e-82\t306\r\n",
      "AM863857.p.cg.6\tcomp112334_c0_seq2\t70.26\t622\t166\t9\t103\t710\t82\t698\t3e-69\t264\r\n",
      "FP001061.p.cg.6\tcomp137246_c1_seq24\t84.54\t841\t122\t6\t74\t913\t118\t951\t0.0\t911\r\n",
      "AM863520.p.cg.6\tcomp144262_c1_seq8\t80.85\t449\t86\t0\t149\t597\t2191\t2639\t2e-117\t423\r\n",
      "EW777509.p.cg.6\tcomp116635_c0_seq1\t75.06\t429\t107\t0\t240\t668\t334\t762\t1e-77\t291\r\n",
      "CU992746.p.cg.6\tcomp130101_c0_seq1\t67.98\t968\t284\t13\t362\t1313\t2\t959\t8e-84\t313\r\n",
      "FP008273.p.cg.6\tcomp137752_c0_seq10\t77.99\t427\t75\t10\t47\t460\t5\t425\t5e-86\t318\r\n",
      "CU984142.p.cg.6\tcomp144285_c0_seq2\t70.29\t653\t190\t4\t188\t837\t187\t838\t5e-77\t289\r\n",
      "AM855687.p.cg.6\tcomp122176_c0_seq1\t81.58\t266\t46\t1\t84\t349\t116\t378\t3e-67\t257\r\n",
      "FP005729.p.cg.6\tcomp137246_c1_seq24\t83.03\t925\t153\t4\t72\t996\t118\t1038\t0.0\t946\r\n"
     ]
    }
   ],
   "source": [
    "!head analyses/Dheilly_blastn_Geoduck.out"
   ]
  },
  {
   "cell_type": "code",
   "execution_count": 9,
   "metadata": {
    "button": false,
    "collapsed": false,
    "deletable": true,
    "new_sheet": false,
    "run_control": {
     "read_only": false
    }
   },
   "outputs": [
    {
     "name": "stdout",
     "output_type": "stream",
     "text": [
      "    2133 analyses/Dheilly_blastn_Geoduck.out\r\n"
     ]
    }
   ],
   "source": [
    "!wc -l analyses/Dheilly_blastn_Geoduck.out"
   ]
  },
  {
   "cell_type": "markdown",
   "metadata": {
    "button": false,
    "deletable": true,
    "new_sheet": false,
    "run_control": {
     "read_only": false
    }
   },
   "source": [
    "# Comparing Tables in SQLShare"
   ]
  },
  {
   "cell_type": "code",
   "execution_count": 24,
   "metadata": {
    "button": false,
    "collapsed": false,
    "deletable": true,
    "new_sheet": false,
    "run_control": {
     "read_only": false
    }
   },
   "outputs": [
    {
     "name": "stdout",
     "output_type": "stream",
     "text": [
      "Dheilly_s2_sig6sig9_join, Yes\r\n",
      "Dheilly_S1_v9_join, Yes\r\n",
      "Dheilly_Female_File_S3expresssion, Yes\r\n",
      "Dheilly_Female_File_S3stats, Yes\r\n",
      "Dheilly_DiffGametogenesis_File_S2, Yes\r\n",
      "Dheilly_SexSpecific_File_S1, Yes\r\n"
     ]
    }
   ],
   "source": [
    "#What might already be in SQLShare\n",
    "!grep \"Dheill\" /Users/sr320/git-repos/qdod/sqlshare-resources-2015/sr320\\@washington.edu_Datasets.csv"
   ]
  },
  {
   "cell_type": "markdown",
   "metadata": {
    "button": false,
    "deletable": true,
    "new_sheet": false,
    "run_control": {
     "read_only": false
    }
   },
   "source": [
    "<img src=\"http://eagle.fish.washington.edu/cnidarian/skitch/SQLShare_-_View_Query_1BF25BF8.png\" alt=\"SQLShare_-_View_Query_1BF25BF8.png\"/>"
   ]
  },
  {
   "cell_type": "code",
   "execution_count": null,
   "metadata": {
    "button": false,
    "collapsed": true,
    "deletable": true,
    "new_sheet": false,
    "run_control": {
     "read_only": false
    }
   },
   "outputs": [],
   "source": [
    "#next for Steven - GET GEODUCK - DHEILY blast tables up on SQLSHARE"
   ]
  },
  {
   "cell_type": "markdown",
   "metadata": {
    "button": false,
    "deletable": true,
    "new_sheet": false,
    "run_control": {
     "read_only": false
    }
   },
   "source": [
    "#useful file\n",
    "<img src=\"http://eagle.fish.washington.edu/cnidarian/skitch/SQLShare_-_View_Query_1BF25CC5.png\" alt=\"SQLShare_-_View_Query_1BF25CC5.png\"/>"
   ]
  },
  {
   "cell_type": "code",
   "execution_count": 5,
   "metadata": {
    "button": false,
    "collapsed": false,
    "deletable": true,
    "new_sheet": false,
    "run_control": {
     "read_only": false
    }
   },
   "outputs": [
    {
     "name": "stdout",
     "output_type": "stream",
     "text": [
      "Fri Nov 13 06:42:03 PST 2015\r\n"
     ]
    }
   ],
   "source": [
    "!date"
   ]
  },
  {
   "cell_type": "markdown",
   "metadata": {
    "button": false,
    "deletable": true,
    "new_sheet": false,
    "run_control": {
     "read_only": false
    }
   },
   "source": [
    "Based on Sex-Specific from Dheilly\n",
    "\n",
    "```\n",
    "SELECT * \n",
    "  FROM [sr320@washington.edu].[Dheilly_blastn_Geoduck-v2]​bl\n",
    "  left join\n",
    "  [sr320@washington.edu].[Sig6_blastn_Sig9]s6\n",
    "  on\n",
    "  bl.Column​1 = s6.Column1\n",
    "  left join \n",
    "  [sr320@washington.edu].[Dheilly_SexSpecific_File_S1]ss\n",
    "  on \n",
    "  ss.[Genbank Acc] = s6.Column4\n",
    "where ID_Ref <> ' '\n",
    "```\n",
    "\n",
    "<img src=\"http://eagle.fish.washington.edu/cnidarian/skitch/Run_Query_1BF63191.png\" alt=\"Run_Query_1BF63191.png\"/>\n",
    "\n",
    "<img src=\"http://eagle.fish.washington.edu/cnidarian/skitch/Run_Query_1BF631AD.png\" alt=\"Run_Query_1BF631AD.png\"/>"
   ]
  },
  {
   "cell_type": "code",
   "execution_count": 6,
   "metadata": {
    "button": false,
    "collapsed": false,
    "deletable": true,
    "new_sheet": false,
    "run_control": {
     "read_only": false
    }
   },
   "outputs": [
    {
     "name": "stdout",
     "output_type": "stream",
     "text": [
      "Fri Nov 13 07:12:26 PST 2015\r\n"
     ]
    }
   ],
   "source": [
    "!date"
   ]
  },
  {
   "cell_type": "markdown",
   "metadata": {
    "button": false,
    "deletable": true,
    "new_sheet": false,
    "run_control": {
     "read_only": false
    }
   },
   "source": [
    "## Comparison with Dheilly gametogenesis supp file"
   ]
  },
  {
   "cell_type": "markdown",
   "metadata": {
    "button": false,
    "deletable": true,
    "new_sheet": false,
    "run_control": {
     "read_only": false
    }
   },
   "source": [
    "```sql  \n",
    "  SELECT * \n",
    "  FROM [sr320@washington.edu].[Dheilly_blastn_Geoduck-v2]bl\n",
    "  left join\n",
    "  [sr320@washington.edu].[Sig6_blastn_Sig9]s6\n",
    "  on\n",
    "  bl.Column1 = s6.Column1\n",
    "  left join \n",
    "  [sr320@washington.edu].[Dheilly_DiffGametogenesis_File_S2]df\n",
    "  on \n",
    "  df.Genebank = s6.Column4\n",
    "  Where ID_Ref <> ' '\n",
    "```"
   ]
  },
  {
   "cell_type": "code",
   "execution_count": 9,
   "metadata": {
    "button": false,
    "collapsed": false,
    "deletable": true,
    "new_sheet": false,
    "run_control": {
     "read_only": false
    }
   },
   "outputs": [
    {
     "name": "stdout",
     "output_type": "stream",
     "text": [
      "Column1,Column2,Column3,Column4,Column5,Column6,Column7,Column8,Column9,Column10,Column11,Column12,Column1,Column2,Column3,Column4,ID_Ref,Genebank,Description,Cluster,Tissue-enriched expression,High expression,Mean St0,StDev St0,Mean St1 M,StDev St1 M,Mean St2 M,StDev St2 M,Mean St3 M,StDev St3 M,Mean St1 F,StDev St1 F,Mean St2 F,StDev St2 F,Mean St3 F,StDev St3 F,F ratio,SS (groups),SS (error),df (groups),df( error),Raw p value,Adj p value\r",
      "\r\n",
      "AM863560.p.cg.6,comp143518_c1_seq3,74.85,513,117,11,46,552,1361,855,4E-82,306,AM863560.p.cg.6,CGI_10014475,0,AM863560,17,AM863560,(sp:Q7ZVC2) Clusterin-associated protein 1 homolog OS=Danio rerio GN=cluap1 PE=2 SV=2,7,,#N/A,1.0614961,0.07081281,1.094597,0.060738623,1.2025731,0.075460844,1.5959853,0.12561423,1.0085462,0.12921137,1.0584577,0.059936587,1.428911,0.08072338,27.43522,1.2576387,0.19100124,6,25,7.560885E-10,9.851833E-07\r",
      "\r\n"
     ]
    }
   ],
   "source": [
    "!head -2 analyses/Dheilly-Gametogenesis-matches.csv"
   ]
  },
  {
   "cell_type": "code",
   "execution_count": 2,
   "metadata": {
    "button": false,
    "collapsed": false,
    "deletable": true,
    "new_sheet": false,
    "run_control": {
     "read_only": false
    }
   },
   "outputs": [
    {
     "name": "stdout",
     "output_type": "stream",
     "text": [
      "     173 analyses/Dheilly-Gametogenesis-matches.csv\r\n"
     ]
    }
   ],
   "source": [
    "!wc -l analyses/Dheilly-Gametogenesis-matches.csv"
   ]
  },
  {
   "cell_type": "code",
   "execution_count": null,
   "metadata": {
    "button": false,
    "collapsed": true,
    "deletable": true,
    "new_sheet": false,
    "run_control": {
     "read_only": false
    }
   },
   "outputs": [],
   "source": []
  }
 ],
 "metadata": {
  "kernelspec": {
   "display_name": "Python 2",
   "language": "python",
   "name": "python2"
  },
  "language_info": {
   "codemirror_mode": {
    "name": "ipython",
    "version": 2
   },
   "file_extension": ".py",
   "mimetype": "text/x-python",
   "name": "python",
   "nbconvert_exporter": "python",
   "pygments_lexer": "ipython2",
   "version": "2.7.11"
  }
 },
 "nbformat": 4,
 "nbformat_minor": 0
}
