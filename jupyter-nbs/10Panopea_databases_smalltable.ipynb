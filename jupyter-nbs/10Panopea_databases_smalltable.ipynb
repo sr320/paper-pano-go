{
 "cells": [
  {
   "cell_type": "markdown",
   "metadata": {},
   "source": [
    "# notebook small table\n",
    "# *Panopea* transcriptome"
   ]
  },
  {
   "cell_type": "code",
   "execution_count": 1,
   "metadata": {
    "collapsed": true
   },
   "outputs": [],
   "source": [
    "from Bio import SeqIO, AlignIO\n",
    "from Bio import SeqIO, SwissProt\n",
    "from Bio.SeqUtils import GC, GC_skew\n",
    "from Bio.SeqRecord import SeqRecord\n",
    "\n",
    "from pandas import Series, DataFrame\n",
    "import pandas as pd\n",
    "\n",
    "import pylab\n",
    "import matplotlib.pyplot as plt \n",
    "\n",
    "import numpy as np\n",
    "from numpy import *"
   ]
  },
  {
   "cell_type": "code",
   "execution_count": 2,
   "metadata": {
    "collapsed": true
   },
   "outputs": [],
   "source": [
    "def columnas(file):\n",
    "    m, m1 = 0,1\n",
    "    for rowm in file:\n",
    "        print ( \"%2i %-16s\" % (m1,rowm), end=\"\\t\")\n",
    "        m+=1\n",
    "        m1+=1\n",
    "        if m==4:\n",
    "            print(\"\")\n",
    "            m=0\n",
    "    print()"
   ]
  },
  {
   "cell_type": "markdown",
   "metadata": {},
   "source": [
    "## Checking how many columns there are in the big table"
   ]
  },
  {
   "cell_type": "code",
   "execution_count": 3,
   "metadata": {
    "collapsed": false
   },
   "outputs": [
    {
     "data": {
      "text/html": [
       "<div>\n",
       "<table border=\"1\" class=\"dataframe\">\n",
       "  <thead>\n",
       "    <tr style=\"text-align: right;\">\n",
       "      <th></th>\n",
       "      <th>ContigID</th>\n",
       "      <th>length</th>\n",
       "      <th>GC</th>\n",
       "      <th>CpG</th>\n",
       "      <th>evalue</th>\n",
       "      <th>UniProt_Acc</th>\n",
       "      <th>Gene ontology IDs</th>\n",
       "      <th>Gene ontology (GO)</th>\n",
       "      <th>Protein names</th>\n",
       "      <th>sseqid1</th>\n",
       "      <th>...</th>\n",
       "      <th>GO</th>\n",
       "      <th>PFAM</th>\n",
       "      <th>evalue-GIG</th>\n",
       "      <th>Gigaton-ID</th>\n",
       "      <th>evalue-Ru</th>\n",
       "      <th>Ruphibase_ID</th>\n",
       "      <th>evalue-SIG</th>\n",
       "      <th>SigID</th>\n",
       "      <th>Cluster</th>\n",
       "      <th>Tissue-enriched-expression</th>\n",
       "    </tr>\n",
       "  </thead>\n",
       "  <tbody>\n",
       "    <tr>\n",
       "      <th>0</th>\n",
       "      <td>comp100000_c0_seq1</td>\n",
       "      <td>453</td>\n",
       "      <td>33.9956</td>\n",
       "      <td>0.919033</td>\n",
       "      <td>NaN</td>\n",
       "      <td>NaN</td>\n",
       "      <td>NaN</td>\n",
       "      <td>NaN</td>\n",
       "      <td>NaN</td>\n",
       "      <td>NaN</td>\n",
       "      <td>...</td>\n",
       "      <td>NaN</td>\n",
       "      <td>NaN</td>\n",
       "      <td>NaN</td>\n",
       "      <td>NaN</td>\n",
       "      <td>NaN</td>\n",
       "      <td>NaN</td>\n",
       "      <td>NaN</td>\n",
       "      <td>NaN</td>\n",
       "      <td>NaN</td>\n",
       "      <td>NaN</td>\n",
       "    </tr>\n",
       "    <tr>\n",
       "      <th>1</th>\n",
       "      <td>comp100001_c1_seq1</td>\n",
       "      <td>493</td>\n",
       "      <td>30.4260</td>\n",
       "      <td>0.264219</td>\n",
       "      <td>NaN</td>\n",
       "      <td>NaN</td>\n",
       "      <td>NaN</td>\n",
       "      <td>NaN</td>\n",
       "      <td>NaN</td>\n",
       "      <td>NaN</td>\n",
       "      <td>...</td>\n",
       "      <td>NaN</td>\n",
       "      <td>NaN</td>\n",
       "      <td>NaN</td>\n",
       "      <td>NaN</td>\n",
       "      <td>NaN</td>\n",
       "      <td>NaN</td>\n",
       "      <td>NaN</td>\n",
       "      <td>NaN</td>\n",
       "      <td>NaN</td>\n",
       "      <td>NaN</td>\n",
       "    </tr>\n",
       "  </tbody>\n",
       "</table>\n",
       "<p>2 rows × 40 columns</p>\n",
       "</div>"
      ],
      "text/plain": [
       "             ContigID  length       GC       CpG  evalue UniProt_Acc  \\\n",
       "0  comp100000_c0_seq1     453  33.9956  0.919033     NaN         NaN   \n",
       "1  comp100001_c1_seq1     493  30.4260  0.264219     NaN         NaN   \n",
       "\n",
       "  Gene ontology IDs Gene ontology (GO) Protein names sseqid1  \\\n",
       "0               NaN                NaN           NaN     NaN   \n",
       "1               NaN                NaN           NaN     NaN   \n",
       "\n",
       "              ...               GO PFAM  evalue-GIG  Gigaton-ID  evalue-Ru  \\\n",
       "0             ...              NaN  NaN         NaN         NaN        NaN   \n",
       "1             ...              NaN  NaN         NaN         NaN        NaN   \n",
       "\n",
       "   Ruphibase_ID  evalue-SIG  SigID  Cluster  Tissue-enriched-expression  \n",
       "0           NaN         NaN    NaN      NaN                         NaN  \n",
       "1           NaN         NaN    NaN      NaN                         NaN  \n",
       "\n",
       "[2 rows x 40 columns]"
      ]
     },
     "execution_count": 3,
     "metadata": {},
     "output_type": "execute_result"
    }
   ],
   "source": [
    "f5 = pd.read_csv(\"../panopea_data/data-results/Geoduck-transcriptome_v3_bigtablefinal.csv\", \n",
    "                  index_col=None, delimiter=\",\", engine='python' )\n",
    "#f5.read_csv(\"../panopea_data/data-results/Geoduck-transcriptome_v3_bigtablefinal.csv\",index=None)\n",
    "f5.head(2)\n"
   ]
  },
  {
   "cell_type": "code",
   "execution_count": 4,
   "metadata": {
    "collapsed": false
   },
   "outputs": [
    {
     "name": "stdout",
     "output_type": "stream",
     "text": [
      " 1 ContigID        \t 2 length          \t 3 GC              \t 4 CpG             \t\n",
      " 5 evalue          \t 6 UniProt_Acc     \t 7 Gene ontology IDs\t 8 Gene ontology (GO)\t\n",
      " 9 Protein names   \t10 sseqid1         \t11 sseqid2         \t12 sseqid3         \t\n",
      "13 pident          \t14 Length          \t15 mismatch        \t16 gapopen         \t\n",
      "17 qstart          \t18 qend            \t19 sstart          \t20 send            \t\n",
      "21 Evalue          \t22 bitscore        \t23 strand          \t24 male_unique     \t\n",
      "25 female_unique   \t26 sex             \t27 evalue-SP       \t28 SPID            \t\n",
      "29 ProteinName     \t30 Organism        \t31 GO              \t32 PFAM            \t\n",
      "33 evalue-GIG      \t34 Gigaton-ID      \t35 evalue-Ru       \t36 Ruphibase_ID    \t\n",
      "37 evalue-SIG      \t38 SigID           \t39 Cluster         \t40 Tissue-enriched-expression\t\n",
      "\n"
     ]
    }
   ],
   "source": [
    "columnas (f5)"
   ]
  },
  {
   "cell_type": "code",
   "execution_count": 5,
   "metadata": {
    "collapsed": false,
    "scrolled": true
   },
   "outputs": [
    {
     "name": "stdout",
     "output_type": "stream",
     "text": [
      "processing sequence  10000\n",
      "processing sequence  20000\n",
      "25963\n"
     ]
    }
   ],
   "source": [
    "secuencias = []\n",
    "n=0 \n",
    "linea = ''\n",
    "for row in f5.index:\n",
    "    rows= f5.ix[row]\n",
    "    if str(rows[\"UniProt_Acc\"])==\"nan\" and str(rows[\"sseqid2\"])==\"nan\" and str(rows[\"SPID\"])==\"nan\" and str(rows[\"Gigaton-ID\"])==\"nan\" and str(rows[\"Ruphibase_ID\"])==\"nan\" and str(rows[\"SigID\"])==\"nan\":\n",
    "        continue\n",
    "        #if rows[\"UniProt_Acc\"]-rows[\"qstart\"]<0:\n",
    "        #linea=rows[\"ContigID\"],-1\n",
    "    else:\n",
    "        #print (n, rows[\"ContigID\"], rows[\"UniProt_Acc\"], rows[\"sseqid2\"], rows[\"Gigaton-ID\"])\n",
    "        #linea= rows[\"ContigID\"],1\n",
    "        secuencias.append( rows)\n",
    "        n+=1\n",
    "    if n%10000 == 0:\n",
    "        print (\"processing sequence \",n)\n",
    "        #break\n",
    "\n",
    "secuencias = pd.DataFrame(secuencias)\n",
    "\n",
    "print (len(secuencias))"
   ]
  },
  {
   "cell_type": "code",
   "execution_count": 6,
   "metadata": {
    "collapsed": false
   },
   "outputs": [
    {
     "data": {
      "text/html": [
       "<div>\n",
       "<table border=\"1\" class=\"dataframe\">\n",
       "  <thead>\n",
       "    <tr style=\"text-align: right;\">\n",
       "      <th></th>\n",
       "      <th>ContigID</th>\n",
       "      <th>length</th>\n",
       "      <th>GC</th>\n",
       "      <th>CpG</th>\n",
       "      <th>evalue</th>\n",
       "      <th>UniProt_Acc</th>\n",
       "      <th>Gene ontology IDs</th>\n",
       "      <th>Gene ontology (GO)</th>\n",
       "      <th>Protein names</th>\n",
       "      <th>sseqid1</th>\n",
       "      <th>...</th>\n",
       "      <th>GO</th>\n",
       "      <th>PFAM</th>\n",
       "      <th>evalue-GIG</th>\n",
       "      <th>Gigaton-ID</th>\n",
       "      <th>evalue-Ru</th>\n",
       "      <th>Ruphibase_ID</th>\n",
       "      <th>evalue-SIG</th>\n",
       "      <th>SigID</th>\n",
       "      <th>Cluster</th>\n",
       "      <th>Tissue-enriched-expression</th>\n",
       "    </tr>\n",
       "  </thead>\n",
       "  <tbody>\n",
       "    <tr>\n",
       "      <th>13</th>\n",
       "      <td>comp100029_c1_seq1</td>\n",
       "      <td>288</td>\n",
       "      <td>50.0000</td>\n",
       "      <td>0.669506</td>\n",
       "      <td>NaN</td>\n",
       "      <td>NaN</td>\n",
       "      <td>NaN</td>\n",
       "      <td>NaN</td>\n",
       "      <td>NaN</td>\n",
       "      <td>NaN</td>\n",
       "      <td>...</td>\n",
       "      <td>NaN</td>\n",
       "      <td>NaN</td>\n",
       "      <td>6.000000e-19</td>\n",
       "      <td>CHOYP_LOC412155.1.2</td>\n",
       "      <td>NaN</td>\n",
       "      <td>NaN</td>\n",
       "      <td>NaN</td>\n",
       "      <td>NaN</td>\n",
       "      <td>NaN</td>\n",
       "      <td>NaN</td>\n",
       "    </tr>\n",
       "    <tr>\n",
       "      <th>34</th>\n",
       "      <td>comp100065_c0_seq1</td>\n",
       "      <td>201</td>\n",
       "      <td>50.2488</td>\n",
       "      <td>0.886765</td>\n",
       "      <td>2.000000e-08</td>\n",
       "      <td>Q5PRC1</td>\n",
       "      <td>GO:0016021</td>\n",
       "      <td>integral to membrane</td>\n",
       "      <td>Lipoma HMGIC fusion partner homolog</td>\n",
       "      <td>sp</td>\n",
       "      <td>...</td>\n",
       "      <td>NaN</td>\n",
       "      <td>PF10242;</td>\n",
       "      <td>NaN</td>\n",
       "      <td>NaN</td>\n",
       "      <td>NaN</td>\n",
       "      <td>NaN</td>\n",
       "      <td>NaN</td>\n",
       "      <td>NaN</td>\n",
       "      <td>NaN</td>\n",
       "      <td>NaN</td>\n",
       "    </tr>\n",
       "  </tbody>\n",
       "</table>\n",
       "<p>2 rows × 40 columns</p>\n",
       "</div>"
      ],
      "text/plain": [
       "              ContigID  length       GC       CpG        evalue UniProt_Acc  \\\n",
       "13  comp100029_c1_seq1     288  50.0000  0.669506           NaN         NaN   \n",
       "34  comp100065_c0_seq1     201  50.2488  0.886765  2.000000e-08      Q5PRC1   \n",
       "\n",
       "   Gene ontology IDs    Gene ontology (GO)  \\\n",
       "13               NaN                   NaN   \n",
       "34        GO:0016021  integral to membrane   \n",
       "\n",
       "                          Protein names sseqid1             ...              \\\n",
       "13                                  NaN     NaN             ...               \n",
       "34  Lipoma HMGIC fusion partner homolog      sp             ...               \n",
       "\n",
       "     GO      PFAM    evalue-GIG           Gigaton-ID  evalue-Ru  Ruphibase_ID  \\\n",
       "13  NaN       NaN  6.000000e-19  CHOYP_LOC412155.1.2        NaN           NaN   \n",
       "34  NaN  PF10242;           NaN                  NaN        NaN           NaN   \n",
       "\n",
       "    evalue-SIG  SigID  Cluster  Tissue-enriched-expression  \n",
       "13         NaN    NaN      NaN                         NaN  \n",
       "34         NaN    NaN      NaN                         NaN  \n",
       "\n",
       "[2 rows x 40 columns]"
      ]
     },
     "execution_count": 6,
     "metadata": {},
     "output_type": "execute_result"
    }
   ],
   "source": [
    "secuencias.head(2)"
   ]
  },
  {
   "cell_type": "code",
   "execution_count": null,
   "metadata": {
    "collapsed": true
   },
   "outputs": [],
   "source": [
    "secuencias.to_csv(\"../panopea_data/data-results/Geoduck-transcriptome_v3_smalltable.csv\",index=None)\n",
    "\n"
   ]
  },
  {
   "cell_type": "markdown",
   "metadata": {},
   "source": [
    "# Process to obtain data for drawing the Venn diagram "
   ]
  },
  {
   "cell_type": "code",
   "execution_count": 7,
   "metadata": {
    "collapsed": false
   },
   "outputs": [
    {
     "data": {
      "text/plain": [
       "(25963, 25963, 25963, 25963)"
      ]
     },
     "execution_count": 7,
     "metadata": {},
     "output_type": "execute_result"
    }
   ],
   "source": [
    "lineaC =[] # data from blastx\n",
    "lineaG =[] # data from Giga\n",
    "lineaD =[] # data from Dh\n",
    "lineaR =[] # data from Ruphibase\n",
    "linea = \"\"\n",
    "n=1\n",
    "\n",
    "for row in f5.index:\n",
    "    row2=f5.loc[row]\n",
    "\n",
    "    if str(row2[\"UniProt_Acc\"])==\"nan\" and str(row2[\"sseqid2\"])==\"nan\" and str(row2[\"SPID\"])==\"nan\" and str(row2[\"Gigaton-ID\"])==\"nan\" and str(row2[\"Ruphibase_ID\"])==\"nan\" and str(row2[\"SigID\"])==\"nan\":\n",
    "        continue\n",
    "        \n",
    "    else:        \n",
    "        if str(row2[\"sseqid2\"]) !=\"nan\":\n",
    "            linea = 1\n",
    "        else:\n",
    "            linea = \"\"\n",
    "        lineaC.append(linea)\n",
    "        if str(row2[\"Gigaton-ID\"]) !=\"nan\":\n",
    "            linea = 1\n",
    "        else:\n",
    "            linea = \"\"\n",
    "        lineaG.append(linea)\n",
    "\n",
    "        if str(row2[\"Ruphibase_ID\"]) !=\"nan\":\n",
    "            linea = 1\n",
    "        else:\n",
    "            linea = \"\"\n",
    "        lineaR.append(linea)\n",
    "\n",
    "        if str(row2[\"SigID\"]) !=\"nan\":\n",
    "            linea = 1\n",
    "        else:\n",
    "            linea = \"\"\n",
    "        lineaD.append(linea)\n",
    "\n",
    "        n+=1\n",
    "        #if n==1000:\n",
    "        #    break\n",
    "\n",
    "len(lineaC), len(lineaG), len(lineaD), len(lineaR)"
   ]
  },
  {
   "cell_type": "code",
   "execution_count": 8,
   "metadata": {
    "collapsed": false
   },
   "outputs": [
    {
     "data": {
      "text/html": [
       "<div>\n",
       "<table border=\"1\" class=\"dataframe\">\n",
       "  <thead>\n",
       "    <tr style=\"text-align: right;\">\n",
       "      <th></th>\n",
       "      <th>Blastx</th>\n",
       "      <th>Dh</th>\n",
       "      <th>Giga-Ton</th>\n",
       "      <th>Rb</th>\n",
       "    </tr>\n",
       "  </thead>\n",
       "  <tbody>\n",
       "    <tr>\n",
       "      <th>count</th>\n",
       "      <td>25963</td>\n",
       "      <td>25963</td>\n",
       "      <td>25963</td>\n",
       "      <td>25963</td>\n",
       "    </tr>\n",
       "    <tr>\n",
       "      <th>unique</th>\n",
       "      <td>2</td>\n",
       "      <td>2</td>\n",
       "      <td>2</td>\n",
       "      <td>2</td>\n",
       "    </tr>\n",
       "    <tr>\n",
       "      <th>top</th>\n",
       "      <td>1</td>\n",
       "      <td></td>\n",
       "      <td></td>\n",
       "      <td></td>\n",
       "    </tr>\n",
       "    <tr>\n",
       "      <th>freq</th>\n",
       "      <td>22974</td>\n",
       "      <td>25802</td>\n",
       "      <td>14140</td>\n",
       "      <td>23104</td>\n",
       "    </tr>\n",
       "  </tbody>\n",
       "</table>\n",
       "</div>"
      ],
      "text/plain": [
       "        Blastx     Dh Giga-Ton     Rb\n",
       "count    25963  25963    25963  25963\n",
       "unique       2      2        2      2\n",
       "top          1                       \n",
       "freq     22974  25802    14140  23104"
      ]
     },
     "execution_count": 8,
     "metadata": {},
     "output_type": "execute_result"
    }
   ],
   "source": [
    "expressiondata = {'Blastx': lineaC,\n",
    "                  'Giga-Ton': lineaG, \n",
    "                  'Rb': lineaR, \n",
    "                  \"Dh\": lineaD}\n",
    "expression = DataFrame(expressiondata)\n",
    "expression.describe()"
   ]
  },
  {
   "cell_type": "code",
   "execution_count": 9,
   "metadata": {
    "collapsed": false
   },
   "outputs": [
    {
     "data": {
      "text/html": [
       "<div>\n",
       "<table border=\"1\" class=\"dataframe\">\n",
       "  <thead>\n",
       "    <tr style=\"text-align: right;\">\n",
       "      <th></th>\n",
       "      <th>Blastx</th>\n",
       "      <th>Dh</th>\n",
       "      <th>Giga-Ton</th>\n",
       "      <th>Rb</th>\n",
       "    </tr>\n",
       "  </thead>\n",
       "  <tbody>\n",
       "    <tr>\n",
       "      <th>0</th>\n",
       "      <td></td>\n",
       "      <td></td>\n",
       "      <td>1</td>\n",
       "      <td></td>\n",
       "    </tr>\n",
       "    <tr>\n",
       "      <th>1</th>\n",
       "      <td>1</td>\n",
       "      <td></td>\n",
       "      <td></td>\n",
       "      <td></td>\n",
       "    </tr>\n",
       "    <tr>\n",
       "      <th>2</th>\n",
       "      <td>1</td>\n",
       "      <td></td>\n",
       "      <td></td>\n",
       "      <td></td>\n",
       "    </tr>\n",
       "    <tr>\n",
       "      <th>3</th>\n",
       "      <td></td>\n",
       "      <td></td>\n",
       "      <td>1</td>\n",
       "      <td></td>\n",
       "    </tr>\n",
       "    <tr>\n",
       "      <th>4</th>\n",
       "      <td>1</td>\n",
       "      <td></td>\n",
       "      <td>1</td>\n",
       "      <td></td>\n",
       "    </tr>\n",
       "  </tbody>\n",
       "</table>\n",
       "</div>"
      ],
      "text/plain": [
       "  Blastx Dh Giga-Ton Rb\n",
       "0                  1   \n",
       "1      1               \n",
       "2      1               \n",
       "3                  1   \n",
       "4      1           1   "
      ]
     },
     "execution_count": 9,
     "metadata": {},
     "output_type": "execute_result"
    }
   ],
   "source": [
    "expression.head()"
   ]
  },
  {
   "cell_type": "code",
   "execution_count": null,
   "metadata": {
    "collapsed": true
   },
   "outputs": [],
   "source": [
    "expression.to_csv(\"../panopea_data/data-results/Geoduck-transcriptome_v3_venndata4.csv\",index=None)\n",
    "\n"
   ]
  },
  {
   "cell_type": "markdown",
   "metadata": {},
   "source": [
    "## run in R (R-studio)"
   ]
  },
  {
   "cell_type": "markdown",
   "metadata": {},
   "source": [
    "library(VennDiagram)\n",
    "\n",
    "set <- read.csv(\"/Users/migueldelrio/Desktop/panopea/panopea_data/data-results/Geoduck-transcriptome_v3_venndata4.csv\")\n",
    "\n",
    "str(set)\n",
    "\n",
    "#Geoduck-transcriptome_v3_venndata4.csv\n",
    "\n",
    "grid.newpage()\n",
    "venn.plot <- draw.quad.venn(area1 = nrow(subset(set, Blastx==1)), area2 = nrow(subset(set, Giga.Ton==1)), area3 = nrow(subset(set, Rb==1)), area4 =nrow(subset(set, Dh==1)), n12 = nrow(subset(set, Blastx==1 & Giga.Ton==1)), n13 = nrow(subset(set, Blastx==1 & Rb==1)), n14 = nrow(subset(set, Blastx==1 & Dh==1)), n23 = nrow(subset(set, Giga.Ton==1 & Rb==1)), n24 = nrow(subset(set, Giga.Ton==1 & Dh==1)), n34 = nrow(subset(set, Rb==1 & Dh==1)), n123 = nrow(subset(set, Blastx==1 & Giga.Ton==1 & Rb==1)), n134 = nrow(subset(set, Blastx==1 & Dh==1 & Rb==1)), n124 = nrow(subset(set, Blastx==1 & Giga.Ton==1 & Dh==1)), n234 = nrow(subset(set, Giga.Ton==1 & Rb==1 & Dh==1)), n1234= nrow(subset(set, Blastx==1 & Giga.Ton==1 & Rb==1 & Dh==1)), category = c(\"Blastx\", \"GigaTon\", \"Rubase\", \"Dh\"), lty = \"blank\", fill = c(\"skyblue\", \"pink1\", \"mediumorchid\", \"orange\"))\n",
    "\n",
    "\n",
    "pdf(\"/Users/migueldelrio/Desktop/panopea/img/Panopea_venn4.pdf\")\n",
    "\n",
    "grid.draw(venn.plot)\n",
    "\n",
    "dev.off()\n"
   ]
  },
  {
   "cell_type": "markdown",
   "metadata": {},
   "source": [
    "### Result is "
   ]
  },
  {
   "cell_type": "markdown",
   "metadata": {},
   "source": [
    "<img src= \"../manuscript/figures/Panopea_venn4.png\">"
   ]
  },
  {
   "cell_type": "markdown",
   "metadata": {},
   "source": [
    "![](https://github.com/sr320/paper-pano-go/blob/master/manuscript/figures/Panopea_venn4.png)"
   ]
  },
  {
   "cell_type": "code",
   "execution_count": null,
   "metadata": {
    "collapsed": true
   },
   "outputs": [],
   "source": [
    "https://github.com/sr320/paper-pano-go/blob/master/manuscript/figures/Panopea_venn4.png"
   ]
  },
  {
   "cell_type": "markdown",
   "metadata": {},
   "source": [
    "## in case of comparing three columns the diagram can be obtained as follows"
   ]
  },
  {
   "cell_type": "code",
   "execution_count": 10,
   "metadata": {
    "collapsed": true
   },
   "outputs": [],
   "source": [
    "from matplotlib_venn import venn3_unweighted, venn2_unweighted"
   ]
  },
  {
   "cell_type": "code",
   "execution_count": 11,
   "metadata": {
    "collapsed": true
   },
   "outputs": [],
   "source": [
    "# para que aparezcan las graficas en la bitacora\n",
    "%matplotlib inline"
   ]
  },
  {
   "cell_type": "code",
   "execution_count": 12,
   "metadata": {
    "collapsed": false
   },
   "outputs": [
    {
     "data": {
      "text/plain": [
       "(25963, 25963, 25963, 25963)"
      ]
     },
     "execution_count": 12,
     "metadata": {},
     "output_type": "execute_result"
    }
   ],
   "source": [
    "lineaC =[] # data from blastx\n",
    "lineaG =[] # data from Giga\n",
    "lineaD =[] # data from Dh\n",
    "lineaR =[] # data from Ruphibase\n",
    "linea = \"\"\n",
    "n=1\n",
    "\n",
    "for row in f5.index:\n",
    "    row2=f5.loc[row]\n",
    "\n",
    "    if str(row2[\"UniProt_Acc\"])==\"nan\" and str(row2[\"sseqid2\"])==\"nan\" and str(row2[\"SPID\"])==\"nan\" and str(row2[\"Gigaton-ID\"])==\"nan\" and str(row2[\"Ruphibase_ID\"])==\"nan\" and str(row2[\"SigID\"])==\"nan\":\n",
    "        continue\n",
    "        \n",
    "    else:        \n",
    "        if str(row2[\"sseqid2\"]) !=\"nan\":\n",
    "            linea = row2[\"ContigID\"]\n",
    "        else:\n",
    "            linea = \"\"\n",
    "        lineaC.append(linea)\n",
    "        if str(row2[\"Gigaton-ID\"]) !=\"nan\":\n",
    "            linea = row2[\"ContigID\"]\n",
    "        else:\n",
    "            linea = \"\"\n",
    "        lineaG.append(linea)\n",
    "\n",
    "        if str(row2[\"Ruphibase_ID\"]) !=\"nan\":\n",
    "            linea = row2[\"ContigID\"]\n",
    "        else:\n",
    "            linea = \"\"\n",
    "        lineaR.append(linea)\n",
    "\n",
    "        if str(row2[\"SigID\"]) !=\"nan\":\n",
    "            linea = row2[\"ContigID\"]\n",
    "        else:\n",
    "            linea = \"\"\n",
    "        lineaD.append(linea)\n",
    "\n",
    "        n+=1\n",
    "        #if n==1000:\n",
    "        #    break\n",
    "\n",
    "len(lineaC), len(lineaG), len(lineaD), len(lineaR)"
   ]
  },
  {
   "cell_type": "code",
   "execution_count": 14,
   "metadata": {
    "collapsed": true
   },
   "outputs": [],
   "source": [
    "lineaC = set(lineaC)\n",
    "lineaG = set(lineaG)\n",
    "lineaR = set(lineaR)\n",
    "lineaD = set(lineaD)"
   ]
  },
  {
   "cell_type": "code",
   "execution_count": 15,
   "metadata": {
    "collapsed": false
   },
   "outputs": [
    {
     "data": {
      "image/png": "[encoded data removed]",
      "text/plain": [
       "<matplotlib.figure.Figure at 0x118d8ab00>"
      ]
     },
     "metadata": {},
     "output_type": "display_data"
    }
   ],
   "source": [
    "venn3_unweighted([lineaC, lineaG, lineaR], ('Blastx', 'Giga-Ton', 'Rb'))\n",
    "plt.show()"
   ]
  },
  {
   "cell_type": "code",
   "execution_count": 16,
   "metadata": {
    "collapsed": false
   },
   "outputs": [
    {
     "data": {
      "image/png": "[encoded data removed]",
      "text/plain": [
       "<matplotlib.figure.Figure at 0x118ad1c50>"
      ]
     },
     "metadata": {},
     "output_type": "display_data"
    }
   ],
   "source": [
    "venn3_unweighted([lineaC, lineaG, lineaD], ('Blastx', 'Giga-Ton', 'Dh'))\n",
    "plt.show()"
   ]
  },
  {
   "cell_type": "code",
   "execution_count": 17,
   "metadata": {
    "collapsed": false
   },
   "outputs": [
    {
     "data": {
      "image/png": "[encoded data removed]",
      "text/plain": [
       "<matplotlib.figure.Figure at 0x118a21ac8>"
      ]
     },
     "metadata": {},
     "output_type": "display_data"
    }
   ],
   "source": [
    "venn3_unweighted([lineaC, lineaR, lineaD], ('Blastx', 'Ru', 'Dh'))\n",
    "plt.show()"
   ]
  },
  {
   "cell_type": "code",
   "execution_count": 18,
   "metadata": {
    "collapsed": false
   },
   "outputs": [
    {
     "data": {
      "image/png": "[encoded data removed]",
      "text/plain": [
       "<matplotlib.figure.Figure at 0x117fcbfd0>"
      ]
     },
     "metadata": {},
     "output_type": "display_data"
    }
   ],
   "source": [
    "venn3_unweighted([lineaG, lineaR, lineaD], ('Giga-Ton', 'Ru', \"Dh\"))\n",
    "plt.show()"
   ]
  },
  {
   "cell_type": "code",
   "execution_count": null,
   "metadata": {
    "collapsed": true
   },
   "outputs": [],
   "source": []
  },
  {
   "cell_type": "markdown",
   "metadata": {},
   "source": [
    "## Other diagrams"
   ]
  },
  {
   "cell_type": "code",
   "execution_count": 19,
   "metadata": {
    "collapsed": false
   },
   "outputs": [
    {
     "data": {
      "image/png": "[encoded data removed]",
      "text/plain": [
       "<matplotlib.figure.Figure at 0x1172b6b00>"
      ]
     },
     "metadata": {},
     "output_type": "display_data"
    }
   ],
   "source": [
    "venn2_unweighted([lineaC, lineaG], ('Blastx', 'Giga-Ton'))\n",
    "plt.show()"
   ]
  },
  {
   "cell_type": "code",
   "execution_count": 20,
   "metadata": {
    "collapsed": false
   },
   "outputs": [
    {
     "data": {
      "image/png": "[encoded data removed]",
      "text/plain": [
       "<matplotlib.figure.Figure at 0x1163d8cf8>"
      ]
     },
     "metadata": {},
     "output_type": "display_data"
    }
   ],
   "source": [
    "venn2_unweighted([lineaC, lineaR], ('Blastx', 'Ruphi'))\n",
    "plt.show()"
   ]
  },
  {
   "cell_type": "code",
   "execution_count": 21,
   "metadata": {
    "collapsed": false
   },
   "outputs": [
    {
     "data": {
      "image/png": "[encoded data removed]",
      "text/plain": [
       "<matplotlib.figure.Figure at 0x11762d198>"
      ]
     },
     "metadata": {},
     "output_type": "display_data"
    }
   ],
   "source": [
    "venn2_unweighted([lineaC, lineaD], ('Blastx', 'Dh'))\n",
    "plt.show()"
   ]
  },
  {
   "cell_type": "code",
   "execution_count": null,
   "metadata": {
    "collapsed": true
   },
   "outputs": [],
   "source": []
  }
 ],
 "metadata": {
  "anaconda-cloud": {},
  "kernelspec": {
   "display_name": "Python [default]",
   "language": "python",
   "name": "python3"
  },
  "language_info": {
   "codemirror_mode": {
    "name": "ipython",
    "version": 3
   },
   "file_extension": ".py",
   "mimetype": "text/x-python",
   "name": "python",
   "nbconvert_exporter": "python",
   "pygments_lexer": "ipython3",
   "version": "3.4.5"
  }
 },
 "nbformat": 4,
 "nbformat_minor": 0
}
