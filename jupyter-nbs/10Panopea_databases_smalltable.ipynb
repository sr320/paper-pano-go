{
 "cells": [
  {
   "cell_type": "markdown",
   "metadata": {},
   "source": [
    "# notebook small table\n",
    "# *Panopea* transcriptome"
   ]
  },
  {
   "cell_type": "code",
   "execution_count": 1,
   "metadata": {
    "collapsed": true
   },
   "outputs": [],
   "source": [
    "from Bio import SeqIO, AlignIO\n",
    "from Bio import SeqIO, SwissProt\n",
    "from Bio.SeqUtils import GC, GC_skew\n",
    "from Bio.SeqRecord import SeqRecord\n",
    "\n",
    "from pandas import Series, DataFrame\n",
    "import pandas as pd\n",
    "\n",
    "import pylab\n",
    "import matplotlib.pyplot as plt \n",
    "\n",
    "import numpy as np\n",
    "from numpy import *"
   ]
  },
  {
   "cell_type": "code",
   "execution_count": 2,
   "metadata": {
    "collapsed": true
   },
   "outputs": [],
   "source": [
    "def columnas(file):\n",
    "    m, m1 = 0,1\n",
    "    for rowm in file:\n",
    "        print ( \"%2i %-16s\" % (m1,rowm), end=\"\\t\")\n",
    "        m+=1\n",
    "        m1+=1\n",
    "        if m==4:\n",
    "            print(\"\")\n",
    "            m=0\n",
    "    print()"
   ]
  },
  {
   "cell_type": "code",
   "execution_count": null,
   "metadata": {
    "collapsed": true
   },
   "outputs": [],
   "source": [
    "secuencias.to_csv(\"../panopea_data/data-results/Geoduck-transcriptome_v3_smalltable.csv\",index=None)\n",
    "\n"
   ]
  },
  {
   "cell_type": "code",
   "execution_count": 5,
   "metadata": {
    "collapsed": false
   },
   "outputs": [
    {
     "data": {
      "text/html": [
       "<div>\n",
       "<table border=\"1\" class=\"dataframe\">\n",
       "  <thead>\n",
       "    <tr style=\"text-align: right;\">\n",
       "      <th></th>\n",
       "      <th>ContigID</th>\n",
       "      <th>length</th>\n",
       "      <th>GC</th>\n",
       "      <th>CpG</th>\n",
       "      <th>male_unique</th>\n",
       "      <th>female_unique</th>\n",
       "      <th>sex</th>\n",
       "      <th>Evalue</th>\n",
       "      <th>UniProt_Acc</th>\n",
       "      <th>Protein names</th>\n",
       "      <th>...</th>\n",
       "      <th>Gigaton-ID</th>\n",
       "      <th>evalue-Ru</th>\n",
       "      <th>Ruphibase_ID</th>\n",
       "      <th>evalue-SIG</th>\n",
       "      <th>SigID</th>\n",
       "      <th>Cluster</th>\n",
       "      <th>Tissue-enriched-expression</th>\n",
       "      <th>sseqid3</th>\n",
       "      <th>Organism</th>\n",
       "      <th>GO</th>\n",
       "    </tr>\n",
       "  </thead>\n",
       "  <tbody>\n",
       "    <tr>\n",
       "      <th>0</th>\n",
       "      <td>comp100029_c1_seq1</td>\n",
       "      <td>288</td>\n",
       "      <td>50.0000</td>\n",
       "      <td>0.669506</td>\n",
       "      <td>15</td>\n",
       "      <td>11</td>\n",
       "      <td>NaN</td>\n",
       "      <td>NaN</td>\n",
       "      <td>NaN</td>\n",
       "      <td>NaN</td>\n",
       "      <td>...</td>\n",
       "      <td>CHOYP_LOC412155.1.2</td>\n",
       "      <td>NaN</td>\n",
       "      <td>NaN</td>\n",
       "      <td>NaN</td>\n",
       "      <td>NaN</td>\n",
       "      <td>NaN</td>\n",
       "      <td>NaN</td>\n",
       "      <td>NaN</td>\n",
       "      <td>NaN</td>\n",
       "      <td>NaN</td>\n",
       "    </tr>\n",
       "    <tr>\n",
       "      <th>1</th>\n",
       "      <td>comp100065_c0_seq1</td>\n",
       "      <td>201</td>\n",
       "      <td>50.2488</td>\n",
       "      <td>0.886765</td>\n",
       "      <td>1</td>\n",
       "      <td>10</td>\n",
       "      <td>NaN</td>\n",
       "      <td>2.000000e-08</td>\n",
       "      <td>Q5PRC1</td>\n",
       "      <td>Lipoma HMGIC fusion partner homolog</td>\n",
       "      <td>...</td>\n",
       "      <td>NaN</td>\n",
       "      <td>NaN</td>\n",
       "      <td>NaN</td>\n",
       "      <td>NaN</td>\n",
       "      <td>NaN</td>\n",
       "      <td>NaN</td>\n",
       "      <td>NaN</td>\n",
       "      <td>LHFP_DANRE</td>\n",
       "      <td>Danio rerio (Zebrafish) (Brachydanio rerio)</td>\n",
       "      <td>NaN</td>\n",
       "    </tr>\n",
       "  </tbody>\n",
       "</table>\n",
       "<p>2 rows × 25 columns</p>\n",
       "</div>"
      ],
      "text/plain": [
       "             ContigID  length       GC       CpG  male_unique  female_unique  \\\n",
       "0  comp100029_c1_seq1     288  50.0000  0.669506           15             11   \n",
       "1  comp100065_c0_seq1     201  50.2488  0.886765            1             10   \n",
       "\n",
       "   sex        Evalue UniProt_Acc                        Protein names ...   \\\n",
       "0  NaN           NaN         NaN                                  NaN ...    \n",
       "1  NaN  2.000000e-08      Q5PRC1  Lipoma HMGIC fusion partner homolog ...    \n",
       "\n",
       "            Gigaton-ID evalue-Ru Ruphibase_ID evalue-SIG  SigID Cluster  \\\n",
       "0  CHOYP_LOC412155.1.2       NaN          NaN        NaN    NaN     NaN   \n",
       "1                  NaN       NaN          NaN        NaN    NaN     NaN   \n",
       "\n",
       "   Tissue-enriched-expression     sseqid3  \\\n",
       "0                         NaN         NaN   \n",
       "1                         NaN  LHFP_DANRE   \n",
       "\n",
       "                                      Organism   GO  \n",
       "0                                          NaN  NaN  \n",
       "1  Danio rerio (Zebrafish) (Brachydanio rerio)  NaN  \n",
       "\n",
       "[2 rows x 25 columns]"
      ]
     },
     "execution_count": 5,
     "metadata": {},
     "output_type": "execute_result"
    }
   ],
   "source": [
    "secuencias = pd.read_csv(\"../panopea_data/data-results/Geoduck-transcriptome_v3_smalltable.csv\")#, \n",
    "#index_col=None, delimiter=\",\", engine='python' )\n",
    "#f5.read_csv(\"../panopea_data/data-results/Geoduck-transcriptome_v3_bigtablefinal.csv\",index=None)\n",
    "secuencias.head(2)\n"
   ]
  },
  {
   "cell_type": "markdown",
   "metadata": {},
   "source": [
    "# Process to obtain data for drawing the Venn diagram "
   ]
  },
  {
   "cell_type": "code",
   "execution_count": 17,
   "metadata": {
    "collapsed": false
   },
   "outputs": [
    {
     "data": {
      "text/plain": [
       "(25963, 25963, 25963, 25963)"
      ]
     },
     "execution_count": 17,
     "metadata": {},
     "output_type": "execute_result"
    }
   ],
   "source": [
    "lineaC =[] # data from blastx\n",
    "lineaG =[] # data from Giga\n",
    "lineaD =[] # data from Dh\n",
    "lineaR =[] # data from Ruphibase\n",
    "linea = \"\"\n",
    "n=1\n",
    "\n",
    "for row in secuencias.index:\n",
    "    row2=secuencias.loc[row]\n",
    "\n",
    "    if str(row2[\"UniProt_Acc\"])==\"nan\" and str(row2[\"Gigaton-ID\"])==\"nan\" and str(row2[\"Ruphibase_ID\"])==\"nan\" and str(row2[\"SigID\"])==\"nan\":\n",
    "        continue\n",
    "        \n",
    "    else:        \n",
    "        if str(row2[\"UniProt_Acc\"]) !=\"nan\":\n",
    "            linea = 1\n",
    "        else:\n",
    "            linea = \"\"\n",
    "        lineaC.append(linea)\n",
    "        if str(row2[\"Gigaton-ID\"]) !=\"nan\":\n",
    "            linea = 1\n",
    "        else:\n",
    "            linea = \"\"\n",
    "        lineaG.append(linea)\n",
    "\n",
    "        if str(row2[\"Ruphibase_ID\"]) !=\"nan\":\n",
    "            linea = 1\n",
    "        else:\n",
    "            linea = \"\"\n",
    "        lineaR.append(linea)\n",
    "\n",
    "        if str(row2[\"SigID\"]) !=\"nan\":\n",
    "            linea = 1\n",
    "        else:\n",
    "            linea = \"\"\n",
    "        lineaD.append(linea)\n",
    "\n",
    "        n+=1\n",
    "        #if n==1000:\n",
    "        #    break\n",
    "\n",
    "len(lineaC), len(lineaG), len(lineaD), len(lineaR)"
   ]
  },
  {
   "cell_type": "code",
   "execution_count": 7,
   "metadata": {
    "collapsed": false
   },
   "outputs": [
    {
     "data": {
      "text/html": [
       "<div>\n",
       "<table border=\"1\" class=\"dataframe\">\n",
       "  <thead>\n",
       "    <tr style=\"text-align: right;\">\n",
       "      <th></th>\n",
       "      <th>Blastx</th>\n",
       "      <th>Dh</th>\n",
       "      <th>Giga-Ton</th>\n",
       "      <th>Rb</th>\n",
       "    </tr>\n",
       "  </thead>\n",
       "  <tbody>\n",
       "    <tr>\n",
       "      <th>count</th>\n",
       "      <td>25963</td>\n",
       "      <td>25963</td>\n",
       "      <td>25963</td>\n",
       "      <td>25963</td>\n",
       "    </tr>\n",
       "    <tr>\n",
       "      <th>unique</th>\n",
       "      <td>2</td>\n",
       "      <td>2</td>\n",
       "      <td>2</td>\n",
       "      <td>2</td>\n",
       "    </tr>\n",
       "    <tr>\n",
       "      <th>top</th>\n",
       "      <td>1</td>\n",
       "      <td></td>\n",
       "      <td></td>\n",
       "      <td></td>\n",
       "    </tr>\n",
       "    <tr>\n",
       "      <th>freq</th>\n",
       "      <td>22974</td>\n",
       "      <td>25802</td>\n",
       "      <td>14140</td>\n",
       "      <td>23104</td>\n",
       "    </tr>\n",
       "  </tbody>\n",
       "</table>\n",
       "</div>"
      ],
      "text/plain": [
       "        Blastx     Dh Giga-Ton     Rb\n",
       "count    25963  25963    25963  25963\n",
       "unique       2      2        2      2\n",
       "top          1                       \n",
       "freq     22974  25802    14140  23104"
      ]
     },
     "execution_count": 7,
     "metadata": {},
     "output_type": "execute_result"
    }
   ],
   "source": [
    "expressiondata = {'Blastx': lineaC,\n",
    "                  'Giga-Ton': lineaG, \n",
    "                  'Rb': lineaR, \n",
    "                  \"Dh\": lineaD}\n",
    "expression = DataFrame(expressiondata)\n",
    "expression.describe()"
   ]
  },
  {
   "cell_type": "code",
   "execution_count": 8,
   "metadata": {
    "collapsed": false
   },
   "outputs": [
    {
     "data": {
      "text/html": [
       "<div>\n",
       "<table border=\"1\" class=\"dataframe\">\n",
       "  <thead>\n",
       "    <tr style=\"text-align: right;\">\n",
       "      <th></th>\n",
       "      <th>Blastx</th>\n",
       "      <th>Dh</th>\n",
       "      <th>Giga-Ton</th>\n",
       "      <th>Rb</th>\n",
       "    </tr>\n",
       "  </thead>\n",
       "  <tbody>\n",
       "    <tr>\n",
       "      <th>0</th>\n",
       "      <td></td>\n",
       "      <td></td>\n",
       "      <td>1</td>\n",
       "      <td></td>\n",
       "    </tr>\n",
       "    <tr>\n",
       "      <th>1</th>\n",
       "      <td>1</td>\n",
       "      <td></td>\n",
       "      <td></td>\n",
       "      <td></td>\n",
       "    </tr>\n",
       "    <tr>\n",
       "      <th>2</th>\n",
       "      <td>1</td>\n",
       "      <td></td>\n",
       "      <td></td>\n",
       "      <td></td>\n",
       "    </tr>\n",
       "    <tr>\n",
       "      <th>3</th>\n",
       "      <td></td>\n",
       "      <td></td>\n",
       "      <td>1</td>\n",
       "      <td></td>\n",
       "    </tr>\n",
       "    <tr>\n",
       "      <th>4</th>\n",
       "      <td>1</td>\n",
       "      <td></td>\n",
       "      <td>1</td>\n",
       "      <td></td>\n",
       "    </tr>\n",
       "  </tbody>\n",
       "</table>\n",
       "</div>"
      ],
      "text/plain": [
       "  Blastx Dh Giga-Ton Rb\n",
       "0                  1   \n",
       "1      1               \n",
       "2      1               \n",
       "3                  1   \n",
       "4      1           1   "
      ]
     },
     "execution_count": 8,
     "metadata": {},
     "output_type": "execute_result"
    }
   ],
   "source": [
    "expression.head()"
   ]
  },
  {
   "cell_type": "code",
   "execution_count": 9,
   "metadata": {
    "collapsed": true
   },
   "outputs": [],
   "source": [
    "expression.to_csv(\"../panopea_data/data-results/Geoduck-transcriptome_v3_venndata4.csv\",index=None)\n",
    "\n"
   ]
  },
  {
   "cell_type": "markdown",
   "metadata": {},
   "source": [
    "## run in R (R-studio)"
   ]
  },
  {
   "cell_type": "markdown",
   "metadata": {
    "collapsed": true
   },
   "source": [
    "## Four databases\n",
    "```\n",
    "library(VennDiagram)\n",
    "set <- \n",
    "read.csv(\"/Users/migueldelrio/Desktop/panopea/panopea_data/data-results/Geoduck-transcriptome_v3_venndata4.csv\")\n",
    "str(set)\n",
    "\n",
    "grid.newpage()\n",
    "venn.plot <- draw.quad.venn(area1 = nrow(subset(set, Blastx==1)), area2 = nrow(subset(set, Giga.Ton==1)), \n",
    "                            area3 = nrow(subset(set, Rb==1)), area4 =nrow(subset(set, Dh==1)), \n",
    "                            n12 = nrow(subset(set, Blastx==1 & Giga.Ton==1)), \n",
    "                            n13 = nrow(subset(set, Blastx==1 & Rb==1)), \n",
    "                            n14 = nrow(subset(set, Blastx==1 & Dh==1)), \n",
    "                            n23 = nrow(subset(set, Giga.Ton==1 & Rb==1)), \n",
    "                            n24 = nrow(subset(set, Giga.Ton==1 & Dh==1)), \n",
    "                            n34 = nrow(subset(set, Rb==1 & Dh==1)), \n",
    "                            n123 = nrow(subset(set, Blastx==1 & Giga.Ton==1 & Rb==1)), \n",
    "                            n134 = nrow(subset(set, Blastx==1 & Dh==1 & Rb==1)), \n",
    "                            n124 = nrow(subset(set, Blastx==1 & Giga.Ton==1 & Dh==1)), \n",
    "                            n234 = nrow(subset(set, Giga.Ton==1 & Rb==1 & Dh==1)), \n",
    "                            n1234= nrow(subset(set, Blastx==1 & Giga.Ton==1 & Rb==1 & Dh==1)), \n",
    "                            category = c(\"Uniprot/Swiss\", \"GigaTon\", \"Ruphibase\", \"Dh\"), lty = \"blank\", \n",
    "                            fill = c(\"skyblue\", \"pink1\", \"mediumorchid\", \"orange\"))\n",
    "\n",
    "pdf(\"/Users/migueldelrio/Desktop/panopea/img/Panopea_venn4.pdf\")\n",
    "grid.draw(venn.plot)\n",
    "dev.off()\n",
    "\n",
    "png(\"/Users/migueldelrio/Desktop/panopea/img/Panopea_venn4.png\")\n",
    "grid.draw(venn.plot)\n",
    "dev.off()\n",
    "\n",
    "```\n"
   ]
  },
  {
   "cell_type": "markdown",
   "metadata": {},
   "source": [
    "### Result is "
   ]
  },
  {
   "cell_type": "markdown",
   "metadata": {},
   "source": [
    "<img src= \"../img/Panopea_venn4.png\">"
   ]
  },
  {
   "cell_type": "code",
   "execution_count": 41,
   "metadata": {
    "collapsed": false
   },
   "outputs": [
    {
     "name": "stdout",
     "output_type": "stream",
     "text": [
      "/bin/sh: -c: line 0: syntax error near unexpected token `newline'\r\n",
      "/bin/sh: -c: line 0: `[venn]<https://github.com/sr320/paper-pano-go/blob/master/manuscript/figures/Panopea_venn4.png>'\r\n"
     ]
    }
   ],
   "source": [
    "![venn]<https://github.com/sr320/paper-pano-go/blob/master/manuscript/figures/Panopea_venn4.png>"
   ]
  },
  {
   "cell_type": "code",
   "execution_count": null,
   "metadata": {
    "collapsed": false
   },
   "outputs": [],
   "source": [
    "https://github.com/sr320/paper-pano-go/blob/master/manuscript/figures/Panopea_venn4.png"
   ]
  },
  {
   "cell_type": "markdown",
   "metadata": {},
   "source": [
    "## in case of comparing three columns the diagram can be obtained as follows"
   ]
  },
  {
   "cell_type": "markdown",
   "metadata": {},
   "source": [
    "## Three databases\n",
    "```\n",
    "library(VennDiagram)\n",
    "set <- \n",
    "read.csv(\"/Users/migueldelrio/Desktop/panopea/panopea_data/data-results/Geoduck-transcriptome_v3_venndata4.csv\")\n",
    "str(set)\n",
    "\n",
    "grid.newpage()\n",
    "venn.plot <-draw.triple.venn(area1 = nrow(subset(set, Blastx==1)), area2 = nrow(subset(set, Giga.Ton==1)),\n",
    "                 area3 = nrow(subset(set, Rb==1)), \n",
    "                 n12 = nrow(subset(set, Blastx==1 & Giga.Ton==1)), \n",
    "                 n13 = nrow(subset(set, Blastx==1 & Rb==1)), \n",
    "                 n23 = nrow(subset(set, Giga.Ton==1 & Rb==1)), \n",
    "                 n123 = nrow(subset(set, Blastx==1 & Giga.Ton==1 & Rb==1)), \n",
    "                 category = c(\"Uniprot/Swiss\", \"GigaTon\", \"Ruphibase\"), lty = \"blank\", \n",
    "                 fill = c(\"skyblue\", \"pink1\", \"mediumorchid\"))\n",
    "# saving as png file\n",
    "png(\"/Users/migueldelrio/Desktop/panopea/img/Panopea_venn3.png\")\n",
    "grid.draw(venn.plot)\n",
    "dev.off()\n",
    "# saving as pdf file\n",
    "pdf(\"/Users/migueldelrio/Desktop/panopea/img/Panopea_venn3.pdf\")\n",
    "grid.draw(venn.plot)\n",
    "dev.off()\n",
    "```\n"
   ]
  },
  {
   "cell_type": "markdown",
   "metadata": {},
   "source": [
    "<img src= \"../img/Panopea_venn3.png\">"
   ]
  },
  {
   "cell_type": "code",
   "execution_count": 10,
   "metadata": {
    "collapsed": true
   },
   "outputs": [],
   "source": [
    "from matplotlib_venn import venn3_unweighted, venn2_unweighted"
   ]
  },
  {
   "cell_type": "code",
   "execution_count": 11,
   "metadata": {
    "collapsed": true
   },
   "outputs": [],
   "source": [
    "# para que aparezcan las graficas en la bitacora\n",
    "%matplotlib inline"
   ]
  },
  {
   "cell_type": "markdown",
   "metadata": {},
   "source": [
    "## python uses different data coding than R"
   ]
  },
  {
   "cell_type": "code",
   "execution_count": 23,
   "metadata": {
    "collapsed": false
   },
   "outputs": [
    {
     "data": {
      "text/plain": [
       "(25963, 25963, 25963, 25963)"
      ]
     },
     "execution_count": 23,
     "metadata": {},
     "output_type": "execute_result"
    }
   ],
   "source": [
    "lineaC =[] # data from blastx\n",
    "lineaG =[] # data from Giga\n",
    "lineaD =[] # data from Dh\n",
    "lineaR =[] # data from Ruphibase\n",
    "linea = \"\"\n",
    "n=1\n",
    "\n",
    "#for row in f5.index:\n",
    "#    row2=f5.loc[row]\n",
    "for row in secuencias.index:\n",
    "    row2=secuencias.loc[row]\n",
    "\n",
    "\n",
    "    if str(row2[\"UniProt_Acc\"])==\"nan\" and str(row2[\"Gigaton-ID\"])==\"nan\" and str(row2[\"Ruphibase_ID\"])==\"nan\" and str(row2[\"SigID\"])==\"nan\":\n",
    "        continue\n",
    "        \n",
    "    else:        \n",
    "        if str(row2[\"UniProt_Acc\"]) !=\"nan\":\n",
    "            linea = row2[\"ContigID\"]\n",
    "        else:\n",
    "            linea = \"\"\n",
    "        lineaC.append(linea)\n",
    "        if str(row2[\"Gigaton-ID\"]) !=\"nan\":\n",
    "            linea = row2[\"ContigID\"]\n",
    "        else:\n",
    "            linea = \"\"\n",
    "        lineaG.append(linea)\n",
    "\n",
    "        if str(row2[\"Ruphibase_ID\"]) !=\"nan\":\n",
    "            linea = row2[\"ContigID\"]\n",
    "        else:\n",
    "            linea = \"\"\n",
    "        lineaR.append(linea)\n",
    "\n",
    "        if str(row2[\"SigID\"]) !=\"nan\":\n",
    "            linea = row2[\"ContigID\"]\n",
    "        else:\n",
    "            linea = \"\"\n",
    "        lineaD.append(linea)\n",
    "\n",
    "        n+=1\n",
    "        #if n==1000:\n",
    "        #    break\n",
    "\n",
    "len(lineaC), len(lineaG), len(lineaD), len(lineaR)"
   ]
  },
  {
   "cell_type": "code",
   "execution_count": 30,
   "metadata": {
    "collapsed": true
   },
   "outputs": [],
   "source": [
    "lineaC = set(lineaC)\n",
    "lineaG = set(lineaG)\n",
    "lineaR = set(lineaR)\n",
    "lineaD = set(lineaD)"
   ]
  },
  {
   "cell_type": "code",
   "execution_count": 31,
   "metadata": {
    "collapsed": false
   },
   "outputs": [
    {
     "data": {
      "image/png": "[encoded data removed]",
      "text/plain": [
       "<matplotlib.figure.Figure at 0x118586da0>"
      ]
     },
     "metadata": {},
     "output_type": "display_data"
    }
   ],
   "source": [
    "venn3_unweighted([lineaC, lineaG, lineaR], ('Uniprot/SwissProt', 'GigaTON', 'Rb'))\n",
    "plt.show()"
   ]
  },
  {
   "cell_type": "code",
   "execution_count": 32,
   "metadata": {
    "collapsed": false
   },
   "outputs": [
    {
     "data": {
      "image/png": "[encoded data removed]",
      "text/plain": [
       "<matplotlib.figure.Figure at 0x1185643c8>"
      ]
     },
     "metadata": {},
     "output_type": "display_data"
    }
   ],
   "source": [
    "venn3_unweighted([lineaC, lineaG, lineaD], ('Uniprot/SwissProt', 'Giga-Ton', 'Dh'))\n",
    "plt.show()"
   ]
  },
  {
   "cell_type": "code",
   "execution_count": 33,
   "metadata": {
    "collapsed": false
   },
   "outputs": [
    {
     "data": {
      "image/png": "[encoded data removed]",
      "text/plain": [
       "<matplotlib.figure.Figure at 0x118748d30>"
      ]
     },
     "metadata": {},
     "output_type": "display_data"
    }
   ],
   "source": [
    "venn3_unweighted([lineaC, lineaR, lineaD], ('Uniprot/SwissProt', 'Ru', 'Dh'))\n",
    "plt.show()"
   ]
  },
  {
   "cell_type": "code",
   "execution_count": 34,
   "metadata": {
    "collapsed": false
   },
   "outputs": [
    {
     "data": {
      "image/png": "[encoded data removed]",
      "text/plain": [
       "<matplotlib.figure.Figure at 0x11897a630>"
      ]
     },
     "metadata": {},
     "output_type": "display_data"
    }
   ],
   "source": [
    "venn3_unweighted([lineaG, lineaR, lineaD], ('Giga-Ton', 'Ru', \"Dh\"))\n",
    "plt.show()"
   ]
  },
  {
   "cell_type": "code",
   "execution_count": null,
   "metadata": {
    "collapsed": true
   },
   "outputs": [],
   "source": []
  },
  {
   "cell_type": "markdown",
   "metadata": {},
   "source": [
    "## Other diagrams"
   ]
  },
  {
   "cell_type": "code",
   "execution_count": 35,
   "metadata": {
    "collapsed": false
   },
   "outputs": [
    {
     "data": {
      "image/png": "[encoded data removed]",
      "text/plain": [
       "<matplotlib.figure.Figure at 0x118a2e780>"
      ]
     },
     "metadata": {},
     "output_type": "display_data"
    }
   ],
   "source": [
    "venn2_unweighted([lineaC, lineaG], ('Uniprot/SwissProt', 'Giga-Ton'))\n",
    "plt.show()"
   ]
  },
  {
   "cell_type": "code",
   "execution_count": 36,
   "metadata": {
    "collapsed": false
   },
   "outputs": [
    {
     "data": {
      "image/png": "[encoded data removed]",
      "text/plain": [
       "<matplotlib.figure.Figure at 0x118d96e48>"
      ]
     },
     "metadata": {},
     "output_type": "display_data"
    }
   ],
   "source": [
    "venn2_unweighted([lineaC, lineaR], ('Uniprot/SwissProt', 'Ruphi'))\n",
    "plt.show()"
   ]
  },
  {
   "cell_type": "code",
   "execution_count": 37,
   "metadata": {
    "collapsed": false
   },
   "outputs": [
    {
     "data": {
      "image/png": "[encoded data removed]",
      "text/plain": [
       "<matplotlib.figure.Figure at 0x1190465f8>"
      ]
     },
     "metadata": {},
     "output_type": "display_data"
    }
   ],
   "source": [
    "venn2_unweighted([lineaC, lineaD], ('Uniprot/SwissProt', 'Dh'))\n",
    "plt.show()"
   ]
  },
  {
   "cell_type": "code",
   "execution_count": null,
   "metadata": {
    "collapsed": true
   },
   "outputs": [],
   "source": []
  },
  {
   "cell_type": "code",
   "execution_count": null,
   "metadata": {
    "collapsed": true
   },
   "outputs": [],
   "source": []
  }
 ],
 "metadata": {
  "anaconda-cloud": {},
  "kernelspec": {
   "display_name": "Python [default]",
   "language": "python",
   "name": "python3"
  },
  "language_info": {
   "codemirror_mode": {
    "name": "ipython",
    "version": 3
   },
   "file_extension": ".py",
   "mimetype": "text/x-python",
   "name": "python",
   "nbconvert_exporter": "python",
   "pygments_lexer": "ipython3",
   "version": "3.4.5"
  }
 },
 "nbformat": 4,
 "nbformat_minor": 0
}
