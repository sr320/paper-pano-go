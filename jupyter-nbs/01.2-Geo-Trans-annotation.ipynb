{
 "cells": [
  {
   "cell_type": "markdown",
   "metadata": {
    "button": false,
    "deletable": true,
    "new_sheet": false,
    "run_control": {
     "read_only": false
    }
   },
   "source": [
    "# Transcriptome Annotation"
   ]
  },
  {
   "cell_type": "code",
   "execution_count": null,
   "metadata": {
    "button": false,
    "collapsed": true,
    "deletable": true,
    "new_sheet": false,
    "run_control": {
     "read_only": false
    }
   },
   "outputs": [],
   "source": []
  },
  {
   "cell_type": "markdown",
   "metadata": {
    "button": false,
    "deletable": true,
    "new_sheet": false,
    "run_control": {
     "read_only": false
    }
   },
   "source": [
    "### Looking at Swiss-Prot hits"
   ]
  },
  {
   "cell_type": "code",
   "execution_count": 33,
   "metadata": {
    "button": false,
    "collapsed": false,
    "deletable": true,
    "new_sheet": false,
    "run_control": {
     "read_only": false
    }
   },
   "outputs": [
    {
     "name": "stdout",
     "output_type": "stream",
     "text": [
      "comp95_c0_seq1\tsp\tQ8K358\tPIGU_MOUSE\t67.53\t77\t25\t0\t231\t1\t258\t334\t7e-32\t  119\n",
      "comp146_c0_seq1\tsp\tP37137\tLHX5_XENLA\t79.31\t58\t12\t0\t175\t2\t4\t61\t4e-31\t  116\n",
      "   23165 ../data-results/Geoduck-tranv2-blastx_sprot.tab\n"
     ]
    }
   ],
   "source": [
    "!head -2 ../data-results/Geoduck-tranv2-blastx_sprot.tab \n",
    "!wc -l ../data-results/Geoduck-tranv2-blastx_sprot.tab "
   ]
  },
  {
   "cell_type": "code",
   "execution_count": 6,
   "metadata": {
    "button": false,
    "collapsed": true,
    "deletable": true,
    "new_sheet": false,
    "run_control": {
     "read_only": false
    }
   },
   "outputs": [],
   "source": [
    "#considering CpG analysis curious to know if 5-3' directionality is required."
   ]
  },
  {
   "cell_type": "code",
   "execution_count": 7,
   "metadata": {
    "button": false,
    "collapsed": true,
    "deletable": true,
    "new_sheet": false,
    "run_control": {
     "read_only": false
    }
   },
   "outputs": [],
   "source": [
    "#Q how many seqs are \"flipped\""
   ]
  },
  {
   "cell_type": "markdown",
   "metadata": {
    "button": false,
    "deletable": true,
    "new_sheet": false,
    "run_control": {
     "read_only": false
    }
   },
   "source": [
    "`qseqid sseqid pident length mismatch gapopen qstart qend sstart send evalue bitscore`"
   ]
  },
  {
   "cell_type": "markdown",
   "metadata": {
    "button": false,
    "deletable": true,
    "new_sheet": false,
    "run_control": {
     "read_only": false
    }
   },
   "source": [
    "These match in reverse complement- will confirm\n",
    "<img src=\"http://eagle.fish.washington.edu/cnidarian/skitch/01_2-Geo-Trans-annotation_1BF64666.png\" alt=\"01_2-Geo-Trans-annotation_1BF64666.png\"/>"
   ]
  },
  {
   "cell_type": "code",
   "execution_count": 12,
   "metadata": {
    "button": false,
    "collapsed": false,
    "deletable": true,
    "new_sheet": false,
    "run_control": {
     "read_only": false
    }
   },
   "outputs": [
    {
     "name": "stdout",
     "output_type": "stream",
     "text": [
      ">comp7_c0_seq1 len=210 path=[5082:0-45 293:46-209]\r\n",
      "TTAACCAAGGTGTGACGCCGACGCAAGGGTGAGTAGAATAGCTCTGTTTATTATCCGAAT\r\n",
      "AGTCGAGCTAAAAACACAAAGAATAAAGGTTTAACAGTTCTATCTGAAATATATATTTGG\r\n",
      "ATATCTATTGGTAAGGATACGTTTTATATTAAAAACAAACAATTTATAAAGCGCTCTCGC\r\n",
      "ACCTTGTTTTTGCATTATGAGCATATACAT\r\n",
      ">comp30_c0_seq1 len=201 path=[6331:0-200]\r\n",
      "AAGAAAATTGATTTGAAATTGACTCTGCTTGAATAGAAAAAAATGTTTTGTTCTTTTTTT\r\n",
      "CGAAGTGTAAATTGTAAATTACTTTATTAAAAAATTCATAGTTTCCGGGCAAGTTATTTT\r\n",
      "TAATATATTGTAAATGTTGTCATTCAGAGGTTTGTTACGAATATATTGTTTGACAGACAT\r\n",
      "GCTACTGTTGTACTACTATTG\r\n"
     ]
    }
   ],
   "source": [
    "!head ../data-results/Geoduck-transcriptome-v2.fasta"
   ]
  },
  {
   "cell_type": "code",
   "execution_count": 18,
   "metadata": {
    "button": false,
    "collapsed": false,
    "deletable": true,
    "new_sheet": false,
    "run_control": {
     "read_only": false
    }
   },
   "outputs": [
    {
     "name": "stdout",
     "output_type": "stream",
     "text": [
      ">comp95_c0_seq1 len=236 path=[41153:0-99 35145:100-235]\r\n",
      "CACATCGGCGTAACTTGGATATGAATTAAATATGGAAATCAGTGAGACTAGGACATCGGC\r\n",
      "TAAAAATACTGGATGATCCCTTAATTTTACAGCCAGTGGAACAGTGTAAAGGAATGCATT\r\n",
      "TATCTGGAACACGCAGATGAAGAATGGTCTAAAGTGCTCAAACATTTCTGTGAAAAAATA\r\n",
      "CCAGAATACGCCCAGGTTTGGCGTCAAATCTGGTACCCCCAGTATAAACCCTGTTG\r\n",
      ">comp105_c0_seq1 len=212 path=[42547:0-211]\r\n",
      "TGCATTGTAATGATTTGAGTATTTGGGTACAGCAGGACAGATGCACTTTGATGTGTATAA\r\n",
      "AATTAATATTAAAAATGTGTTTTGATAAAAATTGACAGCCATCTGATGCATATCCTGGTC\r\n",
      "GGATTTTTTTTTTTATTTTATTGTTTTTTTTTTAATCACTTAGATCTAATAATTTAATCT\r\n",
      "TATATATCTATCCGTATGTTATTTAAAATTTA\r\n"
     ]
    }
   ],
   "source": [
    "!grep -A9 \"comp95_c0_seq1\" ../data-results/Geoduck-transcriptome-v2.fasta"
   ]
  },
  {
   "cell_type": "markdown",
   "metadata": {
    "button": false,
    "deletable": true,
    "new_sheet": false,
    "run_control": {
     "read_only": false
    }
   },
   "source": [
    "yep\n",
    "<img src=\"http://eagle.fish.washington.edu/cnidarian/skitch/NCBI_Blast_comp95_c0_seq1_len_236_path__41153_0-99_35145_100-235__1BF64703.png\" alt=\"NCBI_Blast_comp95_c0_seq1_len_236_path__41153_0-99_35145_100-235__1BF64703.png\"/>"
   ]
  },
  {
   "cell_type": "markdown",
   "metadata": {
    "button": false,
    "deletable": true,
    "new_sheet": false,
    "run_control": {
     "read_only": false
    }
   },
   "source": [
    "### Awk math?"
   ]
  },
  {
   "cell_type": "code",
   "execution_count": 34,
   "metadata": {
    "button": false,
    "collapsed": false,
    "deletable": true,
    "new_sheet": false,
    "run_control": {
     "read_only": false
    }
   },
   "outputs": [
    {
     "name": "stdout",
     "output_type": "stream",
     "text": [
      "comp95_c0_seq1 \t -230\n",
      "comp146_c0_seq1 \t -173\n",
      "comp195_c0_seq1 \t -185\n",
      "comp296_c0_seq1 \t -200\n",
      "comp455_c1_seq1 \t -197\n",
      "comp943_c0_seq1 \t -218\n",
      "comp1059_c0_seq1 \t -227\n",
      "comp1683_c0_seq1 \t -206\n",
      "comp1868_c0_seq1 \t -308\n",
      "comp1910_c1_seq1 \t -248\n",
      "   10413 analyses/Geoduck-tranv2-minus_direction.tab\n"
     ]
    }
   ],
   "source": [
    "!awk '($10-$9) < 0 {print $1, \"\\t\", ($10-$9)}' \\\n",
    "../data-results/Geoduck-tranv2-blastx_sprot.tab \\\n",
    "> analyses/Geoduck-tranv2-minus_direction.tab\n",
    "!head analyses/Geoduck-tranv2-minus_direction.tab\n",
    "!wc -l analyses/Geoduck-tranv2-minus_direction.tab"
   ]
  },
  {
   "cell_type": "code",
   "execution_count": null,
   "metadata": {
    "button": false,
    "collapsed": true,
    "deletable": true,
    "new_sheet": false,
    "run_control": {
     "read_only": false
    }
   },
   "outputs": [],
   "source": [
    "#10413 match in rev direction."
   ]
  },
  {
   "cell_type": "code",
   "execution_count": null,
   "metadata": {
    "button": false,
    "collapsed": true,
    "deletable": true,
    "new_sheet": false,
    "run_control": {
     "read_only": false
    }
   },
   "outputs": [],
   "source": []
  },
  {
   "cell_type": "code",
   "execution_count": null,
   "metadata": {
    "button": false,
    "collapsed": true,
    "deletable": true,
    "new_sheet": false,
    "run_control": {
     "read_only": false
    }
   },
   "outputs": [],
   "source": []
  },
  {
   "cell_type": "markdown",
   "metadata": {
    "button": false,
    "deletable": true,
    "new_sheet": false,
    "run_control": {
     "read_only": false
    }
   },
   "source": [
    "# Identifying all genes involved in Reproduction"
   ]
  },
  {
   "cell_type": "code",
   "execution_count": 35,
   "metadata": {
    "button": false,
    "collapsed": false,
    "deletable": true,
    "new_sheet": false,
    "run_control": {
     "read_only": false
    }
   },
   "outputs": [
    {
     "name": "stdout",
     "output_type": "stream",
     "text": [
      "Column1,Column2,Column3,Column4,Column5,Column6,Column7,Column8,Column9,Column10,Column11,Column12,Column13,Column14,SPID,GOID,GO_id,term,GOSlim_bin,aspect\r",
      "\r\n",
      "comp100097_c0_seq1,sp,Q9UI26,IPO11_HUMAN,41.05,229,130,3,2,679,699,925,2E-37,144,Q9UI26,GO:0006886,GO:0006886,intracellular protein transport,transport,P\r",
      "\r\n",
      "comp100097_c0_seq1,sp,Q9UI26,IPO11_HUMAN,41.05,229,130,3,2,679,699,925,2E-37,144,Q9UI26,GO:0015031,GO:0015031,protein transport,transport,P\r",
      "\r\n",
      "comp100097_c0_seq1,sp,Q9UI26,IPO11_HUMAN,41.05,229,130,3,2,679,699,925,2E-37,144,Q9UI26,GO:0006810,GO:0006810,transport,transport,P\r",
      "\r\n",
      "comp100104_c2_seq1,sp,Q9NZJ4,SACS_HUMAN,47.83,138,58,4,2,397,2586,2715,3E-29,118,Q9NZJ4,GO:0006457,GO:0006457,protein folding,protein metabolism,P\r",
      "\r\n",
      "comp100104_c2_seq1,sp,Q9NZJ4,SACS_HUMAN,47.83,138,58,4,2,397,2586,2715,3E-29,118,Q9NZJ4,GO:0008219,GO:0008219,cell death,death,P\r",
      "\r\n",
      "comp100105_c1_seq1,sp,P18756,ETS1B_XENLA,85.71,126,18,0,402,25,143,268,2E-73,233,P18756,GO:0006355,GO:0006355,\"\"\"regulation of transcription, DNA-dependent\"\"\",RNA metabolism,P\r",
      "\r\n",
      "comp100108_c1_seq1,sp,Q9U943,APLP_LOCMI,32.45,413,227,9,4,1104,514,920,3E-59,214,Q9U943,GO:0006869,GO:0006869,lipid transport,transport,P\r",
      "\r\n",
      "comp100108_c1_seq1,sp,Q9U943,APLP_LOCMI,32.45,413,227,9,4,1104,514,920,3E-59,214,Q9U943,GO:0006810,GO:0006810,transport,transport,P\r",
      "\r\n",
      "comp100108_c1_seq1,sp,Q9U943,APLP_LOCMI,32.45,413,227,9,4,1104,514,920,3E-59,214,Q9U943,GO:0016055,GO:0016055,Wnt receptor signaling pathway,signal transduction,P\r",
      "\r\n"
     ]
    }
   ],
   "source": [
    "!head ../data-results/Geoduck-transcriptome-v2-GO-Slim.csv"
   ]
  },
  {
   "cell_type": "code",
   "execution_count": 37,
   "metadata": {
    "button": false,
    "collapsed": false,
    "deletable": true,
    "new_sheet": false,
    "run_control": {
     "read_only": false
    }
   },
   "outputs": [
    {
     "name": "stdout",
     "output_type": "stream",
     "text": [
      "     222\r\n"
     ]
    }
   ],
   "source": [
    "!grep \"reproduction\" ../data-results/Geoduck-transcriptome-v2-GO-Slim.csv | wc -l"
   ]
  },
  {
   "cell_type": "code",
   "execution_count": null,
   "metadata": {
    "button": false,
    "collapsed": true,
    "deletable": true,
    "new_sheet": false,
    "run_control": {
     "read_only": false
    }
   },
   "outputs": [],
   "source": [
    "\n"
   ]
  },
  {
   "cell_type": "markdown",
   "metadata": {
    "button": false,
    "deletable": true,
    "new_sheet": false,
    "run_control": {
     "read_only": false
    }
   },
   "source": [
    "# Confirming number of non-Euk swiss-prot matches"
   ]
  },
  {
   "cell_type": "code",
   "execution_count": 2,
   "metadata": {
    "button": false,
    "collapsed": false,
    "deletable": true,
    "new_sheet": false,
    "run_control": {
     "read_only": false
    }
   },
   "outputs": [
    {
     "name": "stdout",
     "output_type": "stream",
     "text": [
      "   23165 ../data-results/Geoduck-tranv2-blastx_sprot.tab\r\n"
     ]
    }
   ],
   "source": [
    "!wc -l ../data-results/Geoduck-tranv2-blastx_sprot.tab "
   ]
  },
  {
   "cell_type": "code",
   "execution_count": 4,
   "metadata": {
    "button": false,
    "collapsed": false,
    "deletable": true,
    "new_sheet": false,
    "run_control": {
     "read_only": false
    }
   },
   "outputs": [
    {
     "name": "stdout",
     "output_type": "stream",
     "text": [
      "comp100710_c0_seq1 Bacteria 1e-108\n",
      "comp101011_c0_seq1 Bacteria 2e-67\n",
      "comp101670_c0_seq1 Bacteria 4e-79\n",
      "comp101927_c3_seq1 N/A 1e-26\n",
      "comp102287_c0_seq1 Bacteria 6e-27\n",
      "comp102799_c0_seq1 Bacteria 4e-114\n",
      "comp103084_c0_seq1 Bacteria 6e-56\n",
      "comp103338_c0_seq1 Bacteria 3e-85\n",
      "comp103338_c1_seq1 Bacteria 1e-109\n",
      "comp103338_c2_seq1 Bacteria 9e-25\n",
      "     425 analyses/Non-Eukaryota-Geoduck-v2.sorted\n"
     ]
    }
   ],
   "source": [
    "!head analyses/Non-Eukaryota-Geoduck-v2.sorted\n",
    "!wc -l analyses/Non-Eukaryota-Geoduck-v2.sorted"
   ]
  },
  {
   "cell_type": "code",
   "execution_count": 8,
   "metadata": {
    "button": false,
    "collapsed": false,
    "deletable": true,
    "new_sheet": false,
    "run_control": {
     "read_only": false
    }
   },
   "outputs": [],
   "source": [
    "!sort ../data-results/Geoduck-tranv2-blastx_sprot.tab \\\n",
    "> analyses/Geoduck-tranv2-blastx_sprot.sorted"
   ]
  },
  {
   "cell_type": "code",
   "execution_count": 11,
   "metadata": {
    "button": false,
    "collapsed": false,
    "deletable": true,
    "new_sheet": false,
    "run_control": {
     "read_only": false
    }
   },
   "outputs": [
    {
     "name": "stdout",
     "output_type": "stream",
     "text": [
      "comp101670_c0_seq1 sp Q6A6N5 RS17_PROAC 98.88 89 1 0 42 308 1 89 2e-56 176 Bacteria 4e-79\r\n",
      "comp101927_c3_seq1 sp Q6PCN3 TTBK1_MOUSE 70.40 125 37 0 377 3 197 321 4e-60 204 N/A 1e-26\r\n",
      "comp102287_c0_seq1 sp O13799 YE02_SCHPO 41.18 51 30 0 101 253 428 478 5e-09 56.2 Bacteria 6e-27\r\n",
      "comp102799_c0_seq1 sp P43784 DLDH_HAEIN 56.18 89 34 1 3 269 387 470 6e-16 76.6 Bacteria 4e-114\r\n",
      "comp103338_c0_seq1 sp Q9JMT1 YUAH_ECOLI 35.53 76 49 0 1 228 34 109 7e-09 53.1 Bacteria 3e-85\r\n",
      "comp103338_c1_seq1 sp P50359 Y4HO_RHISN 67.61 71 23 0 3 215 45 115 2e-29 108 Bacteria 1e-109\r\n",
      "comp103338_c2_seq1 sp P55504 Y4JD_RHISN 47.83 69 36 0 6 212 151 219 4e-13 67.4 Bacteria 9e-25\r\n",
      "comp103626_c0_seq1 sp Q6AA77 OTC_PROAC 100.00 74 0 0 2 223 227 300 2e-47 159 Bacteria 3e-24\r\n",
      "comp104423_c0_seq1 sp P62594 BLAT_SALTI 98.99 198 2 0 663 70 89 286 3e-130 375 N/A 0.0\r\n",
      "comp109497_c0_seq1 sp P09152 NARG_ECOLI 90.28 72 7 0 9 224 29 100 8e-41 147 Bacteria 2e-76\r\n"
     ]
    }
   ],
   "source": [
    "!join analyses/Geoduck-tranv2-blastx_sprot.sorted \\\n",
    "analyses/Non-Eukaryota-Geoduck-v2.sorted | head"
   ]
  },
  {
   "cell_type": "code",
   "execution_count": 12,
   "metadata": {
    "button": false,
    "collapsed": false,
    "deletable": true,
    "new_sheet": false,
    "run_control": {
     "read_only": false
    }
   },
   "outputs": [
    {
     "name": "stdout",
     "output_type": "stream",
     "text": [
      "     191\r\n"
     ]
    }
   ],
   "source": [
    "!join analyses/Geoduck-tranv2-blastx_sprot.sorted \\\n",
    "analyses/Non-Eukaryota-Geoduck-v2.sorted | wc -l"
   ]
  },
  {
   "cell_type": "code",
   "execution_count": 13,
   "metadata": {
    "button": false,
    "collapsed": false,
    "deletable": true,
    "new_sheet": false,
    "run_control": {
     "read_only": false
    }
   },
   "outputs": [
    {
     "data": {
      "text/plain": [
       "22974"
      ]
     },
     "execution_count": 13,
     "metadata": {},
     "output_type": "execute_result"
    }
   ],
   "source": [
    "23165 - 191"
   ]
  },
  {
   "cell_type": "code",
   "execution_count": 14,
   "metadata": {
    "button": false,
    "collapsed": false,
    "deletable": true,
    "new_sheet": false,
    "run_control": {
     "read_only": false
    }
   },
   "outputs": [
    {
     "data": {
      "text/plain": [
       "0.14919925705601952"
      ]
     },
     "execution_count": 14,
     "metadata": {},
     "output_type": "execute_result"
    }
   ],
   "source": [
    "22974/153982"
   ]
  },
  {
   "cell_type": "code",
   "execution_count": null,
   "metadata": {
    "button": false,
    "collapsed": true,
    "deletable": true,
    "new_sheet": false,
    "run_control": {
     "read_only": false
    }
   },
   "outputs": [],
   "source": []
  },
  {
   "cell_type": "code",
   "execution_count": 41,
   "metadata": {
    "button": false,
    "collapsed": false,
    "deletable": true,
    "new_sheet": false,
    "run_control": {
     "read_only": false
    }
   },
   "outputs": [
    {
     "name": "stdout",
     "output_type": "stream",
     "text": [
      "   22974\r\n"
     ]
    }
   ],
   "source": [
    "!join -v 1 analyses/Geoduck-tranv2-blastx_sprot.sorted \\\n",
    "analyses/Non-Eukaryota-Geoduck-v2.sorted | wc -l"
   ]
  },
  {
   "cell_type": "code",
   "execution_count": 42,
   "metadata": {
    "button": false,
    "collapsed": false,
    "deletable": true,
    "new_sheet": false,
    "run_control": {
     "read_only": false
    }
   },
   "outputs": [
    {
     "name": "stdout",
     "output_type": "stream",
     "text": [
      "comp100065_c0_seq1 sp Q5PRC1 LHFP_DANRE 48.00 50 26 0 151 2 100 149 2e-08 51.6\r\n",
      "comp100097_c0_seq1 sp Q9UI26 IPO11_HUMAN 41.05 229 130 3 2 679 699 925 2e-37 144\r\n",
      "comp100104_c2_seq1 sp Q9NZJ4 SACS_HUMAN 47.83 138 58 4 2 397 2586 2715 3e-29 118\r\n",
      "comp100105_c1_seq1 sp P18756 ETS1B_XENLA 85.71 126 18 0 402 25 143 268 2e-73 233\r\n",
      "comp100108_c1_seq1 sp Q9U943 APLP_LOCMI 32.45 413 227 9 4 1104 514 920 3e-59 214\r\n",
      "comp100109_c0_seq1 sp O75443 TECTA_HUMAN 38.52 135 80 2 244 648 24 155 6e-23 102\r\n",
      "comp100113_c0_seq1 sp Q95US5 BRE5_CAEEL 28.57 112 75 4 377 48 183 291 2e-06 48.9\r\n",
      "comp100113_c0_seq2 sp Q9N295 B3GT5_PANTR 35.11 94 60 1 420 142 160 253 9e-13 67.4\r\n",
      "comp100113_c1_seq1 sp Q9MYM7 B3GT1_PONPY 32.29 96 54 3 283 5 48 135 7e-09 55.5\r\n",
      "comp100129_c0_seq1 sp Q14644 RASA3_HUMAN 50.00 108 48 2 4 315 68 173 9e-30 117\r\n",
      "join: stdout: Broken pipe\r\n"
     ]
    }
   ],
   "source": [
    "!join -v 1 analyses/Geoduck-tranv2-blastx_sprot.sorted \\\n",
    "analyses/Non-Eukaryota-Geoduck-v2.sorted | head"
   ]
  },
  {
   "cell_type": "code",
   "execution_count": 43,
   "metadata": {
    "button": false,
    "collapsed": false,
    "deletable": true,
    "new_sheet": false,
    "run_control": {
     "read_only": false
    }
   },
   "outputs": [
    {
     "name": "stdout",
     "output_type": "stream",
     "text": [
      "   22974 analyses/Geoduck-tranv3-blastx_sprot.sorted\r\n"
     ]
    }
   ],
   "source": [
    "!join -v 1 analyses/Geoduck-tranv2-blastx_sprot.sorted \\\n",
    "analyses/Non-Eukaryota-Geoduck-v2.sorted \\\n",
    "> analyses/Geoduck-tranv3-blastx_sprot.sorted \n",
    "! wc -l analyses/Geoduck-tranv3-blastx_sprot.sorted"
   ]
  },
  {
   "cell_type": "code",
   "execution_count": 47,
   "metadata": {
    "button": false,
    "collapsed": false,
    "deletable": true,
    "new_sheet": false,
    "run_control": {
     "read_only": false
    },
    "scrolled": true
   },
   "outputs": [
    {
     "name": "stdout",
     "output_type": "stream",
     "text": [
      "  % Total    % Received % Xferd  Average Speed   Time    Time     Time  Current\n",
      "                                 Dload  Upload   Total   Spent    Left  Speed\n",
      "100  261M    0  261M    0     0   287k      0 --:--:--  0:15:30 --:--:--  545k\n"
     ]
    }
   ],
   "source": [
    "!curl \"http://www.uniprot.org/uniprot/?query=reviewed%3ayes&force=yes&format=tab&columns=id,entry%20name,go-id,interactor,database(GO),go,reviewed,interpro,pathway,protein%20names,genes,tools,organism,length\" \\\n",
    "> analyses/uniprot_go_info"
   ]
  },
  {
   "cell_type": "code",
   "execution_count": 73,
   "metadata": {
    "button": false,
    "collapsed": false,
    "deletable": true,
    "new_sheet": false,
    "run_control": {
     "read_only": false
    }
   },
   "outputs": [
    {
     "name": "stdout",
     "output_type": "stream",
     "text": [
      "  549833 analyses/uniprot_go_info\r\n"
     ]
    }
   ],
   "source": [
    "!wc -l analyses/uniprot_go_info"
   ]
  },
  {
   "cell_type": "markdown",
   "metadata": {
    "button": false,
    "deletable": true,
    "new_sheet": false,
    "run_control": {
     "read_only": false
    }
   },
   "source": [
    "### Using SQLShare "
   ]
  },
  {
   "cell_type": "markdown",
   "metadata": {
    "button": false,
    "deletable": true,
    "new_sheet": false,
    "run_control": {
     "read_only": false
    }
   },
   "source": [
    "```\n",
    "SELECT \n",
    " Column1 as ContigID,\n",
    " Column13 as evalue, \n",
    " Entry as UniProt_Acc,\n",
    " \"Gene ontology IDs\",\n",
    "\"Gene ontology (GO)\",  \n",
    "  \"Protein names\"\n",
    "  FROM [sr320@washington.edu].[Geoduck-tranv3-blastx_sprot]bl\n",
    "  left join\n",
    "  [sr320@washington.edu].[uniprot-reviewed_wGO_010714]uni\n",
    "  on\n",
    "  bl.Column3 = uni.Entry\n",
    "```"
   ]
  },
  {
   "cell_type": "code",
   "execution_count": 75,
   "metadata": {
    "button": false,
    "collapsed": false,
    "deletable": true,
    "new_sheet": false,
    "run_control": {
     "read_only": false
    }
   },
   "outputs": [
    {
     "name": "stdout",
     "output_type": "stream",
     "text": [
      "ContigID,evalue,UniProt_Acc,Gene ontology IDs,Gene ontology (GO),Protein names\r",
      "\r\n",
      "comp100065_c0_seq1,2E-08,Q5PRC1,GO:0016021,integral to membrane,Lipoma HMGIC fusion partner homolog\r",
      "\r\n",
      "comp100097_c0_seq1,2E-37,Q9UI26,GO:0005737; GO:0005634; GO:0008565; GO:0006610,cytoplasm; nucleus; protein transporter activity; ribosomal protein import into nucleus,Importin-11 (Imp11) (Ran-binding protein 11) (RanBP11)\r",
      "\r\n"
     ]
    }
   ],
   "source": [
    "!head -3 analyses/Geoduck_v3_uniprot_wGO.csv"
   ]
  },
  {
   "cell_type": "code",
   "execution_count": null,
   "metadata": {
    "button": false,
    "collapsed": true,
    "deletable": true,
    "new_sheet": false,
    "run_control": {
     "read_only": false
    }
   },
   "outputs": [],
   "source": []
  },
  {
   "cell_type": "code",
   "execution_count": null,
   "metadata": {
    "button": false,
    "collapsed": true,
    "deletable": true,
    "new_sheet": false,
    "run_control": {
     "read_only": false
    }
   },
   "outputs": [],
   "source": []
  },
  {
   "cell_type": "markdown",
   "metadata": {
    "button": false,
    "deletable": true,
    "new_sheet": false,
    "run_control": {
     "read_only": false
    }
   },
   "source": [
    "# Confirming Gene Ontology matches post removal of non-Euk sequences"
   ]
  },
  {
   "cell_type": "code",
   "execution_count": 17,
   "metadata": {
    "button": false,
    "collapsed": false,
    "deletable": true,
    "new_sheet": false,
    "run_control": {
     "read_only": false
    }
   },
   "outputs": [
    {
     "name": "stdout",
     "output_type": "stream",
     "text": [
      "Column1,Column2,Column3,Column4,Column5,Column6,Column7,Column8,Column9,Column10,Column11,Column12,Column13,Column14,SPID,GOID,GO_id,term,GOSlim_bin,aspect\n",
      "comp100097_c0_seq1,sp,Q9UI26,IPO11_HUMAN,41.05,229,130,3,2,679,699,925,2E-37,144,Q9UI26,GO:0006886,GO:0006886,intracellular protein transport,transport,P\n",
      "  102359 ../data-results/Geoduck-transcriptome-v2-GO-Slim.csv\n"
     ]
    }
   ],
   "source": [
    "!head -2 ../data-results/Geoduck-transcriptome-v2-GO-Slim.csv\n",
    "!wc -l ../data-results/Geoduck-transcriptome-v2-GO-Slim.csv"
   ]
  },
  {
   "cell_type": "code",
   "execution_count": 23,
   "metadata": {
    "button": false,
    "collapsed": false,
    "deletable": true,
    "new_sheet": false,
    "run_control": {
     "read_only": false
    }
   },
   "outputs": [
    {
     "name": "stdout",
     "output_type": "stream",
     "text": [
      "   19653\r\n"
     ]
    }
   ],
   "source": [
    "!cut -d ',' -f1 ../data-results/Geoduck-transcriptome-v2-GO-Slim.csv \\\n",
    "| uniq | wc -l"
   ]
  },
  {
   "cell_type": "markdown",
   "metadata": {
    "button": false,
    "deletable": true,
    "new_sheet": false,
    "run_control": {
     "read_only": false
    }
   },
   "source": [
    "**Removing non-euks**"
   ]
  },
  {
   "cell_type": "code",
   "execution_count": 34,
   "metadata": {
    "button": false,
    "collapsed": false,
    "deletable": true,
    "new_sheet": false,
    "run_control": {
     "read_only": false
    }
   },
   "outputs": [],
   "source": [
    "!sort ../data-results/Geoduck-transcriptome-v2-GO-Slim.csv \\\n",
    "| cut -d ',' -f1 | uniq > analyses/Geoduck-transcriptome-v2-GO-Slim-CONTIG"
   ]
  },
  {
   "cell_type": "code",
   "execution_count": 35,
   "metadata": {
    "button": false,
    "collapsed": false,
    "deletable": true,
    "new_sheet": false,
    "run_control": {
     "read_only": false
    }
   },
   "outputs": [
    {
     "name": "stdout",
     "output_type": "stream",
     "text": [
      "Column1\r\n",
      "comp100097_c0_seq1\r\n",
      "comp100104_c2_seq1\r\n",
      "comp100105_c1_seq1\r\n",
      "comp100108_c1_seq1\r\n",
      "comp100109_c0_seq1\r\n",
      "comp100113_c0_seq1\r\n",
      "comp100113_c0_seq2\r\n",
      "comp100113_c1_seq1\r\n",
      "comp100129_c0_seq1\r\n"
     ]
    }
   ],
   "source": [
    "!head analyses/Geoduck-transcriptome-v2-GO-Slim-CONTIG"
   ]
  },
  {
   "cell_type": "code",
   "execution_count": 37,
   "metadata": {
    "button": false,
    "collapsed": false,
    "deletable": true,
    "new_sheet": false,
    "run_control": {
     "read_only": false
    }
   },
   "outputs": [
    {
     "name": "stdout",
     "output_type": "stream",
     "text": [
      "     169\r\n"
     ]
    }
   ],
   "source": [
    "!join analyses/Geoduck-transcriptome-v2-GO-Slim-CONTIG \\\n",
    "analyses/Non-Eukaryota-Geoduck-v2.sorted | wc -l"
   ]
  },
  {
   "cell_type": "code",
   "execution_count": 38,
   "metadata": {
    "button": false,
    "collapsed": false,
    "deletable": true,
    "new_sheet": false,
    "run_control": {
     "read_only": false
    }
   },
   "outputs": [
    {
     "name": "stdout",
     "output_type": "stream",
     "text": [
      "comp101670_c0_seq1 Bacteria 4e-79\r\n",
      "comp101927_c3_seq1 N/A 1e-26\r\n",
      "comp102287_c0_seq1 Bacteria 6e-27\r\n",
      "comp102799_c0_seq1 Bacteria 4e-114\r\n",
      "comp103626_c0_seq1 Bacteria 3e-24\r\n",
      "comp104423_c0_seq1 N/A 0.0\r\n",
      "comp109497_c0_seq1 Bacteria 2e-76\r\n",
      "comp109642_c0_seq1 Bacteria 1e-72\r\n",
      "comp112012_c0_seq1 Bacteria 7e-105\r\n",
      "comp113138_c0_seq1 Bacteria 5e-83\r\n"
     ]
    }
   ],
   "source": [
    "!join analyses/Geoduck-transcriptome-v2-GO-Slim-CONTIG \\\n",
    "analyses/Non-Eukaryota-Geoduck-v2.sorted | head"
   ]
  },
  {
   "cell_type": "code",
   "execution_count": 39,
   "metadata": {
    "button": false,
    "collapsed": false,
    "deletable": true,
    "new_sheet": false,
    "run_control": {
     "read_only": false
    }
   },
   "outputs": [
    {
     "data": {
      "text/plain": [
       "19393"
      ]
     },
     "execution_count": 39,
     "metadata": {},
     "output_type": "execute_result"
    }
   ],
   "source": [
    "19562-169"
   ]
  },
  {
   "cell_type": "markdown",
   "metadata": {
    "button": false,
    "collapsed": true,
    "deletable": true,
    "new_sheet": false,
    "run_control": {
     "read_only": false
    }
   },
   "source": [
    "# Double Check on v3"
   ]
  },
  {
   "cell_type": "code",
   "execution_count": 1,
   "metadata": {
    "collapsed": false
   },
   "outputs": [
    {
     "name": "stdout",
     "output_type": "stream",
     "text": [
      "Tue Sep 20 10:47:21 PDT 2016\r\n"
     ]
    }
   ],
   "source": [
    "!date"
   ]
  },
  {
   "cell_type": "code",
   "execution_count": 5,
   "metadata": {
    "collapsed": false
   },
   "outputs": [
    {
     "name": "stdout",
     "output_type": "stream",
     "text": [
      ">comp100000_c0_seq1\n",
      "TGAATGTATGTTTGTGAACGTATGTATATGAATGTATGTATGTGAATGCATACCATCTGTATAAGTATAATCCGACCGGGAGATGTTTATTCACACAGTTTGGCATTATGACGTTTAACCTCTGAATTGGCGTCTCTTGCTACTGACCGCTTCACAGTGATGACCCATGTTGTCACTTCTAATCTATTTATGTATTGCTCTTTTATATTATACTATTAACGCTGTTAAAATACACTACCGCTAAACAAATAAGAGTTGTGGGTTTGAATCATTGGTGAGTGCAGGAACCTCAGCAGGTCATTAAGATTTACGTGTACGTCTATCCTAAACCTACATGTTTCAACTTTGTTGTTTTTCGGTTTCGTTCTCTGTACACAGCTCTTGAAACATACATAAAATACCATTTTATTAAAAAATATGTCTCTATTTAATGTTAAAACCTTTTTAAGAAAA\n",
      ">comp100001_c1_seq1\n",
      "GCTTTACCAGTTGTTACAAACATTTTAATAGTTATAGTTAATATACACAACATTTTAAATTAACTAGTGTCGAGAACTTGAGTCGGACATAGAGAATTAAATGTTTGTTGAACTTTAGCCAAGCACTTTTATTCTATTACTTTTTGAAGTATTTAATACCTTAAAATAATGGAATACTCCTGTAGAGTCCTTGAAGCCATCAACAATTTACCAACCTCCAAATAAAATATGAATATATTTTACATGATGAATTTACATAATGGATATATCATTGATATCTGCCAAGTTAACTTCACCTACCATTTTTAAGCTTACTTTGACCATGTTAGTTGGTATTGTGTATATAACGAGTGGGAGGACATTCATACCTGGCATTTGTTTGGTCAAACTGACACAAGATTTATGTTTATTTCAAACCTATATATAAAACAAGTCTCAATGAATATCTTCCTAGGCACAAGACAATGCTGATAAAATGTCTTGTTCAAGGACA\n",
      ">comp100001_c2_seq1\n",
      "AGTAACAAAAACAACCCAAACTCTACCATAATCAATTTATACAAAGTCTTGATTTTATCTTAATATCACAAATGAAATCAATTAGTATATATATTTGTATATATTTCAGAAATATAGAAAACAATTACCAGTTTTTAAGTGTAATTAAAACATCTAAATCACCCCCACAGCAATACAAAATACATTTTTATATAGAATACAAAAATTATTGGGATAAAAACAGTAAAAAATATTTGAATTCAGCAACAGCTACAATAGTTTCCTTCAAGGAGGTGAACATAACATCACAACAACAAAAATATGGTCAATTGTAAAATGAGATGTGTGATCTACGTAGGCTAGAAAAATGTTCAACAAAATATACAGCATGCACACAACATGAACATGTACAATGAGAGATGGAGAAGCGGTTAGTTAGGAGGTCTATAGGCTGTGGTAACCACTACAATGTAGATGGCAGCACATTTATCACACATCACGCTAGCATTTCAGCAAACCTTCAATGCTAAAAACCAACTATATCTACTTCAAAACAGCTTTACCAGTTGTTACAAACAT\n",
      ">comp100002_c0_seq1\n",
      "GGGACGTATTGACTCACTCAGCTGTGATTTCAACTCCTCTATCAACTCTTCCCGTTGTTGCAACTCTTTCGAAACTTTCTTTTCCAGACCACGAGGTCGACGGCCACGCAAACACTGAAAAGACACAGCCATGTAATCATGGAAACTTAACATTATACTCAATGTTGAAAAAGTATGTCAAAACATTTCCATACACGTATAGCCAAAT\n",
      ">comp100004_c1_seq1\n",
      "AAGTAAATAATGCTTGACCTTCACAGCAATATGATCGCATCTGATAAGTAATCAGCTACATAAGGTCAAATAAATTGGATTCTGTATTTGCTGTAACATGGATAAAAAACATTGGGAATTTTTGTGGACACAAGTTTAACACCAATCTGACAGATACAAAGTGCTAGTATAAAACAGTTACAAGACACGAACACACACATTGAAAGGATTTAAATACCAAGTGACGTTTAAACATTGAAATGCCATTAACCTCAAATGATTATGTTAAAAAATTCA\n",
      "153982\n"
     ]
    }
   ],
   "source": [
    "!head /Users/sr320/git-repos/course-fish546-2016/jupyter-nbs/analyses/wd-091416/query.fa\n",
    "!fgrep -c \">\" /Users/sr320/git-repos/course-fish546-2016/jupyter-nbs/analyses/wd-091416/query.fa"
   ]
  },
  {
   "cell_type": "markdown",
   "metadata": {},
   "source": [
    "<img src=\"http://eagle.fish.washington.edu/cnidarian/skitch/course-fish546-2016_001-fasta2pie_ipynb_at_master_·_sr320_course-fish546-2016_1D91AE7E.png\" alt=\"course-fish546-2016_001-fasta2pie_ipynb_at_master_·_sr320_course-fish546-2016_1D91AE7E.png\"/>"
   ]
  },
  {
   "cell_type": "code",
   "execution_count": 6,
   "metadata": {
    "collapsed": false
   },
   "outputs": [
    {
     "name": "stdout",
     "output_type": "stream",
     "text": [
      "error-blastout\r\n",
      "query.fa\r\n",
      "uniprot_sprot_r2015_07_blast_out.tab\r\n",
      "uniprot_sprot_r2015_07_blast_out2-uniprot-annot.tab\r\n",
      "uniprot_sprot_r2015_07_blast_out2.tab\r\n",
      "uniprot_sprot_r2015_07_blast_out2.tab.sorted\r\n"
     ]
    }
   ],
   "source": [
    "!ls /Users/sr320/git-repos/course-fish546-2016/jupyter-nbs/analyses/wd-091416/"
   ]
  },
  {
   "cell_type": "code",
   "execution_count": 13,
   "metadata": {
    "collapsed": false
   },
   "outputs": [
    {
     "name": "stdout",
     "output_type": "stream",
     "text": [
      "   11144 /Users/sr320/git-repos/course-fish546-2016/jupyter-nbs/analyses/wd-091416/uniprot_sprot_r2015_07_blast_out.tab\r\n"
     ]
    }
   ],
   "source": [
    "!wc -l /Users/sr320/git-repos/course-fish546-2016/jupyter-nbs/analyses/wd-091416/uniprot_sprot_r2015_07_blast_out.tab"
   ]
  },
  {
   "cell_type": "code",
   "execution_count": 11,
   "metadata": {
    "collapsed": false
   },
   "outputs": [],
   "source": [
    "!open /Users/sr320/git-repos/course-fish546-2016/jupyter-nbs/analyses/wd-091416/uniprot_sprot_r2015_07_blast_out2-uniprot-annot.tab -a \"Microsoft Excel\""
   ]
  },
  {
   "cell_type": "code",
   "execution_count": 14,
   "metadata": {
    "collapsed": true
   },
   "outputs": [],
   "source": [
    "\n",
    "\n",
    "!open /Users/sr320/git-repos/paper-pano-go/data-results/Geoduck-transcriptome-v2-GO-SlimUnique.csv \\\n",
    "-a \"Microsoft Excel\""
   ]
  },
  {
   "cell_type": "code",
   "execution_count": null,
   "metadata": {
    "collapsed": false
   },
   "outputs": [],
   "source": []
  },
  {
   "cell_type": "code",
   "execution_count": 16,
   "metadata": {
    "collapsed": false
   },
   "outputs": [
    {
     "name": "stdout",
     "output_type": "stream",
     "text": [
      "   22974 /Users/sr320/git-repos/paper-pano-go/jupyter-nbs/analyses/Geoduck-tranv3-blastx_sprot.sorted\r\n"
     ]
    }
   ],
   "source": [
    "!wc -l /Users/sr320/git-repos/paper-pano-go/jupyter-nbs/analyses/Geoduck-tranv3-blastx_sprot.sorted"
   ]
  },
  {
   "cell_type": "code",
   "execution_count": 17,
   "metadata": {
    "collapsed": false
   },
   "outputs": [
    {
     "name": "stdout",
     "output_type": "stream",
     "text": [
      "comp100065_c0_seq1 sp Q5PRC1 LHFP_DANRE 48.00 50 26 0 151 2 100 149 2e-08 51.6\r\n",
      "comp100097_c0_seq1 sp Q9UI26 IPO11_HUMAN 41.05 229 130 3 2 679 699 925 2e-37 144\r\n",
      "comp100104_c2_seq1 sp Q9NZJ4 SACS_HUMAN 47.83 138 58 4 2 397 2586 2715 3e-29 118\r\n",
      "comp100105_c1_seq1 sp P18756 ETS1B_XENLA 85.71 126 18 0 402 25 143 268 2e-73 233\r\n",
      "comp100108_c1_seq1 sp Q9U943 APLP_LOCMI 32.45 413 227 9 4 1104 514 920 3e-59 214\r\n",
      "comp100109_c0_seq1 sp O75443 TECTA_HUMAN 38.52 135 80 2 244 648 24 155 6e-23 102\r\n",
      "comp100113_c0_seq1 sp Q95US5 BRE5_CAEEL 28.57 112 75 4 377 48 183 291 2e-06 48.9\r\n",
      "comp100113_c0_seq2 sp Q9N295 B3GT5_PANTR 35.11 94 60 1 420 142 160 253 9e-13 67.4\r\n",
      "comp100113_c1_seq1 sp Q9MYM7 B3GT1_PONPY 32.29 96 54 3 283 5 48 135 7e-09 55.5\r\n",
      "comp100129_c0_seq1 sp Q14644 RASA3_HUMAN 50.00 108 48 2 4 315 68 173 9e-30 117\r\n"
     ]
    }
   ],
   "source": [
    "!head /Users/sr320/git-repos/paper-pano-go/jupyter-nbs/analyses/Geoduck-tranv3-blastx_sprot.sorted"
   ]
  },
  {
   "cell_type": "code",
   "execution_count": 16,
   "metadata": {
    "collapsed": false
   },
   "outputs": [],
   "source": [
    "!awk '{print $3}' /Users/sr320/git-repos/paper-pano-go/jupyter-nbs/analyses/Geoduck-tranv3-blastx_sprot.sorted \\\n",
    "| pbcopy"
   ]
  },
  {
   "cell_type": "code",
   "execution_count": 44,
   "metadata": {
    "collapsed": false
   },
   "outputs": [],
   "source": [
    "!awk '{print $1,\"\\011\",$3}' /Users/sr320/git-repos/paper-pano-go/jupyter-nbs/analyses/Geoduck-tranv3-blastx_sprot.sorted \\\n",
    "| sort -k2 > analyses/Geoduck-tranv3-blastx_sprot.sorted.simple"
   ]
  },
  {
   "cell_type": "code",
   "execution_count": 46,
   "metadata": {
    "collapsed": false
   },
   "outputs": [
    {
     "name": "stdout",
     "output_type": "stream",
     "text": [
      "   22974 analyses/Geoduck-tranv3-blastx_sprot.sorted.simple\r\n"
     ]
    }
   ],
   "source": [
    "!wc -l analyses/Geoduck-tranv3-blastx_sprot.sorted.simple"
   ]
  },
  {
   "cell_type": "code",
   "execution_count": 21,
   "metadata": {
    "collapsed": true
   },
   "outputs": [],
   "source": [
    "!sort /Users/sr320/data-genomic/uniprot/associations-slim-trim.tsv \\\n",
    "> /Users/sr320/data-genomic/uniprot/associations-slim-trim.sorted"
   ]
  },
  {
   "cell_type": "code",
   "execution_count": 89,
   "metadata": {
    "collapsed": false
   },
   "outputs": [
    {
     "name": "stdout",
     "output_type": "stream",
     "text": [
      "comp102288_c1_seq1 \t A0AAL4\r\n",
      "comp127213_c1_seq7 \t A0AUR5\r\n",
      "comp139091_c0_seq1 \t A0AUR5\r\n",
      "comp143035_c0_seq1 \t A0AVF1\r\n",
      "comp142710_c0_seq1 \t A0AVK6\r\n",
      "comp121464_c1_seq2 \t A0AVT1\r\n",
      "comp126665_c0_seq1 \t A0FGR8\r\n",
      "comp98922_c0_seq1 \t A0FGR9\r\n",
      "comp152293_c0_seq1 \t A0FKG7\r\n",
      "comp127203_c1_seq1 \t A0JJX5\r\n"
     ]
    }
   ],
   "source": [
    "!head /Users/sr320/git-repos/paper-pano-go/jupyter-nbs/analyses/Geoduck-tranv3-blastx_sprot.sorted.simple"
   ]
  },
  {
   "cell_type": "code",
   "execution_count": 92,
   "metadata": {
    "collapsed": false
   },
   "outputs": [
    {
     "name": "stdout",
     "output_type": "stream",
     "text": [
      "X5M8U1\tgcy-17\tGO:0007165\tsignal transduction\tGO:0035556\tintracellular signal transduction\r\n",
      "X5M8U1\tgcy-17\tGO:0009058\tbiosynthetic process\tGO:0006182\tcGMP biosynthetic process\r\n",
      "X5M8U1\tgcy-17\tGO:0009058\tbiosynthetic process\tGO:0006182\tcGMP biosynthetic process\r\n",
      "X5M8U1\tgcy-17\tGO:0009058\tbiosynthetic process\tGO:0009190\tcyclic nucleotide biosynthetic process\r\n",
      "X5M8U1\tgcy-17\tGO:0034641\tcellular nitrogen compound metabolic process\tGO:0006182\tcGMP biosynthetic process\r\n",
      "X5M8U1\tgcy-17\tGO:0034641\tcellular nitrogen compound metabolic process\tGO:0006182\tcGMP biosynthetic process\r\n",
      "X5M8U1\tgcy-17\tGO:0034641\tcellular nitrogen compound metabolic process\tGO:0009190\tcyclic nucleotide biosynthetic process\r\n",
      "X5M8U1\tgcy-17\tGO:0044281\tsmall molecule metabolic process\tGO:0006182\tcGMP biosynthetic process\r\n",
      "X5M8U1\tgcy-17\tGO:0044281\tsmall molecule metabolic process\tGO:0006182\tcGMP biosynthetic process\r\n",
      "X5M8U1\tgcy-17\tGO:0044281\tsmall molecule metabolic process\tGO:0009190\tcyclic nucleotide biosynthetic process\r\n"
     ]
    }
   ],
   "source": [
    "!tail /Users/sr320/data-genomic/uniprot/associations-slim-trim.sorted "
   ]
  },
  {
   "cell_type": "code",
   "execution_count": 6,
   "metadata": {
    "collapsed": false
   },
   "outputs": [],
   "source": [
    "!awk -F $'\\t' '{print $1,\"\\011\",$4}' /Users/sr320/data-genomic/uniprot/associations-slim-trim.sorted \\\n",
    "> /Users/sr320/data-genomic/uniprot/associations-slim-trim.sorted.simple\n"
   ]
  },
  {
   "cell_type": "code",
   "execution_count": 7,
   "metadata": {
    "collapsed": false
   },
   "outputs": [
    {
     "name": "stdout",
     "output_type": "stream",
     "text": [
      "A0A023PXA5 \t biological_process\r\n",
      "A0A023PXB0 \t biological_process\r\n",
      "A0A023PXB5 \t biological_process\r\n",
      "A0A023PXB9 \t biological_process\r\n",
      "A0A023PXC2 \t biological_process\r\n",
      "A0A023PXC7 \t biological_process\r\n",
      "A0A023PXD3 \t biological_process\r\n",
      "A0A023PXD5 \t biological_process\r\n",
      "A0A023PXD9 \t biological_process\r\n",
      "A0A023PXE5 \t biological_process\r\n"
     ]
    }
   ],
   "source": [
    "!head /Users/sr320/data-genomic/uniprot/associations-slim-trim.sorted.simple"
   ]
  },
  {
   "cell_type": "code",
   "execution_count": 13,
   "metadata": {
    "collapsed": false
   },
   "outputs": [
    {
     "name": "stdout",
     "output_type": "stream",
     "text": [
      "DNA metabolic process\r\n",
      "Golgi apparatus\r\n",
      "aging\r\n",
      "anatomical structure development\r\n",
      "anatomical structure formation involved in morphogenesis\r\n",
      "autophagy\r\n",
      "biological_process\r\n",
      "biosynthetic process\r\n",
      "carbohydrate metabolic process\r\n",
      "catabolic process\r\n",
      "cell\r\n",
      "cell adhesion\r\n",
      "cell cycle\r\n",
      "cell death\r\n",
      "cell differentiation\r\n",
      "cell division\r\n",
      "cell junction organization\r\n",
      "cell morphogenesis\r\n",
      "cell motility\r\n",
      "cell proliferation\r\n",
      "cell wall organization or biogenesis\r\n",
      "cell-cell signaling\r\n",
      "cellular amino acid metabolic process\r\n",
      "cellular component assembly\r\n",
      "cellular nitrogen compound metabolic process\r\n",
      "cellular protein modification process\r\n",
      "cellular_component\r\n",
      "chromosome\r\n",
      "chromosome organization\r\n",
      "chromosome segregation\r\n",
      "cilium\r\n",
      "circulatory system process\r\n",
      "cofactor metabolic process\r\n",
      "cytoplasm\r\n",
      "cytoskeleton\r\n",
      "cytoskeleton organization\r\n",
      "cytoskeleton-dependent intracellular transport\r\n",
      "cytosol\r\n",
      "developmental maturation\r\n",
      "embryo development\r\n",
      "endoplasmic reticulum\r\n",
      "endosome\r\n",
      "extracellular matrix organization\r\n",
      "extracellular region\r\n",
      "generation of precursor metabolites and energy\r\n",
      "growth\r\n",
      "homeostatic process\r\n",
      "immune system process\r\n",
      "intracellular\r\n",
      "lipid metabolic process\r\n",
      "locomotion\r\n",
      "lysosome\r\n",
      "mRNA processing\r\n",
      "macromolecular complex assembly\r\n",
      "membrane organization\r\n",
      "mitochondrion\r\n",
      "mitochondrion organization\r\n",
      "mitotic nuclear division\r\n",
      "neurological system process\r\n",
      "nitrogen cycle metabolic process\r\n",
      "nucleobase-containing compound catabolic process\r\n",
      "nucleocytoplasmic transport\r\n",
      "nucleus\r\n",
      "photosynthesis\r\n",
      "pigmentation\r\n",
      "plasma membrane\r\n",
      "plasma membrane organization\r\n",
      "protein complex assembly\r\n",
      "protein folding\r\n",
      "protein maturation\r\n",
      "protein targeting\r\n",
      "reproduction\r\n",
      "response to stress\r\n",
      "ribonucleoprotein complex assembly\r\n",
      "ribosome biogenesis\r\n",
      "secondary metabolic process\r\n",
      "signal transduction\r\n",
      "small molecule metabolic process\r\n",
      "sulfur compound metabolic process\r\n",
      "symbiosis, encompassing mutualism through parasitism\r\n",
      "tRNA metabolic process\r\n",
      "translation\r\n",
      "transmembrane transport\r\n",
      "transport\r\n",
      "transposition\r\n",
      "vacuolar transport\r\n",
      "vacuole\r\n",
      "vesicle-mediated transport\r\n"
     ]
    }
   ],
   "source": [
    "!join -1 2 -2 1 /Users/sr320/git-repos/paper-pano-go/jupyter-nbs/analyses/Geoduck-tranv3-blastx_sprot.sorted.simple \\\n",
    "/Users/sr320/data-genomic/uniprot/associations-slim-trim.sorted.simple | cut -d \" \" -f 3-  | sort | uniq | cat "
   ]
  },
  {
   "cell_type": "code",
   "execution_count": null,
   "metadata": {
    "collapsed": true
   },
   "outputs": [],
   "source": []
  },
  {
   "cell_type": "code",
   "execution_count": null,
   "metadata": {
    "collapsed": true
   },
   "outputs": [],
   "source": []
  },
  {
   "cell_type": "code",
   "execution_count": null,
   "metadata": {
    "collapsed": true
   },
   "outputs": [],
   "source": []
  },
  {
   "cell_type": "code",
   "execution_count": null,
   "metadata": {
    "collapsed": true
   },
   "outputs": [],
   "source": []
  },
  {
   "cell_type": "code",
   "execution_count": null,
   "metadata": {
    "collapsed": true
   },
   "outputs": [],
   "source": []
  },
  {
   "cell_type": "code",
   "execution_count": 32,
   "metadata": {
    "collapsed": false
   },
   "outputs": [
    {
     "name": "stdout",
     "output_type": "stream",
     "text": [
      "ContigID,evalue,UniProt_Acc,Gene ontology IDs,Gene ontology (GO),Protein names,term,GOSlim_bin,GOSlim_bin_rep,unico\r",
      "\r\n",
      "comp100065_c0_seq1,2.00E-08,Q5PRC1,GO:0016021,integral to membrane,Lipoma HMGIC fusion partner homolog,#N/A,#N/A,#N/A,1\r",
      "\r\n",
      "comp100097_c0_seq1,2.00E-37,Q9UI26,GO:0005737; GO:0005634; GO:0008565; GO:0006610,cytoplasm; nucleus; protein transporter activity; ribosomal protein import into nucleus,Importin-11 (Imp11) (Ran-binding protein 11) (RanBP11),transport,transport,transport,1\r",
      "\r\n",
      "comp100104_c2_seq1,3.00E-29,Q9NZJ4,GO:0005524; GO:0030424; GO:0070852; GO:0008219; GO:0051087; GO:0030425; GO:0005739; GO:0090084; GO:0005634; GO:0006457,ATP binding; axon; cell body fiber; cell death; chaperone binding; dendrite; mitochondrion; negative regulation of inclusion body assembly; nucleus; protein folding,Sacsin (DnaJ homolog subfamily C member 29) (DNAJC29),cell death,death,death,1\r",
      "\r\n",
      "comp100105_c1_seq1,2.00E-73,P18756,GO:0005634; GO:0010595; GO:0045765; GO:0043565; GO:0003700; GO:0006351,\"nucleus; positive regulation of endothelial cell migration; regulation of angiogenesis; sequence-specific DNA binding; sequence-specific DNA binding transcription factor activity; transcription, DNA-dependent\",Protein c-ets-1-B (C-ets-1B) (XE1-B) (Fragment),\"\"\"regulation of transcription, DNA-dependent\"\"\",RNA metabolism,RNA metabolism,1\r",
      "\r\n",
      "comp100108_c1_seq1,3.00E-59,Q9U943,GO:0016055; GO:0005576; GO:0008289; GO:0005319,Wnt receptor signaling pathway; extracellular region; lipid binding; lipid transporter activity,Apolipophorins [Cleaved into: Apolipophorin-2 (Apolipophorin II) (apoLp-2); Apolipophorin-1 (Apolipophorin I) (apoLp-1)],Wnt receptor signaling pathway,signal transduction,signal transduction,1\r",
      "\r\n",
      "comp100109_c0_seq1,6.00E-23,O75443,GO:0031225; GO:0007160; GO:0005201; GO:0005886; GO:0005578; GO:0007605,anchored to membrane; cell-matrix adhesion; extracellular matrix structural constituent; plasma membrane; proteinaceous extracellular matrix; sensory perception of sound,Alpha-tectorin,cell-matrix adhesion,cell adhesion,cell adhesion,1\r",
      "\r\n",
      "comp100113_c0_seq1,2.00E-06,Q95US5,GO:0000139; GO:0008376; GO:0016051; GO:0075015; GO:0008378; GO:0016021; GO:0045747; GO:0006486; GO:0009636,Golgi membrane; acetylgalactosaminyltransferase activity; carbohydrate biosynthetic process; formation of infection structure on or near host; galactosyltransferase activity; integral to membrane; positive regulation of Notch signaling pathway; protein glycosylation; response to toxic substance,\"Beta-1,3-galactosyltransferase bre-5 (EC 2.4.1.-) (Bacillus thuringiensis toxin-resistant protein 5) (Bt toxin-resistant protein 5)\",positive regulation of Notch signaling pathway,signal transduction,signal transduction,1\r",
      "\r\n",
      "comp100113_c0_seq2,9.00E-13,Q9N295,GO:0000139; GO:0005783; GO:0008378; GO:0016021; GO:0006486,Golgi membrane; endoplasmic reticulum; galactosyltransferase activity; integral to membrane; protein glycosylation,\"Beta-1,3-galactosyltransferase 5 (Beta-1,3-GalTase 5) (Beta3Gal-T5) (Beta3GalT5) (b3Gal-T5) (EC 2.4.1.-) (Beta-3-Gx-T5) (UDP-Gal:beta-GlcNAc beta-1,3-galactosyltransferase 5) (UDP-galactose:beta-N-acetylglucosamine beta-1,3-galactosyltransferase 5) (Fragment)\",protein amino acid glycosylation,protein metabolism,protein metabolism,1\r",
      "\r\n",
      "comp100113_c1_seq1,7.00E-09,Q9MYM7,GO:0000139; GO:0008378; GO:0016021; GO:0006486,Golgi membrane; galactosyltransferase activity; integral to membrane; protein glycosylation,\"Beta-1,3-galactosyltransferase 1 (Beta-1,3-GalTase 1) (Beta3Gal-T1) (Beta3GalT1) (EC 2.4.1.-) (UDP-galactose:beta-N-acetyl-glucosamine-beta-1,3-galactosyltransferase 1)\",protein amino acid glycosylation,protein metabolism,protein metabolism,1\r",
      "\r\n"
     ]
    }
   ],
   "source": [
    "!head /Users/sr320/git-repos/paper-pano-go/data-results/Geoduck_v3_uniprot_wGOV1.csv"
   ]
  },
  {
   "cell_type": "code",
   "execution_count": 33,
   "metadata": {
    "collapsed": false
   },
   "outputs": [
    {
     "name": "stdout",
     "output_type": "stream",
     "text": [
      "comp100000_c0_seq1 \t 0.919033  \t \r\n",
      "comp100001_c1_seq1 \t 0.264219  \t \r\n",
      "comp100001_c2_seq1 \t 0.233631  \t \r\n",
      "comp100002_c0_seq1 \t 0.985872  \t \r\n",
      "comp100004_c1_seq1 \t 0.439224  \t \r\n",
      "comp100007_c0_seq1 \t 0.689395  \t \r\n",
      "comp100010_c0_seq1 \t 1.1367  \t \r\n",
      "comp100011_c0_seq1 \t 0.562483  \t \r\n",
      "comp100012_c0_seq1 \t 0.152087  \t \r\n",
      "comp100014_c0_seq1 \t 0.571851  \t \r\n"
     ]
    }
   ],
   "source": [
    "!head /Users/sr320/git-repos/paper-pano-go/jupyter-nbs/analyses/Geoduck-transcriptome-v3_CpG-GOSlim.tab"
   ]
  },
  {
   "cell_type": "code",
   "execution_count": 18,
   "metadata": {
    "collapsed": false
   },
   "outputs": [
    {
     "name": "stdout",
     "output_type": "stream",
     "text": [
      "ContigID,evalue,UniProt_Acc,Gene ontology IDs,Gene ontology (GO),Protein names\r",
      "\r\n",
      "comp100065_c0_seq1,2E-08,Q5PRC1,GO:0016021,integral to membrane,Lipoma HMGIC fusion partner homolog\r",
      "\r\n",
      "comp100097_c0_seq1,2E-37,Q9UI26,GO:0005737; GO:0005634; GO:0008565; GO:0006610,cytoplasm; nucleus; protein transporter activity; ribosomal protein import into nucleus,Importin-11 (Imp11) (Ran-binding protein 11) (RanBP11)\r",
      "\r\n",
      "comp100104_c2_seq1,3E-29,Q9NZJ4,GO:0005524; GO:0030424; GO:0070852; GO:0008219; GO:0051087; GO:0030425; GO:0005739; GO:0090084; GO:0005634; GO:0006457,ATP binding; axon; cell body fiber; cell death; chaperone binding; dendrite; mitochondrion; negative regulation of inclusion body assembly; nucleus; protein folding,Sacsin (DnaJ homolog subfamily C member 29) (DNAJC29)\r",
      "\r\n",
      "comp100105_c1_seq1,2E-73,P18756,GO:0005634; GO:0010595; GO:0045765; GO:0043565; GO:0003700; GO:0006351,\"nucleus; positive regulation of endothelial cell migration; regulation of angiogenesis; sequence-specific DNA binding; sequence-specific DNA binding transcription factor activity; transcription, DNA-dependent\",Protein c-ets-1-B (C-ets-1B) (XE1-B) (Fragment)\r",
      "\r\n",
      "comp100108_c1_seq1,3E-59,Q9U943,GO:0016055; GO:0005576; GO:0008289; GO:0005319,Wnt receptor signaling pathway; extracellular region; lipid binding; lipid transporter activity,Apolipophorins [Cleaved into: Apolipophorin-2 (Apolipophorin II) (apoLp-2); Apolipophorin-1 (Apolipophorin I) (apoLp-1)]\r",
      "\r\n",
      "comp100109_c0_seq1,6E-23,O75443,GO:0031225; GO:0007160; GO:0005201; GO:0005886; GO:0005578; GO:0007605,anchored to membrane; cell-matrix adhesion; extracellular matrix structural constituent; plasma membrane; proteinaceous extracellular matrix; sensory perception of sound,Alpha-tectorin\r",
      "\r\n",
      "comp100113_c0_seq1,2E-06,Q95US5,GO:0000139; GO:0008376; GO:0016051; GO:0075015; GO:0008378; GO:0016021; GO:0045747; GO:0006486; GO:0009636,Golgi membrane; acetylgalactosaminyltransferase activity; carbohydrate biosynthetic process; formation of infection structure on or near host; galactosyltransferase activity; integral to membrane; positive regulation of Notch signaling pathway; protein glycosylation; response to toxic substance,\"Beta-1,3-galactosyltransferase bre-5 (EC 2.4.1.-) (Bacillus thuringiensis toxin-resistant protein 5) (Bt toxin-resistant protein 5)\"\r",
      "\r\n",
      "comp100113_c0_seq2,9E-13,Q9N295,GO:0000139; GO:0005783; GO:0008378; GO:0016021; GO:0006486,Golgi membrane; endoplasmic reticulum; galactosyltransferase activity; integral to membrane; protein glycosylation,\"Beta-1,3-galactosyltransferase 5 (Beta-1,3-GalTase 5) (Beta3Gal-T5) (Beta3GalT5) (b3Gal-T5) (EC 2.4.1.-) (Beta-3-Gx-T5) (UDP-Gal:beta-GlcNAc beta-1,3-galactosyltransferase 5) (UDP-galactose:beta-N-acetylglucosamine beta-1,3-galactosyltransferase 5) (Fragment)\"\r",
      "\r\n",
      "comp100113_c1_seq1,7E-09,Q9MYM7,GO:0000139; GO:0008378; GO:0016021; GO:0006486,Golgi membrane; galactosyltransferase activity; integral to membrane; protein glycosylation,\"Beta-1,3-galactosyltransferase 1 (Beta-1,3-GalTase 1) (Beta3Gal-T1) (Beta3GalT1) (EC 2.4.1.-) (UDP-galactose:beta-N-acetyl-glucosamine-beta-1,3-galactosyltransferase 1)\"\r",
      "\r\n"
     ]
    }
   ],
   "source": [
    "!head /Users/sr320/git-repos/paper-pano-go/jupyter-nbs/analyses/Geoduck_v3_uniprot_wGO.csv"
   ]
  },
  {
   "cell_type": "markdown",
   "metadata": {},
   "source": [
    "# Redux on annotation"
   ]
  },
  {
   "cell_type": "code",
   "execution_count": 1,
   "metadata": {
    "collapsed": false
   },
   "outputs": [
    {
     "name": "stdout",
     "output_type": "stream",
     "text": [
      "Fri Sep 23 08:48:40 PDT 2016\r\n"
     ]
    }
   ],
   "source": [
    "!date"
   ]
  },
  {
   "cell_type": "code",
   "execution_count": 10,
   "metadata": {
    "collapsed": false
   },
   "outputs": [
    {
     "name": "stdout",
     "output_type": "stream",
     "text": [
      "comp100065_c0_seq1 sp Q5PRC1 LHFP_DANRE 48.00 50 26 0 151 2 100 149 2e-08 51.6\n",
      "comp100097_c0_seq1 sp Q9UI26 IPO11_HUMAN 41.05 229 130 3 2 679 699 925 2e-37 144\n",
      "comp100104_c2_seq1 sp Q9NZJ4 SACS_HUMAN 47.83 138 58 4 2 397 2586 2715 3e-29 118\n",
      "   22974 analyses/Geoduck-tranv3-blastx_sprot.sorted\n"
     ]
    }
   ],
   "source": [
    "!head -3 analyses/Geoduck-tranv3-blastx_sprot.sorted\n",
    "!wc -l analyses/Geoduck-tranv3-blastx_sprot.sorted"
   ]
  },
  {
   "cell_type": "markdown",
   "metadata": {},
   "source": [
    "<img src=\"http://eagle.fish.washington.edu/cnidarian/skitch/SQLShare_-_View_Query_1D958940.png\" alt=\"SQLShare_-_View_Query_1D958940.png\"/>"
   ]
  },
  {
   "cell_type": "markdown",
   "metadata": {},
   "source": [
    "```\n",
    "SELECT \n",
    " \n",
    "  Column1 as GeoID,\n",
    "  Column3 as SPID,\n",
    "  Column13 as evalue,\n",
    "  ProteinName, \n",
    "  Organism\n",
    "  \n",
    "FROM [roberts.sbr@gmail.com].[Geoduck-tranv3-blastx_sprot_1.sorted]geo\n",
    "left join\n",
    "[samwhite@washington.edu].[UniprotProtNamesReviewed_yes20130610]sp\n",
    "on\n",
    "geo.Column3 = sp.SPID\n",
    "```"
   ]
  },
  {
   "cell_type": "code",
   "execution_count": 4,
   "metadata": {
    "collapsed": false
   },
   "outputs": [
    {
     "name": "stdout",
     "output_type": "stream",
     "text": [
      "A0A023GPI8\tLECA_CANBL\treviewed\tLectin alpha chain (CboL) [Cleaved into: Lectin beta chain; Lectin gamma chain]\t\tCanavalia boliviana\t237\t\tGO:0005537; GO:0046872\t\t\t\tPF00139;\r\n",
      "A0A023GPJ0\tCDII_ENTCC\treviewed\tImmunity protein CdiI\tcdiI ECL_04450.1\tEnterobacter cloacae subsp. cloacae (strain ATCC 13047 / DSM 30054 / NBRC 13535 / NCDC 279-56)\t145\t\t\t\t\t\t\r\n",
      "A0A023PXA5\tYA19A_YEAST\treviewed\tPutative uncharacterized protein YAL019W-A\tYAL019W-A\tSaccharomyces cerevisiae (strain ATCC 204508 / S288c) (Baker's yeast)\t189\t\t\t\t\t\t\r\n",
      "A0A023PXB0\tYA019_YEAST\treviewed\tPutative uncharacterized protein YAR019W-A\tYAR019W-A\tSaccharomyces cerevisiae (strain ATCC 204508 / S288c) (Baker's yeast)\t110\t\t\t\t\t\t\r\n",
      "A0A023PXB5\tIRC2_YEAST\treviewed\tPutative uncharacterized membrane protein IRC2 (Increased recombination centers protein 2)\tIRC2 YDR112W\tSaccharomyces cerevisiae (strain ATCC 204508 / S288c) (Baker's yeast)\t102\t\tGO:0016021\t\t\t\t\r\n",
      "A0A023PXB9\tYD99W_YEAST\treviewed\tPutative uncharacterized membrane protein YDR199W\tYDR199W\tSaccharomyces cerevisiae (strain ATCC 204508 / S288c) (Baker's yeast)\t121\t\tGO:0016021\t\t\t\t\r\n",
      "A0A023PXC2\tYE53A_YEAST\treviewed\tPutative uncharacterized membrane protein YEL053W-A\tYEL053W-A\tSaccharomyces cerevisiae (strain ATCC 204508 / S288c) (Baker's yeast)\t115\t\tGO:0016021\t\t\t\t\r\n",
      "A0A023PXC7\tYE068_YEAST\treviewed\tPutative uncharacterized membrane protein YER068C-A\tYER068C-A\tSaccharomyces cerevisiae (strain ATCC 204508 / S288c) (Baker's yeast)\t143\t\tGO:0016021\t\t\t\t\r\n",
      "A0A023PXD3\tYE88A_YEAST\treviewed\tPutative uncharacterized protein YER088C-A\tYER088C-A\tSaccharomyces cerevisiae (strain ATCC 204508 / S288c) (Baker's yeast)\t107\t\t\t\t\t\t\r\n",
      "A0A023PXD5\tYE147_YEAST\treviewed\tPutative uncharacterized membrane protein YER147C-A\tYER147C-A\tSaccharomyces cerevisiae (strain ATCC 204508 / S288c) (Baker's yeast)\t136\t\tGO:0016021\t\t\t\t\r\n"
     ]
    }
   ],
   "source": [
    "!head /Volumes/Monarch/uniprot/uniprot-all0916.tab.sorted"
   ]
  },
  {
   "cell_type": "code",
   "execution_count": 7,
   "metadata": {
    "collapsed": false,
    "scrolled": true
   },
   "outputs": [
    {
     "name": "stdout",
     "output_type": "stream",
     "text": [
      "UniProtKB/Swiss-Prot\tX5M5N0\twnk-1\t-\tGO:0007275\tmulticellular organism development\tProcess\tIEA\tGO_REF:0000037\tUniProtKB-KW:KW-0217\t6239\t20160910\tUniProt\t-\r\n",
      "UniProtKB/Swiss-Prot\tX5M5N0\twnk-1\t-\tGO:0016310\tphosphorylation\tProcess\tIEA\tGO_REF:0000037\tUniProtKB-KW:KW-0418\t6239\t20160910\tUniProt\t-\r\n",
      "UniProtKB/Swiss-Prot\tX5M5N0\twnk-1\t-\tGO:0050891\tmulticellular organismal water homeostasis\tProcess\tIGI\tPMID:17596296\tUniProtKB:G5EEN4\t6239\t20151111\tUniProt\t-\r\n",
      "UniProtKB/Swiss-Prot\tX5M5N0\twnk-1\t-\tGO:0050891\tmulticellular organismal water homeostasis\tProcess\tIMP\tPMID:17596296\t-\t6239\t20151111\tUniProt\t-\r\n",
      "UniProtKB/Swiss-Prot\tX5M5N0\twnk-1\t-\tGO:0061404\tpositive regulation of transcription from RNA polymerase II promoter in response to increased salt\tProcess\tIMP\tPMID:23076791\t-\t6239\t20160212\tUniProt\t-\r\n",
      "UniProtKB/Swiss-Prot\tX5M8U1\tgcy-17\t-\tGO:0006182\tcGMP biosynthetic process\tProcess\tIEA\tGO_REF:0000002\tInterPro:IPR011645\t6239\t20160910\tInterPro\t-\r\n",
      "UniProtKB/Swiss-Prot\tX5M8U1\tgcy-17\t-\tGO:0006182\tcGMP biosynthetic process\tProcess\tIEA\tGO_REF:0000037\tUniProtKB-KW:KW-0141\t6239\t20160910\tUniProt\t-\r\n",
      "UniProtKB/Swiss-Prot\tX5M8U1\tgcy-17\t-\tGO:0006468\tprotein phosphorylation\tProcess\tIEA\tGO_REF:0000002\tInterPro:IPR000719|InterPro:IPR001245\t6239\t20160910\tInterPro\t-\r\n",
      "UniProtKB/Swiss-Prot\tX5M8U1\tgcy-17\t-\tGO:0009190\tcyclic nucleotide biosynthetic process\tProcess\tIEA\tGO_REF:0000002\tInterPro:IPR001054|InterPro:IPR018297\t6239\t20160910\tInterPro\t-\r\n",
      "UniProtKB/Swiss-Prot\tX5M8U1\tgcy-17\t-\tGO:0035556\tintracellular signal transduction\tProcess\tIEA\tGO_REF:0000002\tInterPro:IPR001054|InterPro:IPR018297\t6239\t20160910\tInterPro\t-\r\n"
     ]
    }
   ],
   "source": [
    "!tail /Volumes/Monarch/uniprot/associations-SP-GO-BP.tsv"
   ]
  },
  {
   "cell_type": "code",
   "execution_count": 17,
   "metadata": {
    "collapsed": true
   },
   "outputs": [],
   "source": [
    "!head /Users/sr320/data-genomic/tentacle/SPID_and_GO_Numbers"
   ]
  },
  {
   "cell_type": "code",
   "execution_count": null,
   "metadata": {
    "collapsed": true
   },
   "outputs": [],
   "source": [
    "associations_uni_swisspro_012410\n",
    "\n",
    "\n",
    "SELECT \n",
    "*\n",
    "FROM [roberts.sbr@gmail.com].[Geoduck-tranv3-blastx_sprot_1.sorted]geo\n",
    "left join\n",
    "[sr320@washington.edu].[associations_uni_swisspro_012410]sp\n",
    "on\n",
    "geo.Column3 = sp.[GO ID]"
   ]
  },
  {
   "cell_type": "code",
   "execution_count": 9,
   "metadata": {
    "collapsed": false
   },
   "outputs": [
    {
     "name": "stdout",
     "output_type": "stream",
     "text": [
      "GeoID,SPID,evalue,ProteinName,Organism\r",
      "\r\n",
      "comp100065_c0_seq1,Q5PRC1,2E-08,Lipoma HMGIC fusion partner homolog,Danio rerio (Zebrafish) (Brachydanio rerio)\r",
      "\r\n",
      "comp100097_c0_seq1,Q9UI26,2E-37,Importin-11 (Imp11) (Ran-binding protein 11) (RanBP11),Homo sapiens (Human)\r",
      "\r\n",
      "comp100104_c2_seq1,Q9NZJ4,3E-29,Sacsin (DnaJ homolog subfamily C member 29) (DNAJC29),Homo sapiens (Human)\r",
      "\r\n",
      "comp100105_c1_seq1,P18756,2E-73,Protein c-ets-1-B (C-ets-1B) (XE1-B) (Fragment),Xenopus laevis (African clawed frog)\r",
      "\r\n",
      "comp100108_c1_seq1,Q9U943,3E-59,Apolipophorins [Cleaved into: Apolipophorin-2 (Apolipophorin II) (apoLp-2); Apolipophorin-1 (Apolipophorin I) (apoLp-1)],Locusta migratoria (Migratory locust)\r",
      "\r\n",
      "comp100109_c0_seq1,O75443,6E-23,Alpha-tectorin,Homo sapiens (Human)\r",
      "\r\n",
      "comp100113_c0_seq1,Q95US5,2E-06,\"\"\"Beta-1,3-galactosyltransferase bre-5 (EC 2.4.1.-) (Bacillus thuringiensis toxin-resistant protein 5) (Bt toxin-resistant protein 5)\"\"\",Caenorhabditis elegans\r",
      "\r\n",
      "comp100113_c0_seq2,Q9N295,9E-13,\"\"\"Beta-1,3-galactosyltransferase 5 (Beta-1,3-GalTase 5) (Beta3Gal-T5) (Beta3GalT5) (b3Gal-T5) (EC 2.4.1.-) (Beta-3-Gx-T5) (UDP-Gal:beta-GlcNAc beta-1,3-galactosyltransferase 5) (UDP-galactose:beta-N-acetylglucosamine beta-1,3-galactosyltransferase 5) (Fragment)\"\"\",Pan troglodytes (Chimpanzee)\r",
      "\r\n",
      "comp100113_c1_seq1,Q9MYM7,7E-09,\"\"\"Beta-1,3-galactosyltransferase 1 (Beta-1,3-GalTase 1) (Beta3Gal-T1) (Beta3GalT1) (EC 2.4.1.-) (UDP-galactose:beta-N-acetyl-glucosamine-beta-1,3-galactosyltransferase 1)\"\"\",Pongo pygmaeus (Bornean orangutan)\r",
      "\r\n"
     ]
    }
   ],
   "source": [
    "!head /Users/sr320/git-repos/paper-pano-go/data-results/Geoduck-v3-protein-names.csv"
   ]
  },
  {
   "cell_type": "markdown",
   "metadata": {},
   "source": [
    "# new SP files"
   ]
  },
  {
   "cell_type": "code",
   "execution_count": null,
   "metadata": {
    "collapsed": true
   },
   "outputs": [],
   "source": [
    "uniprot-all0916\n",
    "\n",
    "\n",
    "  Column1 as GeoID,\n",
    "  Column3 as SPID,\n",
    "  Column13 as evalue,\n",
    "  ProteinName, \n",
    "  Organism\n",
    "\n",
    "SELECT \n",
    "*\n",
    "FROM [roberts.sbr@gmail.com].[Geoduck-tranv3-blastx_sprot_1.sorted]geo\n",
    "left join\n",
    "[roberts.sbr@gmail.com].[uniprot-all0916]sp\n",
    "on\n",
    "geo.Column3 = sp.Column1"
   ]
  },
  {
   "cell_type": "code",
   "execution_count": 8,
   "metadata": {
    "collapsed": false
   },
   "outputs": [
    {
     "name": "stdout",
     "output_type": "stream",
     "text": [
      "GeoID\tEvalue\tSPID\tProteinName\tOrganism\tGO\tPFAM\r\n",
      "comp100065_c0_seq1\t2.00E-08\tQ5PRC1\tLipoma HMGIC fusion partner homolog\tDanio rerio (Zebrafish) (Brachydanio rerio)\t\tPF10242;\r\n",
      "comp100097_c0_seq1\t2.00E-37\tQ9UI26\tImportin-11 (Imp11) (Ran-binding protein 11) (RanBP11)\tHomo sapiens (Human)\tribosomal protein import into nucleus [GO:0006610]; transcription factor import into nucleus [GO:0042991]\tPF03810;\r\n",
      "comp100104_c2_seq1\t3.00E-29\tQ9NZJ4\tSacsin (DnaJ homolog subfamily C member 29) (DNAJC29)\tHomo sapiens (Human)\tnegative regulation of inclusion body assembly [GO:0090084]; protein folding [GO:0006457]\tPF05168;PF00240;\r\n",
      "comp100105_c1_seq1\t2.00E-73\tP18756\tProtein c-ets-1-B (C-ets-1B) (XE1-B) (Fragment)\tXenopus laevis (African clawed frog)\tpositive regulation of endothelial cell migration [GO:0010595]; regulation of angiogenesis [GO:0045765]; transcription, DNA-templated [GO:0006351]\tPF00178;\r\n",
      "comp100108_c1_seq1\t3.00E-59\tQ9U943\tApolipophorins [Cleaved into: Apolipophorin-2 (Apolipophorin II) (apoLp-2); Apolipophorin-1 (Apolipophorin I) (apoLp-1)]\tLocusta migratoria (Migratory locust)\tWnt signaling pathway [GO:0016055]\tPF08742;PF06448;PF09172;PF01347;PF00094;\r\n",
      "comp100109_c0_seq1\t6.00E-23\tO75443\tAlpha-tectorin\tHomo sapiens (Human)\tcell-matrix adhesion [GO:0007160]; sensory perception of sound [GO:0007605]\tPF08742;PF06119;PF01826;PF12714;PF00094;PF00100;\r\n",
      "comp100113_c0_seq1\t2.00E-06\tQ95US5\tBeta-1,3-galactosyltransferase bre-5 (EC 2.4.1.-) (Bacillus thuringiensis toxin-resistant protein 5) (Bt toxin-resistant protein 5)\tCaenorhabditis elegans\tcarbohydrate biosynthetic process [GO:0016051]; formation of infection structure on or near host [GO:0075015]; positive regulation of Notch signaling pathway [GO:0045747]; protein glycosylation [GO:0006486]; response to toxic substance [GO:0009636]\tPF01762;\r\n",
      "comp100113_c0_seq2\t9.00E-13\tQ9N295\tBeta-1,3-galactosyltransferase 5 (Beta-1,3-GalTase 5) (Beta3Gal-T5) (Beta3GalT5) (b3Gal-T5) (EC 2.4.1.-) (Beta-3-Gx-T5) (UDP-Gal:beta-GlcNAc beta-1,3-galactosyltransferase 5) (UDP-galactose:beta-N-acetylglucosamine beta-1,3-galactosyltransferase 5) (Fragment)\tPan troglodytes (Chimpanzee)\tprotein glycosylation [GO:0006486]\tPF01762;\r\n",
      "comp100113_c1_seq1\t7.00E-09\tQ9MYM7\tBeta-1,3-galactosyltransferase 1 (Beta-1,3-GalTase 1) (Beta3Gal-T1) (Beta3GalT1) (EC 2.4.1.-) (UDP-galactose:beta-N-acetyl-glucosamine-beta-1,3-galactosyltransferase 1)\tPongo pygmaeus (Bornean orangutan)\tprotein glycosylation [GO:0006486]\tPF01762;\r\n"
     ]
    }
   ],
   "source": [
    "!head ../data-results/Geo-v3-join-uniprot-all0916-condensed.tab"
   ]
  },
  {
   "cell_type": "markdown",
   "metadata": {},
   "source": [
    "# NEW GO"
   ]
  },
  {
   "cell_type": "markdown",
   "metadata": {},
   "source": [
    "<img src=\"http://eagle.fish.washington.edu/cnidarian/skitch/SQLShare_-_View_Query_1D959F1E.png\" alt=\"SQLShare_-_View_Query_1D959F1E.png\"/>"
   ]
  },
  {
   "cell_type": "code",
   "execution_count": null,
   "metadata": {
    "collapsed": true
   },
   "outputs": [],
   "source": [
    "SELECT \n",
    "*\n",
    "FROM [roberts.sbr@gmail.com].[Geoduck-tranv3-blastx_sprot_1.sorted]geo\n",
    "left join\n",
    "[roberts.sbr@gmail.com].[associations-SP-GO-BP]sp\n",
    "on\n",
    "geo.Column3 = sp.[GO ID]"
   ]
  }
 ],
 "metadata": {
  "kernelspec": {
   "display_name": "Python 2",
   "language": "python",
   "name": "python2"
  },
  "language_info": {
   "codemirror_mode": {
    "name": "ipython",
    "version": 2
   },
   "file_extension": ".py",
   "mimetype": "text/x-python",
   "name": "python",
   "nbconvert_exporter": "python",
   "pygments_lexer": "ipython2",
   "version": "2.7.12"
  }
 },
 "nbformat": 4,
 "nbformat_minor": 0
}
