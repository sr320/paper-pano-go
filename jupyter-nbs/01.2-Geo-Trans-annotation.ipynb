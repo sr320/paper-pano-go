{
 "cells": [
  {
   "cell_type": "markdown",
   "metadata": {},
   "source": [
    "# Transcriptome Annotation"
   ]
  },
  {
   "cell_type": "code",
   "execution_count": null,
   "metadata": {
    "collapsed": true
   },
   "outputs": [],
   "source": []
  },
  {
   "cell_type": "markdown",
   "metadata": {},
   "source": [
    "### Looking at Swiss-Prot hits"
   ]
  },
  {
   "cell_type": "code",
   "execution_count": 33,
   "metadata": {
    "collapsed": false
   },
   "outputs": [
    {
     "name": "stdout",
     "output_type": "stream",
     "text": [
      "comp95_c0_seq1\tsp\tQ8K358\tPIGU_MOUSE\t67.53\t77\t25\t0\t231\t1\t258\t334\t7e-32\t  119\n",
      "comp146_c0_seq1\tsp\tP37137\tLHX5_XENLA\t79.31\t58\t12\t0\t175\t2\t4\t61\t4e-31\t  116\n",
      "   23165 ../data-results/Geoduck-tranv2-blastx_sprot.tab\n"
     ]
    }
   ],
   "source": [
    "!head -2 ../data-results/Geoduck-tranv2-blastx_sprot.tab \n",
    "!wc -l ../data-results/Geoduck-tranv2-blastx_sprot.tab "
   ]
  },
  {
   "cell_type": "code",
   "execution_count": 6,
   "metadata": {
    "collapsed": true
   },
   "outputs": [],
   "source": [
    "#considering CpG analysis curious to know if 5-3' directionality is required."
   ]
  },
  {
   "cell_type": "code",
   "execution_count": 7,
   "metadata": {
    "collapsed": true
   },
   "outputs": [],
   "source": [
    "#Q how many seqs are \"flipped\""
   ]
  },
  {
   "cell_type": "markdown",
   "metadata": {},
   "source": [
    "`qseqid sseqid pident length mismatch gapopen qstart qend sstart send evalue bitscore`"
   ]
  },
  {
   "cell_type": "markdown",
   "metadata": {},
   "source": [
    "These match in reverse complement- will confirm\n",
    "<img src=\"http://eagle.fish.washington.edu/cnidarian/skitch/01_2-Geo-Trans-annotation_1BF64666.png\" alt=\"01_2-Geo-Trans-annotation_1BF64666.png\"/>"
   ]
  },
  {
   "cell_type": "code",
   "execution_count": 12,
   "metadata": {
    "collapsed": false
   },
   "outputs": [
    {
     "name": "stdout",
     "output_type": "stream",
     "text": [
      ">comp7_c0_seq1 len=210 path=[5082:0-45 293:46-209]\r\n",
      "TTAACCAAGGTGTGACGCCGACGCAAGGGTGAGTAGAATAGCTCTGTTTATTATCCGAAT\r\n",
      "AGTCGAGCTAAAAACACAAAGAATAAAGGTTTAACAGTTCTATCTGAAATATATATTTGG\r\n",
      "ATATCTATTGGTAAGGATACGTTTTATATTAAAAACAAACAATTTATAAAGCGCTCTCGC\r\n",
      "ACCTTGTTTTTGCATTATGAGCATATACAT\r\n",
      ">comp30_c0_seq1 len=201 path=[6331:0-200]\r\n",
      "AAGAAAATTGATTTGAAATTGACTCTGCTTGAATAGAAAAAAATGTTTTGTTCTTTTTTT\r\n",
      "CGAAGTGTAAATTGTAAATTACTTTATTAAAAAATTCATAGTTTCCGGGCAAGTTATTTT\r\n",
      "TAATATATTGTAAATGTTGTCATTCAGAGGTTTGTTACGAATATATTGTTTGACAGACAT\r\n",
      "GCTACTGTTGTACTACTATTG\r\n"
     ]
    }
   ],
   "source": [
    "!head ../data-results/Geoduck-transcriptome-v2.fasta"
   ]
  },
  {
   "cell_type": "code",
   "execution_count": 18,
   "metadata": {
    "collapsed": false
   },
   "outputs": [
    {
     "name": "stdout",
     "output_type": "stream",
     "text": [
      ">comp95_c0_seq1 len=236 path=[41153:0-99 35145:100-235]\r\n",
      "CACATCGGCGTAACTTGGATATGAATTAAATATGGAAATCAGTGAGACTAGGACATCGGC\r\n",
      "TAAAAATACTGGATGATCCCTTAATTTTACAGCCAGTGGAACAGTGTAAAGGAATGCATT\r\n",
      "TATCTGGAACACGCAGATGAAGAATGGTCTAAAGTGCTCAAACATTTCTGTGAAAAAATA\r\n",
      "CCAGAATACGCCCAGGTTTGGCGTCAAATCTGGTACCCCCAGTATAAACCCTGTTG\r\n",
      ">comp105_c0_seq1 len=212 path=[42547:0-211]\r\n",
      "TGCATTGTAATGATTTGAGTATTTGGGTACAGCAGGACAGATGCACTTTGATGTGTATAA\r\n",
      "AATTAATATTAAAAATGTGTTTTGATAAAAATTGACAGCCATCTGATGCATATCCTGGTC\r\n",
      "GGATTTTTTTTTTTATTTTATTGTTTTTTTTTTAATCACTTAGATCTAATAATTTAATCT\r\n",
      "TATATATCTATCCGTATGTTATTTAAAATTTA\r\n"
     ]
    }
   ],
   "source": [
    "!grep -A9 \"comp95_c0_seq1\" ../data-results/Geoduck-transcriptome-v2.fasta"
   ]
  },
  {
   "cell_type": "markdown",
   "metadata": {},
   "source": [
    "yep\n",
    "<img src=\"http://eagle.fish.washington.edu/cnidarian/skitch/NCBI_Blast_comp95_c0_seq1_len_236_path__41153_0-99_35145_100-235__1BF64703.png\" alt=\"NCBI_Blast_comp95_c0_seq1_len_236_path__41153_0-99_35145_100-235__1BF64703.png\"/>"
   ]
  },
  {
   "cell_type": "markdown",
   "metadata": {},
   "source": [
    "### Awk math?"
   ]
  },
  {
   "cell_type": "code",
   "execution_count": 34,
   "metadata": {
    "collapsed": false
   },
   "outputs": [
    {
     "name": "stdout",
     "output_type": "stream",
     "text": [
      "comp95_c0_seq1 \t -230\n",
      "comp146_c0_seq1 \t -173\n",
      "comp195_c0_seq1 \t -185\n",
      "comp296_c0_seq1 \t -200\n",
      "comp455_c1_seq1 \t -197\n",
      "comp943_c0_seq1 \t -218\n",
      "comp1059_c0_seq1 \t -227\n",
      "comp1683_c0_seq1 \t -206\n",
      "comp1868_c0_seq1 \t -308\n",
      "comp1910_c1_seq1 \t -248\n",
      "   10413 analyses/Geoduck-tranv2-minus_direction.tab\n"
     ]
    }
   ],
   "source": [
    "!awk '($10-$9) < 0 {print $1, \"\\t\", ($10-$9)}' \\\n",
    "../data-results/Geoduck-tranv2-blastx_sprot.tab \\\n",
    "> analyses/Geoduck-tranv2-minus_direction.tab\n",
    "!head analyses/Geoduck-tranv2-minus_direction.tab\n",
    "!wc -l analyses/Geoduck-tranv2-minus_direction.tab"
   ]
  },
  {
   "cell_type": "code",
   "execution_count": null,
   "metadata": {
    "collapsed": true
   },
   "outputs": [],
   "source": [
    "#10413 match in rev direction."
   ]
  },
  {
   "cell_type": "code",
   "execution_count": null,
   "metadata": {
    "collapsed": true
   },
   "outputs": [],
   "source": []
  },
  {
   "cell_type": "code",
   "execution_count": null,
   "metadata": {
    "collapsed": true
   },
   "outputs": [],
   "source": []
  },
  {
   "cell_type": "markdown",
   "metadata": {},
   "source": [
    "# Identifying all genes involved in Reproduction"
   ]
  },
  {
   "cell_type": "code",
   "execution_count": 35,
   "metadata": {
    "collapsed": false
   },
   "outputs": [
    {
     "name": "stdout",
     "output_type": "stream",
     "text": [
      "Column1,Column2,Column3,Column4,Column5,Column6,Column7,Column8,Column9,Column10,Column11,Column12,Column13,Column14,SPID,GOID,GO_id,term,GOSlim_bin,aspect\r",
      "\r\n",
      "comp100097_c0_seq1,sp,Q9UI26,IPO11_HUMAN,41.05,229,130,3,2,679,699,925,2E-37,144,Q9UI26,GO:0006886,GO:0006886,intracellular protein transport,transport,P\r",
      "\r\n",
      "comp100097_c0_seq1,sp,Q9UI26,IPO11_HUMAN,41.05,229,130,3,2,679,699,925,2E-37,144,Q9UI26,GO:0015031,GO:0015031,protein transport,transport,P\r",
      "\r\n",
      "comp100097_c0_seq1,sp,Q9UI26,IPO11_HUMAN,41.05,229,130,3,2,679,699,925,2E-37,144,Q9UI26,GO:0006810,GO:0006810,transport,transport,P\r",
      "\r\n",
      "comp100104_c2_seq1,sp,Q9NZJ4,SACS_HUMAN,47.83,138,58,4,2,397,2586,2715,3E-29,118,Q9NZJ4,GO:0006457,GO:0006457,protein folding,protein metabolism,P\r",
      "\r\n",
      "comp100104_c2_seq1,sp,Q9NZJ4,SACS_HUMAN,47.83,138,58,4,2,397,2586,2715,3E-29,118,Q9NZJ4,GO:0008219,GO:0008219,cell death,death,P\r",
      "\r\n",
      "comp100105_c1_seq1,sp,P18756,ETS1B_XENLA,85.71,126,18,0,402,25,143,268,2E-73,233,P18756,GO:0006355,GO:0006355,\"\"\"regulation of transcription, DNA-dependent\"\"\",RNA metabolism,P\r",
      "\r\n",
      "comp100108_c1_seq1,sp,Q9U943,APLP_LOCMI,32.45,413,227,9,4,1104,514,920,3E-59,214,Q9U943,GO:0006869,GO:0006869,lipid transport,transport,P\r",
      "\r\n",
      "comp100108_c1_seq1,sp,Q9U943,APLP_LOCMI,32.45,413,227,9,4,1104,514,920,3E-59,214,Q9U943,GO:0006810,GO:0006810,transport,transport,P\r",
      "\r\n",
      "comp100108_c1_seq1,sp,Q9U943,APLP_LOCMI,32.45,413,227,9,4,1104,514,920,3E-59,214,Q9U943,GO:0016055,GO:0016055,Wnt receptor signaling pathway,signal transduction,P\r",
      "\r\n"
     ]
    }
   ],
   "source": [
    "!head ../data-results/Geoduck-transcriptome-v2-GO-Slim.csv"
   ]
  },
  {
   "cell_type": "code",
   "execution_count": 37,
   "metadata": {
    "collapsed": false
   },
   "outputs": [
    {
     "name": "stdout",
     "output_type": "stream",
     "text": [
      "     222\r\n"
     ]
    }
   ],
   "source": [
    "!grep \"reproduction\" ../data-results/Geoduck-transcriptome-v2-GO-Slim.csv | wc -l"
   ]
  },
  {
   "cell_type": "code",
   "execution_count": null,
   "metadata": {
    "collapsed": true
   },
   "outputs": [],
   "source": []
  }
 ],
 "metadata": {
  "kernelspec": {
   "display_name": "Python 2",
   "language": "python",
   "name": "python2"
  },
  "language_info": {
   "codemirror_mode": {
    "name": "ipython",
    "version": 2
   },
   "file_extension": ".py",
   "mimetype": "text/x-python",
   "name": "python",
   "nbconvert_exporter": "python",
   "pygments_lexer": "ipython2",
   "version": "2.7.10"
  }
 },
 "nbformat": 4,
 "nbformat_minor": 0
}
