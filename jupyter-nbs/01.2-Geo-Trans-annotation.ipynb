{
 "cells": [
  {
   "cell_type": "markdown",
   "metadata": {
    "button": false,
    "deletable": true,
    "new_sheet": false,
    "run_control": {
     "read_only": false
    }
   },
   "source": [
    "# Transcriptome Annotation"
   ]
  },
  {
   "cell_type": "code",
   "execution_count": null,
   "metadata": {
    "button": false,
    "collapsed": true,
    "deletable": true,
    "new_sheet": false,
    "run_control": {
     "read_only": false
    }
   },
   "outputs": [],
   "source": []
  },
  {
   "cell_type": "markdown",
   "metadata": {
    "button": false,
    "deletable": true,
    "new_sheet": false,
    "run_control": {
     "read_only": false
    }
   },
   "source": [
    "### Looking at Swiss-Prot hits"
   ]
  },
  {
   "cell_type": "code",
   "execution_count": 33,
   "metadata": {
    "button": false,
    "collapsed": false,
    "deletable": true,
    "new_sheet": false,
    "run_control": {
     "read_only": false
    }
   },
   "outputs": [
    {
     "name": "stdout",
     "output_type": "stream",
     "text": [
      "comp95_c0_seq1\tsp\tQ8K358\tPIGU_MOUSE\t67.53\t77\t25\t0\t231\t1\t258\t334\t7e-32\t  119\n",
      "comp146_c0_seq1\tsp\tP37137\tLHX5_XENLA\t79.31\t58\t12\t0\t175\t2\t4\t61\t4e-31\t  116\n",
      "   23165 ../data-results/Geoduck-tranv2-blastx_sprot.tab\n"
     ]
    }
   ],
   "source": [
    "!head -2 ../data-results/Geoduck-tranv2-blastx_sprot.tab \n",
    "!wc -l ../data-results/Geoduck-tranv2-blastx_sprot.tab "
   ]
  },
  {
   "cell_type": "code",
   "execution_count": 6,
   "metadata": {
    "button": false,
    "collapsed": true,
    "deletable": true,
    "new_sheet": false,
    "run_control": {
     "read_only": false
    }
   },
   "outputs": [],
   "source": [
    "#considering CpG analysis curious to know if 5-3' directionality is required."
   ]
  },
  {
   "cell_type": "code",
   "execution_count": 7,
   "metadata": {
    "button": false,
    "collapsed": true,
    "deletable": true,
    "new_sheet": false,
    "run_control": {
     "read_only": false
    }
   },
   "outputs": [],
   "source": [
    "#Q how many seqs are \"flipped\""
   ]
  },
  {
   "cell_type": "markdown",
   "metadata": {
    "button": false,
    "deletable": true,
    "new_sheet": false,
    "run_control": {
     "read_only": false
    }
   },
   "source": [
    "`qseqid sseqid pident length mismatch gapopen qstart qend sstart send evalue bitscore`"
   ]
  },
  {
   "cell_type": "markdown",
   "metadata": {
    "button": false,
    "deletable": true,
    "new_sheet": false,
    "run_control": {
     "read_only": false
    }
   },
   "source": [
    "These match in reverse complement- will confirm\n",
    "<img src=\"http://eagle.fish.washington.edu/cnidarian/skitch/01_2-Geo-Trans-annotation_1BF64666.png\" alt=\"01_2-Geo-Trans-annotation_1BF64666.png\"/>"
   ]
  },
  {
   "cell_type": "code",
   "execution_count": 12,
   "metadata": {
    "button": false,
    "collapsed": false,
    "deletable": true,
    "new_sheet": false,
    "run_control": {
     "read_only": false
    }
   },
   "outputs": [
    {
     "name": "stdout",
     "output_type": "stream",
     "text": [
      ">comp7_c0_seq1 len=210 path=[5082:0-45 293:46-209]\r\n",
      "TTAACCAAGGTGTGACGCCGACGCAAGGGTGAGTAGAATAGCTCTGTTTATTATCCGAAT\r\n",
      "AGTCGAGCTAAAAACACAAAGAATAAAGGTTTAACAGTTCTATCTGAAATATATATTTGG\r\n",
      "ATATCTATTGGTAAGGATACGTTTTATATTAAAAACAAACAATTTATAAAGCGCTCTCGC\r\n",
      "ACCTTGTTTTTGCATTATGAGCATATACAT\r\n",
      ">comp30_c0_seq1 len=201 path=[6331:0-200]\r\n",
      "AAGAAAATTGATTTGAAATTGACTCTGCTTGAATAGAAAAAAATGTTTTGTTCTTTTTTT\r\n",
      "CGAAGTGTAAATTGTAAATTACTTTATTAAAAAATTCATAGTTTCCGGGCAAGTTATTTT\r\n",
      "TAATATATTGTAAATGTTGTCATTCAGAGGTTTGTTACGAATATATTGTTTGACAGACAT\r\n",
      "GCTACTGTTGTACTACTATTG\r\n"
     ]
    }
   ],
   "source": [
    "!head ../data-results/Geoduck-transcriptome-v2.fasta"
   ]
  },
  {
   "cell_type": "code",
   "execution_count": 18,
   "metadata": {
    "button": false,
    "collapsed": false,
    "deletable": true,
    "new_sheet": false,
    "run_control": {
     "read_only": false
    }
   },
   "outputs": [
    {
     "name": "stdout",
     "output_type": "stream",
     "text": [
      ">comp95_c0_seq1 len=236 path=[41153:0-99 35145:100-235]\r\n",
      "CACATCGGCGTAACTTGGATATGAATTAAATATGGAAATCAGTGAGACTAGGACATCGGC\r\n",
      "TAAAAATACTGGATGATCCCTTAATTTTACAGCCAGTGGAACAGTGTAAAGGAATGCATT\r\n",
      "TATCTGGAACACGCAGATGAAGAATGGTCTAAAGTGCTCAAACATTTCTGTGAAAAAATA\r\n",
      "CCAGAATACGCCCAGGTTTGGCGTCAAATCTGGTACCCCCAGTATAAACCCTGTTG\r\n",
      ">comp105_c0_seq1 len=212 path=[42547:0-211]\r\n",
      "TGCATTGTAATGATTTGAGTATTTGGGTACAGCAGGACAGATGCACTTTGATGTGTATAA\r\n",
      "AATTAATATTAAAAATGTGTTTTGATAAAAATTGACAGCCATCTGATGCATATCCTGGTC\r\n",
      "GGATTTTTTTTTTTATTTTATTGTTTTTTTTTTAATCACTTAGATCTAATAATTTAATCT\r\n",
      "TATATATCTATCCGTATGTTATTTAAAATTTA\r\n"
     ]
    }
   ],
   "source": [
    "!grep -A9 \"comp95_c0_seq1\" ../data-results/Geoduck-transcriptome-v2.fasta"
   ]
  },
  {
   "cell_type": "markdown",
   "metadata": {
    "button": false,
    "deletable": true,
    "new_sheet": false,
    "run_control": {
     "read_only": false
    }
   },
   "source": [
    "yep\n",
    "<img src=\"http://eagle.fish.washington.edu/cnidarian/skitch/NCBI_Blast_comp95_c0_seq1_len_236_path__41153_0-99_35145_100-235__1BF64703.png\" alt=\"NCBI_Blast_comp95_c0_seq1_len_236_path__41153_0-99_35145_100-235__1BF64703.png\"/>"
   ]
  },
  {
   "cell_type": "markdown",
   "metadata": {
    "button": false,
    "deletable": true,
    "new_sheet": false,
    "run_control": {
     "read_only": false
    }
   },
   "source": [
    "### Awk math?"
   ]
  },
  {
   "cell_type": "code",
   "execution_count": 34,
   "metadata": {
    "button": false,
    "collapsed": false,
    "deletable": true,
    "new_sheet": false,
    "run_control": {
     "read_only": false
    }
   },
   "outputs": [
    {
     "name": "stdout",
     "output_type": "stream",
     "text": [
      "comp95_c0_seq1 \t -230\n",
      "comp146_c0_seq1 \t -173\n",
      "comp195_c0_seq1 \t -185\n",
      "comp296_c0_seq1 \t -200\n",
      "comp455_c1_seq1 \t -197\n",
      "comp943_c0_seq1 \t -218\n",
      "comp1059_c0_seq1 \t -227\n",
      "comp1683_c0_seq1 \t -206\n",
      "comp1868_c0_seq1 \t -308\n",
      "comp1910_c1_seq1 \t -248\n",
      "   10413 analyses/Geoduck-tranv2-minus_direction.tab\n"
     ]
    }
   ],
   "source": [
    "!awk '($10-$9) < 0 {print $1, \"\\t\", ($10-$9)}' \\\n",
    "../data-results/Geoduck-tranv2-blastx_sprot.tab \\\n",
    "> analyses/Geoduck-tranv2-minus_direction.tab\n",
    "!head analyses/Geoduck-tranv2-minus_direction.tab\n",
    "!wc -l analyses/Geoduck-tranv2-minus_direction.tab"
   ]
  },
  {
   "cell_type": "code",
   "execution_count": null,
   "metadata": {
    "button": false,
    "collapsed": true,
    "deletable": true,
    "new_sheet": false,
    "run_control": {
     "read_only": false
    }
   },
   "outputs": [],
   "source": [
    "#10413 match in rev direction."
   ]
  },
  {
   "cell_type": "code",
   "execution_count": null,
   "metadata": {
    "button": false,
    "collapsed": true,
    "deletable": true,
    "new_sheet": false,
    "run_control": {
     "read_only": false
    }
   },
   "outputs": [],
   "source": []
  },
  {
   "cell_type": "code",
   "execution_count": null,
   "metadata": {
    "button": false,
    "collapsed": true,
    "deletable": true,
    "new_sheet": false,
    "run_control": {
     "read_only": false
    }
   },
   "outputs": [],
   "source": []
  },
  {
   "cell_type": "markdown",
   "metadata": {
    "button": false,
    "deletable": true,
    "new_sheet": false,
    "run_control": {
     "read_only": false
    }
   },
   "source": [
    "# Identifying all genes involved in Reproduction"
   ]
  },
  {
   "cell_type": "code",
   "execution_count": 35,
   "metadata": {
    "button": false,
    "collapsed": false,
    "deletable": true,
    "new_sheet": false,
    "run_control": {
     "read_only": false
    }
   },
   "outputs": [
    {
     "name": "stdout",
     "output_type": "stream",
     "text": [
      "Column1,Column2,Column3,Column4,Column5,Column6,Column7,Column8,Column9,Column10,Column11,Column12,Column13,Column14,SPID,GOID,GO_id,term,GOSlim_bin,aspect\r",
      "\r\n",
      "comp100097_c0_seq1,sp,Q9UI26,IPO11_HUMAN,41.05,229,130,3,2,679,699,925,2E-37,144,Q9UI26,GO:0006886,GO:0006886,intracellular protein transport,transport,P\r",
      "\r\n",
      "comp100097_c0_seq1,sp,Q9UI26,IPO11_HUMAN,41.05,229,130,3,2,679,699,925,2E-37,144,Q9UI26,GO:0015031,GO:0015031,protein transport,transport,P\r",
      "\r\n",
      "comp100097_c0_seq1,sp,Q9UI26,IPO11_HUMAN,41.05,229,130,3,2,679,699,925,2E-37,144,Q9UI26,GO:0006810,GO:0006810,transport,transport,P\r",
      "\r\n",
      "comp100104_c2_seq1,sp,Q9NZJ4,SACS_HUMAN,47.83,138,58,4,2,397,2586,2715,3E-29,118,Q9NZJ4,GO:0006457,GO:0006457,protein folding,protein metabolism,P\r",
      "\r\n",
      "comp100104_c2_seq1,sp,Q9NZJ4,SACS_HUMAN,47.83,138,58,4,2,397,2586,2715,3E-29,118,Q9NZJ4,GO:0008219,GO:0008219,cell death,death,P\r",
      "\r\n",
      "comp100105_c1_seq1,sp,P18756,ETS1B_XENLA,85.71,126,18,0,402,25,143,268,2E-73,233,P18756,GO:0006355,GO:0006355,\"\"\"regulation of transcription, DNA-dependent\"\"\",RNA metabolism,P\r",
      "\r\n",
      "comp100108_c1_seq1,sp,Q9U943,APLP_LOCMI,32.45,413,227,9,4,1104,514,920,3E-59,214,Q9U943,GO:0006869,GO:0006869,lipid transport,transport,P\r",
      "\r\n",
      "comp100108_c1_seq1,sp,Q9U943,APLP_LOCMI,32.45,413,227,9,4,1104,514,920,3E-59,214,Q9U943,GO:0006810,GO:0006810,transport,transport,P\r",
      "\r\n",
      "comp100108_c1_seq1,sp,Q9U943,APLP_LOCMI,32.45,413,227,9,4,1104,514,920,3E-59,214,Q9U943,GO:0016055,GO:0016055,Wnt receptor signaling pathway,signal transduction,P\r",
      "\r\n"
     ]
    }
   ],
   "source": [
    "!head ../data-results/Geoduck-transcriptome-v2-GO-Slim.csv"
   ]
  },
  {
   "cell_type": "code",
   "execution_count": 37,
   "metadata": {
    "button": false,
    "collapsed": false,
    "deletable": true,
    "new_sheet": false,
    "run_control": {
     "read_only": false
    }
   },
   "outputs": [
    {
     "name": "stdout",
     "output_type": "stream",
     "text": [
      "     222\r\n"
     ]
    }
   ],
   "source": [
    "!grep \"reproduction\" ../data-results/Geoduck-transcriptome-v2-GO-Slim.csv | wc -l"
   ]
  },
  {
   "cell_type": "code",
   "execution_count": null,
   "metadata": {
    "button": false,
    "collapsed": true,
    "deletable": true,
    "new_sheet": false,
    "run_control": {
     "read_only": false
    }
   },
   "outputs": [],
   "source": [
    "\n"
   ]
  },
  {
   "cell_type": "markdown",
   "metadata": {
    "button": false,
    "deletable": true,
    "new_sheet": false,
    "run_control": {
     "read_only": false
    }
   },
   "source": [
    "# Confirming number of non-Euk swiss-prot matches"
   ]
  },
  {
   "cell_type": "code",
   "execution_count": 2,
   "metadata": {
    "button": false,
    "collapsed": false,
    "deletable": true,
    "new_sheet": false,
    "run_control": {
     "read_only": false
    }
   },
   "outputs": [
    {
     "name": "stdout",
     "output_type": "stream",
     "text": [
      "   23165 ../data-results/Geoduck-tranv2-blastx_sprot.tab\r\n"
     ]
    }
   ],
   "source": [
    "!wc -l ../data-results/Geoduck-tranv2-blastx_sprot.tab "
   ]
  },
  {
   "cell_type": "code",
   "execution_count": 4,
   "metadata": {
    "button": false,
    "collapsed": false,
    "deletable": true,
    "new_sheet": false,
    "run_control": {
     "read_only": false
    }
   },
   "outputs": [
    {
     "name": "stdout",
     "output_type": "stream",
     "text": [
      "comp100710_c0_seq1 Bacteria 1e-108\n",
      "comp101011_c0_seq1 Bacteria 2e-67\n",
      "comp101670_c0_seq1 Bacteria 4e-79\n",
      "comp101927_c3_seq1 N/A 1e-26\n",
      "comp102287_c0_seq1 Bacteria 6e-27\n",
      "comp102799_c0_seq1 Bacteria 4e-114\n",
      "comp103084_c0_seq1 Bacteria 6e-56\n",
      "comp103338_c0_seq1 Bacteria 3e-85\n",
      "comp103338_c1_seq1 Bacteria 1e-109\n",
      "comp103338_c2_seq1 Bacteria 9e-25\n",
      "     425 analyses/Non-Eukaryota-Geoduck-v2.sorted\n"
     ]
    }
   ],
   "source": [
    "!head analyses/Non-Eukaryota-Geoduck-v2.sorted\n",
    "!wc -l analyses/Non-Eukaryota-Geoduck-v2.sorted"
   ]
  },
  {
   "cell_type": "code",
   "execution_count": 8,
   "metadata": {
    "button": false,
    "collapsed": false,
    "deletable": true,
    "new_sheet": false,
    "run_control": {
     "read_only": false
    }
   },
   "outputs": [],
   "source": [
    "!sort ../data-results/Geoduck-tranv2-blastx_sprot.tab \\\n",
    "> analyses/Geoduck-tranv2-blastx_sprot.sorted"
   ]
  },
  {
   "cell_type": "code",
   "execution_count": 11,
   "metadata": {
    "button": false,
    "collapsed": false,
    "deletable": true,
    "new_sheet": false,
    "run_control": {
     "read_only": false
    }
   },
   "outputs": [
    {
     "name": "stdout",
     "output_type": "stream",
     "text": [
      "comp101670_c0_seq1 sp Q6A6N5 RS17_PROAC 98.88 89 1 0 42 308 1 89 2e-56 176 Bacteria 4e-79\r\n",
      "comp101927_c3_seq1 sp Q6PCN3 TTBK1_MOUSE 70.40 125 37 0 377 3 197 321 4e-60 204 N/A 1e-26\r\n",
      "comp102287_c0_seq1 sp O13799 YE02_SCHPO 41.18 51 30 0 101 253 428 478 5e-09 56.2 Bacteria 6e-27\r\n",
      "comp102799_c0_seq1 sp P43784 DLDH_HAEIN 56.18 89 34 1 3 269 387 470 6e-16 76.6 Bacteria 4e-114\r\n",
      "comp103338_c0_seq1 sp Q9JMT1 YUAH_ECOLI 35.53 76 49 0 1 228 34 109 7e-09 53.1 Bacteria 3e-85\r\n",
      "comp103338_c1_seq1 sp P50359 Y4HO_RHISN 67.61 71 23 0 3 215 45 115 2e-29 108 Bacteria 1e-109\r\n",
      "comp103338_c2_seq1 sp P55504 Y4JD_RHISN 47.83 69 36 0 6 212 151 219 4e-13 67.4 Bacteria 9e-25\r\n",
      "comp103626_c0_seq1 sp Q6AA77 OTC_PROAC 100.00 74 0 0 2 223 227 300 2e-47 159 Bacteria 3e-24\r\n",
      "comp104423_c0_seq1 sp P62594 BLAT_SALTI 98.99 198 2 0 663 70 89 286 3e-130 375 N/A 0.0\r\n",
      "comp109497_c0_seq1 sp P09152 NARG_ECOLI 90.28 72 7 0 9 224 29 100 8e-41 147 Bacteria 2e-76\r\n"
     ]
    }
   ],
   "source": [
    "!join analyses/Geoduck-tranv2-blastx_sprot.sorted \\\n",
    "analyses/Non-Eukaryota-Geoduck-v2.sorted | head"
   ]
  },
  {
   "cell_type": "code",
   "execution_count": 12,
   "metadata": {
    "button": false,
    "collapsed": false,
    "deletable": true,
    "new_sheet": false,
    "run_control": {
     "read_only": false
    }
   },
   "outputs": [
    {
     "name": "stdout",
     "output_type": "stream",
     "text": [
      "     191\r\n"
     ]
    }
   ],
   "source": [
    "!join analyses/Geoduck-tranv2-blastx_sprot.sorted \\\n",
    "analyses/Non-Eukaryota-Geoduck-v2.sorted | wc -l"
   ]
  },
  {
   "cell_type": "code",
   "execution_count": 13,
   "metadata": {
    "button": false,
    "collapsed": false,
    "deletable": true,
    "new_sheet": false,
    "run_control": {
     "read_only": false
    }
   },
   "outputs": [
    {
     "data": {
      "text/plain": [
       "22974"
      ]
     },
     "execution_count": 13,
     "metadata": {},
     "output_type": "execute_result"
    }
   ],
   "source": [
    "23165 - 191"
   ]
  },
  {
   "cell_type": "code",
   "execution_count": 14,
   "metadata": {
    "button": false,
    "collapsed": false,
    "deletable": true,
    "new_sheet": false,
    "run_control": {
     "read_only": false
    }
   },
   "outputs": [
    {
     "data": {
      "text/plain": [
       "0.14919925705601952"
      ]
     },
     "execution_count": 14,
     "metadata": {},
     "output_type": "execute_result"
    }
   ],
   "source": [
    "22974/153982"
   ]
  },
  {
   "cell_type": "code",
   "execution_count": null,
   "metadata": {
    "button": false,
    "collapsed": true,
    "deletable": true,
    "new_sheet": false,
    "run_control": {
     "read_only": false
    }
   },
   "outputs": [],
   "source": []
  },
  {
   "cell_type": "code",
   "execution_count": 41,
   "metadata": {
    "button": false,
    "collapsed": false,
    "deletable": true,
    "new_sheet": false,
    "run_control": {
     "read_only": false
    }
   },
   "outputs": [
    {
     "name": "stdout",
     "output_type": "stream",
     "text": [
      "   22974\r\n"
     ]
    }
   ],
   "source": [
    "!join -v 1 analyses/Geoduck-tranv2-blastx_sprot.sorted \\\n",
    "analyses/Non-Eukaryota-Geoduck-v2.sorted | wc -l"
   ]
  },
  {
   "cell_type": "code",
   "execution_count": 42,
   "metadata": {
    "button": false,
    "collapsed": false,
    "deletable": true,
    "new_sheet": false,
    "run_control": {
     "read_only": false
    }
   },
   "outputs": [
    {
     "name": "stdout",
     "output_type": "stream",
     "text": [
      "comp100065_c0_seq1 sp Q5PRC1 LHFP_DANRE 48.00 50 26 0 151 2 100 149 2e-08 51.6\r\n",
      "comp100097_c0_seq1 sp Q9UI26 IPO11_HUMAN 41.05 229 130 3 2 679 699 925 2e-37 144\r\n",
      "comp100104_c2_seq1 sp Q9NZJ4 SACS_HUMAN 47.83 138 58 4 2 397 2586 2715 3e-29 118\r\n",
      "comp100105_c1_seq1 sp P18756 ETS1B_XENLA 85.71 126 18 0 402 25 143 268 2e-73 233\r\n",
      "comp100108_c1_seq1 sp Q9U943 APLP_LOCMI 32.45 413 227 9 4 1104 514 920 3e-59 214\r\n",
      "comp100109_c0_seq1 sp O75443 TECTA_HUMAN 38.52 135 80 2 244 648 24 155 6e-23 102\r\n",
      "comp100113_c0_seq1 sp Q95US5 BRE5_CAEEL 28.57 112 75 4 377 48 183 291 2e-06 48.9\r\n",
      "comp100113_c0_seq2 sp Q9N295 B3GT5_PANTR 35.11 94 60 1 420 142 160 253 9e-13 67.4\r\n",
      "comp100113_c1_seq1 sp Q9MYM7 B3GT1_PONPY 32.29 96 54 3 283 5 48 135 7e-09 55.5\r\n",
      "comp100129_c0_seq1 sp Q14644 RASA3_HUMAN 50.00 108 48 2 4 315 68 173 9e-30 117\r\n",
      "join: stdout: Broken pipe\r\n"
     ]
    }
   ],
   "source": [
    "!join -v 1 analyses/Geoduck-tranv2-blastx_sprot.sorted \\\n",
    "analyses/Non-Eukaryota-Geoduck-v2.sorted | head"
   ]
  },
  {
   "cell_type": "code",
   "execution_count": 43,
   "metadata": {
    "button": false,
    "collapsed": false,
    "deletable": true,
    "new_sheet": false,
    "run_control": {
     "read_only": false
    }
   },
   "outputs": [
    {
     "name": "stdout",
     "output_type": "stream",
     "text": [
      "   22974 analyses/Geoduck-tranv3-blastx_sprot.sorted\r\n"
     ]
    }
   ],
   "source": [
    "!join -v 1 analyses/Geoduck-tranv2-blastx_sprot.sorted \\\n",
    "analyses/Non-Eukaryota-Geoduck-v2.sorted \\\n",
    "> analyses/Geoduck-tranv3-blastx_sprot.sorted \n",
    "! wc -l analyses/Geoduck-tranv3-blastx_sprot.sorted"
   ]
  },
  {
   "cell_type": "code",
   "execution_count": 47,
   "metadata": {
    "button": false,
    "collapsed": false,
    "deletable": true,
    "new_sheet": false,
    "run_control": {
     "read_only": false
    },
    "scrolled": true
   },
   "outputs": [
    {
     "name": "stdout",
     "output_type": "stream",
     "text": [
      "  % Total    % Received % Xferd  Average Speed   Time    Time     Time  Current\n",
      "                                 Dload  Upload   Total   Spent    Left  Speed\n",
      "100  261M    0  261M    0     0   287k      0 --:--:--  0:15:30 --:--:--  545k\n"
     ]
    }
   ],
   "source": [
    "!curl \"http://www.uniprot.org/uniprot/?query=reviewed%3ayes&force=yes&format=tab&columns=id,entry%20name,go-id,interactor,database(GO),go,reviewed,interpro,pathway,protein%20names,genes,tools,organism,length\" \\\n",
    "> analyses/uniprot_go_info"
   ]
  },
  {
   "cell_type": "code",
   "execution_count": 73,
   "metadata": {
    "button": false,
    "collapsed": false,
    "deletable": true,
    "new_sheet": false,
    "run_control": {
     "read_only": false
    }
   },
   "outputs": [
    {
     "name": "stdout",
     "output_type": "stream",
     "text": [
      "  549833 analyses/uniprot_go_info\r\n"
     ]
    }
   ],
   "source": [
    "!wc -l analyses/uniprot_go_info"
   ]
  },
  {
   "cell_type": "markdown",
   "metadata": {
    "button": false,
    "deletable": true,
    "new_sheet": false,
    "run_control": {
     "read_only": false
    }
   },
   "source": [
    "### Using SQLShare "
   ]
  },
  {
   "cell_type": "markdown",
   "metadata": {
    "button": false,
    "deletable": true,
    "new_sheet": false,
    "run_control": {
     "read_only": false
    }
   },
   "source": [
    "```\n",
    "SELECT \n",
    " Column1 as ContigID,\n",
    " Column13 as evalue, \n",
    " Entry as UniProt_Acc,\n",
    " \"Gene ontology IDs\",\n",
    "\"Gene ontology (GO)\",  \n",
    "  \"Protein names\"\n",
    "  FROM [sr320@washington.edu].[Geoduck-tranv3-blastx_sprot]bl\n",
    "  left join\n",
    "  [sr320@washington.edu].[uniprot-reviewed_wGO_010714]uni\n",
    "  on\n",
    "  bl.Column3 = uni.Entry\n",
    "```"
   ]
  },
  {
   "cell_type": "code",
   "execution_count": 75,
   "metadata": {
    "button": false,
    "collapsed": false,
    "deletable": true,
    "new_sheet": false,
    "run_control": {
     "read_only": false
    }
   },
   "outputs": [
    {
     "name": "stdout",
     "output_type": "stream",
     "text": [
      "ContigID,evalue,UniProt_Acc,Gene ontology IDs,Gene ontology (GO),Protein names\r",
      "\r\n",
      "comp100065_c0_seq1,2E-08,Q5PRC1,GO:0016021,integral to membrane,Lipoma HMGIC fusion partner homolog\r",
      "\r\n",
      "comp100097_c0_seq1,2E-37,Q9UI26,GO:0005737; GO:0005634; GO:0008565; GO:0006610,cytoplasm; nucleus; protein transporter activity; ribosomal protein import into nucleus,Importin-11 (Imp11) (Ran-binding protein 11) (RanBP11)\r",
      "\r\n"
     ]
    }
   ],
   "source": [
    "!head -3 analyses/Geoduck_v3_uniprot_wGO.csv"
   ]
  },
  {
   "cell_type": "code",
   "execution_count": null,
   "metadata": {
    "button": false,
    "collapsed": true,
    "deletable": true,
    "new_sheet": false,
    "run_control": {
     "read_only": false
    }
   },
   "outputs": [],
   "source": []
  },
  {
   "cell_type": "code",
   "execution_count": null,
   "metadata": {
    "button": false,
    "collapsed": true,
    "deletable": true,
    "new_sheet": false,
    "run_control": {
     "read_only": false
    }
   },
   "outputs": [],
   "source": []
  },
  {
   "cell_type": "markdown",
   "metadata": {
    "button": false,
    "deletable": true,
    "new_sheet": false,
    "run_control": {
     "read_only": false
    }
   },
   "source": [
    "# Confirming Gene Ontology matches post removal of non-Euk sequences"
   ]
  },
  {
   "cell_type": "code",
   "execution_count": 17,
   "metadata": {
    "button": false,
    "collapsed": false,
    "deletable": true,
    "new_sheet": false,
    "run_control": {
     "read_only": false
    }
   },
   "outputs": [
    {
     "name": "stdout",
     "output_type": "stream",
     "text": [
      "Column1,Column2,Column3,Column4,Column5,Column6,Column7,Column8,Column9,Column10,Column11,Column12,Column13,Column14,SPID,GOID,GO_id,term,GOSlim_bin,aspect\n",
      "comp100097_c0_seq1,sp,Q9UI26,IPO11_HUMAN,41.05,229,130,3,2,679,699,925,2E-37,144,Q9UI26,GO:0006886,GO:0006886,intracellular protein transport,transport,P\n",
      "  102359 ../data-results/Geoduck-transcriptome-v2-GO-Slim.csv\n"
     ]
    }
   ],
   "source": [
    "!head -2 ../data-results/Geoduck-transcriptome-v2-GO-Slim.csv\n",
    "!wc -l ../data-results/Geoduck-transcriptome-v2-GO-Slim.csv"
   ]
  },
  {
   "cell_type": "code",
   "execution_count": 23,
   "metadata": {
    "button": false,
    "collapsed": false,
    "deletable": true,
    "new_sheet": false,
    "run_control": {
     "read_only": false
    }
   },
   "outputs": [
    {
     "name": "stdout",
     "output_type": "stream",
     "text": [
      "   19653\r\n"
     ]
    }
   ],
   "source": [
    "!cut -d ',' -f1 ../data-results/Geoduck-transcriptome-v2-GO-Slim.csv \\\n",
    "| uniq | wc -l"
   ]
  },
  {
   "cell_type": "markdown",
   "metadata": {
    "button": false,
    "deletable": true,
    "new_sheet": false,
    "run_control": {
     "read_only": false
    }
   },
   "source": [
    "**Removing non-euks**"
   ]
  },
  {
   "cell_type": "code",
   "execution_count": 34,
   "metadata": {
    "button": false,
    "collapsed": false,
    "deletable": true,
    "new_sheet": false,
    "run_control": {
     "read_only": false
    }
   },
   "outputs": [],
   "source": [
    "!sort ../data-results/Geoduck-transcriptome-v2-GO-Slim.csv \\\n",
    "| cut -d ',' -f1 | uniq > analyses/Geoduck-transcriptome-v2-GO-Slim-CONTIG"
   ]
  },
  {
   "cell_type": "code",
   "execution_count": 35,
   "metadata": {
    "button": false,
    "collapsed": false,
    "deletable": true,
    "new_sheet": false,
    "run_control": {
     "read_only": false
    }
   },
   "outputs": [
    {
     "name": "stdout",
     "output_type": "stream",
     "text": [
      "Column1\r\n",
      "comp100097_c0_seq1\r\n",
      "comp100104_c2_seq1\r\n",
      "comp100105_c1_seq1\r\n",
      "comp100108_c1_seq1\r\n",
      "comp100109_c0_seq1\r\n",
      "comp100113_c0_seq1\r\n",
      "comp100113_c0_seq2\r\n",
      "comp100113_c1_seq1\r\n",
      "comp100129_c0_seq1\r\n"
     ]
    }
   ],
   "source": [
    "!head analyses/Geoduck-transcriptome-v2-GO-Slim-CONTIG"
   ]
  },
  {
   "cell_type": "code",
   "execution_count": 37,
   "metadata": {
    "button": false,
    "collapsed": false,
    "deletable": true,
    "new_sheet": false,
    "run_control": {
     "read_only": false
    }
   },
   "outputs": [
    {
     "name": "stdout",
     "output_type": "stream",
     "text": [
      "     169\r\n"
     ]
    }
   ],
   "source": [
    "!join analyses/Geoduck-transcriptome-v2-GO-Slim-CONTIG \\\n",
    "analyses/Non-Eukaryota-Geoduck-v2.sorted | wc -l"
   ]
  },
  {
   "cell_type": "code",
   "execution_count": 38,
   "metadata": {
    "button": false,
    "collapsed": false,
    "deletable": true,
    "new_sheet": false,
    "run_control": {
     "read_only": false
    }
   },
   "outputs": [
    {
     "name": "stdout",
     "output_type": "stream",
     "text": [
      "comp101670_c0_seq1 Bacteria 4e-79\r\n",
      "comp101927_c3_seq1 N/A 1e-26\r\n",
      "comp102287_c0_seq1 Bacteria 6e-27\r\n",
      "comp102799_c0_seq1 Bacteria 4e-114\r\n",
      "comp103626_c0_seq1 Bacteria 3e-24\r\n",
      "comp104423_c0_seq1 N/A 0.0\r\n",
      "comp109497_c0_seq1 Bacteria 2e-76\r\n",
      "comp109642_c0_seq1 Bacteria 1e-72\r\n",
      "comp112012_c0_seq1 Bacteria 7e-105\r\n",
      "comp113138_c0_seq1 Bacteria 5e-83\r\n"
     ]
    }
   ],
   "source": [
    "!join analyses/Geoduck-transcriptome-v2-GO-Slim-CONTIG \\\n",
    "analyses/Non-Eukaryota-Geoduck-v2.sorted | head"
   ]
  },
  {
   "cell_type": "code",
   "execution_count": 39,
   "metadata": {
    "button": false,
    "collapsed": false,
    "deletable": true,
    "new_sheet": false,
    "run_control": {
     "read_only": false
    }
   },
   "outputs": [
    {
     "data": {
      "text/plain": [
       "19393"
      ]
     },
     "execution_count": 39,
     "metadata": {},
     "output_type": "execute_result"
    }
   ],
   "source": [
    "19562-169"
   ]
  },
  {
   "cell_type": "markdown",
   "metadata": {
    "button": false,
    "collapsed": true,
    "deletable": true,
    "new_sheet": false,
    "run_control": {
     "read_only": false
    }
   },
   "source": [
    "# Double Check on v3"
   ]
  },
  {
   "cell_type": "code",
   "execution_count": 1,
   "metadata": {
    "collapsed": false
   },
   "outputs": [
    {
     "name": "stdout",
     "output_type": "stream",
     "text": [
      "Tue Sep 20 10:47:21 PDT 2016\r\n"
     ]
    }
   ],
   "source": [
    "!date"
   ]
  },
  {
   "cell_type": "code",
   "execution_count": 5,
   "metadata": {
    "collapsed": false
   },
   "outputs": [
    {
     "name": "stdout",
     "output_type": "stream",
     "text": [
      ">comp100000_c0_seq1\n",
      "TGAATGTATGTTTGTGAACGTATGTATATGAATGTATGTATGTGAATGCATACCATCTGTATAAGTATAATCCGACCGGGAGATGTTTATTCACACAGTTTGGCATTATGACGTTTAACCTCTGAATTGGCGTCTCTTGCTACTGACCGCTTCACAGTGATGACCCATGTTGTCACTTCTAATCTATTTATGTATTGCTCTTTTATATTATACTATTAACGCTGTTAAAATACACTACCGCTAAACAAATAAGAGTTGTGGGTTTGAATCATTGGTGAGTGCAGGAACCTCAGCAGGTCATTAAGATTTACGTGTACGTCTATCCTAAACCTACATGTTTCAACTTTGTTGTTTTTCGGTTTCGTTCTCTGTACACAGCTCTTGAAACATACATAAAATACCATTTTATTAAAAAATATGTCTCTATTTAATGTTAAAACCTTTTTAAGAAAA\n",
      ">comp100001_c1_seq1\n",
      "GCTTTACCAGTTGTTACAAACATTTTAATAGTTATAGTTAATATACACAACATTTTAAATTAACTAGTGTCGAGAACTTGAGTCGGACATAGAGAATTAAATGTTTGTTGAACTTTAGCCAAGCACTTTTATTCTATTACTTTTTGAAGTATTTAATACCTTAAAATAATGGAATACTCCTGTAGAGTCCTTGAAGCCATCAACAATTTACCAACCTCCAAATAAAATATGAATATATTTTACATGATGAATTTACATAATGGATATATCATTGATATCTGCCAAGTTAACTTCACCTACCATTTTTAAGCTTACTTTGACCATGTTAGTTGGTATTGTGTATATAACGAGTGGGAGGACATTCATACCTGGCATTTGTTTGGTCAAACTGACACAAGATTTATGTTTATTTCAAACCTATATATAAAACAAGTCTCAATGAATATCTTCCTAGGCACAAGACAATGCTGATAAAATGTCTTGTTCAAGGACA\n",
      ">comp100001_c2_seq1\n",
      "AGTAACAAAAACAACCCAAACTCTACCATAATCAATTTATACAAAGTCTTGATTTTATCTTAATATCACAAATGAAATCAATTAGTATATATATTTGTATATATTTCAGAAATATAGAAAACAATTACCAGTTTTTAAGTGTAATTAAAACATCTAAATCACCCCCACAGCAATACAAAATACATTTTTATATAGAATACAAAAATTATTGGGATAAAAACAGTAAAAAATATTTGAATTCAGCAACAGCTACAATAGTTTCCTTCAAGGAGGTGAACATAACATCACAACAACAAAAATATGGTCAATTGTAAAATGAGATGTGTGATCTACGTAGGCTAGAAAAATGTTCAACAAAATATACAGCATGCACACAACATGAACATGTACAATGAGAGATGGAGAAGCGGTTAGTTAGGAGGTCTATAGGCTGTGGTAACCACTACAATGTAGATGGCAGCACATTTATCACACATCACGCTAGCATTTCAGCAAACCTTCAATGCTAAAAACCAACTATATCTACTTCAAAACAGCTTTACCAGTTGTTACAAACAT\n",
      ">comp100002_c0_seq1\n",
      "GGGACGTATTGACTCACTCAGCTGTGATTTCAACTCCTCTATCAACTCTTCCCGTTGTTGCAACTCTTTCGAAACTTTCTTTTCCAGACCACGAGGTCGACGGCCACGCAAACACTGAAAAGACACAGCCATGTAATCATGGAAACTTAACATTATACTCAATGTTGAAAAAGTATGTCAAAACATTTCCATACACGTATAGCCAAAT\n",
      ">comp100004_c1_seq1\n",
      "AAGTAAATAATGCTTGACCTTCACAGCAATATGATCGCATCTGATAAGTAATCAGCTACATAAGGTCAAATAAATTGGATTCTGTATTTGCTGTAACATGGATAAAAAACATTGGGAATTTTTGTGGACACAAGTTTAACACCAATCTGACAGATACAAAGTGCTAGTATAAAACAGTTACAAGACACGAACACACACATTGAAAGGATTTAAATACCAAGTGACGTTTAAACATTGAAATGCCATTAACCTCAAATGATTATGTTAAAAAATTCA\n",
      "153982\n"
     ]
    }
   ],
   "source": [
    "!head /Users/sr320/git-repos/course-fish546-2016/jupyter-nbs/analyses/wd-091416/query.fa\n",
    "!fgrep -c \">\" /Users/sr320/git-repos/course-fish546-2016/jupyter-nbs/analyses/wd-091416/query.fa"
   ]
  },
  {
   "cell_type": "markdown",
   "metadata": {},
   "source": [
    "<img src=\"http://eagle.fish.washington.edu/cnidarian/skitch/course-fish546-2016_001-fasta2pie_ipynb_at_master_·_sr320_course-fish546-2016_1D91AE7E.png\" alt=\"course-fish546-2016_001-fasta2pie_ipynb_at_master_·_sr320_course-fish546-2016_1D91AE7E.png\"/>"
   ]
  },
  {
   "cell_type": "code",
   "execution_count": 6,
   "metadata": {
    "collapsed": false
   },
   "outputs": [
    {
     "name": "stdout",
     "output_type": "stream",
     "text": [
      "error-blastout\r\n",
      "query.fa\r\n",
      "uniprot_sprot_r2015_07_blast_out.tab\r\n",
      "uniprot_sprot_r2015_07_blast_out2-uniprot-annot.tab\r\n",
      "uniprot_sprot_r2015_07_blast_out2.tab\r\n",
      "uniprot_sprot_r2015_07_blast_out2.tab.sorted\r\n"
     ]
    }
   ],
   "source": [
    "!ls /Users/sr320/git-repos/course-fish546-2016/jupyter-nbs/analyses/wd-091416/"
   ]
  },
  {
   "cell_type": "code",
   "execution_count": 13,
   "metadata": {
    "collapsed": false
   },
   "outputs": [
    {
     "name": "stdout",
     "output_type": "stream",
     "text": [
      "   11144 /Users/sr320/git-repos/course-fish546-2016/jupyter-nbs/analyses/wd-091416/uniprot_sprot_r2015_07_blast_out.tab\r\n"
     ]
    }
   ],
   "source": [
    "!wc -l /Users/sr320/git-repos/course-fish546-2016/jupyter-nbs/analyses/wd-091416/uniprot_sprot_r2015_07_blast_out.tab"
   ]
  },
  {
   "cell_type": "code",
   "execution_count": 11,
   "metadata": {
    "collapsed": false
   },
   "outputs": [],
   "source": [
    "!open /Users/sr320/git-repos/course-fish546-2016/jupyter-nbs/analyses/wd-091416/uniprot_sprot_r2015_07_blast_out2-uniprot-annot.tab -a \"Microsoft Excel\""
   ]
  },
  {
   "cell_type": "code",
   "execution_count": 14,
   "metadata": {
    "collapsed": true
   },
   "outputs": [],
   "source": [
    "\n",
    "\n",
    "!open /Users/sr320/git-repos/paper-pano-go/data-results/Geoduck-transcriptome-v2-GO-SlimUnique.csv \\\n",
    "-a \"Microsoft Excel\""
   ]
  },
  {
   "cell_type": "code",
   "execution_count": null,
   "metadata": {
    "collapsed": false
   },
   "outputs": [],
   "source": []
  },
  {
   "cell_type": "code",
   "execution_count": 16,
   "metadata": {
    "collapsed": false
   },
   "outputs": [
    {
     "name": "stdout",
     "output_type": "stream",
     "text": [
      "   22974 /Users/sr320/git-repos/paper-pano-go/jupyter-nbs/analyses/Geoduck-tranv3-blastx_sprot.sorted\r\n"
     ]
    }
   ],
   "source": [
    "!wc -l /Users/sr320/git-repos/paper-pano-go/jupyter-nbs/analyses/Geoduck-tranv3-blastx_sprot.sorted"
   ]
  },
  {
   "cell_type": "code",
   "execution_count": 17,
   "metadata": {
    "collapsed": false
   },
   "outputs": [
    {
     "name": "stdout",
     "output_type": "stream",
     "text": [
      "comp100065_c0_seq1 sp Q5PRC1 LHFP_DANRE 48.00 50 26 0 151 2 100 149 2e-08 51.6\r\n",
      "comp100097_c0_seq1 sp Q9UI26 IPO11_HUMAN 41.05 229 130 3 2 679 699 925 2e-37 144\r\n",
      "comp100104_c2_seq1 sp Q9NZJ4 SACS_HUMAN 47.83 138 58 4 2 397 2586 2715 3e-29 118\r\n",
      "comp100105_c1_seq1 sp P18756 ETS1B_XENLA 85.71 126 18 0 402 25 143 268 2e-73 233\r\n",
      "comp100108_c1_seq1 sp Q9U943 APLP_LOCMI 32.45 413 227 9 4 1104 514 920 3e-59 214\r\n",
      "comp100109_c0_seq1 sp O75443 TECTA_HUMAN 38.52 135 80 2 244 648 24 155 6e-23 102\r\n",
      "comp100113_c0_seq1 sp Q95US5 BRE5_CAEEL 28.57 112 75 4 377 48 183 291 2e-06 48.9\r\n",
      "comp100113_c0_seq2 sp Q9N295 B3GT5_PANTR 35.11 94 60 1 420 142 160 253 9e-13 67.4\r\n",
      "comp100113_c1_seq1 sp Q9MYM7 B3GT1_PONPY 32.29 96 54 3 283 5 48 135 7e-09 55.5\r\n",
      "comp100129_c0_seq1 sp Q14644 RASA3_HUMAN 50.00 108 48 2 4 315 68 173 9e-30 117\r\n"
     ]
    }
   ],
   "source": [
    "!head /Users/sr320/git-repos/paper-pano-go/jupyter-nbs/analyses/Geoduck-tranv3-blastx_sprot.sorted"
   ]
  },
  {
   "cell_type": "code",
   "execution_count": 20,
   "metadata": {
    "collapsed": false
   },
   "outputs": [
    {
     "name": "stdout",
     "output_type": "stream",
     "text": [
      "X5M8U1\tgcy-17\tGO:0044281\tsmall molecule metabolic process\tGO:0006182\tcGMP biosynthetic process\r\n",
      "X5M8U1\tgcy-17\tGO:0009058\tbiosynthetic process\tGO:0006182\tcGMP biosynthetic process\r\n",
      "X5M8U1\tgcy-17\tGO:0034641\tcellular nitrogen compound metabolic process\tGO:0006182\tcGMP biosynthetic process\r\n",
      "X5M8U1\tgcy-17\tGO:0044281\tsmall molecule metabolic process\tGO:0006182\tcGMP biosynthetic process\r\n",
      "X5M8U1\tgcy-17\tGO:0006464\tcellular protein modification process\tGO:0006468\tprotein phosphorylation\r\n",
      "X5M8U1\tgcy-17\tGO:0009058\tbiosynthetic process\tGO:0009190\tcyclic nucleotide biosynthetic process\r\n",
      "X5M8U1\tgcy-17\tGO:0034641\tcellular nitrogen compound metabolic process\tGO:0009190\tcyclic nucleotide biosynthetic process\r\n",
      "X5M8U1\tgcy-17\tGO:0044281\tsmall molecule metabolic process\tGO:0009190\tcyclic nucleotide biosynthetic process\r\n",
      "X5M8U1\tgcy-17\tGO:0005622\tintracellular\tGO:0035556\tintracellular signal transduction\r\n",
      "X5M8U1\tgcy-17\tGO:0007165\tsignal transduction\tGO:0035556\tintracellular signal transduction\r\n"
     ]
    }
   ],
   "source": [
    "!tail /Users/sr320/data-genomic/uniprot/associations-slim-trim.tsv"
   ]
  },
  {
   "cell_type": "code",
   "execution_count": 21,
   "metadata": {
    "collapsed": true
   },
   "outputs": [],
   "source": [
    "!sort /Users/sr320/data-genomic/uniprot/associations-slim-trim.tsv \\\n",
    "> /Users/sr320/data-genomic/uniprot/associations-slim-trim.sorted"
   ]
  },
  {
   "cell_type": "code",
   "execution_count": 31,
   "metadata": {
    "collapsed": false
   },
   "outputs": [
    {
     "name": "stdout",
     "output_type": "stream",
     "text": [
      "      90\r\n"
     ]
    }
   ],
   "source": [
    "!join -1 3 -2 1 analyses/Geoduck-tranv3-blastx_sprot.sorted \\\n",
    "/Users/sr320/data-genomic/uniprot/associations-slim-trim.sorted | wc -l"
   ]
  },
  {
   "cell_type": "code",
   "execution_count": 32,
   "metadata": {
    "collapsed": false
   },
   "outputs": [
    {
     "name": "stdout",
     "output_type": "stream",
     "text": [
      "ContigID,evalue,UniProt_Acc,Gene ontology IDs,Gene ontology (GO),Protein names,term,GOSlim_bin,GOSlim_bin_rep,unico\r",
      "\r\n",
      "comp100065_c0_seq1,2.00E-08,Q5PRC1,GO:0016021,integral to membrane,Lipoma HMGIC fusion partner homolog,#N/A,#N/A,#N/A,1\r",
      "\r\n",
      "comp100097_c0_seq1,2.00E-37,Q9UI26,GO:0005737; GO:0005634; GO:0008565; GO:0006610,cytoplasm; nucleus; protein transporter activity; ribosomal protein import into nucleus,Importin-11 (Imp11) (Ran-binding protein 11) (RanBP11),transport,transport,transport,1\r",
      "\r\n",
      "comp100104_c2_seq1,3.00E-29,Q9NZJ4,GO:0005524; GO:0030424; GO:0070852; GO:0008219; GO:0051087; GO:0030425; GO:0005739; GO:0090084; GO:0005634; GO:0006457,ATP binding; axon; cell body fiber; cell death; chaperone binding; dendrite; mitochondrion; negative regulation of inclusion body assembly; nucleus; protein folding,Sacsin (DnaJ homolog subfamily C member 29) (DNAJC29),cell death,death,death,1\r",
      "\r\n",
      "comp100105_c1_seq1,2.00E-73,P18756,GO:0005634; GO:0010595; GO:0045765; GO:0043565; GO:0003700; GO:0006351,\"nucleus; positive regulation of endothelial cell migration; regulation of angiogenesis; sequence-specific DNA binding; sequence-specific DNA binding transcription factor activity; transcription, DNA-dependent\",Protein c-ets-1-B (C-ets-1B) (XE1-B) (Fragment),\"\"\"regulation of transcription, DNA-dependent\"\"\",RNA metabolism,RNA metabolism,1\r",
      "\r\n",
      "comp100108_c1_seq1,3.00E-59,Q9U943,GO:0016055; GO:0005576; GO:0008289; GO:0005319,Wnt receptor signaling pathway; extracellular region; lipid binding; lipid transporter activity,Apolipophorins [Cleaved into: Apolipophorin-2 (Apolipophorin II) (apoLp-2); Apolipophorin-1 (Apolipophorin I) (apoLp-1)],Wnt receptor signaling pathway,signal transduction,signal transduction,1\r",
      "\r\n",
      "comp100109_c0_seq1,6.00E-23,O75443,GO:0031225; GO:0007160; GO:0005201; GO:0005886; GO:0005578; GO:0007605,anchored to membrane; cell-matrix adhesion; extracellular matrix structural constituent; plasma membrane; proteinaceous extracellular matrix; sensory perception of sound,Alpha-tectorin,cell-matrix adhesion,cell adhesion,cell adhesion,1\r",
      "\r\n",
      "comp100113_c0_seq1,2.00E-06,Q95US5,GO:0000139; GO:0008376; GO:0016051; GO:0075015; GO:0008378; GO:0016021; GO:0045747; GO:0006486; GO:0009636,Golgi membrane; acetylgalactosaminyltransferase activity; carbohydrate biosynthetic process; formation of infection structure on or near host; galactosyltransferase activity; integral to membrane; positive regulation of Notch signaling pathway; protein glycosylation; response to toxic substance,\"Beta-1,3-galactosyltransferase bre-5 (EC 2.4.1.-) (Bacillus thuringiensis toxin-resistant protein 5) (Bt toxin-resistant protein 5)\",positive regulation of Notch signaling pathway,signal transduction,signal transduction,1\r",
      "\r\n",
      "comp100113_c0_seq2,9.00E-13,Q9N295,GO:0000139; GO:0005783; GO:0008378; GO:0016021; GO:0006486,Golgi membrane; endoplasmic reticulum; galactosyltransferase activity; integral to membrane; protein glycosylation,\"Beta-1,3-galactosyltransferase 5 (Beta-1,3-GalTase 5) (Beta3Gal-T5) (Beta3GalT5) (b3Gal-T5) (EC 2.4.1.-) (Beta-3-Gx-T5) (UDP-Gal:beta-GlcNAc beta-1,3-galactosyltransferase 5) (UDP-galactose:beta-N-acetylglucosamine beta-1,3-galactosyltransferase 5) (Fragment)\",protein amino acid glycosylation,protein metabolism,protein metabolism,1\r",
      "\r\n",
      "comp100113_c1_seq1,7.00E-09,Q9MYM7,GO:0000139; GO:0008378; GO:0016021; GO:0006486,Golgi membrane; galactosyltransferase activity; integral to membrane; protein glycosylation,\"Beta-1,3-galactosyltransferase 1 (Beta-1,3-GalTase 1) (Beta3Gal-T1) (Beta3GalT1) (EC 2.4.1.-) (UDP-galactose:beta-N-acetyl-glucosamine-beta-1,3-galactosyltransferase 1)\",protein amino acid glycosylation,protein metabolism,protein metabolism,1\r",
      "\r\n"
     ]
    }
   ],
   "source": [
    "!head /Users/sr320/git-repos/paper-pano-go/data-results/Geoduck_v3_uniprot_wGOV1.csv"
   ]
  },
  {
   "cell_type": "code",
   "execution_count": null,
   "metadata": {
    "collapsed": true
   },
   "outputs": [],
   "source": []
  },
  {
   "cell_type": "code",
   "execution_count": 18,
   "metadata": {
    "collapsed": false
   },
   "outputs": [
    {
     "name": "stdout",
     "output_type": "stream",
     "text": [
      "ContigID,evalue,UniProt_Acc,Gene ontology IDs,Gene ontology (GO),Protein names\r",
      "\r\n",
      "comp100065_c0_seq1,2E-08,Q5PRC1,GO:0016021,integral to membrane,Lipoma HMGIC fusion partner homolog\r",
      "\r\n",
      "comp100097_c0_seq1,2E-37,Q9UI26,GO:0005737; GO:0005634; GO:0008565; GO:0006610,cytoplasm; nucleus; protein transporter activity; ribosomal protein import into nucleus,Importin-11 (Imp11) (Ran-binding protein 11) (RanBP11)\r",
      "\r\n",
      "comp100104_c2_seq1,3E-29,Q9NZJ4,GO:0005524; GO:0030424; GO:0070852; GO:0008219; GO:0051087; GO:0030425; GO:0005739; GO:0090084; GO:0005634; GO:0006457,ATP binding; axon; cell body fiber; cell death; chaperone binding; dendrite; mitochondrion; negative regulation of inclusion body assembly; nucleus; protein folding,Sacsin (DnaJ homolog subfamily C member 29) (DNAJC29)\r",
      "\r\n",
      "comp100105_c1_seq1,2E-73,P18756,GO:0005634; GO:0010595; GO:0045765; GO:0043565; GO:0003700; GO:0006351,\"nucleus; positive regulation of endothelial cell migration; regulation of angiogenesis; sequence-specific DNA binding; sequence-specific DNA binding transcription factor activity; transcription, DNA-dependent\",Protein c-ets-1-B (C-ets-1B) (XE1-B) (Fragment)\r",
      "\r\n",
      "comp100108_c1_seq1,3E-59,Q9U943,GO:0016055; GO:0005576; GO:0008289; GO:0005319,Wnt receptor signaling pathway; extracellular region; lipid binding; lipid transporter activity,Apolipophorins [Cleaved into: Apolipophorin-2 (Apolipophorin II) (apoLp-2); Apolipophorin-1 (Apolipophorin I) (apoLp-1)]\r",
      "\r\n",
      "comp100109_c0_seq1,6E-23,O75443,GO:0031225; GO:0007160; GO:0005201; GO:0005886; GO:0005578; GO:0007605,anchored to membrane; cell-matrix adhesion; extracellular matrix structural constituent; plasma membrane; proteinaceous extracellular matrix; sensory perception of sound,Alpha-tectorin\r",
      "\r\n",
      "comp100113_c0_seq1,2E-06,Q95US5,GO:0000139; GO:0008376; GO:0016051; GO:0075015; GO:0008378; GO:0016021; GO:0045747; GO:0006486; GO:0009636,Golgi membrane; acetylgalactosaminyltransferase activity; carbohydrate biosynthetic process; formation of infection structure on or near host; galactosyltransferase activity; integral to membrane; positive regulation of Notch signaling pathway; protein glycosylation; response to toxic substance,\"Beta-1,3-galactosyltransferase bre-5 (EC 2.4.1.-) (Bacillus thuringiensis toxin-resistant protein 5) (Bt toxin-resistant protein 5)\"\r",
      "\r\n",
      "comp100113_c0_seq2,9E-13,Q9N295,GO:0000139; GO:0005783; GO:0008378; GO:0016021; GO:0006486,Golgi membrane; endoplasmic reticulum; galactosyltransferase activity; integral to membrane; protein glycosylation,\"Beta-1,3-galactosyltransferase 5 (Beta-1,3-GalTase 5) (Beta3Gal-T5) (Beta3GalT5) (b3Gal-T5) (EC 2.4.1.-) (Beta-3-Gx-T5) (UDP-Gal:beta-GlcNAc beta-1,3-galactosyltransferase 5) (UDP-galactose:beta-N-acetylglucosamine beta-1,3-galactosyltransferase 5) (Fragment)\"\r",
      "\r\n",
      "comp100113_c1_seq1,7E-09,Q9MYM7,GO:0000139; GO:0008378; GO:0016021; GO:0006486,Golgi membrane; galactosyltransferase activity; integral to membrane; protein glycosylation,\"Beta-1,3-galactosyltransferase 1 (Beta-1,3-GalTase 1) (Beta3Gal-T1) (Beta3GalT1) (EC 2.4.1.-) (UDP-galactose:beta-N-acetyl-glucosamine-beta-1,3-galactosyltransferase 1)\"\r",
      "\r\n"
     ]
    }
   ],
   "source": [
    "!head /Users/sr320/git-repos/paper-pano-go/jupyter-nbs/analyses/Geoduck_v3_uniprot_wGO.csv"
   ]
  },
  {
   "cell_type": "markdown",
   "metadata": {},
   "source": [
    "# Redux on annotation"
   ]
  },
  {
   "cell_type": "code",
   "execution_count": 1,
   "metadata": {
    "collapsed": false
   },
   "outputs": [
    {
     "name": "stdout",
     "output_type": "stream",
     "text": [
      "Fri Sep 23 08:48:40 PDT 2016\r\n"
     ]
    }
   ],
   "source": [
    "!date"
   ]
  },
  {
   "cell_type": "code",
   "execution_count": 3,
   "metadata": {
    "collapsed": false
   },
   "outputs": [
    {
     "name": "stdout",
     "output_type": "stream",
     "text": [
      "comp100065_c0_seq1 sp Q5PRC1 LHFP_DANRE 48.00 50 26 0 151 2 100 149 2e-08 51.6\n",
      "comp100097_c0_seq1 sp Q9UI26 IPO11_HUMAN 41.05 229 130 3 2 679 699 925 2e-37 144\n",
      "comp100104_c2_seq1 sp Q9NZJ4 SACS_HUMAN 47.83 138 58 4 2 397 2586 2715 3e-29 118\n",
      "comp100105_c1_seq1 sp P18756 ETS1B_XENLA 85.71 126 18 0 402 25 143 268 2e-73 233\n",
      "comp100108_c1_seq1 sp Q9U943 APLP_LOCMI 32.45 413 227 9 4 1104 514 920 3e-59 214\n",
      "comp100109_c0_seq1 sp O75443 TECTA_HUMAN 38.52 135 80 2 244 648 24 155 6e-23 102\n",
      "comp100113_c0_seq1 sp Q95US5 BRE5_CAEEL 28.57 112 75 4 377 48 183 291 2e-06 48.9\n",
      "comp100113_c0_seq2 sp Q9N295 B3GT5_PANTR 35.11 94 60 1 420 142 160 253 9e-13 67.4\n",
      "comp100113_c1_seq1 sp Q9MYM7 B3GT1_PONPY 32.29 96 54 3 283 5 48 135 7e-09 55.5\n",
      "comp100129_c0_seq1 sp Q14644 RASA3_HUMAN 50.00 108 48 2 4 315 68 173 9e-30 117\n",
      "   22974 analyses/Geoduck-tranv3-blastx_sprot.sorted\n"
     ]
    }
   ],
   "source": [
    "!head analyses/Geoduck-tranv3-blastx_sprot.sorted\n",
    "!wc -l analyses/Geoduck-tranv3-blastx_sprot.sorted"
   ]
  },
  {
   "cell_type": "markdown",
   "metadata": {},
   "source": [
    "<img src=\"http://eagle.fish.washington.edu/cnidarian/skitch/SQLShare_-_View_Query_1D958940.png\" alt=\"SQLShare_-_View_Query_1D958940.png\"/>"
   ]
  },
  {
   "cell_type": "code",
   "execution_count": null,
   "metadata": {
    "collapsed": true
   },
   "outputs": [],
   "source": []
  }
 ],
 "metadata": {
  "kernelspec": {
   "display_name": "Python 2",
   "language": "python",
   "name": "python2"
  },
  "language_info": {
   "codemirror_mode": {
    "name": "ipython",
    "version": 2
   },
   "file_extension": ".py",
   "mimetype": "text/x-python",
   "name": "python",
   "nbconvert_exporter": "python",
   "pygments_lexer": "ipython2",
   "version": "2.7.11"
  }
 },
 "nbformat": 4,
 "nbformat_minor": 0
}
