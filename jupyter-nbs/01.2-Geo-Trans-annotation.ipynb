{
 "cells": [
  {
   "cell_type": "markdown",
   "metadata": {
    "button": false,
    "deletable": true,
    "new_sheet": false,
    "run_control": {
     "read_only": false
    }
   },
   "source": [
    "# Transcriptome Annotation"
   ]
  },
  {
   "cell_type": "code",
   "execution_count": null,
   "metadata": {
    "button": false,
    "collapsed": true,
    "deletable": true,
    "new_sheet": false,
    "run_control": {
     "read_only": false
    }
   },
   "outputs": [],
   "source": []
  },
  {
   "cell_type": "markdown",
   "metadata": {
    "button": false,
    "deletable": true,
    "new_sheet": false,
    "run_control": {
     "read_only": false
    }
   },
   "source": [
    "### Looking at Swiss-Prot hits"
   ]
  },
  {
   "cell_type": "code",
   "execution_count": 33,
   "metadata": {
    "button": false,
    "collapsed": false,
    "deletable": true,
    "new_sheet": false,
    "run_control": {
     "read_only": false
    }
   },
   "outputs": [
    {
     "name": "stdout",
     "output_type": "stream",
     "text": [
      "comp95_c0_seq1\tsp\tQ8K358\tPIGU_MOUSE\t67.53\t77\t25\t0\t231\t1\t258\t334\t7e-32\t  119\n",
      "comp146_c0_seq1\tsp\tP37137\tLHX5_XENLA\t79.31\t58\t12\t0\t175\t2\t4\t61\t4e-31\t  116\n",
      "   23165 ../data-results/Geoduck-tranv2-blastx_sprot.tab\n"
     ]
    }
   ],
   "source": [
    "!head -2 ../data-results/Geoduck-tranv2-blastx_sprot.tab \n",
    "!wc -l ../data-results/Geoduck-tranv2-blastx_sprot.tab "
   ]
  },
  {
   "cell_type": "code",
   "execution_count": 6,
   "metadata": {
    "button": false,
    "collapsed": true,
    "deletable": true,
    "new_sheet": false,
    "run_control": {
     "read_only": false
    }
   },
   "outputs": [],
   "source": [
    "#considering CpG analysis curious to know if 5-3' directionality is required."
   ]
  },
  {
   "cell_type": "code",
   "execution_count": 7,
   "metadata": {
    "button": false,
    "collapsed": true,
    "deletable": true,
    "new_sheet": false,
    "run_control": {
     "read_only": false
    }
   },
   "outputs": [],
   "source": [
    "#Q how many seqs are \"flipped\""
   ]
  },
  {
   "cell_type": "markdown",
   "metadata": {
    "button": false,
    "deletable": true,
    "new_sheet": false,
    "run_control": {
     "read_only": false
    }
   },
   "source": [
    "`qseqid sseqid pident length mismatch gapopen qstart qend sstart send evalue bitscore`"
   ]
  },
  {
   "cell_type": "markdown",
   "metadata": {
    "button": false,
    "deletable": true,
    "new_sheet": false,
    "run_control": {
     "read_only": false
    }
   },
   "source": [
    "These match in reverse complement- will confirm\n",
    "<img src=\"http://eagle.fish.washington.edu/cnidarian/skitch/01_2-Geo-Trans-annotation_1BF64666.png\" alt=\"01_2-Geo-Trans-annotation_1BF64666.png\"/>"
   ]
  },
  {
   "cell_type": "code",
   "execution_count": 12,
   "metadata": {
    "button": false,
    "collapsed": false,
    "deletable": true,
    "new_sheet": false,
    "run_control": {
     "read_only": false
    }
   },
   "outputs": [
    {
     "name": "stdout",
     "output_type": "stream",
     "text": [
      ">comp7_c0_seq1 len=210 path=[5082:0-45 293:46-209]\r\n",
      "TTAACCAAGGTGTGACGCCGACGCAAGGGTGAGTAGAATAGCTCTGTTTATTATCCGAAT\r\n",
      "AGTCGAGCTAAAAACACAAAGAATAAAGGTTTAACAGTTCTATCTGAAATATATATTTGG\r\n",
      "ATATCTATTGGTAAGGATACGTTTTATATTAAAAACAAACAATTTATAAAGCGCTCTCGC\r\n",
      "ACCTTGTTTTTGCATTATGAGCATATACAT\r\n",
      ">comp30_c0_seq1 len=201 path=[6331:0-200]\r\n",
      "AAGAAAATTGATTTGAAATTGACTCTGCTTGAATAGAAAAAAATGTTTTGTTCTTTTTTT\r\n",
      "CGAAGTGTAAATTGTAAATTACTTTATTAAAAAATTCATAGTTTCCGGGCAAGTTATTTT\r\n",
      "TAATATATTGTAAATGTTGTCATTCAGAGGTTTGTTACGAATATATTGTTTGACAGACAT\r\n",
      "GCTACTGTTGTACTACTATTG\r\n"
     ]
    }
   ],
   "source": [
    "!head ../data-results/Geoduck-transcriptome-v2.fasta"
   ]
  },
  {
   "cell_type": "code",
   "execution_count": 18,
   "metadata": {
    "button": false,
    "collapsed": false,
    "deletable": true,
    "new_sheet": false,
    "run_control": {
     "read_only": false
    }
   },
   "outputs": [
    {
     "name": "stdout",
     "output_type": "stream",
     "text": [
      ">comp95_c0_seq1 len=236 path=[41153:0-99 35145:100-235]\r\n",
      "CACATCGGCGTAACTTGGATATGAATTAAATATGGAAATCAGTGAGACTAGGACATCGGC\r\n",
      "TAAAAATACTGGATGATCCCTTAATTTTACAGCCAGTGGAACAGTGTAAAGGAATGCATT\r\n",
      "TATCTGGAACACGCAGATGAAGAATGGTCTAAAGTGCTCAAACATTTCTGTGAAAAAATA\r\n",
      "CCAGAATACGCCCAGGTTTGGCGTCAAATCTGGTACCCCCAGTATAAACCCTGTTG\r\n",
      ">comp105_c0_seq1 len=212 path=[42547:0-211]\r\n",
      "TGCATTGTAATGATTTGAGTATTTGGGTACAGCAGGACAGATGCACTTTGATGTGTATAA\r\n",
      "AATTAATATTAAAAATGTGTTTTGATAAAAATTGACAGCCATCTGATGCATATCCTGGTC\r\n",
      "GGATTTTTTTTTTTATTTTATTGTTTTTTTTTTAATCACTTAGATCTAATAATTTAATCT\r\n",
      "TATATATCTATCCGTATGTTATTTAAAATTTA\r\n"
     ]
    }
   ],
   "source": [
    "!grep -A9 \"comp95_c0_seq1\" ../data-results/Geoduck-transcriptome-v2.fasta"
   ]
  },
  {
   "cell_type": "markdown",
   "metadata": {
    "button": false,
    "deletable": true,
    "new_sheet": false,
    "run_control": {
     "read_only": false
    }
   },
   "source": [
    "yep\n",
    "<img src=\"http://eagle.fish.washington.edu/cnidarian/skitch/NCBI_Blast_comp95_c0_seq1_len_236_path__41153_0-99_35145_100-235__1BF64703.png\" alt=\"NCBI_Blast_comp95_c0_seq1_len_236_path__41153_0-99_35145_100-235__1BF64703.png\"/>"
   ]
  },
  {
   "cell_type": "markdown",
   "metadata": {
    "button": false,
    "deletable": true,
    "new_sheet": false,
    "run_control": {
     "read_only": false
    }
   },
   "source": [
    "### Awk math?"
   ]
  },
  {
   "cell_type": "code",
   "execution_count": 34,
   "metadata": {
    "button": false,
    "collapsed": false,
    "deletable": true,
    "new_sheet": false,
    "run_control": {
     "read_only": false
    }
   },
   "outputs": [
    {
     "name": "stdout",
     "output_type": "stream",
     "text": [
      "comp95_c0_seq1 \t -230\n",
      "comp146_c0_seq1 \t -173\n",
      "comp195_c0_seq1 \t -185\n",
      "comp296_c0_seq1 \t -200\n",
      "comp455_c1_seq1 \t -197\n",
      "comp943_c0_seq1 \t -218\n",
      "comp1059_c0_seq1 \t -227\n",
      "comp1683_c0_seq1 \t -206\n",
      "comp1868_c0_seq1 \t -308\n",
      "comp1910_c1_seq1 \t -248\n",
      "   10413 analyses/Geoduck-tranv2-minus_direction.tab\n"
     ]
    }
   ],
   "source": [
    "!awk '($10-$9) < 0 {print $1, \"\\t\", ($10-$9)}' \\\n",
    "../data-results/Geoduck-tranv2-blastx_sprot.tab \\\n",
    "> analyses/Geoduck-tranv2-minus_direction.tab\n",
    "!head analyses/Geoduck-tranv2-minus_direction.tab\n",
    "!wc -l analyses/Geoduck-tranv2-minus_direction.tab"
   ]
  },
  {
   "cell_type": "code",
   "execution_count": null,
   "metadata": {
    "button": false,
    "collapsed": true,
    "deletable": true,
    "new_sheet": false,
    "run_control": {
     "read_only": false
    }
   },
   "outputs": [],
   "source": [
    "#10413 match in rev direction."
   ]
  },
  {
   "cell_type": "code",
   "execution_count": null,
   "metadata": {
    "button": false,
    "collapsed": true,
    "deletable": true,
    "new_sheet": false,
    "run_control": {
     "read_only": false
    }
   },
   "outputs": [],
   "source": []
  },
  {
   "cell_type": "code",
   "execution_count": null,
   "metadata": {
    "button": false,
    "collapsed": true,
    "deletable": true,
    "new_sheet": false,
    "run_control": {
     "read_only": false
    }
   },
   "outputs": [],
   "source": []
  },
  {
   "cell_type": "markdown",
   "metadata": {
    "button": false,
    "deletable": true,
    "new_sheet": false,
    "run_control": {
     "read_only": false
    }
   },
   "source": [
    "# Identifying all genes involved in Reproduction"
   ]
  },
  {
   "cell_type": "code",
   "execution_count": 35,
   "metadata": {
    "button": false,
    "collapsed": false,
    "deletable": true,
    "new_sheet": false,
    "run_control": {
     "read_only": false
    }
   },
   "outputs": [
    {
     "name": "stdout",
     "output_type": "stream",
     "text": [
      "Column1,Column2,Column3,Column4,Column5,Column6,Column7,Column8,Column9,Column10,Column11,Column12,Column13,Column14,SPID,GOID,GO_id,term,GOSlim_bin,aspect\r",
      "\r\n",
      "comp100097_c0_seq1,sp,Q9UI26,IPO11_HUMAN,41.05,229,130,3,2,679,699,925,2E-37,144,Q9UI26,GO:0006886,GO:0006886,intracellular protein transport,transport,P\r",
      "\r\n",
      "comp100097_c0_seq1,sp,Q9UI26,IPO11_HUMAN,41.05,229,130,3,2,679,699,925,2E-37,144,Q9UI26,GO:0015031,GO:0015031,protein transport,transport,P\r",
      "\r\n",
      "comp100097_c0_seq1,sp,Q9UI26,IPO11_HUMAN,41.05,229,130,3,2,679,699,925,2E-37,144,Q9UI26,GO:0006810,GO:0006810,transport,transport,P\r",
      "\r\n",
      "comp100104_c2_seq1,sp,Q9NZJ4,SACS_HUMAN,47.83,138,58,4,2,397,2586,2715,3E-29,118,Q9NZJ4,GO:0006457,GO:0006457,protein folding,protein metabolism,P\r",
      "\r\n",
      "comp100104_c2_seq1,sp,Q9NZJ4,SACS_HUMAN,47.83,138,58,4,2,397,2586,2715,3E-29,118,Q9NZJ4,GO:0008219,GO:0008219,cell death,death,P\r",
      "\r\n",
      "comp100105_c1_seq1,sp,P18756,ETS1B_XENLA,85.71,126,18,0,402,25,143,268,2E-73,233,P18756,GO:0006355,GO:0006355,\"\"\"regulation of transcription, DNA-dependent\"\"\",RNA metabolism,P\r",
      "\r\n",
      "comp100108_c1_seq1,sp,Q9U943,APLP_LOCMI,32.45,413,227,9,4,1104,514,920,3E-59,214,Q9U943,GO:0006869,GO:0006869,lipid transport,transport,P\r",
      "\r\n",
      "comp100108_c1_seq1,sp,Q9U943,APLP_LOCMI,32.45,413,227,9,4,1104,514,920,3E-59,214,Q9U943,GO:0006810,GO:0006810,transport,transport,P\r",
      "\r\n",
      "comp100108_c1_seq1,sp,Q9U943,APLP_LOCMI,32.45,413,227,9,4,1104,514,920,3E-59,214,Q9U943,GO:0016055,GO:0016055,Wnt receptor signaling pathway,signal transduction,P\r",
      "\r\n"
     ]
    }
   ],
   "source": [
    "!head ../data-results/Geoduck-transcriptome-v2-GO-Slim.csv"
   ]
  },
  {
   "cell_type": "code",
   "execution_count": 37,
   "metadata": {
    "button": false,
    "collapsed": false,
    "deletable": true,
    "new_sheet": false,
    "run_control": {
     "read_only": false
    }
   },
   "outputs": [
    {
     "name": "stdout",
     "output_type": "stream",
     "text": [
      "     222\r\n"
     ]
    }
   ],
   "source": [
    "!grep \"reproduction\" ../data-results/Geoduck-transcriptome-v2-GO-Slim.csv | wc -l"
   ]
  },
  {
   "cell_type": "code",
   "execution_count": null,
   "metadata": {
    "button": false,
    "collapsed": true,
    "deletable": true,
    "new_sheet": false,
    "run_control": {
     "read_only": false
    }
   },
   "outputs": [],
   "source": [
    "\n"
   ]
  },
  {
   "cell_type": "markdown",
   "metadata": {
    "run_control": {}
   },
   "source": [
    "# Confirming number of non-Euk swiss-prot matches"
   ]
  },
  {
   "cell_type": "code",
   "execution_count": 2,
   "metadata": {
    "collapsed": false,
    "run_control": {}
   },
   "outputs": [
    {
     "name": "stdout",
     "output_type": "stream",
     "text": [
      "   23165 ../data-results/Geoduck-tranv2-blastx_sprot.tab\r\n"
     ]
    }
   ],
   "source": [
    "!wc -l ../data-results/Geoduck-tranv2-blastx_sprot.tab "
   ]
  },
  {
   "cell_type": "code",
   "execution_count": 4,
   "metadata": {
    "collapsed": false,
    "run_control": {}
   },
   "outputs": [
    {
     "name": "stdout",
     "output_type": "stream",
     "text": [
      "comp100710_c0_seq1 Bacteria 1e-108\n",
      "comp101011_c0_seq1 Bacteria 2e-67\n",
      "comp101670_c0_seq1 Bacteria 4e-79\n",
      "comp101927_c3_seq1 N/A 1e-26\n",
      "comp102287_c0_seq1 Bacteria 6e-27\n",
      "comp102799_c0_seq1 Bacteria 4e-114\n",
      "comp103084_c0_seq1 Bacteria 6e-56\n",
      "comp103338_c0_seq1 Bacteria 3e-85\n",
      "comp103338_c1_seq1 Bacteria 1e-109\n",
      "comp103338_c2_seq1 Bacteria 9e-25\n",
      "     425 analyses/Non-Eukaryota-Geoduck-v2.sorted\n"
     ]
    }
   ],
   "source": [
    "!head analyses/Non-Eukaryota-Geoduck-v2.sorted\n",
    "!wc -l analyses/Non-Eukaryota-Geoduck-v2.sorted"
   ]
  },
  {
   "cell_type": "code",
   "execution_count": 8,
   "metadata": {
    "collapsed": false,
    "run_control": {}
   },
   "outputs": [],
   "source": [
    "!sort ../data-results/Geoduck-tranv2-blastx_sprot.tab \\\n",
    "> analyses/Geoduck-tranv2-blastx_sprot.sorted"
   ]
  },
  {
   "cell_type": "code",
   "execution_count": 11,
   "metadata": {
    "collapsed": false,
    "run_control": {}
   },
   "outputs": [
    {
     "name": "stdout",
     "output_type": "stream",
     "text": [
      "comp101670_c0_seq1 sp Q6A6N5 RS17_PROAC 98.88 89 1 0 42 308 1 89 2e-56 176 Bacteria 4e-79\r\n",
      "comp101927_c3_seq1 sp Q6PCN3 TTBK1_MOUSE 70.40 125 37 0 377 3 197 321 4e-60 204 N/A 1e-26\r\n",
      "comp102287_c0_seq1 sp O13799 YE02_SCHPO 41.18 51 30 0 101 253 428 478 5e-09 56.2 Bacteria 6e-27\r\n",
      "comp102799_c0_seq1 sp P43784 DLDH_HAEIN 56.18 89 34 1 3 269 387 470 6e-16 76.6 Bacteria 4e-114\r\n",
      "comp103338_c0_seq1 sp Q9JMT1 YUAH_ECOLI 35.53 76 49 0 1 228 34 109 7e-09 53.1 Bacteria 3e-85\r\n",
      "comp103338_c1_seq1 sp P50359 Y4HO_RHISN 67.61 71 23 0 3 215 45 115 2e-29 108 Bacteria 1e-109\r\n",
      "comp103338_c2_seq1 sp P55504 Y4JD_RHISN 47.83 69 36 0 6 212 151 219 4e-13 67.4 Bacteria 9e-25\r\n",
      "comp103626_c0_seq1 sp Q6AA77 OTC_PROAC 100.00 74 0 0 2 223 227 300 2e-47 159 Bacteria 3e-24\r\n",
      "comp104423_c0_seq1 sp P62594 BLAT_SALTI 98.99 198 2 0 663 70 89 286 3e-130 375 N/A 0.0\r\n",
      "comp109497_c0_seq1 sp P09152 NARG_ECOLI 90.28 72 7 0 9 224 29 100 8e-41 147 Bacteria 2e-76\r\n"
     ]
    }
   ],
   "source": [
    "!join analyses/Geoduck-tranv2-blastx_sprot.sorted \\\n",
    "analyses/Non-Eukaryota-Geoduck-v2.sorted | head"
   ]
  },
  {
   "cell_type": "code",
   "execution_count": 12,
   "metadata": {
    "collapsed": false,
    "run_control": {}
   },
   "outputs": [
    {
     "name": "stdout",
     "output_type": "stream",
     "text": [
      "     191\r\n"
     ]
    }
   ],
   "source": [
    "!join analyses/Geoduck-tranv2-blastx_sprot.sorted \\\n",
    "analyses/Non-Eukaryota-Geoduck-v2.sorted | wc -l"
   ]
  },
  {
   "cell_type": "code",
   "execution_count": 13,
   "metadata": {
    "collapsed": false,
    "run_control": {}
   },
   "outputs": [
    {
     "data": {
      "text/plain": [
       "22974"
      ]
     },
     "execution_count": 13,
     "metadata": {},
     "output_type": "execute_result"
    }
   ],
   "source": [
    "23165 - 191"
   ]
  },
  {
   "cell_type": "code",
   "execution_count": 14,
   "metadata": {
    "collapsed": false,
    "run_control": {}
   },
   "outputs": [
    {
     "data": {
      "text/plain": [
       "0.14919925705601952"
      ]
     },
     "execution_count": 14,
     "metadata": {},
     "output_type": "execute_result"
    }
   ],
   "source": [
    "22974/153982"
   ]
  },
  {
   "cell_type": "markdown",
   "metadata": {
    "run_control": {}
   },
   "source": [
    "# Confirming Gene Ontology matches post removal of non-Euk sequences"
   ]
  },
  {
   "cell_type": "code",
   "execution_count": 17,
   "metadata": {
    "collapsed": false,
    "run_control": {}
   },
   "outputs": [
    {
     "name": "stdout",
     "output_type": "stream",
     "text": [
      "Column1,Column2,Column3,Column4,Column5,Column6,Column7,Column8,Column9,Column10,Column11,Column12,Column13,Column14,SPID,GOID,GO_id,term,GOSlim_bin,aspect\n",
      "comp100097_c0_seq1,sp,Q9UI26,IPO11_HUMAN,41.05,229,130,3,2,679,699,925,2E-37,144,Q9UI26,GO:0006886,GO:0006886,intracellular protein transport,transport,P\n",
      "  102359 ../data-results/Geoduck-transcriptome-v2-GO-Slim.csv\n"
     ]
    }
   ],
   "source": [
    "!head -2 ../data-results/Geoduck-transcriptome-v2-GO-Slim.csv\n",
    "!wc -l ../data-results/Geoduck-transcriptome-v2-GO-Slim.csv"
   ]
  },
  {
   "cell_type": "code",
   "execution_count": 23,
   "metadata": {
    "collapsed": false,
    "run_control": {}
   },
   "outputs": [
    {
     "name": "stdout",
     "output_type": "stream",
     "text": [
      "   19653\r\n"
     ]
    }
   ],
   "source": [
    "!cut -d ',' -f1 ../data-results/Geoduck-transcriptome-v2-GO-Slim.csv \\\n",
    "| uniq | wc -l"
   ]
  },
  {
   "cell_type": "markdown",
   "metadata": {
    "run_control": {}
   },
   "source": [
    "**Removing non-euks**"
   ]
  },
  {
   "cell_type": "code",
   "execution_count": 34,
   "metadata": {
    "collapsed": false,
    "run_control": {}
   },
   "outputs": [],
   "source": [
    "!sort ../data-results/Geoduck-transcriptome-v2-GO-Slim.csv \\\n",
    "| cut -d ',' -f1 | uniq > analyses/Geoduck-transcriptome-v2-GO-Slim-CONTIG"
   ]
  },
  {
   "cell_type": "code",
   "execution_count": 35,
   "metadata": {
    "collapsed": false,
    "run_control": {}
   },
   "outputs": [
    {
     "name": "stdout",
     "output_type": "stream",
     "text": [
      "Column1\r\n",
      "comp100097_c0_seq1\r\n",
      "comp100104_c2_seq1\r\n",
      "comp100105_c1_seq1\r\n",
      "comp100108_c1_seq1\r\n",
      "comp100109_c0_seq1\r\n",
      "comp100113_c0_seq1\r\n",
      "comp100113_c0_seq2\r\n",
      "comp100113_c1_seq1\r\n",
      "comp100129_c0_seq1\r\n"
     ]
    }
   ],
   "source": [
    "!head analyses/Geoduck-transcriptome-v2-GO-Slim-CONTIG"
   ]
  },
  {
   "cell_type": "code",
   "execution_count": 37,
   "metadata": {
    "collapsed": false,
    "run_control": {}
   },
   "outputs": [
    {
     "name": "stdout",
     "output_type": "stream",
     "text": [
      "     169\r\n"
     ]
    }
   ],
   "source": [
    "!join analyses/Geoduck-transcriptome-v2-GO-Slim-CONTIG \\\n",
    "analyses/Non-Eukaryota-Geoduck-v2.sorted | wc -l"
   ]
  },
  {
   "cell_type": "code",
   "execution_count": 38,
   "metadata": {
    "collapsed": false,
    "run_control": {}
   },
   "outputs": [
    {
     "name": "stdout",
     "output_type": "stream",
     "text": [
      "comp101670_c0_seq1 Bacteria 4e-79\r\n",
      "comp101927_c3_seq1 N/A 1e-26\r\n",
      "comp102287_c0_seq1 Bacteria 6e-27\r\n",
      "comp102799_c0_seq1 Bacteria 4e-114\r\n",
      "comp103626_c0_seq1 Bacteria 3e-24\r\n",
      "comp104423_c0_seq1 N/A 0.0\r\n",
      "comp109497_c0_seq1 Bacteria 2e-76\r\n",
      "comp109642_c0_seq1 Bacteria 1e-72\r\n",
      "comp112012_c0_seq1 Bacteria 7e-105\r\n",
      "comp113138_c0_seq1 Bacteria 5e-83\r\n"
     ]
    }
   ],
   "source": [
    "!join analyses/Geoduck-transcriptome-v2-GO-Slim-CONTIG \\\n",
    "analyses/Non-Eukaryota-Geoduck-v2.sorted | head"
   ]
  },
  {
   "cell_type": "code",
   "execution_count": 39,
   "metadata": {
    "collapsed": false,
    "run_control": {}
   },
   "outputs": [
    {
     "data": {
      "text/plain": [
       "19393"
      ]
     },
     "execution_count": 39,
     "metadata": {},
     "output_type": "execute_result"
    }
   ],
   "source": [
    "19562-169"
   ]
  },
  {
   "cell_type": "code",
   "execution_count": null,
   "metadata": {
    "collapsed": true,
    "run_control": {}
   },
   "outputs": [],
   "source": []
  }
 ],
 "metadata": {
  "kernelspec": {
   "display_name": "Python 3",
   "language": "python",
   "name": "python3"
  },
  "language_info": {
   "codemirror_mode": {
    "name": "ipython",
    "version": 3
   },
   "file_extension": ".py",
   "mimetype": "text/x-python",
   "name": "python",
   "nbconvert_exporter": "python",
   "pygments_lexer": "ipython3",
   "version": "3.5.0"
  }
 },
 "nbformat": 4,
 "nbformat_minor": 0
}
