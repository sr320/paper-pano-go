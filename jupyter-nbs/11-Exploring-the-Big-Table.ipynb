{
 "cells": [
  {
   "cell_type": "code",
   "execution_count": 2,
   "metadata": {
    "collapsed": false
   },
   "outputs": [
    {
     "name": "stdout",
     "output_type": "stream",
     "text": [
      "ContigID,length,GC content,CpG,evalue,UniProt_Acc,Gene ontology IDs,Gene ontology (GO),Protein names,range,difference,fold_change,male_unique,male_total,female_unique,female_total,sex,evalue-SP,SPID,ProteinName,Organism,GO,PFAM,evalue-GIG,Gigaton-ID,evalue-Ru,Ruphibase_ID,evalue-SIG,SigID,Cluster,Tissue-enriched-expression\r\n",
      "comp100000_c0_seq1,453,33.9956,0.91903282,,,,,,4,4,1.571428571,7,7,11,11,,,,,,,,,,,,,,,\r\n",
      "comp100001_c1_seq1,493,30.426,0.26421931,,,,,,47,47,24.5,2,2,49,49,,,,,,,,,,,,,,,\r\n",
      "comp100001_c2_seq1,558,30.6452,0.23363129,,,,,,75,75,11.71428571,7,7,82,82,,,,,,,,,,,,,,,\r\n",
      "comp100002_c0_seq1,208,40.8654,0.98587184,,,,,,6,6,0.0,0,0,6,6,,,,,,,,,,,,,,,\r\n",
      "comp100004_c1_seq1,276,31.5217,0.43922352,,,,,,7,-7,0.0,7,7,0,0,,,,,,,,,,,,,,,\r\n",
      "comp100007_c0_seq1,734,32.1526,0.68939522,,,,,,77,77,5.529411765,17,17,94,94,,,,,,,,,,,,,,,\r\n",
      "comp100010_c0_seq1,246,38.2114,1.13669619,,,,,,4,4,0.0,0,0,4,4,,,,,,,,,,,,,,,\r\n",
      "comp100011_c0_seq1,315,33.6508,0.56248342,,,,,,19,19,3.111111111,9,9,28,28,,,,,,,,,,,,,,,\r\n",
      "comp100012_c0_seq1,218,35.3211,0.15208653,,,,,,1,1,1.5,2,2,3,3,,,,,,,,,,,,,,,\r\n"
     ]
    }
   ],
   "source": [
    "!head ../data-results/Geoduck-transcriptome_v3_bigtable.csv"
   ]
  },
  {
   "cell_type": "markdown",
   "metadata": {},
   "source": [
    "<img src=\"http://eagle.fish.washington.edu/cnidarian/skitch/Geoduck-transcriptome_v3_bigtable_1DC0E157.png\" alt=\"Geoduck-transcriptome_v3_bigtable_1DC0E157.png\"/>"
   ]
  },
  {
   "cell_type": "markdown",
   "metadata": {},
   "source": [
    "<img src=\"http://eagle.fish.washington.edu/cnidarian/skitch/Geoduck-transcriptome_v3_bigtable_1DC0E1C7.png\" alt=\"Geoduck-transcriptome_v3_bigtable_1DC0E1C7.png\"/>"
   ]
  },
  {
   "cell_type": "markdown",
   "metadata": {},
   "source": [
    "<img src=\"http://eagle.fish.washington.edu/cnidarian/skitch/Upload_File_1DC0E17A.png\" alt=\"Upload_File_1DC0E17A.png\"/>"
   ]
  },
  {
   "cell_type": "markdown",
   "metadata": {},
   "source": [
    "Also now in SQLShare\n",
    "<https://sqlshare.escience.washington.edu/sqlshare/#s=query%2Froberts.sbr%40gmail.com%2FGeoduck-transcriptome_v3_bigtable_2016-10-26&q=>\n",
    "    "
   ]
  },
  {
   "cell_type": "markdown",
   "metadata": {},
   "source": [
    "<img src=\"http://eagle.fish.washington.edu/cnidarian/skitch/SQLShare_-_View_Query_1DC0E217.png\" alt=\"SQLShare_-_View_Query_1DC0E217.png\"/>"
   ]
  },
  {
   "cell_type": "code",
   "execution_count": 4,
   "metadata": {
    "collapsed": false
   },
   "outputs": [
    {
     "ename": "SyntaxError",
     "evalue": "invalid syntax (<ipython-input-4-a7e2fb9211a1>, line 1)",
     "output_type": "error",
     "traceback": [
      "\u001b[0;36m  File \u001b[0;32m\"<ipython-input-4-a7e2fb9211a1>\"\u001b[0;36m, line \u001b[0;32m1\u001b[0m\n\u001b[0;31m    And earlier...\u001b[0m\n\u001b[0m              ^\u001b[0m\n\u001b[0;31mSyntaxError\u001b[0m\u001b[0;31m:\u001b[0m invalid syntax\n"
     ]
    }
   ],
   "source": [
    "And earlier..."
   ]
  },
  {
   "cell_type": "markdown",
   "metadata": {},
   "source": [
    "![im](http://eagle.fish.washington.edu/cnidarian/skitch/Screenshot_10_3_16__7_52_AM_1DA2A912.png)"
   ]
  },
  {
   "cell_type": "code",
   "execution_count": 6,
   "metadata": {
    "collapsed": false
   },
   "outputs": [
    {
     "name": "stdout",
     "output_type": "stream",
     "text": [
      "Column1,GeoID,Evalue,SPID,ProteinName,Organism,GO,PFAM,Column1,Column2,Column3,Column1,Column2,Column3,GEOID,evalue,SigID,CGI-ID,Cluster,Tissue-enriched-expression\r",
      "\r\n",
      "comp100065_c0_seq1,comp100065_c0_seq1,2E-08,Q5PRC1,Lipoma HMGIC fusion partner homolog,Danio rerio (Zebrafish) (Brachydanio rerio),,PF10242;,,,,,,,,,,,,\r",
      "\r\n",
      "comp100097_c0_seq1,comp100097_c0_seq1,2E-37,Q9UI26,Importin-11 (Imp11) (Ran-binding protein 11) (RanBP11),Homo sapiens (Human),ribosomal protein import into nucleus [GO:0006610]; transcription factor import into nucleus [GO:0042991],PF03810;,,,,,,,,,,,,\r",
      "\r\n",
      "comp100104_c2_seq1,comp100104_c2_seq1,3E-29,Q9NZJ4,Sacsin (DnaJ homolog subfamily C member 29) (DNAJC29),Homo sapiens (Human),negative regulation of inclusion body assembly [GO:0090084]; protein folding [GO:0006457],PF05168;PF00240;,comp100104_c2_seq1,9E-25,CHOYP_SACS.9.17,,,,,,,,,\r",
      "\r\n",
      "comp100105_c1_seq1,comp100105_c1_seq1,2E-73,P18756,Protein c-ets-1-B (C-ets-1B) (XE1-B) (Fragment),Xenopus laevis (African clawed frog),\"positive regulation of endothelial cell migration [GO:0010595]; regulation of angiogenesis [GO:0045765]; transcription, DNA-templated [GO:0006351]\",PF00178;,comp100105_c1_seq1,6E-75,CHOYP_BRAFLDRAFT_125635.1.1,,,,,,,,,\r",
      "\r\n",
      "comp100108_c1_seq1,comp100108_c1_seq1,3E-59,Q9U943,Apolipophorins [Cleaved into: Apolipophorin-2 (Apolipophorin II) (apoLp-2); Apolipophorin-1 (Apolipophorin I) (apoLp-1)],Locusta migratoria (Migratory locust),Wnt signaling pathway [GO:0016055],PF08742;PF06448;PF09172;PF01347;PF00094;,comp100108_c1_seq1,3E-56,CHOYP_APLP.2.2,comp100108_c1_seq1,7E-36,ruditapes_c24094,,,,,,\r",
      "\r\n",
      "comp100109_c0_seq1,comp100109_c0_seq1,6E-23,O75443,Alpha-tectorin,Homo sapiens (Human),cell-matrix adhesion [GO:0007160]; sensory perception of sound [GO:0007605],PF08742;PF06119;PF01826;PF12714;PF00094;PF00100;,,,,,,,,,,,,\r",
      "\r\n",
      "comp100113_c0_seq1,comp100113_c0_seq1,2E-06,Q95US5,\"Beta-1,3-galactosyltransferase bre-5 (EC 2.4.1.-) (Bacillus thuringiensis toxin-resistant protein 5) (Bt toxin-resistant protein 5)\",Caenorhabditis elegans,carbohydrate biosynthetic process [GO:0016051]; formation of infection structure on or near host [GO:0075015]; positive regulation of Notch signaling pathway [GO:0045747]; protein glycosylation [GO:0006486]; response to toxic substance [GO:0009636],PF01762;,,,,,,,,,,,,\r",
      "\r\n",
      "comp100113_c0_seq2,comp100113_c0_seq2,9E-13,Q9N295,\"Beta-1,3-galactosyltransferase 5 (Beta-1,3-GalTase 5) (Beta3Gal-T5) (Beta3GalT5) (b3Gal-T5) (EC 2.4.1.-) (Beta-3-Gx-T5) (UDP-Gal:beta-GlcNAc beta-1,3-galactosyltransferase 5) (UDP-galactose:beta-N-acetylglucosamine beta-1,3-galactosyltransferase 5) (Fragment)\",Pan troglodytes (Chimpanzee),protein glycosylation [GO:0006486],PF01762;,,,,,,,,,,,,\r",
      "\r\n",
      "comp100113_c1_seq1,comp100113_c1_seq1,7E-09,Q9MYM7,\"Beta-1,3-galactosyltransferase 1 (Beta-1,3-GalTase 1) (Beta3Gal-T1) (Beta3GalT1) (EC 2.4.1.-) (UDP-galactose:beta-N-acetyl-glucosamine-beta-1,3-galactosyltransferase 1)\",Pongo pygmaeus (Bornean orangutan),protein glycosylation [GO:0006486],PF01762;,,,,,,,,,,,,\r",
      "\r\n"
     ]
    }
   ],
   "source": [
    "!head analyses/_Master-SP-Gig-Ruphi_Dh.csv"
   ]
  },
  {
   "cell_type": "markdown",
   "metadata": {},
   "source": [
    "<img src=\"http://eagle.fish.washington.edu/cnidarian/skitch/_Master-SP-Gig-Ruphi_Dh_and_Geoduck-transcriptome_v3_bigtable_1DC0E556.png\" alt=\"_Master-SP-Gig-Ruphi_Dh_and_Geoduck-transcriptome_v3_bigtable_1DC0E556.png\"/>"
   ]
  },
  {
   "cell_type": "code",
   "execution_count": null,
   "metadata": {
    "collapsed": true
   },
   "outputs": [],
   "source": []
  }
 ],
 "metadata": {
  "kernelspec": {
   "display_name": "Python 2",
   "language": "python",
   "name": "python2"
  },
  "language_info": {
   "codemirror_mode": {
    "name": "ipython",
    "version": 2
   },
   "file_extension": ".py",
   "mimetype": "text/x-python",
   "name": "python",
   "nbconvert_exporter": "python",
   "pygments_lexer": "ipython2",
   "version": "2.7.12"
  }
 },
 "nbformat": 4,
 "nbformat_minor": 0
}
